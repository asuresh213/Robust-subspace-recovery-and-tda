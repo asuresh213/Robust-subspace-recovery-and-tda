{
  "nbformat": 4,
  "nbformat_minor": 0,
  "metadata": {
    "colab": {
      "provenance": []
    },
    "kernelspec": {
      "name": "python3",
      "display_name": "Python 3"
    },
    "language_info": {
      "name": "python"
    }
  },
  "cells": [
    {
      "cell_type": "code",
      "source": [
        "import numpy as np\n",
        "from gtda.plotting import plot_point_cloud\n",
        "from gtda.homology import VietorisRipsPersistence\n",
        "from gtda.diagrams import PersistenceEntropy\n",
        "from gtda.plotting import plot_diagram\n",
        "from sklearn.ensemble import RandomForestClassifier"
      ],
      "metadata": {
        "id": "lzTDOsK7hMqa"
      },
      "execution_count": null,
      "outputs": []
    },
    {
      "cell_type": "markdown",
      "source": [
        "Helper function to make some point clouds X:\n"
      ],
      "metadata": {
        "id": "BYTRE-0Uhf_b"
      }
    },
    {
      "cell_type": "code",
      "source": [
        "def make_point_clouds(n_samples_per_shape: int, n_points: int, noise: float):\n",
        "    #--- circles ---\n",
        "    circle_point_clouds = [\n",
        "        np.asarray(\n",
        "            [\n",
        "                [np.sin(t) + noise * (np.random.rand(1)[0] - 0.5), np.cos(t) + noise * (np.random.rand(1)[0] - 0.5), 0]\n",
        "                for t in range((n_points ** 2))\n",
        "            ]\n",
        "        )\n",
        "        for kk in range(n_samples_per_shape)\n",
        "    ]\n",
        "    circle_labels = np.zeros(n_samples_per_shape)  # label circles with 0\n",
        "\n",
        "    #--- spheres ---\n",
        "    sphere_point_clouds = [\n",
        "        np.asarray(\n",
        "            [\n",
        "                [\n",
        "                    np.cos(s) * np.cos(t) + noise * (np.random.rand(1)[0] - 0.5),\n",
        "                    np.cos(s) * np.sin(t) + noise * (np.random.rand(1)[0] - 0.5),\n",
        "                    np.sin(s) + noise * (np.random.rand(1)[0] - 0.5),\n",
        "                ]\n",
        "                for t in range(n_points)\n",
        "                for s in range(n_points)\n",
        "            ]\n",
        "        )\n",
        "        for kk in range(n_samples_per_shape)\n",
        "    ]\n",
        "    sphere_labels = np.ones(n_samples_per_shape)     # label spheres with 1\n",
        "\n",
        "    #--- tori ---\n",
        "    torus_point_clouds = [\n",
        "        np.asarray(\n",
        "            [\n",
        "                [\n",
        "                    (2 + np.cos(s)) * np.cos(t) + noise * (np.random.rand(1)[0] - 0.5),\n",
        "                    (2 + np.cos(s)) * np.sin(t) + noise * (np.random.rand(1)[0] - 0.5),\n",
        "                    np.sin(s) + noise * (np.random.rand(1)[0] - 0.5),\n",
        "                ]\n",
        "                for t in range(n_points)\n",
        "                for s in range(n_points)\n",
        "            ]\n",
        "        )\n",
        "        for kk in range(n_samples_per_shape)\n",
        "    ]\n",
        "\n",
        "    torus_labels = 2 * np.ones(n_samples_per_shape)     # label tori with 2\n",
        "\n",
        "    #--- plane ---\n",
        "    coefs = list(zip((1+6*np.random.rand(n_samples_per_shape)).astype(int), (1+6*np.random.rand(n_samples_per_shape)).astype(int)))\n",
        "    plane_point_clouds = [\n",
        "        np.asarray(\n",
        "            [\n",
        "                [\n",
        "                    x,\n",
        "                    y,\n",
        "                    coef[0]*x + coef[1]*y,\n",
        "                ]\n",
        "                for x in np.linspace(-1, 1, n_points)\n",
        "                for y in np.linspace(-1, 1, n_points)\n",
        "            ]\n",
        "        )\n",
        "        for coef in coefs\n",
        "    ]\n",
        "    plane_labels = 3 * np.ones(n_samples_per_shape) # label plane with 3\n",
        "\n",
        "    point_clouds = np.concatenate((circle_point_clouds, sphere_point_clouds, torus_point_clouds, plane_point_clouds))\n",
        "    labels = np.concatenate((circle_labels, sphere_labels, torus_labels, plane_labels))\n",
        "\n",
        "    return point_clouds, labels"
      ],
      "metadata": {
        "id": "ZWfYon6gheFq"
      },
      "execution_count": null,
      "outputs": []
    },
    {
      "cell_type": "code",
      "source": [
        "n_samples_per_class = 10\n",
        "point_clouds, labels = make_point_clouds(n_samples_per_class, n_points = 10, noise=0.1)\n",
        "print(point_clouds.shape)\n",
        "print(labels.shape)"
      ],
      "metadata": {
        "collapsed": true,
        "id": "2nD32pzjiDdi"
      },
      "execution_count": null,
      "outputs": []
    },
    {
      "cell_type": "code",
      "source": [
        "plot_point_cloud(point_clouds[0]).show()"
      ],
      "metadata": {
        "collapsed": true,
        "id": "STI766YBiSMA"
      },
      "execution_count": null,
      "outputs": []
    },
    {
      "cell_type": "code",
      "source": [
        "plot_point_cloud(point_clouds[11]).show()"
      ],
      "metadata": {
        "collapsed": true,
        "id": "rXQ9a1nNiZWX"
      },
      "execution_count": null,
      "outputs": []
    },
    {
      "cell_type": "code",
      "source": [
        "plot_point_cloud(point_clouds[20]).show()"
      ],
      "metadata": {
        "collapsed": true,
        "id": "u0nnzSsOiaoN"
      },
      "execution_count": null,
      "outputs": []
    },
    {
      "cell_type": "code",
      "source": [
        "plot_point_cloud(point_clouds[-1]).show()"
      ],
      "metadata": {
        "collapsed": true,
        "id": "sXVmwH_uibhC"
      },
      "execution_count": null,
      "outputs": []
    },
    {
      "cell_type": "code",
      "source": [
        "# @title\n",
        "# Track connected components, loops, and voids\n",
        "homology_dimensions = [0, 1, 2]\n",
        "\n",
        "# Collapse edges to speed up H2 persistence calculation!\n",
        "persistence = VietorisRipsPersistence(\n",
        "    metric = \"euclidean\",\n",
        "    homology_dimensions=homology_dimensions,\n",
        "    n_jobs=6,\n",
        "    collapse_edges=False\n",
        ")\n",
        "\n",
        "diagrams = persistence.fit_transform(point_clouds)"
      ],
      "metadata": {
        "id": "QHyq2WEwirW7",
        "cellView": "form"
      },
      "execution_count": null,
      "outputs": []
    },
    {
      "cell_type": "code",
      "source": [
        "plot_diagram(diagrams[0]).show() # Circle"
      ],
      "metadata": {
        "id": "4_DWKjPOiye4"
      },
      "execution_count": null,
      "outputs": []
    },
    {
      "cell_type": "code",
      "source": [
        "plot_diagram(diagrams[11]).show()  # Sphere"
      ],
      "metadata": {
        "id": "4vWNshhRi17_"
      },
      "execution_count": null,
      "outputs": []
    },
    {
      "cell_type": "code",
      "source": [
        "plot_diagram(diagrams[20]).show() # Torus"
      ],
      "metadata": {
        "id": "iSOKelsWi2ei"
      },
      "execution_count": null,
      "outputs": []
    },
    {
      "cell_type": "code",
      "source": [
        "plot_diagram(diagrams[-3]).show() # Plane"
      ],
      "metadata": {
        "id": "luYxjYWIi4zj"
      },
      "execution_count": null,
      "outputs": []
    },
    {
      "cell_type": "code",
      "source": [
        "persistence_entropy = PersistenceEntropy()\n",
        "\n",
        "# calculate topological feature matrix\n",
        "X = persistence_entropy.fit_transform(diagrams)\n",
        "plot_point_cloud(X).show()"
      ],
      "metadata": {
        "id": "GoRdVubji5cF"
      },
      "execution_count": null,
      "outputs": []
    },
    {
      "cell_type": "code",
      "source": [
        "rf = RandomForestClassifier(oob_score=True)\n",
        "rf.fit(X, labels)\n",
        "print(f\"OOB score: {rf.oob_score:.3f}\")"
      ],
      "metadata": {
        "id": "VtzJ4VVGi_wY"
      },
      "execution_count": null,
      "outputs": []
    }
  ]
}