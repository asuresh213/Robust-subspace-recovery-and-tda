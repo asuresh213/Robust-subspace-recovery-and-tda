{
 "cells": [
  {
   "cell_type": "markdown",
   "metadata": {},
   "source": [
    "We begin by importing all the necessary packages. In this case, we use giotto-tda `gtda` in python to perform our homology computations. The goal of this project is to take point clouds pertaining to various shapes, extract their topological features using giotto, and then train a classifier on the topological data rather than on the point clouds directly. The hope is that, with clean (vectorized) homologies, we could achieve similar classification performance, but we would have reduced our input feature size to about a tenth of what we would have needed if we trained a classifier on the point clouds directly."
   ]
  },
  {
   "cell_type": "code",
   "execution_count": 1,
   "metadata": {
    "id": "lzTDOsK7hMqa"
   },
   "outputs": [],
   "source": [
    "import gtda \n",
    "import numpy as np\n",
    "from generate_data import *\n",
    "from gtda.plotting import plot_point_cloud\n",
    "from gtda.homology import VietorisRipsPersistence\n",
    "from gtda.homology import WeakAlphaPersistence\n",
    "from gtda.diagrams import PersistenceEntropy\n",
    "import matplotlib.pyplot as plt\n",
    "from gtda.plotting import plot_diagram\n",
    "from sklearn.ensemble import RandomForestClassifier\n",
    "from openml.datasets.functions import get_dataset\n",
    "from gtda.diagrams import Amplitude, NumberOfPoints\n",
    "from sklearn.pipeline import make_union\n",
    "from gtda.pipeline import Pipeline \n",
    "import pandas as pd\n",
    "import matplotlib.pyplot as plt"
   ]
  },
  {
   "cell_type": "markdown",
   "metadata": {
    "id": "BYTRE-0Uhf_b"
   },
   "source": [
    "Helper function to make some point clouds X:\n"
   ]
  },
  {
   "cell_type": "code",
   "execution_count": 2,
   "metadata": {
    "id": "ZWfYon6gheFq"
   },
   "outputs": [],
   "source": [
    "def make_point_clouds(n_samples_per_shape: int, n_points: int, noise: float):\n",
    "    #--- circles ---\n",
    "    circle_point_clouds = [\n",
    "        np.asarray(\n",
    "            [\n",
    "                [np.sin(t) + noise * (np.random.rand(1)[0] - 0.5), np.cos(t) + noise * (np.random.rand(1)[0] - 0.5), 0]\n",
    "                for t in range((n_points ** 2))\n",
    "            ]\n",
    "        )\n",
    "        for kk in range(n_samples_per_shape)\n",
    "    ]\n",
    "    circle_labels = np.zeros(n_samples_per_shape)  # label circles with 0\n",
    "\n",
    "    #--- spheres ---\n",
    "    sphere_point_clouds = [\n",
    "        np.asarray(\n",
    "            [\n",
    "                [\n",
    "                    np.cos(s) * np.cos(t) + noise * (np.random.rand(1)[0] - 0.5),\n",
    "                    np.cos(s) * np.sin(t) + noise * (np.random.rand(1)[0] - 0.5),\n",
    "                    np.sin(s) + noise * (np.random.rand(1)[0] - 0.5),\n",
    "                ]\n",
    "                for t in range(n_points)\n",
    "                for s in range(n_points)\n",
    "            ]\n",
    "        )\n",
    "        for kk in range(n_samples_per_shape)\n",
    "    ]\n",
    "    sphere_labels = np.ones(n_samples_per_shape)     # label spheres with 1\n",
    "\n",
    "    #--- tori ---\n",
    "    torus_point_clouds = [\n",
    "        np.asarray(\n",
    "            [\n",
    "                [\n",
    "                    (2 + np.cos(s)) * np.cos(t) + noise * (np.random.rand(1)[0] - 0.5),\n",
    "                    (2 + np.cos(s)) * np.sin(t) + noise * (np.random.rand(1)[0] - 0.5),\n",
    "                    np.sin(s) + noise * (np.random.rand(1)[0] - 0.5),\n",
    "                ]\n",
    "                for t in range(n_points)\n",
    "                for s in range(n_points)\n",
    "            ]\n",
    "        )\n",
    "        for kk in range(n_samples_per_shape)\n",
    "    ]\n",
    "\n",
    "    torus_labels = 2 * np.ones(n_samples_per_shape)     # label tori with 2\n",
    "\n",
    "    #--- plane ---\n",
    "    coefs = list(zip((1+6*np.random.rand(n_samples_per_shape)).astype(int), (1+6*np.random.rand(n_samples_per_shape)).astype(int)))\n",
    "    plane_point_clouds = [\n",
    "        np.asarray(\n",
    "            [\n",
    "                [\n",
    "                    x,\n",
    "                    y,\n",
    "                    coef[0]*x + coef[1]*y,\n",
    "                ]\n",
    "                for x in np.linspace(-1, 1, n_points)\n",
    "                for y in np.linspace(-1, 1, n_points)\n",
    "            ]\n",
    "        )\n",
    "        for coef in coefs\n",
    "    ]\n",
    "    plane_labels = 3 * np.ones(n_samples_per_shape) # label plane with 3\n",
    "\n",
    "    point_clouds = np.concatenate((circle_point_clouds, sphere_point_clouds, torus_point_clouds, plane_point_clouds))\n",
    "    labels = np.concatenate((circle_labels, sphere_labels, torus_labels, plane_labels))\n",
    "\n",
    "    return point_clouds, labels"
   ]
  },
  {
   "cell_type": "markdown",
   "metadata": {},
   "source": [
    "Below we generate point clouds (and ensure that the data has the expected shape."
   ]
  },
  {
   "cell_type": "code",
   "execution_count": 3,
   "metadata": {
    "collapsed": true,
    "id": "2nD32pzjiDdi"
   },
   "outputs": [
    {
     "name": "stdout",
     "output_type": "stream",
     "text": [
      "(40, 100, 3)\n",
      "(40,)\n"
     ]
    }
   ],
   "source": [
    "n_samples_per_class = 10\n",
    "point_clouds, labs = make_point_clouds(n_samples_per_class, n_points = 10, noise=0.1)\n",
    "print(point_clouds.shape)\n",
    "print(labs.shape)"
   ]
  },
  {
   "cell_type": "markdown",
   "metadata": {},
   "source": [
    "Here are some of the point clouds (circle, sphere, torus and a plane) visualized! "
   ]
  },
  {
   "cell_type": "code",
   "execution_count": 4,
   "metadata": {
    "collapsed": true,
    "id": "STI766YBiSMA"
   },
   "outputs": [
    {
     "data": {
      "application/vnd.plotly.v1+json": {
       "config": {
        "plotlyServerURL": "https://plot.ly"
       },
       "data": [
        {
         "marker": {
          "color": [
           0,
           1,
           2,
           3,
           4,
           5,
           6,
           7,
           8,
           9,
           10,
           11,
           12,
           13,
           14,
           15,
           16,
           17,
           18,
           19,
           20,
           21,
           22,
           23,
           24,
           25,
           26,
           27,
           28,
           29,
           30,
           31,
           32,
           33,
           34,
           35,
           36,
           37,
           38,
           39,
           40,
           41,
           42,
           43,
           44,
           45,
           46,
           47,
           48,
           49,
           50,
           51,
           52,
           53,
           54,
           55,
           56,
           57,
           58,
           59,
           60,
           61,
           62,
           63,
           64,
           65,
           66,
           67,
           68,
           69,
           70,
           71,
           72,
           73,
           74,
           75,
           76,
           77,
           78,
           79,
           80,
           81,
           82,
           83,
           84,
           85,
           86,
           87,
           88,
           89,
           90,
           91,
           92,
           93,
           94,
           95,
           96,
           97,
           98,
           99
          ],
          "colorscale": [
           [
            0,
            "#440154"
           ],
           [
            0.1111111111111111,
            "#482878"
           ],
           [
            0.2222222222222222,
            "#3e4989"
           ],
           [
            0.3333333333333333,
            "#31688e"
           ],
           [
            0.4444444444444444,
            "#26828e"
           ],
           [
            0.5555555555555556,
            "#1f9e89"
           ],
           [
            0.6666666666666666,
            "#35b779"
           ],
           [
            0.7777777777777778,
            "#6ece58"
           ],
           [
            0.8888888888888888,
            "#b5de2b"
           ],
           [
            1,
            "#fde725"
           ]
          ],
          "opacity": 0.8,
          "size": 4
         },
         "mode": "markers",
         "type": "scatter3d",
         "x": [
          -0.026427257036801446,
          0.8618753357275097,
          0.8926559101963163,
          0.12026782331350187,
          -0.7437218190609975,
          -0.9289656812106322,
          -0.30645707931546795,
          0.6981048705795011,
          1.0243729046007901,
          0.4071112147111355,
          -0.549519494993803,
          -0.9935431896231729,
          -0.49813794364186736,
          0.40924306353871986,
          1.0340626222884493,
          0.6915087613532316,
          -0.24447322979779385,
          -0.9833887167967109,
          -0.7317549765941543,
          0.15118590280158836,
          0.9476697204072271,
          0.7873519830656985,
          0.03528415268165382,
          -0.8131408736015752,
          -0.8587620151729399,
          -0.16151134085216778,
          0.7340198083213016,
          1.0024114042322743,
          0.3081714534684215,
          -0.6463295427756498,
          -0.9976133707339072,
          -0.3768425314392769,
          0.5250622208892167,
          1.0489744195510227,
          0.5137453027784581,
          -0.44096823985372063,
          -1.0212792153826953,
          -0.5970357396691863,
          0.3021330472184068,
          0.9208091285407946,
          0.7159405554515067,
          -0.1384879823894375,
          -0.9420494475777015,
          -0.8489801752145986,
          0.033714102619442105,
          0.8535552939746123,
          0.8663167309687788,
          0.10994758334710078,
          -0.755669999419655,
          -0.9590068427448349,
          -0.21475355533678342,
          0.6884728926510753,
          1.030987846135211,
          0.4424054615801698,
          -0.5946330695333035,
          -0.9817278183732236,
          -0.5072909077996841,
          0.4219058909734456,
          0.9570988290835709,
          0.6000523662885748,
          -0.3414566573501072,
          -1.004561199125603,
          -0.7073972598069637,
          0.1719037927559871,
          0.9588084891001576,
          0.8013224944011603,
          0.003161629135757016,
          -0.8468127019664811,
          -0.8617478078613537,
          -0.125201589205226,
          0.7311218924468396,
          0.92375810066458,
          0.22519042615786128,
          -0.7096640671060105,
          -1.0105340426314549,
          -0.3436039422089931,
          0.5624054282592571,
          1.017648405223238,
          0.5092208908594794,
          -0.4153263681980473,
          -0.9854931017156652,
          -0.6606148017198961,
          0.2917773034731215,
          0.9739175509422333,
          0.782340802711335,
          -0.17856297738221696,
          -0.8982357293996129,
          -0.7800148334356818,
          0.02090159089116843,
          0.8859910957047964,
          0.9329521016724716,
          0.09523611269016219,
          -0.8129958880125057,
          -0.9423104487553984,
          -0.22609428916552327,
          0.6772367975897048,
          0.9961409204949478,
          0.3728655530003376,
          -0.56707143776633,
          -1.008576800633542
         ],
         "y": [
          1.0440295762549565,
          0.4996121851583052,
          -0.3975488687825002,
          -0.9740039561276278,
          -0.6239517287147558,
          0.2963354026344007,
          0.9323985035818253,
          0.7788745260400186,
          -0.10840606267149032,
          -0.8967886938966871,
          -0.8660198106680345,
          0.020678942138412242,
          0.8036940168949414,
          0.9210132668260611,
          0.1546896220587049,
          -0.7644265639008709,
          -0.9394611401496895,
          -0.28110217022737544,
          0.6919176365590709,
          1.020508116646348,
          0.4542320045302592,
          -0.5707115273146014,
          -0.9757324961149878,
          -0.5485524397881906,
          0.40454018961915106,
          0.9849790995242869,
          0.6068537585449395,
          -0.30757135490901166,
          -0.9237107008138818,
          -0.7059901299126183,
          0.16296355848374702,
          0.943733253430131,
          0.8394242649652828,
          0.036277012694072415,
          -0.8459136691224124,
          -0.8975509187976909,
          -0.13989602649228147,
          0.765298139787467,
          0.9887496832420918,
          0.2799941240054836,
          -0.6475520659776818,
          -0.9467851793807085,
          -0.4094868036329115,
          0.5479274963225795,
          0.9970666599406361,
          0.5467544085759017,
          -0.3849902365591904,
          -0.9775701392517654,
          -0.6383747585498566,
          0.3455172409360889,
          0.9575396958926692,
          0.716943523773575,
          -0.12419568329328165,
          -0.9417589837431625,
          -0.8408380218607763,
          0.044716483025391426,
          0.8165920578268757,
          0.8768420381607852,
          0.16611001642390966,
          -0.7323212195719837,
          -0.955555770841836,
          -0.2918461835438091,
          0.7061292078319624,
          1.0295690329547116,
          0.34301120280677877,
          -0.5214143851811649,
          -0.975293779931067,
          -0.4757411666794393,
          0.39043982681788003,
          1.034496900910453,
          0.598814674296293,
          -0.26380955589164595,
          -0.9708701632433977,
          -0.7856614639413068,
          0.17059194697747657,
          0.8740091583451243,
          0.8126890172473592,
          0.00404584346707006,
          -0.8257158267022919,
          -0.858369605282214,
          -0.10219186477213006,
          0.7519754772702656,
          0.9940654435032219,
          0.25903803795090424,
          -0.6467988034585532,
          -0.9930855120986125,
          -0.39716086589871374,
          0.5945353624647558,
          1.0293981940114514,
          0.47411714417446743,
          -0.45390285612181236,
          -1.0270815611850959,
          -0.6358638730396633,
          0.267956205474995,
          1.0061149371222815,
          0.7353849056702408,
          -0.17831936224667624,
          -0.8793935151101212,
          -0.8341468734954738,
          0.0430074409506212
         ],
         "z": [
          0,
          0,
          0,
          0,
          0,
          0,
          0,
          0,
          0,
          0,
          0,
          0,
          0,
          0,
          0,
          0,
          0,
          0,
          0,
          0,
          0,
          0,
          0,
          0,
          0,
          0,
          0,
          0,
          0,
          0,
          0,
          0,
          0,
          0,
          0,
          0,
          0,
          0,
          0,
          0,
          0,
          0,
          0,
          0,
          0,
          0,
          0,
          0,
          0,
          0,
          0,
          0,
          0,
          0,
          0,
          0,
          0,
          0,
          0,
          0,
          0,
          0,
          0,
          0,
          0,
          0,
          0,
          0,
          0,
          0,
          0,
          0,
          0,
          0,
          0,
          0,
          0,
          0,
          0,
          0,
          0,
          0,
          0,
          0,
          0,
          0,
          0,
          0,
          0,
          0,
          0,
          0,
          0,
          0,
          0,
          0,
          0,
          0,
          0,
          0
         ]
        }
       ],
       "layout": {
        "scene": {
         "xaxis": {
          "exponentformat": "e",
          "showexponent": "all",
          "title": {
           "text": "0th"
          },
          "type": "linear"
         },
         "yaxis": {
          "exponentformat": "e",
          "showexponent": "all",
          "title": {
           "text": "1st"
          },
          "type": "linear"
         },
         "zaxis": {
          "exponentformat": "e",
          "showexponent": "all",
          "title": {
           "text": "2nd"
          },
          "type": "linear"
         }
        },
        "template": {
         "data": {
          "bar": [
           {
            "error_x": {
             "color": "#2a3f5f"
            },
            "error_y": {
             "color": "#2a3f5f"
            },
            "marker": {
             "line": {
              "color": "#E5ECF6",
              "width": 0.5
             },
             "pattern": {
              "fillmode": "overlay",
              "size": 10,
              "solidity": 0.2
             }
            },
            "type": "bar"
           }
          ],
          "barpolar": [
           {
            "marker": {
             "line": {
              "color": "#E5ECF6",
              "width": 0.5
             },
             "pattern": {
              "fillmode": "overlay",
              "size": 10,
              "solidity": 0.2
             }
            },
            "type": "barpolar"
           }
          ],
          "carpet": [
           {
            "aaxis": {
             "endlinecolor": "#2a3f5f",
             "gridcolor": "white",
             "linecolor": "white",
             "minorgridcolor": "white",
             "startlinecolor": "#2a3f5f"
            },
            "baxis": {
             "endlinecolor": "#2a3f5f",
             "gridcolor": "white",
             "linecolor": "white",
             "minorgridcolor": "white",
             "startlinecolor": "#2a3f5f"
            },
            "type": "carpet"
           }
          ],
          "choropleth": [
           {
            "colorbar": {
             "outlinewidth": 0,
             "ticks": ""
            },
            "type": "choropleth"
           }
          ],
          "contour": [
           {
            "colorbar": {
             "outlinewidth": 0,
             "ticks": ""
            },
            "colorscale": [
             [
              0,
              "#0d0887"
             ],
             [
              0.1111111111111111,
              "#46039f"
             ],
             [
              0.2222222222222222,
              "#7201a8"
             ],
             [
              0.3333333333333333,
              "#9c179e"
             ],
             [
              0.4444444444444444,
              "#bd3786"
             ],
             [
              0.5555555555555556,
              "#d8576b"
             ],
             [
              0.6666666666666666,
              "#ed7953"
             ],
             [
              0.7777777777777778,
              "#fb9f3a"
             ],
             [
              0.8888888888888888,
              "#fdca26"
             ],
             [
              1,
              "#f0f921"
             ]
            ],
            "type": "contour"
           }
          ],
          "contourcarpet": [
           {
            "colorbar": {
             "outlinewidth": 0,
             "ticks": ""
            },
            "type": "contourcarpet"
           }
          ],
          "heatmap": [
           {
            "colorbar": {
             "outlinewidth": 0,
             "ticks": ""
            },
            "colorscale": [
             [
              0,
              "#0d0887"
             ],
             [
              0.1111111111111111,
              "#46039f"
             ],
             [
              0.2222222222222222,
              "#7201a8"
             ],
             [
              0.3333333333333333,
              "#9c179e"
             ],
             [
              0.4444444444444444,
              "#bd3786"
             ],
             [
              0.5555555555555556,
              "#d8576b"
             ],
             [
              0.6666666666666666,
              "#ed7953"
             ],
             [
              0.7777777777777778,
              "#fb9f3a"
             ],
             [
              0.8888888888888888,
              "#fdca26"
             ],
             [
              1,
              "#f0f921"
             ]
            ],
            "type": "heatmap"
           }
          ],
          "heatmapgl": [
           {
            "colorbar": {
             "outlinewidth": 0,
             "ticks": ""
            },
            "colorscale": [
             [
              0,
              "#0d0887"
             ],
             [
              0.1111111111111111,
              "#46039f"
             ],
             [
              0.2222222222222222,
              "#7201a8"
             ],
             [
              0.3333333333333333,
              "#9c179e"
             ],
             [
              0.4444444444444444,
              "#bd3786"
             ],
             [
              0.5555555555555556,
              "#d8576b"
             ],
             [
              0.6666666666666666,
              "#ed7953"
             ],
             [
              0.7777777777777778,
              "#fb9f3a"
             ],
             [
              0.8888888888888888,
              "#fdca26"
             ],
             [
              1,
              "#f0f921"
             ]
            ],
            "type": "heatmapgl"
           }
          ],
          "histogram": [
           {
            "marker": {
             "pattern": {
              "fillmode": "overlay",
              "size": 10,
              "solidity": 0.2
             }
            },
            "type": "histogram"
           }
          ],
          "histogram2d": [
           {
            "colorbar": {
             "outlinewidth": 0,
             "ticks": ""
            },
            "colorscale": [
             [
              0,
              "#0d0887"
             ],
             [
              0.1111111111111111,
              "#46039f"
             ],
             [
              0.2222222222222222,
              "#7201a8"
             ],
             [
              0.3333333333333333,
              "#9c179e"
             ],
             [
              0.4444444444444444,
              "#bd3786"
             ],
             [
              0.5555555555555556,
              "#d8576b"
             ],
             [
              0.6666666666666666,
              "#ed7953"
             ],
             [
              0.7777777777777778,
              "#fb9f3a"
             ],
             [
              0.8888888888888888,
              "#fdca26"
             ],
             [
              1,
              "#f0f921"
             ]
            ],
            "type": "histogram2d"
           }
          ],
          "histogram2dcontour": [
           {
            "colorbar": {
             "outlinewidth": 0,
             "ticks": ""
            },
            "colorscale": [
             [
              0,
              "#0d0887"
             ],
             [
              0.1111111111111111,
              "#46039f"
             ],
             [
              0.2222222222222222,
              "#7201a8"
             ],
             [
              0.3333333333333333,
              "#9c179e"
             ],
             [
              0.4444444444444444,
              "#bd3786"
             ],
             [
              0.5555555555555556,
              "#d8576b"
             ],
             [
              0.6666666666666666,
              "#ed7953"
             ],
             [
              0.7777777777777778,
              "#fb9f3a"
             ],
             [
              0.8888888888888888,
              "#fdca26"
             ],
             [
              1,
              "#f0f921"
             ]
            ],
            "type": "histogram2dcontour"
           }
          ],
          "mesh3d": [
           {
            "colorbar": {
             "outlinewidth": 0,
             "ticks": ""
            },
            "type": "mesh3d"
           }
          ],
          "parcoords": [
           {
            "line": {
             "colorbar": {
              "outlinewidth": 0,
              "ticks": ""
             }
            },
            "type": "parcoords"
           }
          ],
          "pie": [
           {
            "automargin": true,
            "type": "pie"
           }
          ],
          "scatter": [
           {
            "fillpattern": {
             "fillmode": "overlay",
             "size": 10,
             "solidity": 0.2
            },
            "type": "scatter"
           }
          ],
          "scatter3d": [
           {
            "line": {
             "colorbar": {
              "outlinewidth": 0,
              "ticks": ""
             }
            },
            "marker": {
             "colorbar": {
              "outlinewidth": 0,
              "ticks": ""
             }
            },
            "type": "scatter3d"
           }
          ],
          "scattercarpet": [
           {
            "marker": {
             "colorbar": {
              "outlinewidth": 0,
              "ticks": ""
             }
            },
            "type": "scattercarpet"
           }
          ],
          "scattergeo": [
           {
            "marker": {
             "colorbar": {
              "outlinewidth": 0,
              "ticks": ""
             }
            },
            "type": "scattergeo"
           }
          ],
          "scattergl": [
           {
            "marker": {
             "colorbar": {
              "outlinewidth": 0,
              "ticks": ""
             }
            },
            "type": "scattergl"
           }
          ],
          "scattermapbox": [
           {
            "marker": {
             "colorbar": {
              "outlinewidth": 0,
              "ticks": ""
             }
            },
            "type": "scattermapbox"
           }
          ],
          "scatterpolar": [
           {
            "marker": {
             "colorbar": {
              "outlinewidth": 0,
              "ticks": ""
             }
            },
            "type": "scatterpolar"
           }
          ],
          "scatterpolargl": [
           {
            "marker": {
             "colorbar": {
              "outlinewidth": 0,
              "ticks": ""
             }
            },
            "type": "scatterpolargl"
           }
          ],
          "scatterternary": [
           {
            "marker": {
             "colorbar": {
              "outlinewidth": 0,
              "ticks": ""
             }
            },
            "type": "scatterternary"
           }
          ],
          "surface": [
           {
            "colorbar": {
             "outlinewidth": 0,
             "ticks": ""
            },
            "colorscale": [
             [
              0,
              "#0d0887"
             ],
             [
              0.1111111111111111,
              "#46039f"
             ],
             [
              0.2222222222222222,
              "#7201a8"
             ],
             [
              0.3333333333333333,
              "#9c179e"
             ],
             [
              0.4444444444444444,
              "#bd3786"
             ],
             [
              0.5555555555555556,
              "#d8576b"
             ],
             [
              0.6666666666666666,
              "#ed7953"
             ],
             [
              0.7777777777777778,
              "#fb9f3a"
             ],
             [
              0.8888888888888888,
              "#fdca26"
             ],
             [
              1,
              "#f0f921"
             ]
            ],
            "type": "surface"
           }
          ],
          "table": [
           {
            "cells": {
             "fill": {
              "color": "#EBF0F8"
             },
             "line": {
              "color": "white"
             }
            },
            "header": {
             "fill": {
              "color": "#C8D4E3"
             },
             "line": {
              "color": "white"
             }
            },
            "type": "table"
           }
          ]
         },
         "layout": {
          "annotationdefaults": {
           "arrowcolor": "#2a3f5f",
           "arrowhead": 0,
           "arrowwidth": 1
          },
          "autotypenumbers": "strict",
          "coloraxis": {
           "colorbar": {
            "outlinewidth": 0,
            "ticks": ""
           }
          },
          "colorscale": {
           "diverging": [
            [
             0,
             "#8e0152"
            ],
            [
             0.1,
             "#c51b7d"
            ],
            [
             0.2,
             "#de77ae"
            ],
            [
             0.3,
             "#f1b6da"
            ],
            [
             0.4,
             "#fde0ef"
            ],
            [
             0.5,
             "#f7f7f7"
            ],
            [
             0.6,
             "#e6f5d0"
            ],
            [
             0.7,
             "#b8e186"
            ],
            [
             0.8,
             "#7fbc41"
            ],
            [
             0.9,
             "#4d9221"
            ],
            [
             1,
             "#276419"
            ]
           ],
           "sequential": [
            [
             0,
             "#0d0887"
            ],
            [
             0.1111111111111111,
             "#46039f"
            ],
            [
             0.2222222222222222,
             "#7201a8"
            ],
            [
             0.3333333333333333,
             "#9c179e"
            ],
            [
             0.4444444444444444,
             "#bd3786"
            ],
            [
             0.5555555555555556,
             "#d8576b"
            ],
            [
             0.6666666666666666,
             "#ed7953"
            ],
            [
             0.7777777777777778,
             "#fb9f3a"
            ],
            [
             0.8888888888888888,
             "#fdca26"
            ],
            [
             1,
             "#f0f921"
            ]
           ],
           "sequentialminus": [
            [
             0,
             "#0d0887"
            ],
            [
             0.1111111111111111,
             "#46039f"
            ],
            [
             0.2222222222222222,
             "#7201a8"
            ],
            [
             0.3333333333333333,
             "#9c179e"
            ],
            [
             0.4444444444444444,
             "#bd3786"
            ],
            [
             0.5555555555555556,
             "#d8576b"
            ],
            [
             0.6666666666666666,
             "#ed7953"
            ],
            [
             0.7777777777777778,
             "#fb9f3a"
            ],
            [
             0.8888888888888888,
             "#fdca26"
            ],
            [
             1,
             "#f0f921"
            ]
           ]
          },
          "colorway": [
           "#636efa",
           "#EF553B",
           "#00cc96",
           "#ab63fa",
           "#FFA15A",
           "#19d3f3",
           "#FF6692",
           "#B6E880",
           "#FF97FF",
           "#FECB52"
          ],
          "font": {
           "color": "#2a3f5f"
          },
          "geo": {
           "bgcolor": "white",
           "lakecolor": "white",
           "landcolor": "#E5ECF6",
           "showlakes": true,
           "showland": true,
           "subunitcolor": "white"
          },
          "hoverlabel": {
           "align": "left"
          },
          "hovermode": "closest",
          "mapbox": {
           "style": "light"
          },
          "paper_bgcolor": "white",
          "plot_bgcolor": "#E5ECF6",
          "polar": {
           "angularaxis": {
            "gridcolor": "white",
            "linecolor": "white",
            "ticks": ""
           },
           "bgcolor": "#E5ECF6",
           "radialaxis": {
            "gridcolor": "white",
            "linecolor": "white",
            "ticks": ""
           }
          },
          "scene": {
           "xaxis": {
            "backgroundcolor": "#E5ECF6",
            "gridcolor": "white",
            "gridwidth": 2,
            "linecolor": "white",
            "showbackground": true,
            "ticks": "",
            "zerolinecolor": "white"
           },
           "yaxis": {
            "backgroundcolor": "#E5ECF6",
            "gridcolor": "white",
            "gridwidth": 2,
            "linecolor": "white",
            "showbackground": true,
            "ticks": "",
            "zerolinecolor": "white"
           },
           "zaxis": {
            "backgroundcolor": "#E5ECF6",
            "gridcolor": "white",
            "gridwidth": 2,
            "linecolor": "white",
            "showbackground": true,
            "ticks": "",
            "zerolinecolor": "white"
           }
          },
          "shapedefaults": {
           "line": {
            "color": "#2a3f5f"
           }
          },
          "ternary": {
           "aaxis": {
            "gridcolor": "white",
            "linecolor": "white",
            "ticks": ""
           },
           "baxis": {
            "gridcolor": "white",
            "linecolor": "white",
            "ticks": ""
           },
           "bgcolor": "#E5ECF6",
           "caxis": {
            "gridcolor": "white",
            "linecolor": "white",
            "ticks": ""
           }
          },
          "title": {
           "x": 0.05
          },
          "xaxis": {
           "automargin": true,
           "gridcolor": "white",
           "linecolor": "white",
           "ticks": "",
           "title": {
            "standoff": 15
           },
           "zerolinecolor": "white",
           "zerolinewidth": 2
          },
          "yaxis": {
           "automargin": true,
           "gridcolor": "white",
           "linecolor": "white",
           "ticks": "",
           "title": {
            "standoff": 15
           },
           "zerolinecolor": "white",
           "zerolinewidth": 2
          }
         }
        }
       }
      }
     },
     "metadata": {},
     "output_type": "display_data"
    }
   ],
   "source": [
    "plot_point_cloud(point_clouds[0]).show()"
   ]
  },
  {
   "cell_type": "code",
   "execution_count": 5,
   "metadata": {
    "collapsed": true,
    "id": "rXQ9a1nNiZWX"
   },
   "outputs": [
    {
     "data": {
      "application/vnd.plotly.v1+json": {
       "config": {
        "plotlyServerURL": "https://plot.ly"
       },
       "data": [
        {
         "marker": {
          "color": [
           0,
           1,
           2,
           3,
           4,
           5,
           6,
           7,
           8,
           9,
           10,
           11,
           12,
           13,
           14,
           15,
           16,
           17,
           18,
           19,
           20,
           21,
           22,
           23,
           24,
           25,
           26,
           27,
           28,
           29,
           30,
           31,
           32,
           33,
           34,
           35,
           36,
           37,
           38,
           39,
           40,
           41,
           42,
           43,
           44,
           45,
           46,
           47,
           48,
           49,
           50,
           51,
           52,
           53,
           54,
           55,
           56,
           57,
           58,
           59,
           60,
           61,
           62,
           63,
           64,
           65,
           66,
           67,
           68,
           69,
           70,
           71,
           72,
           73,
           74,
           75,
           76,
           77,
           78,
           79,
           80,
           81,
           82,
           83,
           84,
           85,
           86,
           87,
           88,
           89,
           90,
           91,
           92,
           93,
           94,
           95,
           96,
           97,
           98,
           99
          ],
          "colorscale": [
           [
            0,
            "#440154"
           ],
           [
            0.1111111111111111,
            "#482878"
           ],
           [
            0.2222222222222222,
            "#3e4989"
           ],
           [
            0.3333333333333333,
            "#31688e"
           ],
           [
            0.4444444444444444,
            "#26828e"
           ],
           [
            0.5555555555555556,
            "#1f9e89"
           ],
           [
            0.6666666666666666,
            "#35b779"
           ],
           [
            0.7777777777777778,
            "#6ece58"
           ],
           [
            0.8888888888888888,
            "#b5de2b"
           ],
           [
            1,
            "#fde725"
           ]
          ],
          "opacity": 0.8,
          "size": 4
         },
         "mode": "markers",
         "type": "scatter3d",
         "x": [
          0.9689726927396594,
          0.5111270370606145,
          -0.4243742103836173,
          -0.9814274306647766,
          -0.6228003839657025,
          0.30730524509878177,
          0.9597340011245602,
          0.802045030444619,
          -0.14834286317932274,
          -0.8746398937940112,
          0.5713223949537629,
          0.2693473596497462,
          -0.17937779835326767,
          -0.5263621833127362,
          -0.35210144996310455,
          0.12193183770852437,
          0.5119998161546091,
          0.4458396963446924,
          -0.030009301051855543,
          -0.46617616210877216,
          -0.419311617080501,
          -0.2734957045138977,
          0.1428000379772016,
          0.3885466630652413,
          0.22767100970562903,
          -0.06983670659366714,
          -0.3878610753781059,
          -0.2913816319530492,
          0.08931042358923777,
          0.35008747577933863,
          -0.9958774085773945,
          -0.5734628232100683,
          0.4483732324717967,
          0.9493139349274051,
          0.6535109963627544,
          -0.26251753168430314,
          -0.9875223764785658,
          -0.725671282020095,
          0.15996458222056487,
          0.9468746665130116,
          -0.6862140891752193,
          -0.36157757362031734,
          0.30740114310983047,
          0.614757261373951,
          0.4356377417419261,
          -0.22618565655225567,
          -0.6537422504879915,
          -0.4798560922693465,
          0.08624181419547551,
          0.6217907973748094,
          0.3295835789714386,
          0.16170109403266553,
          -0.10518494214505417,
          -0.25980020742848176,
          -0.1534166244612915,
          0.12181950810289671,
          0.32096782576689986,
          0.1706272275172251,
          -0.08177705062236335,
          -0.2514617239038661,
          0.9184327980245046,
          0.4844535406623015,
          -0.43746713002343285,
          -0.9431515134381268,
          -0.5831598357390664,
          0.26361799766629346,
          0.9188129643962061,
          0.7367047772472783,
          -0.13026466922081947,
          -0.8700880908974618,
          0.7876630702820576,
          0.38192673986323467,
          -0.3153617755333827,
          -0.7923321292171315,
          -0.5323356552158746,
          0.26379232979254325,
          0.748013538812034,
          0.5479820273173377,
          -0.1477443094588149,
          -0.6553243489230447,
          -0.15046237924340422,
          -0.05437381633164793,
          0.07403778246420041,
          0.132533325284966,
          0.1158860067400549,
          -0.04892329199066064,
          -0.09246286609031537,
          -0.1466879948490959,
          0.06594221381365306,
          0.12997219702841126,
          -0.8667678830192452,
          -0.5029142884886346,
          0.3867372626764695,
          0.905226321604168,
          0.6093974672310395,
          -0.26892602507109015,
          -0.8586036331958331,
          -0.6424690158055516,
          0.09907816648294945,
          0.8365033297372999
         ],
         "y": [
          -0.002111819805418824,
          -0.027947168850053827,
          -0.012201543403976202,
          -0.030337626481431824,
          -0.03119372909556737,
          -0.04747109460169209,
          0.01617912924214242,
          0.023757201716790067,
          0.047887402984871645,
          -0.048202683947496605,
          0.8079097195101176,
          0.4790779352889374,
          -0.3637757653579276,
          -0.7956195113315774,
          -0.570199886046179,
          0.21948775062569437,
          0.8347288272893321,
          0.6590821279978041,
          -0.14825772676799331,
          -0.7960404394224592,
          0.8617940395150022,
          0.46993867988765825,
          -0.3343347261831408,
          -0.9201570759029465,
          -0.6207472255116682,
          0.29628179053281556,
          0.9141839809940123,
          0.7221278680193394,
          -0.16836102404717807,
          -0.7797533667716091,
          0.13729851736454826,
          0.06629196260202747,
          -0.1042333392854505,
          -0.11849620123555697,
          -0.11443961211126644,
          0.02909362735306635,
          0.15226301130466469,
          0.0783966324962557,
          -0.009691498959681981,
          -0.12185364487989829,
          -0.8060530369644818,
          -0.3877296650469139,
          0.3490279323483513,
          0.792762194566415,
          0.5131614675780856,
          -0.25485642866320285,
          -0.7560960108379003,
          -0.555890608412003,
          0.12427832614772939,
          0.7027987424237924,
          -0.9706504770979852,
          -0.5554342996781927,
          0.4083970092433147,
          0.9317828020416172,
          0.5952304176631281,
          -0.2670505406421122,
          -0.913823919462714,
          -0.6795971340432276,
          0.11062976726606516,
          0.8547325116741397,
          -0.2510629006427874,
          -0.10451205946314529,
          0.15375406229719213,
          0.3209252288640289,
          0.18447000566798732,
          -0.07195834667853541,
          -0.28230855643745745,
          -0.25473992319030647,
          0.049015792293377346,
          0.2749602863648123,
          0.6286948566214422,
          0.3452901241650269,
          -0.25283819258047113,
          -0.6956011095695841,
          -0.39034389060547053,
          0.19596397767062668,
          0.6092142984246444,
          0.4807635573364788,
          -0.046379496524853875,
          -0.6032215183836488,
          0.971836026934174,
          0.497210215257073,
          -0.3750191494531669,
          -0.9782528764524644,
          -0.684808248342616,
          0.2519287048046326,
          0.9377026339282901,
          0.7303555971987299,
          -0.1634494356692278,
          -0.8940366803344497,
          0.45937664234106856,
          0.2523419565648246,
          -0.20368131734869813,
          -0.36069164967972717,
          -0.268909180317563,
          0.08861506808486642,
          0.40315432914398036,
          0.29820831246234436,
          -0.08573973641249985,
          -0.39609942844853574
         ],
         "z": [
          -0.022452555065996662,
          0.818191587456824,
          0.9299359497063444,
          0.12017393173314837,
          -0.7690712118105298,
          -0.9429621734456877,
          -0.2838332761095147,
          0.7019574705974155,
          1.0241217921573473,
          0.43701059671421494,
          0.010979641107780259,
          0.8564638655755845,
          0.9146232545462349,
          0.12598480382888133,
          -0.7683912408315812,
          -0.9361585882231902,
          -0.25018603289608643,
          0.6572992239516665,
          1.0355517056905759,
          0.3669401731948788,
          0.04770632111742874,
          0.8472974528624458,
          0.8957299755662382,
          0.17860966938063344,
          -0.7503936538886995,
          -0.9860973045566681,
          -0.28846167237913894,
          0.6704719857218964,
          0.9408651466540916,
          0.45856427703585734,
          -0.027347242702750397,
          0.7970096988134799,
          0.8804147586422139,
          0.11485535310099607,
          -0.7938141939273363,
          -0.957864852716436,
          -0.31765350710003853,
          0.6249608257897993,
          0.9828922253069585,
          0.45672662220815796,
          -0.003274588815740176,
          0.8570172399310264,
          0.8847895899668405,
          0.10953938985103712,
          -0.7708517037544038,
          -0.9542750164596496,
          -0.307978181215407,
          0.6675414118775884,
          0.9980270575427851,
          0.4128344080442164,
          -0.01437382932751461,
          0.7973425412185919,
          0.9288248726167767,
          0.18663597031047904,
          -0.726695904911879,
          -0.9926847824949241,
          -0.30849201098780926,
          0.6261611029510089,
          1.0006492705650203,
          0.3891708322849082,
          -0.025090791816696646,
          0.7958300602693912,
          0.9297079419174382,
          0.15058761284762034,
          -0.7770157709814507,
          -1.008125521142034,
          -0.2585748376458098,
          0.6726719798219581,
          0.963620546787694,
          0.43150539905020474,
          -0.017769598490323734,
          0.8820311048479683,
          0.9459273281158356,
          0.11799101282613665,
          -0.7874643834186686,
          -0.9876777224056348,
          -0.24395654993956536,
          0.6828076300900581,
          0.9693984055734661,
          0.45170171173805734,
          -0.032394572533669154,
          0.828878771461982,
          0.8758243024439701,
          0.14615298065209664,
          -0.7840441582125293,
          -1.0025276299651356,
          -0.23244627779525245,
          0.7035750626914636,
          0.9584603085003988,
          0.4253421056684188,
          -0.03103723807723968,
          0.8452649380336628,
          0.8918429746145947,
          0.1569100244166355,
          -0.7388059876815581,
          -0.9405400638582765,
          -0.31032138807033943,
          0.672719526999255,
          0.9737859316021374,
          0.45933376813013976
         ]
        }
       ],
       "layout": {
        "scene": {
         "xaxis": {
          "exponentformat": "e",
          "showexponent": "all",
          "title": {
           "text": "0th"
          },
          "type": "linear"
         },
         "yaxis": {
          "exponentformat": "e",
          "showexponent": "all",
          "title": {
           "text": "1st"
          },
          "type": "linear"
         },
         "zaxis": {
          "exponentformat": "e",
          "showexponent": "all",
          "title": {
           "text": "2nd"
          },
          "type": "linear"
         }
        },
        "template": {
         "data": {
          "bar": [
           {
            "error_x": {
             "color": "#2a3f5f"
            },
            "error_y": {
             "color": "#2a3f5f"
            },
            "marker": {
             "line": {
              "color": "#E5ECF6",
              "width": 0.5
             },
             "pattern": {
              "fillmode": "overlay",
              "size": 10,
              "solidity": 0.2
             }
            },
            "type": "bar"
           }
          ],
          "barpolar": [
           {
            "marker": {
             "line": {
              "color": "#E5ECF6",
              "width": 0.5
             },
             "pattern": {
              "fillmode": "overlay",
              "size": 10,
              "solidity": 0.2
             }
            },
            "type": "barpolar"
           }
          ],
          "carpet": [
           {
            "aaxis": {
             "endlinecolor": "#2a3f5f",
             "gridcolor": "white",
             "linecolor": "white",
             "minorgridcolor": "white",
             "startlinecolor": "#2a3f5f"
            },
            "baxis": {
             "endlinecolor": "#2a3f5f",
             "gridcolor": "white",
             "linecolor": "white",
             "minorgridcolor": "white",
             "startlinecolor": "#2a3f5f"
            },
            "type": "carpet"
           }
          ],
          "choropleth": [
           {
            "colorbar": {
             "outlinewidth": 0,
             "ticks": ""
            },
            "type": "choropleth"
           }
          ],
          "contour": [
           {
            "colorbar": {
             "outlinewidth": 0,
             "ticks": ""
            },
            "colorscale": [
             [
              0,
              "#0d0887"
             ],
             [
              0.1111111111111111,
              "#46039f"
             ],
             [
              0.2222222222222222,
              "#7201a8"
             ],
             [
              0.3333333333333333,
              "#9c179e"
             ],
             [
              0.4444444444444444,
              "#bd3786"
             ],
             [
              0.5555555555555556,
              "#d8576b"
             ],
             [
              0.6666666666666666,
              "#ed7953"
             ],
             [
              0.7777777777777778,
              "#fb9f3a"
             ],
             [
              0.8888888888888888,
              "#fdca26"
             ],
             [
              1,
              "#f0f921"
             ]
            ],
            "type": "contour"
           }
          ],
          "contourcarpet": [
           {
            "colorbar": {
             "outlinewidth": 0,
             "ticks": ""
            },
            "type": "contourcarpet"
           }
          ],
          "heatmap": [
           {
            "colorbar": {
             "outlinewidth": 0,
             "ticks": ""
            },
            "colorscale": [
             [
              0,
              "#0d0887"
             ],
             [
              0.1111111111111111,
              "#46039f"
             ],
             [
              0.2222222222222222,
              "#7201a8"
             ],
             [
              0.3333333333333333,
              "#9c179e"
             ],
             [
              0.4444444444444444,
              "#bd3786"
             ],
             [
              0.5555555555555556,
              "#d8576b"
             ],
             [
              0.6666666666666666,
              "#ed7953"
             ],
             [
              0.7777777777777778,
              "#fb9f3a"
             ],
             [
              0.8888888888888888,
              "#fdca26"
             ],
             [
              1,
              "#f0f921"
             ]
            ],
            "type": "heatmap"
           }
          ],
          "heatmapgl": [
           {
            "colorbar": {
             "outlinewidth": 0,
             "ticks": ""
            },
            "colorscale": [
             [
              0,
              "#0d0887"
             ],
             [
              0.1111111111111111,
              "#46039f"
             ],
             [
              0.2222222222222222,
              "#7201a8"
             ],
             [
              0.3333333333333333,
              "#9c179e"
             ],
             [
              0.4444444444444444,
              "#bd3786"
             ],
             [
              0.5555555555555556,
              "#d8576b"
             ],
             [
              0.6666666666666666,
              "#ed7953"
             ],
             [
              0.7777777777777778,
              "#fb9f3a"
             ],
             [
              0.8888888888888888,
              "#fdca26"
             ],
             [
              1,
              "#f0f921"
             ]
            ],
            "type": "heatmapgl"
           }
          ],
          "histogram": [
           {
            "marker": {
             "pattern": {
              "fillmode": "overlay",
              "size": 10,
              "solidity": 0.2
             }
            },
            "type": "histogram"
           }
          ],
          "histogram2d": [
           {
            "colorbar": {
             "outlinewidth": 0,
             "ticks": ""
            },
            "colorscale": [
             [
              0,
              "#0d0887"
             ],
             [
              0.1111111111111111,
              "#46039f"
             ],
             [
              0.2222222222222222,
              "#7201a8"
             ],
             [
              0.3333333333333333,
              "#9c179e"
             ],
             [
              0.4444444444444444,
              "#bd3786"
             ],
             [
              0.5555555555555556,
              "#d8576b"
             ],
             [
              0.6666666666666666,
              "#ed7953"
             ],
             [
              0.7777777777777778,
              "#fb9f3a"
             ],
             [
              0.8888888888888888,
              "#fdca26"
             ],
             [
              1,
              "#f0f921"
             ]
            ],
            "type": "histogram2d"
           }
          ],
          "histogram2dcontour": [
           {
            "colorbar": {
             "outlinewidth": 0,
             "ticks": ""
            },
            "colorscale": [
             [
              0,
              "#0d0887"
             ],
             [
              0.1111111111111111,
              "#46039f"
             ],
             [
              0.2222222222222222,
              "#7201a8"
             ],
             [
              0.3333333333333333,
              "#9c179e"
             ],
             [
              0.4444444444444444,
              "#bd3786"
             ],
             [
              0.5555555555555556,
              "#d8576b"
             ],
             [
              0.6666666666666666,
              "#ed7953"
             ],
             [
              0.7777777777777778,
              "#fb9f3a"
             ],
             [
              0.8888888888888888,
              "#fdca26"
             ],
             [
              1,
              "#f0f921"
             ]
            ],
            "type": "histogram2dcontour"
           }
          ],
          "mesh3d": [
           {
            "colorbar": {
             "outlinewidth": 0,
             "ticks": ""
            },
            "type": "mesh3d"
           }
          ],
          "parcoords": [
           {
            "line": {
             "colorbar": {
              "outlinewidth": 0,
              "ticks": ""
             }
            },
            "type": "parcoords"
           }
          ],
          "pie": [
           {
            "automargin": true,
            "type": "pie"
           }
          ],
          "scatter": [
           {
            "fillpattern": {
             "fillmode": "overlay",
             "size": 10,
             "solidity": 0.2
            },
            "type": "scatter"
           }
          ],
          "scatter3d": [
           {
            "line": {
             "colorbar": {
              "outlinewidth": 0,
              "ticks": ""
             }
            },
            "marker": {
             "colorbar": {
              "outlinewidth": 0,
              "ticks": ""
             }
            },
            "type": "scatter3d"
           }
          ],
          "scattercarpet": [
           {
            "marker": {
             "colorbar": {
              "outlinewidth": 0,
              "ticks": ""
             }
            },
            "type": "scattercarpet"
           }
          ],
          "scattergeo": [
           {
            "marker": {
             "colorbar": {
              "outlinewidth": 0,
              "ticks": ""
             }
            },
            "type": "scattergeo"
           }
          ],
          "scattergl": [
           {
            "marker": {
             "colorbar": {
              "outlinewidth": 0,
              "ticks": ""
             }
            },
            "type": "scattergl"
           }
          ],
          "scattermapbox": [
           {
            "marker": {
             "colorbar": {
              "outlinewidth": 0,
              "ticks": ""
             }
            },
            "type": "scattermapbox"
           }
          ],
          "scatterpolar": [
           {
            "marker": {
             "colorbar": {
              "outlinewidth": 0,
              "ticks": ""
             }
            },
            "type": "scatterpolar"
           }
          ],
          "scatterpolargl": [
           {
            "marker": {
             "colorbar": {
              "outlinewidth": 0,
              "ticks": ""
             }
            },
            "type": "scatterpolargl"
           }
          ],
          "scatterternary": [
           {
            "marker": {
             "colorbar": {
              "outlinewidth": 0,
              "ticks": ""
             }
            },
            "type": "scatterternary"
           }
          ],
          "surface": [
           {
            "colorbar": {
             "outlinewidth": 0,
             "ticks": ""
            },
            "colorscale": [
             [
              0,
              "#0d0887"
             ],
             [
              0.1111111111111111,
              "#46039f"
             ],
             [
              0.2222222222222222,
              "#7201a8"
             ],
             [
              0.3333333333333333,
              "#9c179e"
             ],
             [
              0.4444444444444444,
              "#bd3786"
             ],
             [
              0.5555555555555556,
              "#d8576b"
             ],
             [
              0.6666666666666666,
              "#ed7953"
             ],
             [
              0.7777777777777778,
              "#fb9f3a"
             ],
             [
              0.8888888888888888,
              "#fdca26"
             ],
             [
              1,
              "#f0f921"
             ]
            ],
            "type": "surface"
           }
          ],
          "table": [
           {
            "cells": {
             "fill": {
              "color": "#EBF0F8"
             },
             "line": {
              "color": "white"
             }
            },
            "header": {
             "fill": {
              "color": "#C8D4E3"
             },
             "line": {
              "color": "white"
             }
            },
            "type": "table"
           }
          ]
         },
         "layout": {
          "annotationdefaults": {
           "arrowcolor": "#2a3f5f",
           "arrowhead": 0,
           "arrowwidth": 1
          },
          "autotypenumbers": "strict",
          "coloraxis": {
           "colorbar": {
            "outlinewidth": 0,
            "ticks": ""
           }
          },
          "colorscale": {
           "diverging": [
            [
             0,
             "#8e0152"
            ],
            [
             0.1,
             "#c51b7d"
            ],
            [
             0.2,
             "#de77ae"
            ],
            [
             0.3,
             "#f1b6da"
            ],
            [
             0.4,
             "#fde0ef"
            ],
            [
             0.5,
             "#f7f7f7"
            ],
            [
             0.6,
             "#e6f5d0"
            ],
            [
             0.7,
             "#b8e186"
            ],
            [
             0.8,
             "#7fbc41"
            ],
            [
             0.9,
             "#4d9221"
            ],
            [
             1,
             "#276419"
            ]
           ],
           "sequential": [
            [
             0,
             "#0d0887"
            ],
            [
             0.1111111111111111,
             "#46039f"
            ],
            [
             0.2222222222222222,
             "#7201a8"
            ],
            [
             0.3333333333333333,
             "#9c179e"
            ],
            [
             0.4444444444444444,
             "#bd3786"
            ],
            [
             0.5555555555555556,
             "#d8576b"
            ],
            [
             0.6666666666666666,
             "#ed7953"
            ],
            [
             0.7777777777777778,
             "#fb9f3a"
            ],
            [
             0.8888888888888888,
             "#fdca26"
            ],
            [
             1,
             "#f0f921"
            ]
           ],
           "sequentialminus": [
            [
             0,
             "#0d0887"
            ],
            [
             0.1111111111111111,
             "#46039f"
            ],
            [
             0.2222222222222222,
             "#7201a8"
            ],
            [
             0.3333333333333333,
             "#9c179e"
            ],
            [
             0.4444444444444444,
             "#bd3786"
            ],
            [
             0.5555555555555556,
             "#d8576b"
            ],
            [
             0.6666666666666666,
             "#ed7953"
            ],
            [
             0.7777777777777778,
             "#fb9f3a"
            ],
            [
             0.8888888888888888,
             "#fdca26"
            ],
            [
             1,
             "#f0f921"
            ]
           ]
          },
          "colorway": [
           "#636efa",
           "#EF553B",
           "#00cc96",
           "#ab63fa",
           "#FFA15A",
           "#19d3f3",
           "#FF6692",
           "#B6E880",
           "#FF97FF",
           "#FECB52"
          ],
          "font": {
           "color": "#2a3f5f"
          },
          "geo": {
           "bgcolor": "white",
           "lakecolor": "white",
           "landcolor": "#E5ECF6",
           "showlakes": true,
           "showland": true,
           "subunitcolor": "white"
          },
          "hoverlabel": {
           "align": "left"
          },
          "hovermode": "closest",
          "mapbox": {
           "style": "light"
          },
          "paper_bgcolor": "white",
          "plot_bgcolor": "#E5ECF6",
          "polar": {
           "angularaxis": {
            "gridcolor": "white",
            "linecolor": "white",
            "ticks": ""
           },
           "bgcolor": "#E5ECF6",
           "radialaxis": {
            "gridcolor": "white",
            "linecolor": "white",
            "ticks": ""
           }
          },
          "scene": {
           "xaxis": {
            "backgroundcolor": "#E5ECF6",
            "gridcolor": "white",
            "gridwidth": 2,
            "linecolor": "white",
            "showbackground": true,
            "ticks": "",
            "zerolinecolor": "white"
           },
           "yaxis": {
            "backgroundcolor": "#E5ECF6",
            "gridcolor": "white",
            "gridwidth": 2,
            "linecolor": "white",
            "showbackground": true,
            "ticks": "",
            "zerolinecolor": "white"
           },
           "zaxis": {
            "backgroundcolor": "#E5ECF6",
            "gridcolor": "white",
            "gridwidth": 2,
            "linecolor": "white",
            "showbackground": true,
            "ticks": "",
            "zerolinecolor": "white"
           }
          },
          "shapedefaults": {
           "line": {
            "color": "#2a3f5f"
           }
          },
          "ternary": {
           "aaxis": {
            "gridcolor": "white",
            "linecolor": "white",
            "ticks": ""
           },
           "baxis": {
            "gridcolor": "white",
            "linecolor": "white",
            "ticks": ""
           },
           "bgcolor": "#E5ECF6",
           "caxis": {
            "gridcolor": "white",
            "linecolor": "white",
            "ticks": ""
           }
          },
          "title": {
           "x": 0.05
          },
          "xaxis": {
           "automargin": true,
           "gridcolor": "white",
           "linecolor": "white",
           "ticks": "",
           "title": {
            "standoff": 15
           },
           "zerolinecolor": "white",
           "zerolinewidth": 2
          },
          "yaxis": {
           "automargin": true,
           "gridcolor": "white",
           "linecolor": "white",
           "ticks": "",
           "title": {
            "standoff": 15
           },
           "zerolinecolor": "white",
           "zerolinewidth": 2
          }
         }
        }
       }
      }
     },
     "metadata": {},
     "output_type": "display_data"
    }
   ],
   "source": [
    "plot_point_cloud(point_clouds[11]).show()"
   ]
  },
  {
   "cell_type": "code",
   "execution_count": 6,
   "metadata": {
    "collapsed": true,
    "id": "u0nnzSsOiaoN"
   },
   "outputs": [
    {
     "data": {
      "application/vnd.plotly.v1+json": {
       "config": {
        "plotlyServerURL": "https://plot.ly"
       },
       "data": [
        {
         "marker": {
          "color": [
           0,
           1,
           2,
           3,
           4,
           5,
           6,
           7,
           8,
           9,
           10,
           11,
           12,
           13,
           14,
           15,
           16,
           17,
           18,
           19,
           20,
           21,
           22,
           23,
           24,
           25,
           26,
           27,
           28,
           29,
           30,
           31,
           32,
           33,
           34,
           35,
           36,
           37,
           38,
           39,
           40,
           41,
           42,
           43,
           44,
           45,
           46,
           47,
           48,
           49,
           50,
           51,
           52,
           53,
           54,
           55,
           56,
           57,
           58,
           59,
           60,
           61,
           62,
           63,
           64,
           65,
           66,
           67,
           68,
           69,
           70,
           71,
           72,
           73,
           74,
           75,
           76,
           77,
           78,
           79,
           80,
           81,
           82,
           83,
           84,
           85,
           86,
           87,
           88,
           89,
           90,
           91,
           92,
           93,
           94,
           95,
           96,
           97,
           98,
           99
          ],
          "colorscale": [
           [
            0,
            "#440154"
           ],
           [
            0.1111111111111111,
            "#482878"
           ],
           [
            0.2222222222222222,
            "#3e4989"
           ],
           [
            0.3333333333333333,
            "#31688e"
           ],
           [
            0.4444444444444444,
            "#26828e"
           ],
           [
            0.5555555555555556,
            "#1f9e89"
           ],
           [
            0.6666666666666666,
            "#35b779"
           ],
           [
            0.7777777777777778,
            "#6ece58"
           ],
           [
            0.8888888888888888,
            "#b5de2b"
           ],
           [
            1,
            "#fde725"
           ]
          ],
          "opacity": 0.8,
          "size": 4
         },
         "mode": "markers",
         "type": "scatter3d",
         "x": [
          3.0179337399349704,
          2.5514114391604052,
          1.6127866782130202,
          0.9634709242670592,
          1.3786827153800945,
          2.304036956991108,
          3.0001131170249704,
          2.7629820229969666,
          1.8283246651426737,
          1.111621871624965,
          1.6044233742332188,
          1.3871260509253684,
          0.8858953101857795,
          0.5047868031547142,
          0.7209377679362454,
          1.2638597613108955,
          1.6323167156921499,
          1.4920191576178103,
          0.9801967025061932,
          0.5833474813206722,
          -1.2956842843933085,
          -1.0886295884794543,
          -0.6537299742311463,
          -0.39976479831221073,
          -0.5208977031183821,
          -0.9714573072441623,
          -1.22774508937031,
          -1.175356847484172,
          -0.7768016888490824,
          -0.4032109985474253,
          -2.967330342606446,
          -2.465840234948421,
          -1.5736919230773985,
          -1.0021082386531408,
          -1.3704615561472935,
          -2.2419741987736153,
          -2.916389509295492,
          -2.7076166612209143,
          -1.8727085755176702,
          -1.0624709421600438,
          -1.988154199243604,
          -1.6187606455047017,
          -1.057083679476638,
          -0.678040579366435,
          -0.8404219399321056,
          -1.5354278450518508,
          -1.9154545869976178,
          -1.8111987327402526,
          -1.1971225692814398,
          -0.6917505831912347,
          0.8377322857401523,
          0.6751648330402806,
          0.43183618836934123,
          0.24004681379995124,
          0.37102727021282894,
          0.6762533401625432,
          0.7927833973153943,
          0.820646781811688,
          0.4827084917436481,
          0.28409842764603305,
          2.8843956917822826,
          2.3975588857319723,
          1.4980885505855093,
          0.9855874376020867,
          1.3206788729044365,
          2.1523523236441835,
          2.881976050141736,
          2.69130736412727,
          1.7779822891866965,
          1.010950675294553,
          2.288595604706788,
          1.9177803510078923,
          1.178913761234116,
          0.7168823360128249,
          0.9828656468462833,
          1.7145735324305815,
          2.2750697780753435,
          2.0473061114375626,
          1.4163637767150679,
          0.7944817542613619,
          -0.4197986152693178,
          -0.3861096366107593,
          -0.24889089290753624,
          -0.1608760562466249,
          -0.18028716253856117,
          -0.3406343757633555,
          -0.3876166584820842,
          -0.4011161350842679,
          -0.2891230502801195,
          -0.14456502941289048,
          -2.7655679587324826,
          -2.3201304004471672,
          -1.4261028469719172,
          -0.932442999285817,
          -1.2706023173066003,
          -2.050557738115765,
          -2.709699468185549,
          -2.5007128139320645,
          -1.7179818829768856,
          -1.0304910529937024
         ],
         "y": [
          -0.02196142672789797,
          -0.019888590391302342,
          -0.023911022829268547,
          -0.025206619452720916,
          -0.032118016114697105,
          0.03689136574461315,
          -0.04020520808301878,
          0.02676573866891624,
          0.04231357580102316,
          -0.025185359506653716,
          2.53583054053597,
          2.1149892272179045,
          1.342720462130161,
          0.8845917590871153,
          1.1427506711129174,
          1.9709139586349933,
          2.4603969864670665,
          2.2681276423304864,
          1.5998958970664319,
          0.8989314078723101,
          2.688344402560704,
          2.273546073921316,
          1.4445026180008507,
          0.9669869313915218,
          1.1833852893495946,
          2.0759871472736053,
          2.6910731705684574,
          2.502146177328138,
          1.6952249888658217,
          1.0059126425870861,
          0.4140855956046804,
          0.3141161519769696,
          0.19162269601740647,
          0.18888536885294072,
          0.15667477259652798,
          0.35935583577634544,
          0.40143840336682357,
          0.3434256825713038,
          0.2507455811147964,
          0.1485799151941037,
          -2.261929041784879,
          -1.8853975591663392,
          -1.2224834494017311,
          -0.7292224509973647,
          -0.9707274324869568,
          -1.7763588924106593,
          -2.2199824061721145,
          -2.092343951424127,
          -1.4087695887708112,
          -0.7960148664260827,
          -2.912092212004603,
          -2.4300926513638794,
          -1.550266854906735,
          -0.9240061014365347,
          -1.3345620493264125,
          -2.2309579608251613,
          -2.888202208978253,
          -2.6853142522048157,
          -1.7388829658966114,
          -1.068353579587249,
          -0.8281742972665028,
          -0.6604843138287566,
          -0.4687434010437872,
          -0.2912110805662923,
          -0.32870996115799755,
          -0.6763726750725092,
          -0.8582003725695092,
          -0.8159369808993046,
          -0.48659112560550216,
          -0.2900179883164397,
          2.0200126228361954,
          1.711522211555528,
          1.0013269601112702,
          0.6804574181610089,
          0.8911584558866883,
          1.5240918133233579,
          1.9332120783399334,
          1.7941469019070897,
          1.1970520657588395,
          0.6840613170001733,
          2.96413002894382,
          2.4674572889624535,
          1.6163590298294734,
          0.9943793550813955,
          1.291102835732524,
          2.28433928172562,
          2.965988082910458,
          2.7494045863687173,
          1.79796220341649,
          1.1017634167143353,
          1.2815046342836338,
          1.074171915314563,
          0.6593095239173653,
          0.43603094975925194,
          0.5403231670827963,
          0.950191238784736,
          1.2092386702921198,
          1.1316961642673071,
          0.7245868932858146,
          0.41942480333457194
         ],
         "z": [
          0.0074379472688538735,
          0.8525094597393298,
          0.9048442777434528,
          0.131966029342384,
          -0.7966476408421045,
          -0.9176727472565748,
          -0.29004463771628197,
          0.6948483796051604,
          1.0003657835731852,
          0.4143017851231417,
          0.007263028144008966,
          0.8586155378175041,
          0.9561290810947081,
          0.16757368468376377,
          -0.7509067041577124,
          -1.0083862850085616,
          -0.24486031537980524,
          0.6629809224403602,
          0.9755589717515755,
          0.44616315105224696,
          -0.0285849615193701,
          0.8185479233325119,
          0.917623164560203,
          0.12199905408522595,
          -0.7603284581847507,
          -0.9970459418245171,
          -0.29052289047055513,
          0.6294128570603813,
          1.02933895821863,
          0.40931529187280696,
          -0.04363110484165764,
          0.8670761172259625,
          0.8943190379135054,
          0.09999074594286209,
          -0.7635613654696486,
          -0.9726523903842039,
          -0.2463509701821993,
          0.6666797114672631,
          1.0257887773422467,
          0.4102191741761376,
          0.028672673089230216,
          0.8692239966744439,
          0.8605565340110857,
          0.1316906409554521,
          -0.7814198237481536,
          -0.982756020565077,
          -0.3223927348150312,
          0.6461976284102173,
          0.9834341285669191,
          0.4429876150042596,
          0.02375770461475876,
          0.8639949090794162,
          0.8833218702353649,
          0.1853812813515237,
          -0.7444560664754329,
          -0.9469145023111588,
          -0.31920864784956565,
          0.6881390196253182,
          0.9797505433555858,
          0.3808701496283375,
          0.01375642494008763,
          0.8784183224987258,
          0.9071081009506102,
          0.11210835362543226,
          -0.7616644408762583,
          -0.9104948294235589,
          -0.28263156205730516,
          0.6641208306870137,
          0.9594231548480551,
          0.40051300023634434,
          0.03754124754811783,
          0.875422851100493,
          0.8700540344822575,
          0.15238087787452348,
          -0.7295082076684408,
          -0.9739177744040239,
          -0.2429276359362717,
          0.665240555724336,
          0.9438285873817392,
          0.4107256479722197,
          0.048067521202937835,
          0.8638824001897114,
          0.8721622800993655,
          0.15049074880102206,
          -0.7659231546678591,
          -0.9829670141800528,
          -0.32591578606095345,
          0.637844985885283,
          1.010326170770304,
          0.4151339931785093,
          -0.018333784271999144,
          0.8343114185653134,
          0.953048343504722,
          0.1660596710832911,
          -0.8003578697967884,
          -0.9509941083208292,
          -0.2759410173366334,
          0.6164500030876672,
          1.0137360921652396,
          0.3676615146478837
         ]
        }
       ],
       "layout": {
        "scene": {
         "xaxis": {
          "exponentformat": "e",
          "showexponent": "all",
          "title": {
           "text": "0th"
          },
          "type": "linear"
         },
         "yaxis": {
          "exponentformat": "e",
          "showexponent": "all",
          "title": {
           "text": "1st"
          },
          "type": "linear"
         },
         "zaxis": {
          "exponentformat": "e",
          "showexponent": "all",
          "title": {
           "text": "2nd"
          },
          "type": "linear"
         }
        },
        "template": {
         "data": {
          "bar": [
           {
            "error_x": {
             "color": "#2a3f5f"
            },
            "error_y": {
             "color": "#2a3f5f"
            },
            "marker": {
             "line": {
              "color": "#E5ECF6",
              "width": 0.5
             },
             "pattern": {
              "fillmode": "overlay",
              "size": 10,
              "solidity": 0.2
             }
            },
            "type": "bar"
           }
          ],
          "barpolar": [
           {
            "marker": {
             "line": {
              "color": "#E5ECF6",
              "width": 0.5
             },
             "pattern": {
              "fillmode": "overlay",
              "size": 10,
              "solidity": 0.2
             }
            },
            "type": "barpolar"
           }
          ],
          "carpet": [
           {
            "aaxis": {
             "endlinecolor": "#2a3f5f",
             "gridcolor": "white",
             "linecolor": "white",
             "minorgridcolor": "white",
             "startlinecolor": "#2a3f5f"
            },
            "baxis": {
             "endlinecolor": "#2a3f5f",
             "gridcolor": "white",
             "linecolor": "white",
             "minorgridcolor": "white",
             "startlinecolor": "#2a3f5f"
            },
            "type": "carpet"
           }
          ],
          "choropleth": [
           {
            "colorbar": {
             "outlinewidth": 0,
             "ticks": ""
            },
            "type": "choropleth"
           }
          ],
          "contour": [
           {
            "colorbar": {
             "outlinewidth": 0,
             "ticks": ""
            },
            "colorscale": [
             [
              0,
              "#0d0887"
             ],
             [
              0.1111111111111111,
              "#46039f"
             ],
             [
              0.2222222222222222,
              "#7201a8"
             ],
             [
              0.3333333333333333,
              "#9c179e"
             ],
             [
              0.4444444444444444,
              "#bd3786"
             ],
             [
              0.5555555555555556,
              "#d8576b"
             ],
             [
              0.6666666666666666,
              "#ed7953"
             ],
             [
              0.7777777777777778,
              "#fb9f3a"
             ],
             [
              0.8888888888888888,
              "#fdca26"
             ],
             [
              1,
              "#f0f921"
             ]
            ],
            "type": "contour"
           }
          ],
          "contourcarpet": [
           {
            "colorbar": {
             "outlinewidth": 0,
             "ticks": ""
            },
            "type": "contourcarpet"
           }
          ],
          "heatmap": [
           {
            "colorbar": {
             "outlinewidth": 0,
             "ticks": ""
            },
            "colorscale": [
             [
              0,
              "#0d0887"
             ],
             [
              0.1111111111111111,
              "#46039f"
             ],
             [
              0.2222222222222222,
              "#7201a8"
             ],
             [
              0.3333333333333333,
              "#9c179e"
             ],
             [
              0.4444444444444444,
              "#bd3786"
             ],
             [
              0.5555555555555556,
              "#d8576b"
             ],
             [
              0.6666666666666666,
              "#ed7953"
             ],
             [
              0.7777777777777778,
              "#fb9f3a"
             ],
             [
              0.8888888888888888,
              "#fdca26"
             ],
             [
              1,
              "#f0f921"
             ]
            ],
            "type": "heatmap"
           }
          ],
          "heatmapgl": [
           {
            "colorbar": {
             "outlinewidth": 0,
             "ticks": ""
            },
            "colorscale": [
             [
              0,
              "#0d0887"
             ],
             [
              0.1111111111111111,
              "#46039f"
             ],
             [
              0.2222222222222222,
              "#7201a8"
             ],
             [
              0.3333333333333333,
              "#9c179e"
             ],
             [
              0.4444444444444444,
              "#bd3786"
             ],
             [
              0.5555555555555556,
              "#d8576b"
             ],
             [
              0.6666666666666666,
              "#ed7953"
             ],
             [
              0.7777777777777778,
              "#fb9f3a"
             ],
             [
              0.8888888888888888,
              "#fdca26"
             ],
             [
              1,
              "#f0f921"
             ]
            ],
            "type": "heatmapgl"
           }
          ],
          "histogram": [
           {
            "marker": {
             "pattern": {
              "fillmode": "overlay",
              "size": 10,
              "solidity": 0.2
             }
            },
            "type": "histogram"
           }
          ],
          "histogram2d": [
           {
            "colorbar": {
             "outlinewidth": 0,
             "ticks": ""
            },
            "colorscale": [
             [
              0,
              "#0d0887"
             ],
             [
              0.1111111111111111,
              "#46039f"
             ],
             [
              0.2222222222222222,
              "#7201a8"
             ],
             [
              0.3333333333333333,
              "#9c179e"
             ],
             [
              0.4444444444444444,
              "#bd3786"
             ],
             [
              0.5555555555555556,
              "#d8576b"
             ],
             [
              0.6666666666666666,
              "#ed7953"
             ],
             [
              0.7777777777777778,
              "#fb9f3a"
             ],
             [
              0.8888888888888888,
              "#fdca26"
             ],
             [
              1,
              "#f0f921"
             ]
            ],
            "type": "histogram2d"
           }
          ],
          "histogram2dcontour": [
           {
            "colorbar": {
             "outlinewidth": 0,
             "ticks": ""
            },
            "colorscale": [
             [
              0,
              "#0d0887"
             ],
             [
              0.1111111111111111,
              "#46039f"
             ],
             [
              0.2222222222222222,
              "#7201a8"
             ],
             [
              0.3333333333333333,
              "#9c179e"
             ],
             [
              0.4444444444444444,
              "#bd3786"
             ],
             [
              0.5555555555555556,
              "#d8576b"
             ],
             [
              0.6666666666666666,
              "#ed7953"
             ],
             [
              0.7777777777777778,
              "#fb9f3a"
             ],
             [
              0.8888888888888888,
              "#fdca26"
             ],
             [
              1,
              "#f0f921"
             ]
            ],
            "type": "histogram2dcontour"
           }
          ],
          "mesh3d": [
           {
            "colorbar": {
             "outlinewidth": 0,
             "ticks": ""
            },
            "type": "mesh3d"
           }
          ],
          "parcoords": [
           {
            "line": {
             "colorbar": {
              "outlinewidth": 0,
              "ticks": ""
             }
            },
            "type": "parcoords"
           }
          ],
          "pie": [
           {
            "automargin": true,
            "type": "pie"
           }
          ],
          "scatter": [
           {
            "fillpattern": {
             "fillmode": "overlay",
             "size": 10,
             "solidity": 0.2
            },
            "type": "scatter"
           }
          ],
          "scatter3d": [
           {
            "line": {
             "colorbar": {
              "outlinewidth": 0,
              "ticks": ""
             }
            },
            "marker": {
             "colorbar": {
              "outlinewidth": 0,
              "ticks": ""
             }
            },
            "type": "scatter3d"
           }
          ],
          "scattercarpet": [
           {
            "marker": {
             "colorbar": {
              "outlinewidth": 0,
              "ticks": ""
             }
            },
            "type": "scattercarpet"
           }
          ],
          "scattergeo": [
           {
            "marker": {
             "colorbar": {
              "outlinewidth": 0,
              "ticks": ""
             }
            },
            "type": "scattergeo"
           }
          ],
          "scattergl": [
           {
            "marker": {
             "colorbar": {
              "outlinewidth": 0,
              "ticks": ""
             }
            },
            "type": "scattergl"
           }
          ],
          "scattermapbox": [
           {
            "marker": {
             "colorbar": {
              "outlinewidth": 0,
              "ticks": ""
             }
            },
            "type": "scattermapbox"
           }
          ],
          "scatterpolar": [
           {
            "marker": {
             "colorbar": {
              "outlinewidth": 0,
              "ticks": ""
             }
            },
            "type": "scatterpolar"
           }
          ],
          "scatterpolargl": [
           {
            "marker": {
             "colorbar": {
              "outlinewidth": 0,
              "ticks": ""
             }
            },
            "type": "scatterpolargl"
           }
          ],
          "scatterternary": [
           {
            "marker": {
             "colorbar": {
              "outlinewidth": 0,
              "ticks": ""
             }
            },
            "type": "scatterternary"
           }
          ],
          "surface": [
           {
            "colorbar": {
             "outlinewidth": 0,
             "ticks": ""
            },
            "colorscale": [
             [
              0,
              "#0d0887"
             ],
             [
              0.1111111111111111,
              "#46039f"
             ],
             [
              0.2222222222222222,
              "#7201a8"
             ],
             [
              0.3333333333333333,
              "#9c179e"
             ],
             [
              0.4444444444444444,
              "#bd3786"
             ],
             [
              0.5555555555555556,
              "#d8576b"
             ],
             [
              0.6666666666666666,
              "#ed7953"
             ],
             [
              0.7777777777777778,
              "#fb9f3a"
             ],
             [
              0.8888888888888888,
              "#fdca26"
             ],
             [
              1,
              "#f0f921"
             ]
            ],
            "type": "surface"
           }
          ],
          "table": [
           {
            "cells": {
             "fill": {
              "color": "#EBF0F8"
             },
             "line": {
              "color": "white"
             }
            },
            "header": {
             "fill": {
              "color": "#C8D4E3"
             },
             "line": {
              "color": "white"
             }
            },
            "type": "table"
           }
          ]
         },
         "layout": {
          "annotationdefaults": {
           "arrowcolor": "#2a3f5f",
           "arrowhead": 0,
           "arrowwidth": 1
          },
          "autotypenumbers": "strict",
          "coloraxis": {
           "colorbar": {
            "outlinewidth": 0,
            "ticks": ""
           }
          },
          "colorscale": {
           "diverging": [
            [
             0,
             "#8e0152"
            ],
            [
             0.1,
             "#c51b7d"
            ],
            [
             0.2,
             "#de77ae"
            ],
            [
             0.3,
             "#f1b6da"
            ],
            [
             0.4,
             "#fde0ef"
            ],
            [
             0.5,
             "#f7f7f7"
            ],
            [
             0.6,
             "#e6f5d0"
            ],
            [
             0.7,
             "#b8e186"
            ],
            [
             0.8,
             "#7fbc41"
            ],
            [
             0.9,
             "#4d9221"
            ],
            [
             1,
             "#276419"
            ]
           ],
           "sequential": [
            [
             0,
             "#0d0887"
            ],
            [
             0.1111111111111111,
             "#46039f"
            ],
            [
             0.2222222222222222,
             "#7201a8"
            ],
            [
             0.3333333333333333,
             "#9c179e"
            ],
            [
             0.4444444444444444,
             "#bd3786"
            ],
            [
             0.5555555555555556,
             "#d8576b"
            ],
            [
             0.6666666666666666,
             "#ed7953"
            ],
            [
             0.7777777777777778,
             "#fb9f3a"
            ],
            [
             0.8888888888888888,
             "#fdca26"
            ],
            [
             1,
             "#f0f921"
            ]
           ],
           "sequentialminus": [
            [
             0,
             "#0d0887"
            ],
            [
             0.1111111111111111,
             "#46039f"
            ],
            [
             0.2222222222222222,
             "#7201a8"
            ],
            [
             0.3333333333333333,
             "#9c179e"
            ],
            [
             0.4444444444444444,
             "#bd3786"
            ],
            [
             0.5555555555555556,
             "#d8576b"
            ],
            [
             0.6666666666666666,
             "#ed7953"
            ],
            [
             0.7777777777777778,
             "#fb9f3a"
            ],
            [
             0.8888888888888888,
             "#fdca26"
            ],
            [
             1,
             "#f0f921"
            ]
           ]
          },
          "colorway": [
           "#636efa",
           "#EF553B",
           "#00cc96",
           "#ab63fa",
           "#FFA15A",
           "#19d3f3",
           "#FF6692",
           "#B6E880",
           "#FF97FF",
           "#FECB52"
          ],
          "font": {
           "color": "#2a3f5f"
          },
          "geo": {
           "bgcolor": "white",
           "lakecolor": "white",
           "landcolor": "#E5ECF6",
           "showlakes": true,
           "showland": true,
           "subunitcolor": "white"
          },
          "hoverlabel": {
           "align": "left"
          },
          "hovermode": "closest",
          "mapbox": {
           "style": "light"
          },
          "paper_bgcolor": "white",
          "plot_bgcolor": "#E5ECF6",
          "polar": {
           "angularaxis": {
            "gridcolor": "white",
            "linecolor": "white",
            "ticks": ""
           },
           "bgcolor": "#E5ECF6",
           "radialaxis": {
            "gridcolor": "white",
            "linecolor": "white",
            "ticks": ""
           }
          },
          "scene": {
           "xaxis": {
            "backgroundcolor": "#E5ECF6",
            "gridcolor": "white",
            "gridwidth": 2,
            "linecolor": "white",
            "showbackground": true,
            "ticks": "",
            "zerolinecolor": "white"
           },
           "yaxis": {
            "backgroundcolor": "#E5ECF6",
            "gridcolor": "white",
            "gridwidth": 2,
            "linecolor": "white",
            "showbackground": true,
            "ticks": "",
            "zerolinecolor": "white"
           },
           "zaxis": {
            "backgroundcolor": "#E5ECF6",
            "gridcolor": "white",
            "gridwidth": 2,
            "linecolor": "white",
            "showbackground": true,
            "ticks": "",
            "zerolinecolor": "white"
           }
          },
          "shapedefaults": {
           "line": {
            "color": "#2a3f5f"
           }
          },
          "ternary": {
           "aaxis": {
            "gridcolor": "white",
            "linecolor": "white",
            "ticks": ""
           },
           "baxis": {
            "gridcolor": "white",
            "linecolor": "white",
            "ticks": ""
           },
           "bgcolor": "#E5ECF6",
           "caxis": {
            "gridcolor": "white",
            "linecolor": "white",
            "ticks": ""
           }
          },
          "title": {
           "x": 0.05
          },
          "xaxis": {
           "automargin": true,
           "gridcolor": "white",
           "linecolor": "white",
           "ticks": "",
           "title": {
            "standoff": 15
           },
           "zerolinecolor": "white",
           "zerolinewidth": 2
          },
          "yaxis": {
           "automargin": true,
           "gridcolor": "white",
           "linecolor": "white",
           "ticks": "",
           "title": {
            "standoff": 15
           },
           "zerolinecolor": "white",
           "zerolinewidth": 2
          }
         }
        }
       }
      }
     },
     "metadata": {},
     "output_type": "display_data"
    }
   ],
   "source": [
    "plot_point_cloud(point_clouds[20]).show()"
   ]
  },
  {
   "cell_type": "code",
   "execution_count": 7,
   "metadata": {
    "collapsed": true,
    "id": "sXVmwH_uibhC"
   },
   "outputs": [
    {
     "data": {
      "application/vnd.plotly.v1+json": {
       "config": {
        "plotlyServerURL": "https://plot.ly"
       },
       "data": [
        {
         "marker": {
          "color": [
           0,
           1,
           2,
           3,
           4,
           5,
           6,
           7,
           8,
           9,
           10,
           11,
           12,
           13,
           14,
           15,
           16,
           17,
           18,
           19,
           20,
           21,
           22,
           23,
           24,
           25,
           26,
           27,
           28,
           29,
           30,
           31,
           32,
           33,
           34,
           35,
           36,
           37,
           38,
           39,
           40,
           41,
           42,
           43,
           44,
           45,
           46,
           47,
           48,
           49,
           50,
           51,
           52,
           53,
           54,
           55,
           56,
           57,
           58,
           59,
           60,
           61,
           62,
           63,
           64,
           65,
           66,
           67,
           68,
           69,
           70,
           71,
           72,
           73,
           74,
           75,
           76,
           77,
           78,
           79,
           80,
           81,
           82,
           83,
           84,
           85,
           86,
           87,
           88,
           89,
           90,
           91,
           92,
           93,
           94,
           95,
           96,
           97,
           98,
           99
          ],
          "colorscale": [
           [
            0,
            "#440154"
           ],
           [
            0.1111111111111111,
            "#482878"
           ],
           [
            0.2222222222222222,
            "#3e4989"
           ],
           [
            0.3333333333333333,
            "#31688e"
           ],
           [
            0.4444444444444444,
            "#26828e"
           ],
           [
            0.5555555555555556,
            "#1f9e89"
           ],
           [
            0.6666666666666666,
            "#35b779"
           ],
           [
            0.7777777777777778,
            "#6ece58"
           ],
           [
            0.8888888888888888,
            "#b5de2b"
           ],
           [
            1,
            "#fde725"
           ]
          ],
          "opacity": 0.8,
          "size": 4
         },
         "mode": "markers",
         "type": "scatter3d",
         "x": [
          -1,
          -1,
          -1,
          -1,
          -1,
          -1,
          -1,
          -1,
          -1,
          -1,
          -0.7777777777777778,
          -0.7777777777777778,
          -0.7777777777777778,
          -0.7777777777777778,
          -0.7777777777777778,
          -0.7777777777777778,
          -0.7777777777777778,
          -0.7777777777777778,
          -0.7777777777777778,
          -0.7777777777777778,
          -0.5555555555555556,
          -0.5555555555555556,
          -0.5555555555555556,
          -0.5555555555555556,
          -0.5555555555555556,
          -0.5555555555555556,
          -0.5555555555555556,
          -0.5555555555555556,
          -0.5555555555555556,
          -0.5555555555555556,
          -0.33333333333333337,
          -0.33333333333333337,
          -0.33333333333333337,
          -0.33333333333333337,
          -0.33333333333333337,
          -0.33333333333333337,
          -0.33333333333333337,
          -0.33333333333333337,
          -0.33333333333333337,
          -0.33333333333333337,
          -0.11111111111111116,
          -0.11111111111111116,
          -0.11111111111111116,
          -0.11111111111111116,
          -0.11111111111111116,
          -0.11111111111111116,
          -0.11111111111111116,
          -0.11111111111111116,
          -0.11111111111111116,
          -0.11111111111111116,
          0.11111111111111116,
          0.11111111111111116,
          0.11111111111111116,
          0.11111111111111116,
          0.11111111111111116,
          0.11111111111111116,
          0.11111111111111116,
          0.11111111111111116,
          0.11111111111111116,
          0.11111111111111116,
          0.33333333333333326,
          0.33333333333333326,
          0.33333333333333326,
          0.33333333333333326,
          0.33333333333333326,
          0.33333333333333326,
          0.33333333333333326,
          0.33333333333333326,
          0.33333333333333326,
          0.33333333333333326,
          0.5555555555555554,
          0.5555555555555554,
          0.5555555555555554,
          0.5555555555555554,
          0.5555555555555554,
          0.5555555555555554,
          0.5555555555555554,
          0.5555555555555554,
          0.5555555555555554,
          0.5555555555555554,
          0.7777777777777777,
          0.7777777777777777,
          0.7777777777777777,
          0.7777777777777777,
          0.7777777777777777,
          0.7777777777777777,
          0.7777777777777777,
          0.7777777777777777,
          0.7777777777777777,
          0.7777777777777777,
          1,
          1,
          1,
          1,
          1,
          1,
          1,
          1,
          1,
          1
         ],
         "y": [
          -1,
          -0.7777777777777778,
          -0.5555555555555556,
          -0.33333333333333337,
          -0.11111111111111116,
          0.11111111111111116,
          0.33333333333333326,
          0.5555555555555554,
          0.7777777777777777,
          1,
          -1,
          -0.7777777777777778,
          -0.5555555555555556,
          -0.33333333333333337,
          -0.11111111111111116,
          0.11111111111111116,
          0.33333333333333326,
          0.5555555555555554,
          0.7777777777777777,
          1,
          -1,
          -0.7777777777777778,
          -0.5555555555555556,
          -0.33333333333333337,
          -0.11111111111111116,
          0.11111111111111116,
          0.33333333333333326,
          0.5555555555555554,
          0.7777777777777777,
          1,
          -1,
          -0.7777777777777778,
          -0.5555555555555556,
          -0.33333333333333337,
          -0.11111111111111116,
          0.11111111111111116,
          0.33333333333333326,
          0.5555555555555554,
          0.7777777777777777,
          1,
          -1,
          -0.7777777777777778,
          -0.5555555555555556,
          -0.33333333333333337,
          -0.11111111111111116,
          0.11111111111111116,
          0.33333333333333326,
          0.5555555555555554,
          0.7777777777777777,
          1,
          -1,
          -0.7777777777777778,
          -0.5555555555555556,
          -0.33333333333333337,
          -0.11111111111111116,
          0.11111111111111116,
          0.33333333333333326,
          0.5555555555555554,
          0.7777777777777777,
          1,
          -1,
          -0.7777777777777778,
          -0.5555555555555556,
          -0.33333333333333337,
          -0.11111111111111116,
          0.11111111111111116,
          0.33333333333333326,
          0.5555555555555554,
          0.7777777777777777,
          1,
          -1,
          -0.7777777777777778,
          -0.5555555555555556,
          -0.33333333333333337,
          -0.11111111111111116,
          0.11111111111111116,
          0.33333333333333326,
          0.5555555555555554,
          0.7777777777777777,
          1,
          -1,
          -0.7777777777777778,
          -0.5555555555555556,
          -0.33333333333333337,
          -0.11111111111111116,
          0.11111111111111116,
          0.33333333333333326,
          0.5555555555555554,
          0.7777777777777777,
          1,
          -1,
          -0.7777777777777778,
          -0.5555555555555556,
          -0.33333333333333337,
          -0.11111111111111116,
          0.11111111111111116,
          0.33333333333333326,
          0.5555555555555554,
          0.7777777777777777,
          1
         ],
         "z": [
          -5,
          -4.111111111111111,
          -3.2222222222222223,
          -2.3333333333333335,
          -1.4444444444444446,
          -0.5555555555555554,
          0.33333333333333304,
          1.2222222222222214,
          2.1111111111111107,
          3,
          -4.777777777777778,
          -3.888888888888889,
          -3,
          -2.111111111111111,
          -1.2222222222222223,
          -0.33333333333333315,
          0.5555555555555552,
          1.4444444444444438,
          2.333333333333333,
          3.2222222222222223,
          -4.555555555555555,
          -3.666666666666667,
          -2.7777777777777777,
          -1.888888888888889,
          -1.0000000000000002,
          -0.11111111111111094,
          0.7777777777777775,
          1.6666666666666659,
          2.5555555555555554,
          3.4444444444444446,
          -4.333333333333333,
          -3.4444444444444446,
          -2.555555555555556,
          -1.666666666666667,
          -0.777777777777778,
          0.11111111111111127,
          0.9999999999999997,
          1.888888888888888,
          2.7777777777777772,
          3.6666666666666665,
          -4.111111111111111,
          -3.2222222222222223,
          -2.3333333333333335,
          -1.4444444444444446,
          -0.5555555555555558,
          0.3333333333333335,
          1.2222222222222219,
          2.1111111111111103,
          2.9999999999999996,
          3.888888888888889,
          -3.888888888888889,
          -3,
          -2.111111111111111,
          -1.2222222222222223,
          -0.3333333333333335,
          0.5555555555555558,
          1.4444444444444442,
          2.3333333333333326,
          3.222222222222222,
          4.111111111111111,
          -3.666666666666667,
          -2.7777777777777777,
          -1.888888888888889,
          -1.0000000000000002,
          -0.11111111111111138,
          0.7777777777777779,
          1.6666666666666663,
          2.5555555555555545,
          3.4444444444444438,
          4.333333333333333,
          -3.4444444444444446,
          -2.555555555555556,
          -1.666666666666667,
          -0.7777777777777781,
          0.11111111111111072,
          1,
          1.8888888888888884,
          2.777777777777777,
          3.666666666666666,
          4.555555555555555,
          -3.2222222222222223,
          -2.3333333333333335,
          -1.4444444444444446,
          -0.5555555555555558,
          0.33333333333333304,
          1.2222222222222223,
          2.1111111111111107,
          2.999999999999999,
          3.8888888888888884,
          4.777777777777778,
          -3,
          -2.111111111111111,
          -1.2222222222222223,
          -0.3333333333333335,
          0.5555555555555554,
          1.4444444444444446,
          2.333333333333333,
          3.2222222222222214,
          4.111111111111111,
          5
         ]
        }
       ],
       "layout": {
        "scene": {
         "xaxis": {
          "exponentformat": "e",
          "showexponent": "all",
          "title": {
           "text": "0th"
          },
          "type": "linear"
         },
         "yaxis": {
          "exponentformat": "e",
          "showexponent": "all",
          "title": {
           "text": "1st"
          },
          "type": "linear"
         },
         "zaxis": {
          "exponentformat": "e",
          "showexponent": "all",
          "title": {
           "text": "2nd"
          },
          "type": "linear"
         }
        },
        "template": {
         "data": {
          "bar": [
           {
            "error_x": {
             "color": "#2a3f5f"
            },
            "error_y": {
             "color": "#2a3f5f"
            },
            "marker": {
             "line": {
              "color": "#E5ECF6",
              "width": 0.5
             },
             "pattern": {
              "fillmode": "overlay",
              "size": 10,
              "solidity": 0.2
             }
            },
            "type": "bar"
           }
          ],
          "barpolar": [
           {
            "marker": {
             "line": {
              "color": "#E5ECF6",
              "width": 0.5
             },
             "pattern": {
              "fillmode": "overlay",
              "size": 10,
              "solidity": 0.2
             }
            },
            "type": "barpolar"
           }
          ],
          "carpet": [
           {
            "aaxis": {
             "endlinecolor": "#2a3f5f",
             "gridcolor": "white",
             "linecolor": "white",
             "minorgridcolor": "white",
             "startlinecolor": "#2a3f5f"
            },
            "baxis": {
             "endlinecolor": "#2a3f5f",
             "gridcolor": "white",
             "linecolor": "white",
             "minorgridcolor": "white",
             "startlinecolor": "#2a3f5f"
            },
            "type": "carpet"
           }
          ],
          "choropleth": [
           {
            "colorbar": {
             "outlinewidth": 0,
             "ticks": ""
            },
            "type": "choropleth"
           }
          ],
          "contour": [
           {
            "colorbar": {
             "outlinewidth": 0,
             "ticks": ""
            },
            "colorscale": [
             [
              0,
              "#0d0887"
             ],
             [
              0.1111111111111111,
              "#46039f"
             ],
             [
              0.2222222222222222,
              "#7201a8"
             ],
             [
              0.3333333333333333,
              "#9c179e"
             ],
             [
              0.4444444444444444,
              "#bd3786"
             ],
             [
              0.5555555555555556,
              "#d8576b"
             ],
             [
              0.6666666666666666,
              "#ed7953"
             ],
             [
              0.7777777777777778,
              "#fb9f3a"
             ],
             [
              0.8888888888888888,
              "#fdca26"
             ],
             [
              1,
              "#f0f921"
             ]
            ],
            "type": "contour"
           }
          ],
          "contourcarpet": [
           {
            "colorbar": {
             "outlinewidth": 0,
             "ticks": ""
            },
            "type": "contourcarpet"
           }
          ],
          "heatmap": [
           {
            "colorbar": {
             "outlinewidth": 0,
             "ticks": ""
            },
            "colorscale": [
             [
              0,
              "#0d0887"
             ],
             [
              0.1111111111111111,
              "#46039f"
             ],
             [
              0.2222222222222222,
              "#7201a8"
             ],
             [
              0.3333333333333333,
              "#9c179e"
             ],
             [
              0.4444444444444444,
              "#bd3786"
             ],
             [
              0.5555555555555556,
              "#d8576b"
             ],
             [
              0.6666666666666666,
              "#ed7953"
             ],
             [
              0.7777777777777778,
              "#fb9f3a"
             ],
             [
              0.8888888888888888,
              "#fdca26"
             ],
             [
              1,
              "#f0f921"
             ]
            ],
            "type": "heatmap"
           }
          ],
          "heatmapgl": [
           {
            "colorbar": {
             "outlinewidth": 0,
             "ticks": ""
            },
            "colorscale": [
             [
              0,
              "#0d0887"
             ],
             [
              0.1111111111111111,
              "#46039f"
             ],
             [
              0.2222222222222222,
              "#7201a8"
             ],
             [
              0.3333333333333333,
              "#9c179e"
             ],
             [
              0.4444444444444444,
              "#bd3786"
             ],
             [
              0.5555555555555556,
              "#d8576b"
             ],
             [
              0.6666666666666666,
              "#ed7953"
             ],
             [
              0.7777777777777778,
              "#fb9f3a"
             ],
             [
              0.8888888888888888,
              "#fdca26"
             ],
             [
              1,
              "#f0f921"
             ]
            ],
            "type": "heatmapgl"
           }
          ],
          "histogram": [
           {
            "marker": {
             "pattern": {
              "fillmode": "overlay",
              "size": 10,
              "solidity": 0.2
             }
            },
            "type": "histogram"
           }
          ],
          "histogram2d": [
           {
            "colorbar": {
             "outlinewidth": 0,
             "ticks": ""
            },
            "colorscale": [
             [
              0,
              "#0d0887"
             ],
             [
              0.1111111111111111,
              "#46039f"
             ],
             [
              0.2222222222222222,
              "#7201a8"
             ],
             [
              0.3333333333333333,
              "#9c179e"
             ],
             [
              0.4444444444444444,
              "#bd3786"
             ],
             [
              0.5555555555555556,
              "#d8576b"
             ],
             [
              0.6666666666666666,
              "#ed7953"
             ],
             [
              0.7777777777777778,
              "#fb9f3a"
             ],
             [
              0.8888888888888888,
              "#fdca26"
             ],
             [
              1,
              "#f0f921"
             ]
            ],
            "type": "histogram2d"
           }
          ],
          "histogram2dcontour": [
           {
            "colorbar": {
             "outlinewidth": 0,
             "ticks": ""
            },
            "colorscale": [
             [
              0,
              "#0d0887"
             ],
             [
              0.1111111111111111,
              "#46039f"
             ],
             [
              0.2222222222222222,
              "#7201a8"
             ],
             [
              0.3333333333333333,
              "#9c179e"
             ],
             [
              0.4444444444444444,
              "#bd3786"
             ],
             [
              0.5555555555555556,
              "#d8576b"
             ],
             [
              0.6666666666666666,
              "#ed7953"
             ],
             [
              0.7777777777777778,
              "#fb9f3a"
             ],
             [
              0.8888888888888888,
              "#fdca26"
             ],
             [
              1,
              "#f0f921"
             ]
            ],
            "type": "histogram2dcontour"
           }
          ],
          "mesh3d": [
           {
            "colorbar": {
             "outlinewidth": 0,
             "ticks": ""
            },
            "type": "mesh3d"
           }
          ],
          "parcoords": [
           {
            "line": {
             "colorbar": {
              "outlinewidth": 0,
              "ticks": ""
             }
            },
            "type": "parcoords"
           }
          ],
          "pie": [
           {
            "automargin": true,
            "type": "pie"
           }
          ],
          "scatter": [
           {
            "fillpattern": {
             "fillmode": "overlay",
             "size": 10,
             "solidity": 0.2
            },
            "type": "scatter"
           }
          ],
          "scatter3d": [
           {
            "line": {
             "colorbar": {
              "outlinewidth": 0,
              "ticks": ""
             }
            },
            "marker": {
             "colorbar": {
              "outlinewidth": 0,
              "ticks": ""
             }
            },
            "type": "scatter3d"
           }
          ],
          "scattercarpet": [
           {
            "marker": {
             "colorbar": {
              "outlinewidth": 0,
              "ticks": ""
             }
            },
            "type": "scattercarpet"
           }
          ],
          "scattergeo": [
           {
            "marker": {
             "colorbar": {
              "outlinewidth": 0,
              "ticks": ""
             }
            },
            "type": "scattergeo"
           }
          ],
          "scattergl": [
           {
            "marker": {
             "colorbar": {
              "outlinewidth": 0,
              "ticks": ""
             }
            },
            "type": "scattergl"
           }
          ],
          "scattermapbox": [
           {
            "marker": {
             "colorbar": {
              "outlinewidth": 0,
              "ticks": ""
             }
            },
            "type": "scattermapbox"
           }
          ],
          "scatterpolar": [
           {
            "marker": {
             "colorbar": {
              "outlinewidth": 0,
              "ticks": ""
             }
            },
            "type": "scatterpolar"
           }
          ],
          "scatterpolargl": [
           {
            "marker": {
             "colorbar": {
              "outlinewidth": 0,
              "ticks": ""
             }
            },
            "type": "scatterpolargl"
           }
          ],
          "scatterternary": [
           {
            "marker": {
             "colorbar": {
              "outlinewidth": 0,
              "ticks": ""
             }
            },
            "type": "scatterternary"
           }
          ],
          "surface": [
           {
            "colorbar": {
             "outlinewidth": 0,
             "ticks": ""
            },
            "colorscale": [
             [
              0,
              "#0d0887"
             ],
             [
              0.1111111111111111,
              "#46039f"
             ],
             [
              0.2222222222222222,
              "#7201a8"
             ],
             [
              0.3333333333333333,
              "#9c179e"
             ],
             [
              0.4444444444444444,
              "#bd3786"
             ],
             [
              0.5555555555555556,
              "#d8576b"
             ],
             [
              0.6666666666666666,
              "#ed7953"
             ],
             [
              0.7777777777777778,
              "#fb9f3a"
             ],
             [
              0.8888888888888888,
              "#fdca26"
             ],
             [
              1,
              "#f0f921"
             ]
            ],
            "type": "surface"
           }
          ],
          "table": [
           {
            "cells": {
             "fill": {
              "color": "#EBF0F8"
             },
             "line": {
              "color": "white"
             }
            },
            "header": {
             "fill": {
              "color": "#C8D4E3"
             },
             "line": {
              "color": "white"
             }
            },
            "type": "table"
           }
          ]
         },
         "layout": {
          "annotationdefaults": {
           "arrowcolor": "#2a3f5f",
           "arrowhead": 0,
           "arrowwidth": 1
          },
          "autotypenumbers": "strict",
          "coloraxis": {
           "colorbar": {
            "outlinewidth": 0,
            "ticks": ""
           }
          },
          "colorscale": {
           "diverging": [
            [
             0,
             "#8e0152"
            ],
            [
             0.1,
             "#c51b7d"
            ],
            [
             0.2,
             "#de77ae"
            ],
            [
             0.3,
             "#f1b6da"
            ],
            [
             0.4,
             "#fde0ef"
            ],
            [
             0.5,
             "#f7f7f7"
            ],
            [
             0.6,
             "#e6f5d0"
            ],
            [
             0.7,
             "#b8e186"
            ],
            [
             0.8,
             "#7fbc41"
            ],
            [
             0.9,
             "#4d9221"
            ],
            [
             1,
             "#276419"
            ]
           ],
           "sequential": [
            [
             0,
             "#0d0887"
            ],
            [
             0.1111111111111111,
             "#46039f"
            ],
            [
             0.2222222222222222,
             "#7201a8"
            ],
            [
             0.3333333333333333,
             "#9c179e"
            ],
            [
             0.4444444444444444,
             "#bd3786"
            ],
            [
             0.5555555555555556,
             "#d8576b"
            ],
            [
             0.6666666666666666,
             "#ed7953"
            ],
            [
             0.7777777777777778,
             "#fb9f3a"
            ],
            [
             0.8888888888888888,
             "#fdca26"
            ],
            [
             1,
             "#f0f921"
            ]
           ],
           "sequentialminus": [
            [
             0,
             "#0d0887"
            ],
            [
             0.1111111111111111,
             "#46039f"
            ],
            [
             0.2222222222222222,
             "#7201a8"
            ],
            [
             0.3333333333333333,
             "#9c179e"
            ],
            [
             0.4444444444444444,
             "#bd3786"
            ],
            [
             0.5555555555555556,
             "#d8576b"
            ],
            [
             0.6666666666666666,
             "#ed7953"
            ],
            [
             0.7777777777777778,
             "#fb9f3a"
            ],
            [
             0.8888888888888888,
             "#fdca26"
            ],
            [
             1,
             "#f0f921"
            ]
           ]
          },
          "colorway": [
           "#636efa",
           "#EF553B",
           "#00cc96",
           "#ab63fa",
           "#FFA15A",
           "#19d3f3",
           "#FF6692",
           "#B6E880",
           "#FF97FF",
           "#FECB52"
          ],
          "font": {
           "color": "#2a3f5f"
          },
          "geo": {
           "bgcolor": "white",
           "lakecolor": "white",
           "landcolor": "#E5ECF6",
           "showlakes": true,
           "showland": true,
           "subunitcolor": "white"
          },
          "hoverlabel": {
           "align": "left"
          },
          "hovermode": "closest",
          "mapbox": {
           "style": "light"
          },
          "paper_bgcolor": "white",
          "plot_bgcolor": "#E5ECF6",
          "polar": {
           "angularaxis": {
            "gridcolor": "white",
            "linecolor": "white",
            "ticks": ""
           },
           "bgcolor": "#E5ECF6",
           "radialaxis": {
            "gridcolor": "white",
            "linecolor": "white",
            "ticks": ""
           }
          },
          "scene": {
           "xaxis": {
            "backgroundcolor": "#E5ECF6",
            "gridcolor": "white",
            "gridwidth": 2,
            "linecolor": "white",
            "showbackground": true,
            "ticks": "",
            "zerolinecolor": "white"
           },
           "yaxis": {
            "backgroundcolor": "#E5ECF6",
            "gridcolor": "white",
            "gridwidth": 2,
            "linecolor": "white",
            "showbackground": true,
            "ticks": "",
            "zerolinecolor": "white"
           },
           "zaxis": {
            "backgroundcolor": "#E5ECF6",
            "gridcolor": "white",
            "gridwidth": 2,
            "linecolor": "white",
            "showbackground": true,
            "ticks": "",
            "zerolinecolor": "white"
           }
          },
          "shapedefaults": {
           "line": {
            "color": "#2a3f5f"
           }
          },
          "ternary": {
           "aaxis": {
            "gridcolor": "white",
            "linecolor": "white",
            "ticks": ""
           },
           "baxis": {
            "gridcolor": "white",
            "linecolor": "white",
            "ticks": ""
           },
           "bgcolor": "#E5ECF6",
           "caxis": {
            "gridcolor": "white",
            "linecolor": "white",
            "ticks": ""
           }
          },
          "title": {
           "x": 0.05
          },
          "xaxis": {
           "automargin": true,
           "gridcolor": "white",
           "linecolor": "white",
           "ticks": "",
           "title": {
            "standoff": 15
           },
           "zerolinecolor": "white",
           "zerolinewidth": 2
          },
          "yaxis": {
           "automargin": true,
           "gridcolor": "white",
           "linecolor": "white",
           "ticks": "",
           "title": {
            "standoff": 15
           },
           "zerolinecolor": "white",
           "zerolinewidth": 2
          }
         }
        }
       }
      }
     },
     "metadata": {},
     "output_type": "display_data"
    }
   ],
   "source": [
    "plot_point_cloud(point_clouds[-1]).show()"
   ]
  },
  {
   "cell_type": "markdown",
   "metadata": {},
   "source": [
    "Below we setup the simplex routine to generate a simplicial complex from each point cloud. In this case, we generate the VietorisRips complex from each point cloud. Finally, use the `fit_transform` function to generate the Rips complex and the persistence diagram for each of our point clouds in dimensions 0, 1 and 2. "
   ]
  },
  {
   "cell_type": "code",
   "execution_count": 8,
   "metadata": {
    "cellView": "form",
    "id": "QHyq2WEwirW7"
   },
   "outputs": [],
   "source": [
    "# Track connected components, loops, and voids\n",
    "homology_dimensions = [0, 1, 2]\n",
    "\n",
    "# Collapse edges to speed up H2 persistence calculation!\n",
    "persistence = VietorisRipsPersistence(\n",
    "    metric = \"euclidean\",\n",
    "    homology_dimensions=homology_dimensions,\n",
    "    n_jobs=6,\n",
    "    collapse_edges=False\n",
    ")\n",
    "\n",
    "diagrams = persistence.fit_transform(point_clouds)"
   ]
  },
  {
   "cell_type": "markdown",
   "metadata": {},
   "source": [
    "Here are some of the persistence diagrams. Note: The off-diagonal points denote the persistence of a homology in the corresponding dimension. The further away from the diagonal a point is denotes how strong the persistence is. A strong dimension 0 persistence indicates the presence of connected components, a strong dimension 1 persistence indicates the presence of loops in our data and finally a strong dimension 2 persistence indicates the presence of voids in our data. Reality check: For the circle, we need to see strong dimension 0 and dimension 1 persistence, while for the sphere we need to see strong dimension 0 and dimension 2 persistence. "
   ]
  },
  {
   "cell_type": "code",
   "execution_count": 9,
   "metadata": {
    "id": "4_DWKjPOiye4"
   },
   "outputs": [
    {
     "data": {
      "application/vnd.plotly.v1+json": {
       "config": {
        "plotlyServerURL": "https://plot.ly"
       },
       "data": [
        {
         "hoverinfo": "none",
         "line": {
          "color": "black",
          "dash": "dash",
          "width": 1
         },
         "mode": "lines",
         "showlegend": false,
         "type": "scatter",
         "x": [
          -0.03527645826339722,
          1.7990993714332582
         ],
         "y": [
          -0.03527645826339722,
          1.7990993714332582
         ]
        },
        {
         "hoverinfo": "text",
         "hovertext": [
          "(0.0, 0.00854545459151268)",
          "(0.0, 0.010919020511209965)",
          "(0.0, 0.011640392243862152)",
          "(0.0, 0.014413021504878998)",
          "(0.0, 0.01500453520566225)",
          "(0.0, 0.015815695747733116)",
          "(0.0, 0.017119275406003)",
          "(0.0, 0.0187291968613863)",
          "(0.0, 0.020698385313153267)",
          "(0.0, 0.021594777703285217)",
          "(0.0, 0.02261263318359852)",
          "(0.0, 0.02374253235757351)",
          "(0.0, 0.026784442365169525)",
          "(0.0, 0.026903320103883743)",
          "(0.0, 0.028200481086969376)",
          "(0.0, 0.0283622108399868)",
          "(0.0, 0.02917998656630516)",
          "(0.0, 0.031360190361738205)",
          "(0.0, 0.03212551772594452)",
          "(0.0, 0.034777700901031494)",
          "(0.0, 0.03509368747472763)",
          "(0.0, 0.03638618811964989)",
          "(0.0, 0.038410384207963943)",
          "(0.0, 0.04494627192616463)",
          "(0.0, 0.045514509081840515)",
          "(0.0, 0.04592699185013771)",
          "(0.0, 0.04595045745372772)",
          "(0.0, 0.04682607203722)",
          "(0.0, 0.04787078872323036)",
          "(0.0, 0.048237159848213196)",
          "(0.0, 0.04953884705901146)",
          "(0.0, 0.04988152161240578)",
          "(0.0, 0.051238495856523514)",
          "(0.0, 0.05165082961320877)",
          "(0.0, 0.05198316648602486)",
          "(0.0, 0.05709344893693924)",
          "(0.0, 0.05716651678085327)",
          "(0.0, 0.05738085135817528)",
          "(0.0, 0.057630933821201324)",
          "(0.0, 0.059897031635046005)",
          "(0.0, 0.061235006898641586)",
          "(0.0, 0.06140366941690445)",
          "(0.0, 0.06437142938375473)",
          "(0.0, 0.06480487436056137)",
          "(0.0, 0.06495991349220276)",
          "(0.0, 0.06550174951553345)",
          "(0.0, 0.06640452146530151)",
          "(0.0, 0.06920408457517624)",
          "(0.0, 0.06927882134914398)",
          "(0.0, 0.07129227370023727)",
          "(0.0, 0.07358738780021667)",
          "(0.0, 0.07468604296445847)",
          "(0.0, 0.07625211775302887)",
          "(0.0, 0.0778064951300621)",
          "(0.0, 0.07841772586107254)",
          "(0.0, 0.08022015541791916)",
          "(0.0, 0.0832376778125763)",
          "(0.0, 0.08496902137994766)",
          "(0.0, 0.08731155097484589)",
          "(0.0, 0.09000798314809799)",
          "(0.0, 0.09391055256128311)",
          "(0.0, 0.09443774074316025)",
          "(0.0, 0.09508740901947021)",
          "(0.0, 0.09544561803340912)",
          "(0.0, 0.0969279408454895)",
          "(0.0, 0.09830982983112335)",
          "(0.0, 0.09923326224088669)",
          "(0.0, 0.10177811235189438)",
          "(0.0, 0.10336924344301224)",
          "(0.0, 0.10496938973665237)",
          "(0.0, 0.1071324348449707)",
          "(0.0, 0.10868450254201889)",
          "(0.0, 0.10973294079303741)",
          "(0.0, 0.11177718639373779)",
          "(0.0, 0.11201716959476471)",
          "(0.0, 0.11265278607606888)",
          "(0.0, 0.11303798109292984)",
          "(0.0, 0.11518297344446182)",
          "(0.0, 0.11814862489700317)",
          "(0.0, 0.11866705119609833)",
          "(0.0, 0.11913973838090897)",
          "(0.0, 0.11930935084819794)",
          "(0.0, 0.11934784054756165)",
          "(0.0, 0.11940084397792816)",
          "(0.0, 0.11978783458471298)",
          "(0.0, 0.12313423305749893)",
          "(0.0, 0.12502065300941467)",
          "(0.0, 0.12673112750053406)",
          "(0.0, 0.12734031677246094)",
          "(0.0, 0.1275797188282013)",
          "(0.0, 0.13028012216091156)",
          "(0.0, 0.1330421268939972)",
          "(0.0, 0.13321799039840698)",
          "(0.0, 0.13410544395446777)",
          "(0.0, 0.1384274810552597)",
          "(0.0, 0.1437205821275711)",
          "(0.0, 0.14448997378349304)",
          "(0.0, 0.14620144665241241)",
          "(0.0, 0.1479329615831375)"
         ],
         "mode": "markers",
         "name": "H0",
         "type": "scatter",
         "x": [
          0,
          0,
          0,
          0,
          0,
          0,
          0,
          0,
          0,
          0,
          0,
          0,
          0,
          0,
          0,
          0,
          0,
          0,
          0,
          0,
          0,
          0,
          0,
          0,
          0,
          0,
          0,
          0,
          0,
          0,
          0,
          0,
          0,
          0,
          0,
          0,
          0,
          0,
          0,
          0,
          0,
          0,
          0,
          0,
          0,
          0,
          0,
          0,
          0,
          0,
          0,
          0,
          0,
          0,
          0,
          0,
          0,
          0,
          0,
          0,
          0,
          0,
          0,
          0,
          0,
          0,
          0,
          0,
          0,
          0,
          0,
          0,
          0,
          0,
          0,
          0,
          0,
          0,
          0,
          0,
          0,
          0,
          0,
          0,
          0,
          0,
          0,
          0,
          0,
          0,
          0,
          0,
          0,
          0,
          0,
          0,
          0,
          0,
          0
         ],
         "y": [
          0.00854545459151268,
          0.010919020511209965,
          0.011640392243862152,
          0.014413021504878998,
          0.01500453520566225,
          0.015815695747733116,
          0.017119275406003,
          0.0187291968613863,
          0.020698385313153267,
          0.021594777703285217,
          0.02261263318359852,
          0.02374253235757351,
          0.026784442365169525,
          0.026903320103883743,
          0.028200481086969376,
          0.0283622108399868,
          0.02917998656630516,
          0.031360190361738205,
          0.03212551772594452,
          0.034777700901031494,
          0.03509368747472763,
          0.03638618811964989,
          0.038410384207963943,
          0.04494627192616463,
          0.045514509081840515,
          0.04592699185013771,
          0.04595045745372772,
          0.04682607203722,
          0.04787078872323036,
          0.048237159848213196,
          0.04953884705901146,
          0.04988152161240578,
          0.051238495856523514,
          0.05165082961320877,
          0.05198316648602486,
          0.05709344893693924,
          0.05716651678085327,
          0.05738085135817528,
          0.057630933821201324,
          0.059897031635046005,
          0.061235006898641586,
          0.06140366941690445,
          0.06437142938375473,
          0.06480487436056137,
          0.06495991349220276,
          0.06550174951553345,
          0.06640452146530151,
          0.06920408457517624,
          0.06927882134914398,
          0.07129227370023727,
          0.07358738780021667,
          0.07468604296445847,
          0.07625211775302887,
          0.0778064951300621,
          0.07841772586107254,
          0.08022015541791916,
          0.0832376778125763,
          0.08496902137994766,
          0.08731155097484589,
          0.09000798314809799,
          0.09391055256128311,
          0.09443774074316025,
          0.09508740901947021,
          0.09544561803340912,
          0.0969279408454895,
          0.09830982983112335,
          0.09923326224088669,
          0.10177811235189438,
          0.10336924344301224,
          0.10496938973665237,
          0.1071324348449707,
          0.10868450254201889,
          0.10973294079303741,
          0.11177718639373779,
          0.11201716959476471,
          0.11265278607606888,
          0.11303798109292984,
          0.11518297344446182,
          0.11814862489700317,
          0.11866705119609833,
          0.11913973838090897,
          0.11930935084819794,
          0.11934784054756165,
          0.11940084397792816,
          0.11978783458471298,
          0.12313423305749893,
          0.12502065300941467,
          0.12673112750053406,
          0.12734031677246094,
          0.1275797188282013,
          0.13028012216091156,
          0.1330421268939972,
          0.13321799039840698,
          0.13410544395446777,
          0.1384274810552597,
          0.1437205821275711,
          0.14448997378349304,
          0.14620144665241241,
          0.1479329615831375
         ]
        },
        {
         "hoverinfo": "text",
         "hovertext": [
          "(0.1697791963815689, 1.6872762441635132)"
         ],
         "mode": "markers",
         "name": "H1",
         "type": "scatter",
         "x": [
          0.1697791963815689
         ],
         "y": [
          1.6872762441635132
         ]
        },
        {
         "hoverinfo": "text",
         "hovertext": [
          "(1.7610714435577393, 1.7638229131698608)",
          "(1.7218364477157593, 1.7255429029464722)",
          "(1.7144325971603394, 1.7453078031539917)",
          "(1.7126322984695435, 1.7338628768920898)",
          "(1.7040941715240479, 1.715951681137085)",
          "(1.7031846046447754, 1.7408344745635986)",
          "(1.7031291723251343, 1.751719355583191)"
         ],
         "mode": "markers",
         "name": "H2",
         "type": "scatter",
         "x": [
          1.7610714435577393,
          1.7218364477157593,
          1.7144325971603394,
          1.7126322984695435,
          1.7040941715240479,
          1.7031846046447754,
          1.7031291723251343
         ],
         "y": [
          1.7638229131698608,
          1.7255429029464722,
          1.7453078031539917,
          1.7338628768920898,
          1.715951681137085,
          1.7408344745635986,
          1.751719355583191
         ]
        }
       ],
       "layout": {
        "height": 500,
        "plot_bgcolor": "white",
        "template": {
         "data": {
          "bar": [
           {
            "error_x": {
             "color": "#2a3f5f"
            },
            "error_y": {
             "color": "#2a3f5f"
            },
            "marker": {
             "line": {
              "color": "#E5ECF6",
              "width": 0.5
             },
             "pattern": {
              "fillmode": "overlay",
              "size": 10,
              "solidity": 0.2
             }
            },
            "type": "bar"
           }
          ],
          "barpolar": [
           {
            "marker": {
             "line": {
              "color": "#E5ECF6",
              "width": 0.5
             },
             "pattern": {
              "fillmode": "overlay",
              "size": 10,
              "solidity": 0.2
             }
            },
            "type": "barpolar"
           }
          ],
          "carpet": [
           {
            "aaxis": {
             "endlinecolor": "#2a3f5f",
             "gridcolor": "white",
             "linecolor": "white",
             "minorgridcolor": "white",
             "startlinecolor": "#2a3f5f"
            },
            "baxis": {
             "endlinecolor": "#2a3f5f",
             "gridcolor": "white",
             "linecolor": "white",
             "minorgridcolor": "white",
             "startlinecolor": "#2a3f5f"
            },
            "type": "carpet"
           }
          ],
          "choropleth": [
           {
            "colorbar": {
             "outlinewidth": 0,
             "ticks": ""
            },
            "type": "choropleth"
           }
          ],
          "contour": [
           {
            "colorbar": {
             "outlinewidth": 0,
             "ticks": ""
            },
            "colorscale": [
             [
              0,
              "#0d0887"
             ],
             [
              0.1111111111111111,
              "#46039f"
             ],
             [
              0.2222222222222222,
              "#7201a8"
             ],
             [
              0.3333333333333333,
              "#9c179e"
             ],
             [
              0.4444444444444444,
              "#bd3786"
             ],
             [
              0.5555555555555556,
              "#d8576b"
             ],
             [
              0.6666666666666666,
              "#ed7953"
             ],
             [
              0.7777777777777778,
              "#fb9f3a"
             ],
             [
              0.8888888888888888,
              "#fdca26"
             ],
             [
              1,
              "#f0f921"
             ]
            ],
            "type": "contour"
           }
          ],
          "contourcarpet": [
           {
            "colorbar": {
             "outlinewidth": 0,
             "ticks": ""
            },
            "type": "contourcarpet"
           }
          ],
          "heatmap": [
           {
            "colorbar": {
             "outlinewidth": 0,
             "ticks": ""
            },
            "colorscale": [
             [
              0,
              "#0d0887"
             ],
             [
              0.1111111111111111,
              "#46039f"
             ],
             [
              0.2222222222222222,
              "#7201a8"
             ],
             [
              0.3333333333333333,
              "#9c179e"
             ],
             [
              0.4444444444444444,
              "#bd3786"
             ],
             [
              0.5555555555555556,
              "#d8576b"
             ],
             [
              0.6666666666666666,
              "#ed7953"
             ],
             [
              0.7777777777777778,
              "#fb9f3a"
             ],
             [
              0.8888888888888888,
              "#fdca26"
             ],
             [
              1,
              "#f0f921"
             ]
            ],
            "type": "heatmap"
           }
          ],
          "heatmapgl": [
           {
            "colorbar": {
             "outlinewidth": 0,
             "ticks": ""
            },
            "colorscale": [
             [
              0,
              "#0d0887"
             ],
             [
              0.1111111111111111,
              "#46039f"
             ],
             [
              0.2222222222222222,
              "#7201a8"
             ],
             [
              0.3333333333333333,
              "#9c179e"
             ],
             [
              0.4444444444444444,
              "#bd3786"
             ],
             [
              0.5555555555555556,
              "#d8576b"
             ],
             [
              0.6666666666666666,
              "#ed7953"
             ],
             [
              0.7777777777777778,
              "#fb9f3a"
             ],
             [
              0.8888888888888888,
              "#fdca26"
             ],
             [
              1,
              "#f0f921"
             ]
            ],
            "type": "heatmapgl"
           }
          ],
          "histogram": [
           {
            "marker": {
             "pattern": {
              "fillmode": "overlay",
              "size": 10,
              "solidity": 0.2
             }
            },
            "type": "histogram"
           }
          ],
          "histogram2d": [
           {
            "colorbar": {
             "outlinewidth": 0,
             "ticks": ""
            },
            "colorscale": [
             [
              0,
              "#0d0887"
             ],
             [
              0.1111111111111111,
              "#46039f"
             ],
             [
              0.2222222222222222,
              "#7201a8"
             ],
             [
              0.3333333333333333,
              "#9c179e"
             ],
             [
              0.4444444444444444,
              "#bd3786"
             ],
             [
              0.5555555555555556,
              "#d8576b"
             ],
             [
              0.6666666666666666,
              "#ed7953"
             ],
             [
              0.7777777777777778,
              "#fb9f3a"
             ],
             [
              0.8888888888888888,
              "#fdca26"
             ],
             [
              1,
              "#f0f921"
             ]
            ],
            "type": "histogram2d"
           }
          ],
          "histogram2dcontour": [
           {
            "colorbar": {
             "outlinewidth": 0,
             "ticks": ""
            },
            "colorscale": [
             [
              0,
              "#0d0887"
             ],
             [
              0.1111111111111111,
              "#46039f"
             ],
             [
              0.2222222222222222,
              "#7201a8"
             ],
             [
              0.3333333333333333,
              "#9c179e"
             ],
             [
              0.4444444444444444,
              "#bd3786"
             ],
             [
              0.5555555555555556,
              "#d8576b"
             ],
             [
              0.6666666666666666,
              "#ed7953"
             ],
             [
              0.7777777777777778,
              "#fb9f3a"
             ],
             [
              0.8888888888888888,
              "#fdca26"
             ],
             [
              1,
              "#f0f921"
             ]
            ],
            "type": "histogram2dcontour"
           }
          ],
          "mesh3d": [
           {
            "colorbar": {
             "outlinewidth": 0,
             "ticks": ""
            },
            "type": "mesh3d"
           }
          ],
          "parcoords": [
           {
            "line": {
             "colorbar": {
              "outlinewidth": 0,
              "ticks": ""
             }
            },
            "type": "parcoords"
           }
          ],
          "pie": [
           {
            "automargin": true,
            "type": "pie"
           }
          ],
          "scatter": [
           {
            "fillpattern": {
             "fillmode": "overlay",
             "size": 10,
             "solidity": 0.2
            },
            "type": "scatter"
           }
          ],
          "scatter3d": [
           {
            "line": {
             "colorbar": {
              "outlinewidth": 0,
              "ticks": ""
             }
            },
            "marker": {
             "colorbar": {
              "outlinewidth": 0,
              "ticks": ""
             }
            },
            "type": "scatter3d"
           }
          ],
          "scattercarpet": [
           {
            "marker": {
             "colorbar": {
              "outlinewidth": 0,
              "ticks": ""
             }
            },
            "type": "scattercarpet"
           }
          ],
          "scattergeo": [
           {
            "marker": {
             "colorbar": {
              "outlinewidth": 0,
              "ticks": ""
             }
            },
            "type": "scattergeo"
           }
          ],
          "scattergl": [
           {
            "marker": {
             "colorbar": {
              "outlinewidth": 0,
              "ticks": ""
             }
            },
            "type": "scattergl"
           }
          ],
          "scattermapbox": [
           {
            "marker": {
             "colorbar": {
              "outlinewidth": 0,
              "ticks": ""
             }
            },
            "type": "scattermapbox"
           }
          ],
          "scatterpolar": [
           {
            "marker": {
             "colorbar": {
              "outlinewidth": 0,
              "ticks": ""
             }
            },
            "type": "scatterpolar"
           }
          ],
          "scatterpolargl": [
           {
            "marker": {
             "colorbar": {
              "outlinewidth": 0,
              "ticks": ""
             }
            },
            "type": "scatterpolargl"
           }
          ],
          "scatterternary": [
           {
            "marker": {
             "colorbar": {
              "outlinewidth": 0,
              "ticks": ""
             }
            },
            "type": "scatterternary"
           }
          ],
          "surface": [
           {
            "colorbar": {
             "outlinewidth": 0,
             "ticks": ""
            },
            "colorscale": [
             [
              0,
              "#0d0887"
             ],
             [
              0.1111111111111111,
              "#46039f"
             ],
             [
              0.2222222222222222,
              "#7201a8"
             ],
             [
              0.3333333333333333,
              "#9c179e"
             ],
             [
              0.4444444444444444,
              "#bd3786"
             ],
             [
              0.5555555555555556,
              "#d8576b"
             ],
             [
              0.6666666666666666,
              "#ed7953"
             ],
             [
              0.7777777777777778,
              "#fb9f3a"
             ],
             [
              0.8888888888888888,
              "#fdca26"
             ],
             [
              1,
              "#f0f921"
             ]
            ],
            "type": "surface"
           }
          ],
          "table": [
           {
            "cells": {
             "fill": {
              "color": "#EBF0F8"
             },
             "line": {
              "color": "white"
             }
            },
            "header": {
             "fill": {
              "color": "#C8D4E3"
             },
             "line": {
              "color": "white"
             }
            },
            "type": "table"
           }
          ]
         },
         "layout": {
          "annotationdefaults": {
           "arrowcolor": "#2a3f5f",
           "arrowhead": 0,
           "arrowwidth": 1
          },
          "autotypenumbers": "strict",
          "coloraxis": {
           "colorbar": {
            "outlinewidth": 0,
            "ticks": ""
           }
          },
          "colorscale": {
           "diverging": [
            [
             0,
             "#8e0152"
            ],
            [
             0.1,
             "#c51b7d"
            ],
            [
             0.2,
             "#de77ae"
            ],
            [
             0.3,
             "#f1b6da"
            ],
            [
             0.4,
             "#fde0ef"
            ],
            [
             0.5,
             "#f7f7f7"
            ],
            [
             0.6,
             "#e6f5d0"
            ],
            [
             0.7,
             "#b8e186"
            ],
            [
             0.8,
             "#7fbc41"
            ],
            [
             0.9,
             "#4d9221"
            ],
            [
             1,
             "#276419"
            ]
           ],
           "sequential": [
            [
             0,
             "#0d0887"
            ],
            [
             0.1111111111111111,
             "#46039f"
            ],
            [
             0.2222222222222222,
             "#7201a8"
            ],
            [
             0.3333333333333333,
             "#9c179e"
            ],
            [
             0.4444444444444444,
             "#bd3786"
            ],
            [
             0.5555555555555556,
             "#d8576b"
            ],
            [
             0.6666666666666666,
             "#ed7953"
            ],
            [
             0.7777777777777778,
             "#fb9f3a"
            ],
            [
             0.8888888888888888,
             "#fdca26"
            ],
            [
             1,
             "#f0f921"
            ]
           ],
           "sequentialminus": [
            [
             0,
             "#0d0887"
            ],
            [
             0.1111111111111111,
             "#46039f"
            ],
            [
             0.2222222222222222,
             "#7201a8"
            ],
            [
             0.3333333333333333,
             "#9c179e"
            ],
            [
             0.4444444444444444,
             "#bd3786"
            ],
            [
             0.5555555555555556,
             "#d8576b"
            ],
            [
             0.6666666666666666,
             "#ed7953"
            ],
            [
             0.7777777777777778,
             "#fb9f3a"
            ],
            [
             0.8888888888888888,
             "#fdca26"
            ],
            [
             1,
             "#f0f921"
            ]
           ]
          },
          "colorway": [
           "#636efa",
           "#EF553B",
           "#00cc96",
           "#ab63fa",
           "#FFA15A",
           "#19d3f3",
           "#FF6692",
           "#B6E880",
           "#FF97FF",
           "#FECB52"
          ],
          "font": {
           "color": "#2a3f5f"
          },
          "geo": {
           "bgcolor": "white",
           "lakecolor": "white",
           "landcolor": "#E5ECF6",
           "showlakes": true,
           "showland": true,
           "subunitcolor": "white"
          },
          "hoverlabel": {
           "align": "left"
          },
          "hovermode": "closest",
          "mapbox": {
           "style": "light"
          },
          "paper_bgcolor": "white",
          "plot_bgcolor": "#E5ECF6",
          "polar": {
           "angularaxis": {
            "gridcolor": "white",
            "linecolor": "white",
            "ticks": ""
           },
           "bgcolor": "#E5ECF6",
           "radialaxis": {
            "gridcolor": "white",
            "linecolor": "white",
            "ticks": ""
           }
          },
          "scene": {
           "xaxis": {
            "backgroundcolor": "#E5ECF6",
            "gridcolor": "white",
            "gridwidth": 2,
            "linecolor": "white",
            "showbackground": true,
            "ticks": "",
            "zerolinecolor": "white"
           },
           "yaxis": {
            "backgroundcolor": "#E5ECF6",
            "gridcolor": "white",
            "gridwidth": 2,
            "linecolor": "white",
            "showbackground": true,
            "ticks": "",
            "zerolinecolor": "white"
           },
           "zaxis": {
            "backgroundcolor": "#E5ECF6",
            "gridcolor": "white",
            "gridwidth": 2,
            "linecolor": "white",
            "showbackground": true,
            "ticks": "",
            "zerolinecolor": "white"
           }
          },
          "shapedefaults": {
           "line": {
            "color": "#2a3f5f"
           }
          },
          "ternary": {
           "aaxis": {
            "gridcolor": "white",
            "linecolor": "white",
            "ticks": ""
           },
           "baxis": {
            "gridcolor": "white",
            "linecolor": "white",
            "ticks": ""
           },
           "bgcolor": "#E5ECF6",
           "caxis": {
            "gridcolor": "white",
            "linecolor": "white",
            "ticks": ""
           }
          },
          "title": {
           "x": 0.05
          },
          "xaxis": {
           "automargin": true,
           "gridcolor": "white",
           "linecolor": "white",
           "ticks": "",
           "title": {
            "standoff": 15
           },
           "zerolinecolor": "white",
           "zerolinewidth": 2
          },
          "yaxis": {
           "automargin": true,
           "gridcolor": "white",
           "linecolor": "white",
           "ticks": "",
           "title": {
            "standoff": 15
           },
           "zerolinecolor": "white",
           "zerolinewidth": 2
          }
         }
        },
        "width": 500,
        "xaxis": {
         "autorange": false,
         "exponentformat": "e",
         "linecolor": "black",
         "linewidth": 1,
         "mirror": false,
         "range": [
          -0.03527645826339722,
          1.7990993714332582
         ],
         "showexponent": "all",
         "showline": true,
         "side": "bottom",
         "ticks": "outside",
         "title": {
          "text": "Birth"
         },
         "type": "linear",
         "zeroline": true
        },
        "yaxis": {
         "autorange": false,
         "exponentformat": "e",
         "linecolor": "black",
         "linewidth": 1,
         "mirror": false,
         "range": [
          -0.03527645826339722,
          1.7990993714332582
         ],
         "scaleanchor": "x",
         "scaleratio": 1,
         "showexponent": "all",
         "showline": true,
         "side": "left",
         "ticks": "outside",
         "title": {
          "text": "Death"
         },
         "type": "linear",
         "zeroline": true
        }
       }
      }
     },
     "metadata": {},
     "output_type": "display_data"
    }
   ],
   "source": [
    "plot_diagram(diagrams[0]).show() # Circle"
   ]
  },
  {
   "cell_type": "code",
   "execution_count": 10,
   "metadata": {
    "id": "4vWNshhRi17_"
   },
   "outputs": [
    {
     "data": {
      "application/vnd.plotly.v1+json": {
       "config": {
        "plotlyServerURL": "https://plot.ly"
       },
       "data": [
        {
         "hoverinfo": "none",
         "line": {
          "color": "black",
          "dash": "dash",
          "width": 1
         },
         "mode": "lines",
         "showlegend": false,
         "type": "scatter",
         "x": [
          -0.032991750240325926,
          1.6825792622566222
         ],
         "y": [
          -0.032991750240325926,
          1.6825792622566222
         ]
        },
        {
         "hoverinfo": "text",
         "hovertext": [
          "(0.0, 0.02966119721531868)",
          "(0.0, 0.05171578750014305)",
          "(0.0, 0.062321897596120834)",
          "(0.0, 0.06315453350543976)",
          "(0.0, 0.07467024028301239)",
          "(0.0, 0.0821855366230011)",
          "(0.0, 0.08233896642923355)",
          "(0.0, 0.08410526812076569)",
          "(0.0, 0.08585838973522186)",
          "(0.0, 0.08670903742313385)",
          "(0.0, 0.09195888787508011)",
          "(0.0, 0.09715545922517776)",
          "(0.0, 0.09784382581710815)",
          "(0.0, 0.10876607894897461)",
          "(0.0, 0.11755635589361191)",
          "(0.0, 0.12401840835809708)",
          "(0.0, 0.1331617683172226)",
          "(0.0, 0.1384320855140686)",
          "(0.0, 0.1430341899394989)",
          "(0.0, 0.14537374675273895)",
          "(0.0, 0.1486598700284958)",
          "(0.0, 0.15274812281131744)",
          "(0.0, 0.1536620408296585)",
          "(0.0, 0.1664714366197586)",
          "(0.0, 0.1680375337600708)",
          "(0.0, 0.1685926914215088)",
          "(0.0, 0.16980209946632385)",
          "(0.0, 0.17826589941978455)",
          "(0.0, 0.1801266074180603)",
          "(0.0, 0.18106698989868164)",
          "(0.0, 0.1861417144536972)",
          "(0.0, 0.19522422552108765)",
          "(0.0, 0.19536124169826508)",
          "(0.0, 0.1968822181224823)",
          "(0.0, 0.2047443836927414)",
          "(0.0, 0.20583848655223846)",
          "(0.0, 0.20707787573337555)",
          "(0.0, 0.2080116868019104)",
          "(0.0, 0.2110680341720581)",
          "(0.0, 0.21165814995765686)",
          "(0.0, 0.2128783017396927)",
          "(0.0, 0.2153923660516739)",
          "(0.0, 0.21685628592967987)",
          "(0.0, 0.2194204479455948)",
          "(0.0, 0.2228088080883026)",
          "(0.0, 0.2237703651189804)",
          "(0.0, 0.22660794854164124)",
          "(0.0, 0.2300320714712143)",
          "(0.0, 0.23046065866947174)",
          "(0.0, 0.23556578159332275)",
          "(0.0, 0.24081286787986755)",
          "(0.0, 0.24167373776435852)",
          "(0.0, 0.24805927276611328)",
          "(0.0, 0.24835866689682007)",
          "(0.0, 0.2502301335334778)",
          "(0.0, 0.2513035833835602)",
          "(0.0, 0.2542743682861328)",
          "(0.0, 0.2553357183933258)",
          "(0.0, 0.25661495327949524)",
          "(0.0, 0.2610739469528198)",
          "(0.0, 0.26218274235725403)",
          "(0.0, 0.2646609842777252)",
          "(0.0, 0.26519039273262024)",
          "(0.0, 0.2691578269004822)",
          "(0.0, 0.27022600173950195)",
          "(0.0, 0.2711905539035797)",
          "(0.0, 0.27469155192375183)",
          "(0.0, 0.2767504155635834)",
          "(0.0, 0.2795872092247009)",
          "(0.0, 0.2803207039833069)",
          "(0.0, 0.280918151140213)",
          "(0.0, 0.28216326236724854)",
          "(0.0, 0.2821706235408783)",
          "(0.0, 0.28309130668640137)",
          "(0.0, 0.2850039303302765)",
          "(0.0, 0.28628748655319214)",
          "(0.0, 0.2875545918941498)",
          "(0.0, 0.29162561893463135)",
          "(0.0, 0.2926045060157776)",
          "(0.0, 0.2938806712627411)",
          "(0.0, 0.29563385248184204)",
          "(0.0, 0.29968148469924927)",
          "(0.0, 0.3015807569026947)",
          "(0.0, 0.3043566644191742)",
          "(0.0, 0.30720025300979614)",
          "(0.0, 0.3104744851589203)",
          "(0.0, 0.3113173544406891)",
          "(0.0, 0.31214848160743713)",
          "(0.0, 0.3135409653186798)",
          "(0.0, 0.31643444299697876)",
          "(0.0, 0.31751692295074463)",
          "(0.0, 0.3253999352455139)",
          "(0.0, 0.3669758141040802)",
          "(0.0, 0.37082478404045105)",
          "(0.0, 0.38286855816841125)",
          "(0.0, 0.4045305550098419)",
          "(0.0, 0.4209021329879761)",
          "(0.0, 0.44160035252571106)",
          "(0.0, 0.5384007096290588)"
         ],
         "mode": "markers",
         "name": "H0",
         "type": "scatter",
         "x": [
          0,
          0,
          0,
          0,
          0,
          0,
          0,
          0,
          0,
          0,
          0,
          0,
          0,
          0,
          0,
          0,
          0,
          0,
          0,
          0,
          0,
          0,
          0,
          0,
          0,
          0,
          0,
          0,
          0,
          0,
          0,
          0,
          0,
          0,
          0,
          0,
          0,
          0,
          0,
          0,
          0,
          0,
          0,
          0,
          0,
          0,
          0,
          0,
          0,
          0,
          0,
          0,
          0,
          0,
          0,
          0,
          0,
          0,
          0,
          0,
          0,
          0,
          0,
          0,
          0,
          0,
          0,
          0,
          0,
          0,
          0,
          0,
          0,
          0,
          0,
          0,
          0,
          0,
          0,
          0,
          0,
          0,
          0,
          0,
          0,
          0,
          0,
          0,
          0,
          0,
          0,
          0,
          0,
          0,
          0,
          0,
          0,
          0,
          0
         ],
         "y": [
          0.02966119721531868,
          0.05171578750014305,
          0.062321897596120834,
          0.06315453350543976,
          0.07467024028301239,
          0.0821855366230011,
          0.08233896642923355,
          0.08410526812076569,
          0.08585838973522186,
          0.08670903742313385,
          0.09195888787508011,
          0.09715545922517776,
          0.09784382581710815,
          0.10876607894897461,
          0.11755635589361191,
          0.12401840835809708,
          0.1331617683172226,
          0.1384320855140686,
          0.1430341899394989,
          0.14537374675273895,
          0.1486598700284958,
          0.15274812281131744,
          0.1536620408296585,
          0.1664714366197586,
          0.1680375337600708,
          0.1685926914215088,
          0.16980209946632385,
          0.17826589941978455,
          0.1801266074180603,
          0.18106698989868164,
          0.1861417144536972,
          0.19522422552108765,
          0.19536124169826508,
          0.1968822181224823,
          0.2047443836927414,
          0.20583848655223846,
          0.20707787573337555,
          0.2080116868019104,
          0.2110680341720581,
          0.21165814995765686,
          0.2128783017396927,
          0.2153923660516739,
          0.21685628592967987,
          0.2194204479455948,
          0.2228088080883026,
          0.2237703651189804,
          0.22660794854164124,
          0.2300320714712143,
          0.23046065866947174,
          0.23556578159332275,
          0.24081286787986755,
          0.24167373776435852,
          0.24805927276611328,
          0.24835866689682007,
          0.2502301335334778,
          0.2513035833835602,
          0.2542743682861328,
          0.2553357183933258,
          0.25661495327949524,
          0.2610739469528198,
          0.26218274235725403,
          0.2646609842777252,
          0.26519039273262024,
          0.2691578269004822,
          0.27022600173950195,
          0.2711905539035797,
          0.27469155192375183,
          0.2767504155635834,
          0.2795872092247009,
          0.2803207039833069,
          0.280918151140213,
          0.28216326236724854,
          0.2821706235408783,
          0.28309130668640137,
          0.2850039303302765,
          0.28628748655319214,
          0.2875545918941498,
          0.29162561893463135,
          0.2926045060157776,
          0.2938806712627411,
          0.29563385248184204,
          0.29968148469924927,
          0.3015807569026947,
          0.3043566644191742,
          0.30720025300979614,
          0.3104744851589203,
          0.3113173544406891,
          0.31214848160743713,
          0.3135409653186798,
          0.31643444299697876,
          0.31751692295074463,
          0.3253999352455139,
          0.3669758141040802,
          0.37082478404045105,
          0.38286855816841125,
          0.4045305550098419,
          0.4209021329879761,
          0.44160035252571106,
          0.5384007096290588
         ]
        },
        {
         "hoverinfo": "text",
         "hovertext": [
          "(0.695145845413208, 0.7088503241539001)",
          "(0.691619336605072, 0.7264108657836914)",
          "(0.6563628315925598, 0.6867361664772034)",
          "(0.630956768989563, 0.8711230158805847)",
          "(0.6195089221000671, 0.686260998249054)",
          "(0.6167085766792297, 0.8527603149414062)",
          "(0.6134276390075684, 0.8909642100334167)",
          "(0.6090273857116699, 0.6205209493637085)",
          "(0.608651340007782, 0.6128295660018921)",
          "(0.6069653034210205, 0.6973328590393066)",
          "(0.6069245338439941, 0.833591639995575)",
          "(0.5969598293304443, 0.6831879019737244)",
          "(0.590546190738678, 0.8411597013473511)",
          "(0.5843763947486877, 0.8982810974121094)",
          "(0.5809687972068787, 0.9588383436203003)",
          "(0.5714362859725952, 0.9294688701629639)",
          "(0.5232298970222473, 0.5277060866355896)",
          "(0.5192680954933167, 0.5497182607650757)",
          "(0.4820708930492401, 0.5751957297325134)",
          "(0.40009284019470215, 0.4306415319442749)",
          "(0.37404605746269226, 0.49155741930007935)",
          "(0.37238144874572754, 0.39967453479766846)",
          "(0.3503307104110718, 0.48981091380119324)",
          "(0.3418964445590973, 0.3855751156806946)",
          "(0.34167641401290894, 0.353909969329834)",
          "(0.3350321650505066, 0.41915518045425415)",
          "(0.33482563495635986, 0.45003393292427063)",
          "(0.32649362087249756, 0.3683640658855438)",
          "(0.3212749660015106, 0.32832393050193787)",
          "(0.3198692202568054, 0.3293365240097046)",
          "(0.3183818757534027, 0.3514203131198883)",
          "(0.31620460748672485, 0.4186350107192993)",
          "(0.31554222106933594, 0.3583572506904602)",
          "(0.30852314829826355, 0.3233470022678375)",
          "(0.30233660340309143, 0.3698377311229706)",
          "(0.2908117473125458, 0.41182249784469604)",
          "(0.28876057267189026, 0.2962420880794525)",
          "(0.2669675946235657, 0.31685271859169006)",
          "(0.2398347109556198, 0.2720203995704651)",
          "(0.1691654920578003, 0.2661963999271393)"
         ],
         "mode": "markers",
         "name": "H1",
         "type": "scatter",
         "x": [
          0.695145845413208,
          0.691619336605072,
          0.6563628315925598,
          0.630956768989563,
          0.6195089221000671,
          0.6167085766792297,
          0.6134276390075684,
          0.6090273857116699,
          0.608651340007782,
          0.6069653034210205,
          0.6069245338439941,
          0.5969598293304443,
          0.590546190738678,
          0.5843763947486877,
          0.5809687972068787,
          0.5714362859725952,
          0.5232298970222473,
          0.5192680954933167,
          0.4820708930492401,
          0.40009284019470215,
          0.37404605746269226,
          0.37238144874572754,
          0.3503307104110718,
          0.3418964445590973,
          0.34167641401290894,
          0.3350321650505066,
          0.33482563495635986,
          0.32649362087249756,
          0.3212749660015106,
          0.3198692202568054,
          0.3183818757534027,
          0.31620460748672485,
          0.31554222106933594,
          0.30852314829826355,
          0.30233660340309143,
          0.2908117473125458,
          0.28876057267189026,
          0.2669675946235657,
          0.2398347109556198,
          0.1691654920578003
         ],
         "y": [
          0.7088503241539001,
          0.7264108657836914,
          0.6867361664772034,
          0.8711230158805847,
          0.686260998249054,
          0.8527603149414062,
          0.8909642100334167,
          0.6205209493637085,
          0.6128295660018921,
          0.6973328590393066,
          0.833591639995575,
          0.6831879019737244,
          0.8411597013473511,
          0.8982810974121094,
          0.9588383436203003,
          0.9294688701629639,
          0.5277060866355896,
          0.5497182607650757,
          0.5751957297325134,
          0.4306415319442749,
          0.49155741930007935,
          0.39967453479766846,
          0.48981091380119324,
          0.3855751156806946,
          0.353909969329834,
          0.41915518045425415,
          0.45003393292427063,
          0.3683640658855438,
          0.32832393050193787,
          0.3293365240097046,
          0.3514203131198883,
          0.4186350107192993,
          0.3583572506904602,
          0.3233470022678375,
          0.3698377311229706,
          0.41182249784469604,
          0.2962420880794525,
          0.31685271859169006,
          0.2720203995704651,
          0.2661963999271393
         ]
        },
        {
         "hoverinfo": "text",
         "hovertext": [
          "(0.9755273461341858, 0.9873895049095154)",
          "(0.959536612033844, 1.6495875120162964)",
          "(0.8434943556785583, 0.8488972783088684)"
         ],
         "mode": "markers",
         "name": "H2",
         "type": "scatter",
         "x": [
          0.9755273461341858,
          0.959536612033844,
          0.8434943556785583
         ],
         "y": [
          0.9873895049095154,
          1.6495875120162964,
          0.8488972783088684
         ]
        }
       ],
       "layout": {
        "height": 500,
        "plot_bgcolor": "white",
        "template": {
         "data": {
          "bar": [
           {
            "error_x": {
             "color": "#2a3f5f"
            },
            "error_y": {
             "color": "#2a3f5f"
            },
            "marker": {
             "line": {
              "color": "#E5ECF6",
              "width": 0.5
             },
             "pattern": {
              "fillmode": "overlay",
              "size": 10,
              "solidity": 0.2
             }
            },
            "type": "bar"
           }
          ],
          "barpolar": [
           {
            "marker": {
             "line": {
              "color": "#E5ECF6",
              "width": 0.5
             },
             "pattern": {
              "fillmode": "overlay",
              "size": 10,
              "solidity": 0.2
             }
            },
            "type": "barpolar"
           }
          ],
          "carpet": [
           {
            "aaxis": {
             "endlinecolor": "#2a3f5f",
             "gridcolor": "white",
             "linecolor": "white",
             "minorgridcolor": "white",
             "startlinecolor": "#2a3f5f"
            },
            "baxis": {
             "endlinecolor": "#2a3f5f",
             "gridcolor": "white",
             "linecolor": "white",
             "minorgridcolor": "white",
             "startlinecolor": "#2a3f5f"
            },
            "type": "carpet"
           }
          ],
          "choropleth": [
           {
            "colorbar": {
             "outlinewidth": 0,
             "ticks": ""
            },
            "type": "choropleth"
           }
          ],
          "contour": [
           {
            "colorbar": {
             "outlinewidth": 0,
             "ticks": ""
            },
            "colorscale": [
             [
              0,
              "#0d0887"
             ],
             [
              0.1111111111111111,
              "#46039f"
             ],
             [
              0.2222222222222222,
              "#7201a8"
             ],
             [
              0.3333333333333333,
              "#9c179e"
             ],
             [
              0.4444444444444444,
              "#bd3786"
             ],
             [
              0.5555555555555556,
              "#d8576b"
             ],
             [
              0.6666666666666666,
              "#ed7953"
             ],
             [
              0.7777777777777778,
              "#fb9f3a"
             ],
             [
              0.8888888888888888,
              "#fdca26"
             ],
             [
              1,
              "#f0f921"
             ]
            ],
            "type": "contour"
           }
          ],
          "contourcarpet": [
           {
            "colorbar": {
             "outlinewidth": 0,
             "ticks": ""
            },
            "type": "contourcarpet"
           }
          ],
          "heatmap": [
           {
            "colorbar": {
             "outlinewidth": 0,
             "ticks": ""
            },
            "colorscale": [
             [
              0,
              "#0d0887"
             ],
             [
              0.1111111111111111,
              "#46039f"
             ],
             [
              0.2222222222222222,
              "#7201a8"
             ],
             [
              0.3333333333333333,
              "#9c179e"
             ],
             [
              0.4444444444444444,
              "#bd3786"
             ],
             [
              0.5555555555555556,
              "#d8576b"
             ],
             [
              0.6666666666666666,
              "#ed7953"
             ],
             [
              0.7777777777777778,
              "#fb9f3a"
             ],
             [
              0.8888888888888888,
              "#fdca26"
             ],
             [
              1,
              "#f0f921"
             ]
            ],
            "type": "heatmap"
           }
          ],
          "heatmapgl": [
           {
            "colorbar": {
             "outlinewidth": 0,
             "ticks": ""
            },
            "colorscale": [
             [
              0,
              "#0d0887"
             ],
             [
              0.1111111111111111,
              "#46039f"
             ],
             [
              0.2222222222222222,
              "#7201a8"
             ],
             [
              0.3333333333333333,
              "#9c179e"
             ],
             [
              0.4444444444444444,
              "#bd3786"
             ],
             [
              0.5555555555555556,
              "#d8576b"
             ],
             [
              0.6666666666666666,
              "#ed7953"
             ],
             [
              0.7777777777777778,
              "#fb9f3a"
             ],
             [
              0.8888888888888888,
              "#fdca26"
             ],
             [
              1,
              "#f0f921"
             ]
            ],
            "type": "heatmapgl"
           }
          ],
          "histogram": [
           {
            "marker": {
             "pattern": {
              "fillmode": "overlay",
              "size": 10,
              "solidity": 0.2
             }
            },
            "type": "histogram"
           }
          ],
          "histogram2d": [
           {
            "colorbar": {
             "outlinewidth": 0,
             "ticks": ""
            },
            "colorscale": [
             [
              0,
              "#0d0887"
             ],
             [
              0.1111111111111111,
              "#46039f"
             ],
             [
              0.2222222222222222,
              "#7201a8"
             ],
             [
              0.3333333333333333,
              "#9c179e"
             ],
             [
              0.4444444444444444,
              "#bd3786"
             ],
             [
              0.5555555555555556,
              "#d8576b"
             ],
             [
              0.6666666666666666,
              "#ed7953"
             ],
             [
              0.7777777777777778,
              "#fb9f3a"
             ],
             [
              0.8888888888888888,
              "#fdca26"
             ],
             [
              1,
              "#f0f921"
             ]
            ],
            "type": "histogram2d"
           }
          ],
          "histogram2dcontour": [
           {
            "colorbar": {
             "outlinewidth": 0,
             "ticks": ""
            },
            "colorscale": [
             [
              0,
              "#0d0887"
             ],
             [
              0.1111111111111111,
              "#46039f"
             ],
             [
              0.2222222222222222,
              "#7201a8"
             ],
             [
              0.3333333333333333,
              "#9c179e"
             ],
             [
              0.4444444444444444,
              "#bd3786"
             ],
             [
              0.5555555555555556,
              "#d8576b"
             ],
             [
              0.6666666666666666,
              "#ed7953"
             ],
             [
              0.7777777777777778,
              "#fb9f3a"
             ],
             [
              0.8888888888888888,
              "#fdca26"
             ],
             [
              1,
              "#f0f921"
             ]
            ],
            "type": "histogram2dcontour"
           }
          ],
          "mesh3d": [
           {
            "colorbar": {
             "outlinewidth": 0,
             "ticks": ""
            },
            "type": "mesh3d"
           }
          ],
          "parcoords": [
           {
            "line": {
             "colorbar": {
              "outlinewidth": 0,
              "ticks": ""
             }
            },
            "type": "parcoords"
           }
          ],
          "pie": [
           {
            "automargin": true,
            "type": "pie"
           }
          ],
          "scatter": [
           {
            "fillpattern": {
             "fillmode": "overlay",
             "size": 10,
             "solidity": 0.2
            },
            "type": "scatter"
           }
          ],
          "scatter3d": [
           {
            "line": {
             "colorbar": {
              "outlinewidth": 0,
              "ticks": ""
             }
            },
            "marker": {
             "colorbar": {
              "outlinewidth": 0,
              "ticks": ""
             }
            },
            "type": "scatter3d"
           }
          ],
          "scattercarpet": [
           {
            "marker": {
             "colorbar": {
              "outlinewidth": 0,
              "ticks": ""
             }
            },
            "type": "scattercarpet"
           }
          ],
          "scattergeo": [
           {
            "marker": {
             "colorbar": {
              "outlinewidth": 0,
              "ticks": ""
             }
            },
            "type": "scattergeo"
           }
          ],
          "scattergl": [
           {
            "marker": {
             "colorbar": {
              "outlinewidth": 0,
              "ticks": ""
             }
            },
            "type": "scattergl"
           }
          ],
          "scattermapbox": [
           {
            "marker": {
             "colorbar": {
              "outlinewidth": 0,
              "ticks": ""
             }
            },
            "type": "scattermapbox"
           }
          ],
          "scatterpolar": [
           {
            "marker": {
             "colorbar": {
              "outlinewidth": 0,
              "ticks": ""
             }
            },
            "type": "scatterpolar"
           }
          ],
          "scatterpolargl": [
           {
            "marker": {
             "colorbar": {
              "outlinewidth": 0,
              "ticks": ""
             }
            },
            "type": "scatterpolargl"
           }
          ],
          "scatterternary": [
           {
            "marker": {
             "colorbar": {
              "outlinewidth": 0,
              "ticks": ""
             }
            },
            "type": "scatterternary"
           }
          ],
          "surface": [
           {
            "colorbar": {
             "outlinewidth": 0,
             "ticks": ""
            },
            "colorscale": [
             [
              0,
              "#0d0887"
             ],
             [
              0.1111111111111111,
              "#46039f"
             ],
             [
              0.2222222222222222,
              "#7201a8"
             ],
             [
              0.3333333333333333,
              "#9c179e"
             ],
             [
              0.4444444444444444,
              "#bd3786"
             ],
             [
              0.5555555555555556,
              "#d8576b"
             ],
             [
              0.6666666666666666,
              "#ed7953"
             ],
             [
              0.7777777777777778,
              "#fb9f3a"
             ],
             [
              0.8888888888888888,
              "#fdca26"
             ],
             [
              1,
              "#f0f921"
             ]
            ],
            "type": "surface"
           }
          ],
          "table": [
           {
            "cells": {
             "fill": {
              "color": "#EBF0F8"
             },
             "line": {
              "color": "white"
             }
            },
            "header": {
             "fill": {
              "color": "#C8D4E3"
             },
             "line": {
              "color": "white"
             }
            },
            "type": "table"
           }
          ]
         },
         "layout": {
          "annotationdefaults": {
           "arrowcolor": "#2a3f5f",
           "arrowhead": 0,
           "arrowwidth": 1
          },
          "autotypenumbers": "strict",
          "coloraxis": {
           "colorbar": {
            "outlinewidth": 0,
            "ticks": ""
           }
          },
          "colorscale": {
           "diverging": [
            [
             0,
             "#8e0152"
            ],
            [
             0.1,
             "#c51b7d"
            ],
            [
             0.2,
             "#de77ae"
            ],
            [
             0.3,
             "#f1b6da"
            ],
            [
             0.4,
             "#fde0ef"
            ],
            [
             0.5,
             "#f7f7f7"
            ],
            [
             0.6,
             "#e6f5d0"
            ],
            [
             0.7,
             "#b8e186"
            ],
            [
             0.8,
             "#7fbc41"
            ],
            [
             0.9,
             "#4d9221"
            ],
            [
             1,
             "#276419"
            ]
           ],
           "sequential": [
            [
             0,
             "#0d0887"
            ],
            [
             0.1111111111111111,
             "#46039f"
            ],
            [
             0.2222222222222222,
             "#7201a8"
            ],
            [
             0.3333333333333333,
             "#9c179e"
            ],
            [
             0.4444444444444444,
             "#bd3786"
            ],
            [
             0.5555555555555556,
             "#d8576b"
            ],
            [
             0.6666666666666666,
             "#ed7953"
            ],
            [
             0.7777777777777778,
             "#fb9f3a"
            ],
            [
             0.8888888888888888,
             "#fdca26"
            ],
            [
             1,
             "#f0f921"
            ]
           ],
           "sequentialminus": [
            [
             0,
             "#0d0887"
            ],
            [
             0.1111111111111111,
             "#46039f"
            ],
            [
             0.2222222222222222,
             "#7201a8"
            ],
            [
             0.3333333333333333,
             "#9c179e"
            ],
            [
             0.4444444444444444,
             "#bd3786"
            ],
            [
             0.5555555555555556,
             "#d8576b"
            ],
            [
             0.6666666666666666,
             "#ed7953"
            ],
            [
             0.7777777777777778,
             "#fb9f3a"
            ],
            [
             0.8888888888888888,
             "#fdca26"
            ],
            [
             1,
             "#f0f921"
            ]
           ]
          },
          "colorway": [
           "#636efa",
           "#EF553B",
           "#00cc96",
           "#ab63fa",
           "#FFA15A",
           "#19d3f3",
           "#FF6692",
           "#B6E880",
           "#FF97FF",
           "#FECB52"
          ],
          "font": {
           "color": "#2a3f5f"
          },
          "geo": {
           "bgcolor": "white",
           "lakecolor": "white",
           "landcolor": "#E5ECF6",
           "showlakes": true,
           "showland": true,
           "subunitcolor": "white"
          },
          "hoverlabel": {
           "align": "left"
          },
          "hovermode": "closest",
          "mapbox": {
           "style": "light"
          },
          "paper_bgcolor": "white",
          "plot_bgcolor": "#E5ECF6",
          "polar": {
           "angularaxis": {
            "gridcolor": "white",
            "linecolor": "white",
            "ticks": ""
           },
           "bgcolor": "#E5ECF6",
           "radialaxis": {
            "gridcolor": "white",
            "linecolor": "white",
            "ticks": ""
           }
          },
          "scene": {
           "xaxis": {
            "backgroundcolor": "#E5ECF6",
            "gridcolor": "white",
            "gridwidth": 2,
            "linecolor": "white",
            "showbackground": true,
            "ticks": "",
            "zerolinecolor": "white"
           },
           "yaxis": {
            "backgroundcolor": "#E5ECF6",
            "gridcolor": "white",
            "gridwidth": 2,
            "linecolor": "white",
            "showbackground": true,
            "ticks": "",
            "zerolinecolor": "white"
           },
           "zaxis": {
            "backgroundcolor": "#E5ECF6",
            "gridcolor": "white",
            "gridwidth": 2,
            "linecolor": "white",
            "showbackground": true,
            "ticks": "",
            "zerolinecolor": "white"
           }
          },
          "shapedefaults": {
           "line": {
            "color": "#2a3f5f"
           }
          },
          "ternary": {
           "aaxis": {
            "gridcolor": "white",
            "linecolor": "white",
            "ticks": ""
           },
           "baxis": {
            "gridcolor": "white",
            "linecolor": "white",
            "ticks": ""
           },
           "bgcolor": "#E5ECF6",
           "caxis": {
            "gridcolor": "white",
            "linecolor": "white",
            "ticks": ""
           }
          },
          "title": {
           "x": 0.05
          },
          "xaxis": {
           "automargin": true,
           "gridcolor": "white",
           "linecolor": "white",
           "ticks": "",
           "title": {
            "standoff": 15
           },
           "zerolinecolor": "white",
           "zerolinewidth": 2
          },
          "yaxis": {
           "automargin": true,
           "gridcolor": "white",
           "linecolor": "white",
           "ticks": "",
           "title": {
            "standoff": 15
           },
           "zerolinecolor": "white",
           "zerolinewidth": 2
          }
         }
        },
        "width": 500,
        "xaxis": {
         "autorange": false,
         "exponentformat": "e",
         "linecolor": "black",
         "linewidth": 1,
         "mirror": false,
         "range": [
          -0.032991750240325926,
          1.6825792622566222
         ],
         "showexponent": "all",
         "showline": true,
         "side": "bottom",
         "ticks": "outside",
         "title": {
          "text": "Birth"
         },
         "type": "linear",
         "zeroline": true
        },
        "yaxis": {
         "autorange": false,
         "exponentformat": "e",
         "linecolor": "black",
         "linewidth": 1,
         "mirror": false,
         "range": [
          -0.032991750240325926,
          1.6825792622566222
         ],
         "scaleanchor": "x",
         "scaleratio": 1,
         "showexponent": "all",
         "showline": true,
         "side": "left",
         "ticks": "outside",
         "title": {
          "text": "Death"
         },
         "type": "linear",
         "zeroline": true
        }
       }
      }
     },
     "metadata": {},
     "output_type": "display_data"
    }
   ],
   "source": [
    "plot_diagram(diagrams[11]).show()  # Sphere"
   ]
  },
  {
   "cell_type": "code",
   "execution_count": 11,
   "metadata": {
    "id": "iSOKelsWi2ei"
   },
   "outputs": [
    {
     "data": {
      "application/vnd.plotly.v1+json": {
       "config": {
        "plotlyServerURL": "https://plot.ly"
       },
       "data": [
        {
         "hoverinfo": "none",
         "line": {
          "color": "black",
          "dash": "dash",
          "width": 1
         },
         "mode": "lines",
         "showlegend": false,
         "type": "scatter",
         "x": [
          -0.04394111156463623,
          2.240996689796448
         ],
         "y": [
          -0.04394111156463623,
          2.240996689796448
         ]
        },
        {
         "hoverinfo": "text",
         "hovertext": [
          "(0.0, 0.20940454304218292)",
          "(0.0, 0.2178589403629303)",
          "(0.0, 0.22479432821273804)",
          "(0.0, 0.23170584440231323)",
          "(0.0, 0.24213622510433197)",
          "(0.0, 0.24488094449043274)",
          "(0.0, 0.2469668686389923)",
          "(0.0, 0.2603466212749481)",
          "(0.0, 0.2634621858596802)",
          "(0.0, 0.264640212059021)",
          "(0.0, 0.2651401162147522)",
          "(0.0, 0.2676599323749542)",
          "(0.0, 0.2679472863674164)",
          "(0.0, 0.26967915892601013)",
          "(0.0, 0.2697715163230896)",
          "(0.0, 0.2706190347671509)",
          "(0.0, 0.2733224034309387)",
          "(0.0, 0.2746078670024872)",
          "(0.0, 0.27589666843414307)",
          "(0.0, 0.2760268449783325)",
          "(0.0, 0.2836567461490631)",
          "(0.0, 0.285299688577652)",
          "(0.0, 0.2860654294490814)",
          "(0.0, 0.28876054286956787)",
          "(0.0, 0.2895202338695526)",
          "(0.0, 0.2898094058036804)",
          "(0.0, 0.2939048707485199)",
          "(0.0, 0.29476460814476013)",
          "(0.0, 0.29791486263275146)",
          "(0.0, 0.298573762178421)",
          "(0.0, 0.3008135259151459)",
          "(0.0, 0.30422860383987427)",
          "(0.0, 0.30518439412117004)",
          "(0.0, 0.30911436676979065)",
          "(0.0, 0.3153943717479706)",
          "(0.0, 0.31643879413604736)",
          "(0.0, 0.3186769485473633)",
          "(0.0, 0.33194994926452637)",
          "(0.0, 0.34238627552986145)",
          "(0.0, 0.3467233180999756)",
          "(0.0, 0.35728126764297485)",
          "(0.0, 0.35999998450279236)",
          "(0.0, 0.36095938086509705)",
          "(0.0, 0.36167994141578674)",
          "(0.0, 0.36381691694259644)",
          "(0.0, 0.37536999583244324)",
          "(0.0, 0.39544546604156494)",
          "(0.0, 0.39813557267189026)",
          "(0.0, 0.44214928150177)",
          "(0.0, 0.4580592215061188)",
          "(0.0, 0.45938724279403687)",
          "(0.0, 0.4939257502555847)",
          "(0.0, 0.6172606348991394)",
          "(0.0, 0.6214465498924255)",
          "(0.0, 0.6279279589653015)",
          "(0.0, 0.6355950236320496)",
          "(0.0, 0.6465267539024353)",
          "(0.0, 0.6485952138900757)",
          "(0.0, 0.6593214273452759)",
          "(0.0, 0.664386510848999)",
          "(0.0, 0.6644895672798157)",
          "(0.0, 0.6667746305465698)",
          "(0.0, 0.6668298840522766)",
          "(0.0, 0.6748719811439514)",
          "(0.0, 0.6778112053871155)",
          "(0.0, 0.6785327792167664)",
          "(0.0, 0.6900179386138916)",
          "(0.0, 0.6921530365943909)",
          "(0.0, 0.6943411231040955)",
          "(0.0, 0.6961087584495544)",
          "(0.0, 0.6997910737991333)",
          "(0.0, 0.7012843489646912)",
          "(0.0, 0.7022269368171692)",
          "(0.0, 0.7039469480514526)",
          "(0.0, 0.7053738236427307)",
          "(0.0, 0.7093957662582397)",
          "(0.0, 0.7117053866386414)",
          "(0.0, 0.7171230912208557)",
          "(0.0, 0.7190172076225281)",
          "(0.0, 0.7267802953720093)",
          "(0.0, 0.7292498350143433)",
          "(0.0, 0.7347841858863831)",
          "(0.0, 0.7477863430976868)",
          "(0.0, 0.7533934116363525)",
          "(0.0, 0.7595955729484558)",
          "(0.0, 0.8816472291946411)",
          "(0.0, 0.8938755989074707)",
          "(0.0, 0.9134770035743713)",
          "(0.0, 0.9136195182800293)",
          "(0.0, 0.9162771701812744)",
          "(0.0, 0.916516900062561)",
          "(0.0, 0.9365742802619934)",
          "(0.0, 0.9393848776817322)",
          "(0.0, 0.9400573372840881)",
          "(0.0, 0.9479286670684814)",
          "(0.0, 0.9583647847175598)",
          "(0.0, 0.9683377742767334)",
          "(0.0, 0.9741389751434326)",
          "(0.0, 0.9789413213729858)"
         ],
         "mode": "markers",
         "name": "H0",
         "type": "scatter",
         "x": [
          0,
          0,
          0,
          0,
          0,
          0,
          0,
          0,
          0,
          0,
          0,
          0,
          0,
          0,
          0,
          0,
          0,
          0,
          0,
          0,
          0,
          0,
          0,
          0,
          0,
          0,
          0,
          0,
          0,
          0,
          0,
          0,
          0,
          0,
          0,
          0,
          0,
          0,
          0,
          0,
          0,
          0,
          0,
          0,
          0,
          0,
          0,
          0,
          0,
          0,
          0,
          0,
          0,
          0,
          0,
          0,
          0,
          0,
          0,
          0,
          0,
          0,
          0,
          0,
          0,
          0,
          0,
          0,
          0,
          0,
          0,
          0,
          0,
          0,
          0,
          0,
          0,
          0,
          0,
          0,
          0,
          0,
          0,
          0,
          0,
          0,
          0,
          0,
          0,
          0,
          0,
          0,
          0,
          0,
          0,
          0,
          0,
          0,
          0
         ],
         "y": [
          0.20940454304218292,
          0.2178589403629303,
          0.22479432821273804,
          0.23170584440231323,
          0.24213622510433197,
          0.24488094449043274,
          0.2469668686389923,
          0.2603466212749481,
          0.2634621858596802,
          0.264640212059021,
          0.2651401162147522,
          0.2676599323749542,
          0.2679472863674164,
          0.26967915892601013,
          0.2697715163230896,
          0.2706190347671509,
          0.2733224034309387,
          0.2746078670024872,
          0.27589666843414307,
          0.2760268449783325,
          0.2836567461490631,
          0.285299688577652,
          0.2860654294490814,
          0.28876054286956787,
          0.2895202338695526,
          0.2898094058036804,
          0.2939048707485199,
          0.29476460814476013,
          0.29791486263275146,
          0.298573762178421,
          0.3008135259151459,
          0.30422860383987427,
          0.30518439412117004,
          0.30911436676979065,
          0.3153943717479706,
          0.31643879413604736,
          0.3186769485473633,
          0.33194994926452637,
          0.34238627552986145,
          0.3467233180999756,
          0.35728126764297485,
          0.35999998450279236,
          0.36095938086509705,
          0.36167994141578674,
          0.36381691694259644,
          0.37536999583244324,
          0.39544546604156494,
          0.39813557267189026,
          0.44214928150177,
          0.4580592215061188,
          0.45938724279403687,
          0.4939257502555847,
          0.6172606348991394,
          0.6214465498924255,
          0.6279279589653015,
          0.6355950236320496,
          0.6465267539024353,
          0.6485952138900757,
          0.6593214273452759,
          0.664386510848999,
          0.6644895672798157,
          0.6667746305465698,
          0.6668298840522766,
          0.6748719811439514,
          0.6778112053871155,
          0.6785327792167664,
          0.6900179386138916,
          0.6921530365943909,
          0.6943411231040955,
          0.6961087584495544,
          0.6997910737991333,
          0.7012843489646912,
          0.7022269368171692,
          0.7039469480514526,
          0.7053738236427307,
          0.7093957662582397,
          0.7117053866386414,
          0.7171230912208557,
          0.7190172076225281,
          0.7267802953720093,
          0.7292498350143433,
          0.7347841858863831,
          0.7477863430976868,
          0.7533934116363525,
          0.7595955729484558,
          0.8816472291946411,
          0.8938755989074707,
          0.9134770035743713,
          0.9136195182800293,
          0.9162771701812744,
          0.916516900062561,
          0.9365742802619934,
          0.9393848776817322,
          0.9400573372840881,
          0.9479286670684814,
          0.9583647847175598,
          0.9683377742767334,
          0.9741389751434326,
          0.9789413213729858
         ]
        },
        {
         "hoverinfo": "text",
         "hovertext": [
          "(2.0346648693084717, 2.071549654006958)",
          "(1.3834278583526611, 1.4832289218902588)",
          "(1.2654449939727783, 1.4506205320358276)",
          "(1.245911955833435, 1.4372671842575073)",
          "(1.1703282594680786, 1.178472876548767)",
          "(1.113808274269104, 1.125151515007019)",
          "(1.1019723415374756, 1.2091679573059082)",
          "(1.082871913909912, 1.7695122957229614)",
          "(1.0292414426803589, 1.1376125812530518)",
          "(1.027510166168213, 1.793244481086731)",
          "(1.024846076965332, 1.774496078491211)",
          "(1.0231883525848389, 1.08741295337677)",
          "(1.0079097747802734, 1.189520239830017)",
          "(1.0067861080169678, 1.2578707933425903)",
          "(0.9978662729263306, 1.7554336786270142)",
          "(0.9920285940170288, 1.194351077079773)",
          "(0.988528311252594, 1.2594058513641357)",
          "(0.9806270003318787, 1.786112666130066)",
          "(0.979604184627533, 1.228155493736267)",
          "(0.978401780128479, 1.7496004104614258)",
          "(0.9782502055168152, 1.0147216320037842)",
          "(0.971179187297821, 1.1966105699539185)",
          "(0.9634500741958618, 0.9703748822212219)",
          "(0.9449182152748108, 1.2271894216537476)",
          "(0.9404163956642151, 1.7806766033172607)",
          "(0.9357830286026001, 1.0132076740264893)",
          "(0.9188759326934814, 1.002994418144226)",
          "(0.8846731781959534, 1.0593676567077637)",
          "(0.8343486189842224, 1.0809273719787598)",
          "(0.8312996625900269, 1.0427223443984985)",
          "(0.8265151977539062, 0.8523971438407898)",
          "(0.8172218203544617, 1.080885887145996)",
          "(0.8165185451507568, 0.843940794467926)",
          "(0.8128077983856201, 0.8240694403648376)",
          "(0.7769308090209961, 0.7805929183959961)",
          "(0.7745899558067322, 0.8656139373779297)",
          "(0.74614417552948, 0.7901449799537659)",
          "(0.7406653165817261, 0.9096342325210571)",
          "(0.7301993370056152, 0.881112277507782)",
          "(0.7300729155540466, 0.7322661876678467)",
          "(0.7251790761947632, 0.7674362063407898)",
          "(0.7216491103172302, 0.9223474264144897)",
          "(0.7165876030921936, 0.7814645171165466)",
          "(0.49874529242515564, 0.5162031650543213)",
          "(0.4986092746257782, 0.5649166703224182)",
          "(0.31884506344795227, 0.3801274299621582)",
          "(0.3186061382293701, 0.35440322756767273)",
          "(0.30331939458847046, 0.389705628156662)",
          "(0.289961576461792, 0.3547525703907013)"
         ],
         "mode": "markers",
         "name": "H1",
         "type": "scatter",
         "x": [
          2.0346648693084717,
          1.3834278583526611,
          1.2654449939727783,
          1.245911955833435,
          1.1703282594680786,
          1.113808274269104,
          1.1019723415374756,
          1.082871913909912,
          1.0292414426803589,
          1.027510166168213,
          1.024846076965332,
          1.0231883525848389,
          1.0079097747802734,
          1.0067861080169678,
          0.9978662729263306,
          0.9920285940170288,
          0.988528311252594,
          0.9806270003318787,
          0.979604184627533,
          0.978401780128479,
          0.9782502055168152,
          0.971179187297821,
          0.9634500741958618,
          0.9449182152748108,
          0.9404163956642151,
          0.9357830286026001,
          0.9188759326934814,
          0.8846731781959534,
          0.8343486189842224,
          0.8312996625900269,
          0.8265151977539062,
          0.8172218203544617,
          0.8165185451507568,
          0.8128077983856201,
          0.7769308090209961,
          0.7745899558067322,
          0.74614417552948,
          0.7406653165817261,
          0.7301993370056152,
          0.7300729155540466,
          0.7251790761947632,
          0.7216491103172302,
          0.7165876030921936,
          0.49874529242515564,
          0.4986092746257782,
          0.31884506344795227,
          0.3186061382293701,
          0.30331939458847046,
          0.289961576461792
         ],
         "y": [
          2.071549654006958,
          1.4832289218902588,
          1.4506205320358276,
          1.4372671842575073,
          1.178472876548767,
          1.125151515007019,
          1.2091679573059082,
          1.7695122957229614,
          1.1376125812530518,
          1.793244481086731,
          1.774496078491211,
          1.08741295337677,
          1.189520239830017,
          1.2578707933425903,
          1.7554336786270142,
          1.194351077079773,
          1.2594058513641357,
          1.786112666130066,
          1.228155493736267,
          1.7496004104614258,
          1.0147216320037842,
          1.1966105699539185,
          0.9703748822212219,
          1.2271894216537476,
          1.7806766033172607,
          1.0132076740264893,
          1.002994418144226,
          1.0593676567077637,
          1.0809273719787598,
          1.0427223443984985,
          0.8523971438407898,
          1.080885887145996,
          0.843940794467926,
          0.8240694403648376,
          0.7805929183959961,
          0.8656139373779297,
          0.7901449799537659,
          0.9096342325210571,
          0.881112277507782,
          0.7322661876678467,
          0.7674362063407898,
          0.9223474264144897,
          0.7814645171165466,
          0.5162031650543213,
          0.5649166703224182,
          0.3801274299621582,
          0.35440322756767273,
          0.389705628156662,
          0.3547525703907013
         ]
        },
        {
         "hoverinfo": "text",
         "hovertext": [
          "(2.161728858947754, 2.179912805557251)",
          "(2.1131579875946045, 2.1970555782318115)",
          "(2.0718905925750732, 2.107569456100464)",
          "(1.8457695245742798, 1.9832781553268433)",
          "(1.8427788019180298, 1.8550865650177002)",
          "(1.8372106552124023, 1.841633915901184)",
          "(1.8284004926681519, 1.8440836668014526)",
          "(1.8258697986602783, 1.8310378789901733)",
          "(1.810009479522705, 1.9180461168289185)",
          "(1.8092420101165771, 1.8390884399414062)",
          "(1.8078845739364624, 1.9579100608825684)",
          "(1.8038232326507568, 1.8076894283294678)",
          "(1.7886632680892944, 1.9515101909637451)",
          "(1.7882850170135498, 1.838305115699768)",
          "(1.7877906560897827, 1.9164454936981201)",
          "(1.7717701196670532, 1.9647183418273926)",
          "(1.7704659700393677, 1.9569374322891235)"
         ],
         "mode": "markers",
         "name": "H2",
         "type": "scatter",
         "x": [
          2.161728858947754,
          2.1131579875946045,
          2.0718905925750732,
          1.8457695245742798,
          1.8427788019180298,
          1.8372106552124023,
          1.8284004926681519,
          1.8258697986602783,
          1.810009479522705,
          1.8092420101165771,
          1.8078845739364624,
          1.8038232326507568,
          1.7886632680892944,
          1.7882850170135498,
          1.7877906560897827,
          1.7717701196670532,
          1.7704659700393677
         ],
         "y": [
          2.179912805557251,
          2.1970555782318115,
          2.107569456100464,
          1.9832781553268433,
          1.8550865650177002,
          1.841633915901184,
          1.8440836668014526,
          1.8310378789901733,
          1.9180461168289185,
          1.8390884399414062,
          1.9579100608825684,
          1.8076894283294678,
          1.9515101909637451,
          1.838305115699768,
          1.9164454936981201,
          1.9647183418273926,
          1.9569374322891235
         ]
        }
       ],
       "layout": {
        "height": 500,
        "plot_bgcolor": "white",
        "template": {
         "data": {
          "bar": [
           {
            "error_x": {
             "color": "#2a3f5f"
            },
            "error_y": {
             "color": "#2a3f5f"
            },
            "marker": {
             "line": {
              "color": "#E5ECF6",
              "width": 0.5
             },
             "pattern": {
              "fillmode": "overlay",
              "size": 10,
              "solidity": 0.2
             }
            },
            "type": "bar"
           }
          ],
          "barpolar": [
           {
            "marker": {
             "line": {
              "color": "#E5ECF6",
              "width": 0.5
             },
             "pattern": {
              "fillmode": "overlay",
              "size": 10,
              "solidity": 0.2
             }
            },
            "type": "barpolar"
           }
          ],
          "carpet": [
           {
            "aaxis": {
             "endlinecolor": "#2a3f5f",
             "gridcolor": "white",
             "linecolor": "white",
             "minorgridcolor": "white",
             "startlinecolor": "#2a3f5f"
            },
            "baxis": {
             "endlinecolor": "#2a3f5f",
             "gridcolor": "white",
             "linecolor": "white",
             "minorgridcolor": "white",
             "startlinecolor": "#2a3f5f"
            },
            "type": "carpet"
           }
          ],
          "choropleth": [
           {
            "colorbar": {
             "outlinewidth": 0,
             "ticks": ""
            },
            "type": "choropleth"
           }
          ],
          "contour": [
           {
            "colorbar": {
             "outlinewidth": 0,
             "ticks": ""
            },
            "colorscale": [
             [
              0,
              "#0d0887"
             ],
             [
              0.1111111111111111,
              "#46039f"
             ],
             [
              0.2222222222222222,
              "#7201a8"
             ],
             [
              0.3333333333333333,
              "#9c179e"
             ],
             [
              0.4444444444444444,
              "#bd3786"
             ],
             [
              0.5555555555555556,
              "#d8576b"
             ],
             [
              0.6666666666666666,
              "#ed7953"
             ],
             [
              0.7777777777777778,
              "#fb9f3a"
             ],
             [
              0.8888888888888888,
              "#fdca26"
             ],
             [
              1,
              "#f0f921"
             ]
            ],
            "type": "contour"
           }
          ],
          "contourcarpet": [
           {
            "colorbar": {
             "outlinewidth": 0,
             "ticks": ""
            },
            "type": "contourcarpet"
           }
          ],
          "heatmap": [
           {
            "colorbar": {
             "outlinewidth": 0,
             "ticks": ""
            },
            "colorscale": [
             [
              0,
              "#0d0887"
             ],
             [
              0.1111111111111111,
              "#46039f"
             ],
             [
              0.2222222222222222,
              "#7201a8"
             ],
             [
              0.3333333333333333,
              "#9c179e"
             ],
             [
              0.4444444444444444,
              "#bd3786"
             ],
             [
              0.5555555555555556,
              "#d8576b"
             ],
             [
              0.6666666666666666,
              "#ed7953"
             ],
             [
              0.7777777777777778,
              "#fb9f3a"
             ],
             [
              0.8888888888888888,
              "#fdca26"
             ],
             [
              1,
              "#f0f921"
             ]
            ],
            "type": "heatmap"
           }
          ],
          "heatmapgl": [
           {
            "colorbar": {
             "outlinewidth": 0,
             "ticks": ""
            },
            "colorscale": [
             [
              0,
              "#0d0887"
             ],
             [
              0.1111111111111111,
              "#46039f"
             ],
             [
              0.2222222222222222,
              "#7201a8"
             ],
             [
              0.3333333333333333,
              "#9c179e"
             ],
             [
              0.4444444444444444,
              "#bd3786"
             ],
             [
              0.5555555555555556,
              "#d8576b"
             ],
             [
              0.6666666666666666,
              "#ed7953"
             ],
             [
              0.7777777777777778,
              "#fb9f3a"
             ],
             [
              0.8888888888888888,
              "#fdca26"
             ],
             [
              1,
              "#f0f921"
             ]
            ],
            "type": "heatmapgl"
           }
          ],
          "histogram": [
           {
            "marker": {
             "pattern": {
              "fillmode": "overlay",
              "size": 10,
              "solidity": 0.2
             }
            },
            "type": "histogram"
           }
          ],
          "histogram2d": [
           {
            "colorbar": {
             "outlinewidth": 0,
             "ticks": ""
            },
            "colorscale": [
             [
              0,
              "#0d0887"
             ],
             [
              0.1111111111111111,
              "#46039f"
             ],
             [
              0.2222222222222222,
              "#7201a8"
             ],
             [
              0.3333333333333333,
              "#9c179e"
             ],
             [
              0.4444444444444444,
              "#bd3786"
             ],
             [
              0.5555555555555556,
              "#d8576b"
             ],
             [
              0.6666666666666666,
              "#ed7953"
             ],
             [
              0.7777777777777778,
              "#fb9f3a"
             ],
             [
              0.8888888888888888,
              "#fdca26"
             ],
             [
              1,
              "#f0f921"
             ]
            ],
            "type": "histogram2d"
           }
          ],
          "histogram2dcontour": [
           {
            "colorbar": {
             "outlinewidth": 0,
             "ticks": ""
            },
            "colorscale": [
             [
              0,
              "#0d0887"
             ],
             [
              0.1111111111111111,
              "#46039f"
             ],
             [
              0.2222222222222222,
              "#7201a8"
             ],
             [
              0.3333333333333333,
              "#9c179e"
             ],
             [
              0.4444444444444444,
              "#bd3786"
             ],
             [
              0.5555555555555556,
              "#d8576b"
             ],
             [
              0.6666666666666666,
              "#ed7953"
             ],
             [
              0.7777777777777778,
              "#fb9f3a"
             ],
             [
              0.8888888888888888,
              "#fdca26"
             ],
             [
              1,
              "#f0f921"
             ]
            ],
            "type": "histogram2dcontour"
           }
          ],
          "mesh3d": [
           {
            "colorbar": {
             "outlinewidth": 0,
             "ticks": ""
            },
            "type": "mesh3d"
           }
          ],
          "parcoords": [
           {
            "line": {
             "colorbar": {
              "outlinewidth": 0,
              "ticks": ""
             }
            },
            "type": "parcoords"
           }
          ],
          "pie": [
           {
            "automargin": true,
            "type": "pie"
           }
          ],
          "scatter": [
           {
            "fillpattern": {
             "fillmode": "overlay",
             "size": 10,
             "solidity": 0.2
            },
            "type": "scatter"
           }
          ],
          "scatter3d": [
           {
            "line": {
             "colorbar": {
              "outlinewidth": 0,
              "ticks": ""
             }
            },
            "marker": {
             "colorbar": {
              "outlinewidth": 0,
              "ticks": ""
             }
            },
            "type": "scatter3d"
           }
          ],
          "scattercarpet": [
           {
            "marker": {
             "colorbar": {
              "outlinewidth": 0,
              "ticks": ""
             }
            },
            "type": "scattercarpet"
           }
          ],
          "scattergeo": [
           {
            "marker": {
             "colorbar": {
              "outlinewidth": 0,
              "ticks": ""
             }
            },
            "type": "scattergeo"
           }
          ],
          "scattergl": [
           {
            "marker": {
             "colorbar": {
              "outlinewidth": 0,
              "ticks": ""
             }
            },
            "type": "scattergl"
           }
          ],
          "scattermapbox": [
           {
            "marker": {
             "colorbar": {
              "outlinewidth": 0,
              "ticks": ""
             }
            },
            "type": "scattermapbox"
           }
          ],
          "scatterpolar": [
           {
            "marker": {
             "colorbar": {
              "outlinewidth": 0,
              "ticks": ""
             }
            },
            "type": "scatterpolar"
           }
          ],
          "scatterpolargl": [
           {
            "marker": {
             "colorbar": {
              "outlinewidth": 0,
              "ticks": ""
             }
            },
            "type": "scatterpolargl"
           }
          ],
          "scatterternary": [
           {
            "marker": {
             "colorbar": {
              "outlinewidth": 0,
              "ticks": ""
             }
            },
            "type": "scatterternary"
           }
          ],
          "surface": [
           {
            "colorbar": {
             "outlinewidth": 0,
             "ticks": ""
            },
            "colorscale": [
             [
              0,
              "#0d0887"
             ],
             [
              0.1111111111111111,
              "#46039f"
             ],
             [
              0.2222222222222222,
              "#7201a8"
             ],
             [
              0.3333333333333333,
              "#9c179e"
             ],
             [
              0.4444444444444444,
              "#bd3786"
             ],
             [
              0.5555555555555556,
              "#d8576b"
             ],
             [
              0.6666666666666666,
              "#ed7953"
             ],
             [
              0.7777777777777778,
              "#fb9f3a"
             ],
             [
              0.8888888888888888,
              "#fdca26"
             ],
             [
              1,
              "#f0f921"
             ]
            ],
            "type": "surface"
           }
          ],
          "table": [
           {
            "cells": {
             "fill": {
              "color": "#EBF0F8"
             },
             "line": {
              "color": "white"
             }
            },
            "header": {
             "fill": {
              "color": "#C8D4E3"
             },
             "line": {
              "color": "white"
             }
            },
            "type": "table"
           }
          ]
         },
         "layout": {
          "annotationdefaults": {
           "arrowcolor": "#2a3f5f",
           "arrowhead": 0,
           "arrowwidth": 1
          },
          "autotypenumbers": "strict",
          "coloraxis": {
           "colorbar": {
            "outlinewidth": 0,
            "ticks": ""
           }
          },
          "colorscale": {
           "diverging": [
            [
             0,
             "#8e0152"
            ],
            [
             0.1,
             "#c51b7d"
            ],
            [
             0.2,
             "#de77ae"
            ],
            [
             0.3,
             "#f1b6da"
            ],
            [
             0.4,
             "#fde0ef"
            ],
            [
             0.5,
             "#f7f7f7"
            ],
            [
             0.6,
             "#e6f5d0"
            ],
            [
             0.7,
             "#b8e186"
            ],
            [
             0.8,
             "#7fbc41"
            ],
            [
             0.9,
             "#4d9221"
            ],
            [
             1,
             "#276419"
            ]
           ],
           "sequential": [
            [
             0,
             "#0d0887"
            ],
            [
             0.1111111111111111,
             "#46039f"
            ],
            [
             0.2222222222222222,
             "#7201a8"
            ],
            [
             0.3333333333333333,
             "#9c179e"
            ],
            [
             0.4444444444444444,
             "#bd3786"
            ],
            [
             0.5555555555555556,
             "#d8576b"
            ],
            [
             0.6666666666666666,
             "#ed7953"
            ],
            [
             0.7777777777777778,
             "#fb9f3a"
            ],
            [
             0.8888888888888888,
             "#fdca26"
            ],
            [
             1,
             "#f0f921"
            ]
           ],
           "sequentialminus": [
            [
             0,
             "#0d0887"
            ],
            [
             0.1111111111111111,
             "#46039f"
            ],
            [
             0.2222222222222222,
             "#7201a8"
            ],
            [
             0.3333333333333333,
             "#9c179e"
            ],
            [
             0.4444444444444444,
             "#bd3786"
            ],
            [
             0.5555555555555556,
             "#d8576b"
            ],
            [
             0.6666666666666666,
             "#ed7953"
            ],
            [
             0.7777777777777778,
             "#fb9f3a"
            ],
            [
             0.8888888888888888,
             "#fdca26"
            ],
            [
             1,
             "#f0f921"
            ]
           ]
          },
          "colorway": [
           "#636efa",
           "#EF553B",
           "#00cc96",
           "#ab63fa",
           "#FFA15A",
           "#19d3f3",
           "#FF6692",
           "#B6E880",
           "#FF97FF",
           "#FECB52"
          ],
          "font": {
           "color": "#2a3f5f"
          },
          "geo": {
           "bgcolor": "white",
           "lakecolor": "white",
           "landcolor": "#E5ECF6",
           "showlakes": true,
           "showland": true,
           "subunitcolor": "white"
          },
          "hoverlabel": {
           "align": "left"
          },
          "hovermode": "closest",
          "mapbox": {
           "style": "light"
          },
          "paper_bgcolor": "white",
          "plot_bgcolor": "#E5ECF6",
          "polar": {
           "angularaxis": {
            "gridcolor": "white",
            "linecolor": "white",
            "ticks": ""
           },
           "bgcolor": "#E5ECF6",
           "radialaxis": {
            "gridcolor": "white",
            "linecolor": "white",
            "ticks": ""
           }
          },
          "scene": {
           "xaxis": {
            "backgroundcolor": "#E5ECF6",
            "gridcolor": "white",
            "gridwidth": 2,
            "linecolor": "white",
            "showbackground": true,
            "ticks": "",
            "zerolinecolor": "white"
           },
           "yaxis": {
            "backgroundcolor": "#E5ECF6",
            "gridcolor": "white",
            "gridwidth": 2,
            "linecolor": "white",
            "showbackground": true,
            "ticks": "",
            "zerolinecolor": "white"
           },
           "zaxis": {
            "backgroundcolor": "#E5ECF6",
            "gridcolor": "white",
            "gridwidth": 2,
            "linecolor": "white",
            "showbackground": true,
            "ticks": "",
            "zerolinecolor": "white"
           }
          },
          "shapedefaults": {
           "line": {
            "color": "#2a3f5f"
           }
          },
          "ternary": {
           "aaxis": {
            "gridcolor": "white",
            "linecolor": "white",
            "ticks": ""
           },
           "baxis": {
            "gridcolor": "white",
            "linecolor": "white",
            "ticks": ""
           },
           "bgcolor": "#E5ECF6",
           "caxis": {
            "gridcolor": "white",
            "linecolor": "white",
            "ticks": ""
           }
          },
          "title": {
           "x": 0.05
          },
          "xaxis": {
           "automargin": true,
           "gridcolor": "white",
           "linecolor": "white",
           "ticks": "",
           "title": {
            "standoff": 15
           },
           "zerolinecolor": "white",
           "zerolinewidth": 2
          },
          "yaxis": {
           "automargin": true,
           "gridcolor": "white",
           "linecolor": "white",
           "ticks": "",
           "title": {
            "standoff": 15
           },
           "zerolinecolor": "white",
           "zerolinewidth": 2
          }
         }
        },
        "width": 500,
        "xaxis": {
         "autorange": false,
         "exponentformat": "e",
         "linecolor": "black",
         "linewidth": 1,
         "mirror": false,
         "range": [
          -0.04394111156463623,
          2.240996689796448
         ],
         "showexponent": "all",
         "showline": true,
         "side": "bottom",
         "ticks": "outside",
         "title": {
          "text": "Birth"
         },
         "type": "linear",
         "zeroline": true
        },
        "yaxis": {
         "autorange": false,
         "exponentformat": "e",
         "linecolor": "black",
         "linewidth": 1,
         "mirror": false,
         "range": [
          -0.04394111156463623,
          2.240996689796448
         ],
         "scaleanchor": "x",
         "scaleratio": 1,
         "showexponent": "all",
         "showline": true,
         "side": "left",
         "ticks": "outside",
         "title": {
          "text": "Death"
         },
         "type": "linear",
         "zeroline": true
        }
       }
      }
     },
     "metadata": {},
     "output_type": "display_data"
    }
   ],
   "source": [
    "plot_diagram(diagrams[20]).show() # Torus"
   ]
  },
  {
   "cell_type": "code",
   "execution_count": 12,
   "metadata": {
    "id": "luYxjYWIi4zj"
   },
   "outputs": [
    {
     "data": {
      "application/vnd.plotly.v1+json": {
       "config": {
        "plotlyServerURL": "https://plot.ly"
       },
       "data": [
        {
         "hoverinfo": "none",
         "line": {
          "color": "black",
          "dash": "dash",
          "width": 1
         },
         "mode": "lines",
         "showlegend": false,
         "type": "scatter",
         "x": [
          -0.010886621475219727,
          0.555217695236206
         ],
         "y": [
          -0.010886621475219727,
          0.555217695236206
         ]
        },
        {
         "hoverinfo": "text",
         "hovertext": [
          "(0.0, 0.4969039857387543), multiplicity: 99",
          "(0.0, 0.4969039857387543), multiplicity: 99",
          "(0.0, 0.4969039857387543), multiplicity: 99",
          "(0.0, 0.4969039857387543), multiplicity: 99",
          "(0.0, 0.4969039857387543), multiplicity: 99",
          "(0.0, 0.4969039857387543), multiplicity: 99",
          "(0.0, 0.4969039857387543), multiplicity: 99",
          "(0.0, 0.4969039857387543), multiplicity: 99",
          "(0.0, 0.4969039857387543), multiplicity: 99",
          "(0.0, 0.4969039857387543), multiplicity: 99",
          "(0.0, 0.4969039857387543), multiplicity: 99",
          "(0.0, 0.4969039857387543), multiplicity: 99",
          "(0.0, 0.4969039857387543), multiplicity: 99",
          "(0.0, 0.4969039857387543), multiplicity: 99",
          "(0.0, 0.4969039857387543), multiplicity: 99",
          "(0.0, 0.4969039857387543), multiplicity: 99",
          "(0.0, 0.4969039857387543), multiplicity: 99",
          "(0.0, 0.4969039857387543), multiplicity: 99",
          "(0.0, 0.4969039857387543), multiplicity: 99",
          "(0.0, 0.4969039857387543), multiplicity: 99",
          "(0.0, 0.4969039857387543), multiplicity: 99",
          "(0.0, 0.4969039857387543), multiplicity: 99",
          "(0.0, 0.4969039857387543), multiplicity: 99",
          "(0.0, 0.4969039857387543), multiplicity: 99",
          "(0.0, 0.4969039857387543), multiplicity: 99",
          "(0.0, 0.4969039857387543), multiplicity: 99",
          "(0.0, 0.4969039857387543), multiplicity: 99",
          "(0.0, 0.4969039857387543), multiplicity: 99",
          "(0.0, 0.4969039857387543), multiplicity: 99",
          "(0.0, 0.4969039857387543), multiplicity: 99",
          "(0.0, 0.4969039857387543), multiplicity: 99",
          "(0.0, 0.4969039857387543), multiplicity: 99",
          "(0.0, 0.4969039857387543), multiplicity: 99",
          "(0.0, 0.4969039857387543), multiplicity: 99",
          "(0.0, 0.4969039857387543), multiplicity: 99",
          "(0.0, 0.4969039857387543), multiplicity: 99",
          "(0.0, 0.4969039857387543), multiplicity: 99",
          "(0.0, 0.4969039857387543), multiplicity: 99",
          "(0.0, 0.4969039857387543), multiplicity: 99",
          "(0.0, 0.4969039857387543), multiplicity: 99",
          "(0.0, 0.4969039857387543), multiplicity: 99",
          "(0.0, 0.4969039857387543), multiplicity: 99",
          "(0.0, 0.4969039857387543), multiplicity: 99",
          "(0.0, 0.4969039857387543), multiplicity: 99",
          "(0.0, 0.4969039857387543), multiplicity: 99",
          "(0.0, 0.4969039857387543), multiplicity: 99",
          "(0.0, 0.4969039857387543), multiplicity: 99",
          "(0.0, 0.4969039857387543), multiplicity: 99",
          "(0.0, 0.4969039857387543), multiplicity: 99",
          "(0.0, 0.4969039857387543), multiplicity: 99",
          "(0.0, 0.4969039857387543), multiplicity: 99",
          "(0.0, 0.4969039857387543), multiplicity: 99",
          "(0.0, 0.4969039857387543), multiplicity: 99",
          "(0.0, 0.4969039857387543), multiplicity: 99",
          "(0.0, 0.4969039857387543), multiplicity: 99",
          "(0.0, 0.4969039857387543), multiplicity: 99",
          "(0.0, 0.4969039857387543), multiplicity: 99",
          "(0.0, 0.4969039857387543), multiplicity: 99",
          "(0.0, 0.4969039857387543), multiplicity: 99",
          "(0.0, 0.4969039857387543), multiplicity: 99",
          "(0.0, 0.4969039857387543), multiplicity: 99",
          "(0.0, 0.4969039857387543), multiplicity: 99",
          "(0.0, 0.4969039857387543), multiplicity: 99",
          "(0.0, 0.4969039857387543), multiplicity: 99",
          "(0.0, 0.4969039857387543), multiplicity: 99",
          "(0.0, 0.4969039857387543), multiplicity: 99",
          "(0.0, 0.4969039857387543), multiplicity: 99",
          "(0.0, 0.4969039857387543), multiplicity: 99",
          "(0.0, 0.4969039857387543), multiplicity: 99",
          "(0.0, 0.4969039857387543), multiplicity: 99",
          "(0.0, 0.4969039857387543), multiplicity: 99",
          "(0.0, 0.4969039857387543), multiplicity: 99",
          "(0.0, 0.4969039857387543), multiplicity: 99",
          "(0.0, 0.4969039857387543), multiplicity: 99",
          "(0.0, 0.4969039857387543), multiplicity: 99",
          "(0.0, 0.4969039857387543), multiplicity: 99",
          "(0.0, 0.4969039857387543), multiplicity: 99",
          "(0.0, 0.4969039857387543), multiplicity: 99",
          "(0.0, 0.4969039857387543), multiplicity: 99",
          "(0.0, 0.4969039857387543), multiplicity: 99",
          "(0.0, 0.4969039857387543), multiplicity: 99",
          "(0.0, 0.4969039857387543), multiplicity: 99",
          "(0.0, 0.4969039857387543), multiplicity: 99",
          "(0.0, 0.4969039857387543), multiplicity: 99",
          "(0.0, 0.4969039857387543), multiplicity: 99",
          "(0.0, 0.4969039857387543), multiplicity: 99",
          "(0.0, 0.4969039857387543), multiplicity: 99",
          "(0.0, 0.4969039857387543), multiplicity: 99",
          "(0.0, 0.4969039857387543), multiplicity: 99",
          "(0.0, 0.4969039857387543), multiplicity: 99",
          "(0.0, 0.4969039857387543), multiplicity: 99",
          "(0.0, 0.4969039857387543), multiplicity: 99",
          "(0.0, 0.4969039857387543), multiplicity: 99",
          "(0.0, 0.4969039857387543), multiplicity: 99",
          "(0.0, 0.4969039857387543), multiplicity: 99",
          "(0.0, 0.4969039857387543), multiplicity: 99",
          "(0.0, 0.4969039857387543), multiplicity: 99",
          "(0.0, 0.4969039857387543), multiplicity: 99",
          "(0.0, 0.4969039857387543), multiplicity: 99"
         ],
         "mode": "markers",
         "name": "H0",
         "type": "scatter",
         "x": [
          0,
          0,
          0,
          0,
          0,
          0,
          0,
          0,
          0,
          0,
          0,
          0,
          0,
          0,
          0,
          0,
          0,
          0,
          0,
          0,
          0,
          0,
          0,
          0,
          0,
          0,
          0,
          0,
          0,
          0,
          0,
          0,
          0,
          0,
          0,
          0,
          0,
          0,
          0,
          0,
          0,
          0,
          0,
          0,
          0,
          0,
          0,
          0,
          0,
          0,
          0,
          0,
          0,
          0,
          0,
          0,
          0,
          0,
          0,
          0,
          0,
          0,
          0,
          0,
          0,
          0,
          0,
          0,
          0,
          0,
          0,
          0,
          0,
          0,
          0,
          0,
          0,
          0,
          0,
          0,
          0,
          0,
          0,
          0,
          0,
          0,
          0,
          0,
          0,
          0,
          0,
          0,
          0,
          0,
          0,
          0,
          0,
          0,
          0
         ],
         "y": [
          0.4969039857387543,
          0.4969039857387543,
          0.4969039857387543,
          0.4969039857387543,
          0.4969039857387543,
          0.4969039857387543,
          0.4969039857387543,
          0.4969039857387543,
          0.4969039857387543,
          0.4969039857387543,
          0.4969039857387543,
          0.4969039857387543,
          0.4969039857387543,
          0.4969039857387543,
          0.4969039857387543,
          0.4969039857387543,
          0.4969039857387543,
          0.4969039857387543,
          0.4969039857387543,
          0.4969039857387543,
          0.4969039857387543,
          0.4969039857387543,
          0.4969039857387543,
          0.4969039857387543,
          0.4969039857387543,
          0.4969039857387543,
          0.4969039857387543,
          0.4969039857387543,
          0.4969039857387543,
          0.4969039857387543,
          0.4969039857387543,
          0.4969039857387543,
          0.4969039857387543,
          0.4969039857387543,
          0.4969039857387543,
          0.4969039857387543,
          0.4969039857387543,
          0.4969039857387543,
          0.4969039857387543,
          0.4969039857387543,
          0.4969039857387543,
          0.4969039857387543,
          0.4969039857387543,
          0.4969039857387543,
          0.4969039857387543,
          0.4969039857387543,
          0.4969039857387543,
          0.4969039857387543,
          0.4969039857387543,
          0.4969039857387543,
          0.4969039857387543,
          0.4969039857387543,
          0.4969039857387543,
          0.4969039857387543,
          0.4969039857387543,
          0.4969039857387543,
          0.4969039857387543,
          0.4969039857387543,
          0.4969039857387543,
          0.4969039857387543,
          0.4969039857387543,
          0.4969039857387543,
          0.4969039857387543,
          0.4969039857387543,
          0.4969039857387543,
          0.4969039857387543,
          0.4969039857387543,
          0.4969039857387543,
          0.4969039857387543,
          0.4969039857387543,
          0.4969039857387543,
          0.4969039857387543,
          0.4969039857387543,
          0.4969039857387543,
          0.4969039857387543,
          0.4969039857387543,
          0.4969039857387543,
          0.4969039857387543,
          0.4969039857387543,
          0.4969039857387543,
          0.4969039857387543,
          0.4969039857387543,
          0.4969039857387543,
          0.4969039857387543,
          0.4969039857387543,
          0.4969039857387543,
          0.4969039857387543,
          0.4969039857387543,
          0.4969039857387543,
          0.4969039857387543,
          0.4969039857387543,
          0.4969039857387543,
          0.4969039857387543,
          0.4969039857387543,
          0.4969039857387543,
          0.4969039857387543,
          0.4969039857387543,
          0.4969039857387543,
          0.4969039857387543
         ]
        },
        {
         "hoverinfo": "text",
         "hovertext": [
          "(0.4969039857387543, 0.5443310737609863), multiplicity: 63",
          "(0.4969039857387543, 0.5443310737609863), multiplicity: 63",
          "(0.4969039857387543, 0.5443310737609863), multiplicity: 63",
          "(0.4969039857387543, 0.5443310737609863), multiplicity: 63",
          "(0.4969039857387543, 0.5443310737609863), multiplicity: 63",
          "(0.4969039857387543, 0.5443310737609863), multiplicity: 63",
          "(0.4969039857387543, 0.5443310737609863), multiplicity: 63",
          "(0.4969039857387543, 0.5443310737609863), multiplicity: 63",
          "(0.4969039857387543, 0.5443310737609863), multiplicity: 63",
          "(0.4969039857387543, 0.5443310737609863), multiplicity: 63",
          "(0.4969039857387543, 0.5443310737609863), multiplicity: 63",
          "(0.4969039857387543, 0.5443310737609863), multiplicity: 63",
          "(0.4969039857387543, 0.5443310737609863), multiplicity: 63",
          "(0.4969039857387543, 0.5443310737609863), multiplicity: 63",
          "(0.4969039857387543, 0.5443310737609863), multiplicity: 63",
          "(0.4969039857387543, 0.5443310737609863), multiplicity: 63",
          "(0.4969039857387543, 0.5443310737609863), multiplicity: 63",
          "(0.4969039857387543, 0.5443310737609863), multiplicity: 63",
          "(0.4969039857387543, 0.5443310737609863), multiplicity: 63",
          "(0.4969039857387543, 0.5443310737609863), multiplicity: 63",
          "(0.4969039857387543, 0.5443310737609863), multiplicity: 63",
          "(0.4969039857387543, 0.5443310737609863), multiplicity: 63",
          "(0.4969039857387543, 0.5443310737609863), multiplicity: 63",
          "(0.4969039857387543, 0.5443310737609863), multiplicity: 63",
          "(0.4969039857387543, 0.5443310737609863), multiplicity: 63",
          "(0.4969039857387543, 0.5443310737609863), multiplicity: 63",
          "(0.4969039857387543, 0.5443310737609863), multiplicity: 63",
          "(0.4969039857387543, 0.5443310737609863), multiplicity: 63",
          "(0.4969039857387543, 0.5443310737609863), multiplicity: 63",
          "(0.4969039857387543, 0.5443310737609863), multiplicity: 63",
          "(0.4969039857387543, 0.5443310737609863), multiplicity: 63",
          "(0.4969039857387543, 0.5443310737609863), multiplicity: 63",
          "(0.4969039857387543, 0.5443310737609863), multiplicity: 63",
          "(0.4969039857387543, 0.5443310737609863), multiplicity: 63",
          "(0.4969039857387543, 0.5443310737609863), multiplicity: 63",
          "(0.4969039857387543, 0.5443310737609863), multiplicity: 63",
          "(0.4969039857387543, 0.5443310737609863), multiplicity: 63",
          "(0.4969039857387543, 0.5443310737609863), multiplicity: 63",
          "(0.4969039857387543, 0.5443310737609863), multiplicity: 63",
          "(0.4969039857387543, 0.5443310737609863), multiplicity: 63",
          "(0.4969039857387543, 0.5443310737609863), multiplicity: 63",
          "(0.4969039857387543, 0.5443310737609863), multiplicity: 63",
          "(0.4969039857387543, 0.5443310737609863), multiplicity: 63",
          "(0.4969039857387543, 0.5443310737609863), multiplicity: 63",
          "(0.4969039857387543, 0.5443310737609863), multiplicity: 63",
          "(0.4969039857387543, 0.5443310737609863), multiplicity: 63",
          "(0.4969039857387543, 0.5443310737609863), multiplicity: 63",
          "(0.4969039857387543, 0.5443310737609863), multiplicity: 63",
          "(0.4969039857387543, 0.5443310737609863), multiplicity: 63",
          "(0.4969039857387543, 0.5443310737609863), multiplicity: 63",
          "(0.4969039857387543, 0.5443310737609863), multiplicity: 63",
          "(0.4969039857387543, 0.5443310737609863), multiplicity: 63",
          "(0.4969039857387543, 0.5443310737609863), multiplicity: 63",
          "(0.4969039857387543, 0.5443310737609863), multiplicity: 63",
          "(0.4969039857387543, 0.5443310737609863), multiplicity: 63",
          "(0.4969039857387543, 0.5443310737609863), multiplicity: 63",
          "(0.4969039857387543, 0.5443310737609863), multiplicity: 63",
          "(0.4969039857387543, 0.5443310737609863), multiplicity: 63",
          "(0.4969039857387543, 0.5443310737609863), multiplicity: 63",
          "(0.4969039857387543, 0.5443310737609863), multiplicity: 63",
          "(0.4969039857387543, 0.5443310737609863), multiplicity: 63",
          "(0.4969039857387543, 0.5443310737609863), multiplicity: 63",
          "(0.4969039857387543, 0.5443310737609863), multiplicity: 63"
         ],
         "mode": "markers",
         "name": "H1",
         "type": "scatter",
         "x": [
          0.4969039857387543,
          0.4969039857387543,
          0.4969039857387543,
          0.4969039857387543,
          0.4969039857387543,
          0.4969039857387543,
          0.4969039857387543,
          0.4969039857387543,
          0.4969039857387543,
          0.4969039857387543,
          0.4969039857387543,
          0.4969039857387543,
          0.4969039857387543,
          0.4969039857387543,
          0.4969039857387543,
          0.4969039857387543,
          0.4969039857387543,
          0.4969039857387543,
          0.4969039857387543,
          0.4969039857387543,
          0.4969039857387543,
          0.4969039857387543,
          0.4969039857387543,
          0.4969039857387543,
          0.4969039857387543,
          0.4969039857387543,
          0.4969039857387543,
          0.4969039857387543,
          0.4969039857387543,
          0.4969039857387543,
          0.4969039857387543,
          0.4969039857387543,
          0.4969039857387543,
          0.4969039857387543,
          0.4969039857387543,
          0.4969039857387543,
          0.4969039857387543,
          0.4969039857387543,
          0.4969039857387543,
          0.4969039857387543,
          0.4969039857387543,
          0.4969039857387543,
          0.4969039857387543,
          0.4969039857387543,
          0.4969039857387543,
          0.4969039857387543,
          0.4969039857387543,
          0.4969039857387543,
          0.4969039857387543,
          0.4969039857387543,
          0.4969039857387543,
          0.4969039857387543,
          0.4969039857387543,
          0.4969039857387543,
          0.4969039857387543,
          0.4969039857387543,
          0.4969039857387543,
          0.4969039857387543,
          0.4969039857387543,
          0.4969039857387543,
          0.4969039857387543,
          0.4969039857387543,
          0.4969039857387543
         ],
         "y": [
          0.5443310737609863,
          0.5443310737609863,
          0.5443310737609863,
          0.5443310737609863,
          0.5443310737609863,
          0.5443310737609863,
          0.5443310737609863,
          0.5443310737609863,
          0.5443310737609863,
          0.5443310737609863,
          0.5443310737609863,
          0.5443310737609863,
          0.5443310737609863,
          0.5443310737609863,
          0.5443310737609863,
          0.5443310737609863,
          0.5443310737609863,
          0.5443310737609863,
          0.5443310737609863,
          0.5443310737609863,
          0.5443310737609863,
          0.5443310737609863,
          0.5443310737609863,
          0.5443310737609863,
          0.5443310737609863,
          0.5443310737609863,
          0.5443310737609863,
          0.5443310737609863,
          0.5443310737609863,
          0.5443310737609863,
          0.5443310737609863,
          0.5443310737609863,
          0.5443310737609863,
          0.5443310737609863,
          0.5443310737609863,
          0.5443310737609863,
          0.5443310737609863,
          0.5443310737609863,
          0.5443310737609863,
          0.5443310737609863,
          0.5443310737609863,
          0.5443310737609863,
          0.5443310737609863,
          0.5443310737609863,
          0.5443310737609863,
          0.5443310737609863,
          0.5443310737609863,
          0.5443310737609863,
          0.5443310737609863,
          0.5443310737609863,
          0.5443310737609863,
          0.5443310737609863,
          0.5443310737609863,
          0.5443310737609863,
          0.5443310737609863,
          0.5443310737609863,
          0.5443310737609863,
          0.5443310737609863,
          0.5443310737609863,
          0.5443310737609863,
          0.5443310737609863,
          0.5443310737609863,
          0.5443310737609863
         ]
        },
        {
         "hoverinfo": "text",
         "hovertext": [],
         "mode": "markers",
         "name": "H2",
         "type": "scatter",
         "x": [],
         "y": []
        }
       ],
       "layout": {
        "height": 500,
        "plot_bgcolor": "white",
        "template": {
         "data": {
          "bar": [
           {
            "error_x": {
             "color": "#2a3f5f"
            },
            "error_y": {
             "color": "#2a3f5f"
            },
            "marker": {
             "line": {
              "color": "#E5ECF6",
              "width": 0.5
             },
             "pattern": {
              "fillmode": "overlay",
              "size": 10,
              "solidity": 0.2
             }
            },
            "type": "bar"
           }
          ],
          "barpolar": [
           {
            "marker": {
             "line": {
              "color": "#E5ECF6",
              "width": 0.5
             },
             "pattern": {
              "fillmode": "overlay",
              "size": 10,
              "solidity": 0.2
             }
            },
            "type": "barpolar"
           }
          ],
          "carpet": [
           {
            "aaxis": {
             "endlinecolor": "#2a3f5f",
             "gridcolor": "white",
             "linecolor": "white",
             "minorgridcolor": "white",
             "startlinecolor": "#2a3f5f"
            },
            "baxis": {
             "endlinecolor": "#2a3f5f",
             "gridcolor": "white",
             "linecolor": "white",
             "minorgridcolor": "white",
             "startlinecolor": "#2a3f5f"
            },
            "type": "carpet"
           }
          ],
          "choropleth": [
           {
            "colorbar": {
             "outlinewidth": 0,
             "ticks": ""
            },
            "type": "choropleth"
           }
          ],
          "contour": [
           {
            "colorbar": {
             "outlinewidth": 0,
             "ticks": ""
            },
            "colorscale": [
             [
              0,
              "#0d0887"
             ],
             [
              0.1111111111111111,
              "#46039f"
             ],
             [
              0.2222222222222222,
              "#7201a8"
             ],
             [
              0.3333333333333333,
              "#9c179e"
             ],
             [
              0.4444444444444444,
              "#bd3786"
             ],
             [
              0.5555555555555556,
              "#d8576b"
             ],
             [
              0.6666666666666666,
              "#ed7953"
             ],
             [
              0.7777777777777778,
              "#fb9f3a"
             ],
             [
              0.8888888888888888,
              "#fdca26"
             ],
             [
              1,
              "#f0f921"
             ]
            ],
            "type": "contour"
           }
          ],
          "contourcarpet": [
           {
            "colorbar": {
             "outlinewidth": 0,
             "ticks": ""
            },
            "type": "contourcarpet"
           }
          ],
          "heatmap": [
           {
            "colorbar": {
             "outlinewidth": 0,
             "ticks": ""
            },
            "colorscale": [
             [
              0,
              "#0d0887"
             ],
             [
              0.1111111111111111,
              "#46039f"
             ],
             [
              0.2222222222222222,
              "#7201a8"
             ],
             [
              0.3333333333333333,
              "#9c179e"
             ],
             [
              0.4444444444444444,
              "#bd3786"
             ],
             [
              0.5555555555555556,
              "#d8576b"
             ],
             [
              0.6666666666666666,
              "#ed7953"
             ],
             [
              0.7777777777777778,
              "#fb9f3a"
             ],
             [
              0.8888888888888888,
              "#fdca26"
             ],
             [
              1,
              "#f0f921"
             ]
            ],
            "type": "heatmap"
           }
          ],
          "heatmapgl": [
           {
            "colorbar": {
             "outlinewidth": 0,
             "ticks": ""
            },
            "colorscale": [
             [
              0,
              "#0d0887"
             ],
             [
              0.1111111111111111,
              "#46039f"
             ],
             [
              0.2222222222222222,
              "#7201a8"
             ],
             [
              0.3333333333333333,
              "#9c179e"
             ],
             [
              0.4444444444444444,
              "#bd3786"
             ],
             [
              0.5555555555555556,
              "#d8576b"
             ],
             [
              0.6666666666666666,
              "#ed7953"
             ],
             [
              0.7777777777777778,
              "#fb9f3a"
             ],
             [
              0.8888888888888888,
              "#fdca26"
             ],
             [
              1,
              "#f0f921"
             ]
            ],
            "type": "heatmapgl"
           }
          ],
          "histogram": [
           {
            "marker": {
             "pattern": {
              "fillmode": "overlay",
              "size": 10,
              "solidity": 0.2
             }
            },
            "type": "histogram"
           }
          ],
          "histogram2d": [
           {
            "colorbar": {
             "outlinewidth": 0,
             "ticks": ""
            },
            "colorscale": [
             [
              0,
              "#0d0887"
             ],
             [
              0.1111111111111111,
              "#46039f"
             ],
             [
              0.2222222222222222,
              "#7201a8"
             ],
             [
              0.3333333333333333,
              "#9c179e"
             ],
             [
              0.4444444444444444,
              "#bd3786"
             ],
             [
              0.5555555555555556,
              "#d8576b"
             ],
             [
              0.6666666666666666,
              "#ed7953"
             ],
             [
              0.7777777777777778,
              "#fb9f3a"
             ],
             [
              0.8888888888888888,
              "#fdca26"
             ],
             [
              1,
              "#f0f921"
             ]
            ],
            "type": "histogram2d"
           }
          ],
          "histogram2dcontour": [
           {
            "colorbar": {
             "outlinewidth": 0,
             "ticks": ""
            },
            "colorscale": [
             [
              0,
              "#0d0887"
             ],
             [
              0.1111111111111111,
              "#46039f"
             ],
             [
              0.2222222222222222,
              "#7201a8"
             ],
             [
              0.3333333333333333,
              "#9c179e"
             ],
             [
              0.4444444444444444,
              "#bd3786"
             ],
             [
              0.5555555555555556,
              "#d8576b"
             ],
             [
              0.6666666666666666,
              "#ed7953"
             ],
             [
              0.7777777777777778,
              "#fb9f3a"
             ],
             [
              0.8888888888888888,
              "#fdca26"
             ],
             [
              1,
              "#f0f921"
             ]
            ],
            "type": "histogram2dcontour"
           }
          ],
          "mesh3d": [
           {
            "colorbar": {
             "outlinewidth": 0,
             "ticks": ""
            },
            "type": "mesh3d"
           }
          ],
          "parcoords": [
           {
            "line": {
             "colorbar": {
              "outlinewidth": 0,
              "ticks": ""
             }
            },
            "type": "parcoords"
           }
          ],
          "pie": [
           {
            "automargin": true,
            "type": "pie"
           }
          ],
          "scatter": [
           {
            "fillpattern": {
             "fillmode": "overlay",
             "size": 10,
             "solidity": 0.2
            },
            "type": "scatter"
           }
          ],
          "scatter3d": [
           {
            "line": {
             "colorbar": {
              "outlinewidth": 0,
              "ticks": ""
             }
            },
            "marker": {
             "colorbar": {
              "outlinewidth": 0,
              "ticks": ""
             }
            },
            "type": "scatter3d"
           }
          ],
          "scattercarpet": [
           {
            "marker": {
             "colorbar": {
              "outlinewidth": 0,
              "ticks": ""
             }
            },
            "type": "scattercarpet"
           }
          ],
          "scattergeo": [
           {
            "marker": {
             "colorbar": {
              "outlinewidth": 0,
              "ticks": ""
             }
            },
            "type": "scattergeo"
           }
          ],
          "scattergl": [
           {
            "marker": {
             "colorbar": {
              "outlinewidth": 0,
              "ticks": ""
             }
            },
            "type": "scattergl"
           }
          ],
          "scattermapbox": [
           {
            "marker": {
             "colorbar": {
              "outlinewidth": 0,
              "ticks": ""
             }
            },
            "type": "scattermapbox"
           }
          ],
          "scatterpolar": [
           {
            "marker": {
             "colorbar": {
              "outlinewidth": 0,
              "ticks": ""
             }
            },
            "type": "scatterpolar"
           }
          ],
          "scatterpolargl": [
           {
            "marker": {
             "colorbar": {
              "outlinewidth": 0,
              "ticks": ""
             }
            },
            "type": "scatterpolargl"
           }
          ],
          "scatterternary": [
           {
            "marker": {
             "colorbar": {
              "outlinewidth": 0,
              "ticks": ""
             }
            },
            "type": "scatterternary"
           }
          ],
          "surface": [
           {
            "colorbar": {
             "outlinewidth": 0,
             "ticks": ""
            },
            "colorscale": [
             [
              0,
              "#0d0887"
             ],
             [
              0.1111111111111111,
              "#46039f"
             ],
             [
              0.2222222222222222,
              "#7201a8"
             ],
             [
              0.3333333333333333,
              "#9c179e"
             ],
             [
              0.4444444444444444,
              "#bd3786"
             ],
             [
              0.5555555555555556,
              "#d8576b"
             ],
             [
              0.6666666666666666,
              "#ed7953"
             ],
             [
              0.7777777777777778,
              "#fb9f3a"
             ],
             [
              0.8888888888888888,
              "#fdca26"
             ],
             [
              1,
              "#f0f921"
             ]
            ],
            "type": "surface"
           }
          ],
          "table": [
           {
            "cells": {
             "fill": {
              "color": "#EBF0F8"
             },
             "line": {
              "color": "white"
             }
            },
            "header": {
             "fill": {
              "color": "#C8D4E3"
             },
             "line": {
              "color": "white"
             }
            },
            "type": "table"
           }
          ]
         },
         "layout": {
          "annotationdefaults": {
           "arrowcolor": "#2a3f5f",
           "arrowhead": 0,
           "arrowwidth": 1
          },
          "autotypenumbers": "strict",
          "coloraxis": {
           "colorbar": {
            "outlinewidth": 0,
            "ticks": ""
           }
          },
          "colorscale": {
           "diverging": [
            [
             0,
             "#8e0152"
            ],
            [
             0.1,
             "#c51b7d"
            ],
            [
             0.2,
             "#de77ae"
            ],
            [
             0.3,
             "#f1b6da"
            ],
            [
             0.4,
             "#fde0ef"
            ],
            [
             0.5,
             "#f7f7f7"
            ],
            [
             0.6,
             "#e6f5d0"
            ],
            [
             0.7,
             "#b8e186"
            ],
            [
             0.8,
             "#7fbc41"
            ],
            [
             0.9,
             "#4d9221"
            ],
            [
             1,
             "#276419"
            ]
           ],
           "sequential": [
            [
             0,
             "#0d0887"
            ],
            [
             0.1111111111111111,
             "#46039f"
            ],
            [
             0.2222222222222222,
             "#7201a8"
            ],
            [
             0.3333333333333333,
             "#9c179e"
            ],
            [
             0.4444444444444444,
             "#bd3786"
            ],
            [
             0.5555555555555556,
             "#d8576b"
            ],
            [
             0.6666666666666666,
             "#ed7953"
            ],
            [
             0.7777777777777778,
             "#fb9f3a"
            ],
            [
             0.8888888888888888,
             "#fdca26"
            ],
            [
             1,
             "#f0f921"
            ]
           ],
           "sequentialminus": [
            [
             0,
             "#0d0887"
            ],
            [
             0.1111111111111111,
             "#46039f"
            ],
            [
             0.2222222222222222,
             "#7201a8"
            ],
            [
             0.3333333333333333,
             "#9c179e"
            ],
            [
             0.4444444444444444,
             "#bd3786"
            ],
            [
             0.5555555555555556,
             "#d8576b"
            ],
            [
             0.6666666666666666,
             "#ed7953"
            ],
            [
             0.7777777777777778,
             "#fb9f3a"
            ],
            [
             0.8888888888888888,
             "#fdca26"
            ],
            [
             1,
             "#f0f921"
            ]
           ]
          },
          "colorway": [
           "#636efa",
           "#EF553B",
           "#00cc96",
           "#ab63fa",
           "#FFA15A",
           "#19d3f3",
           "#FF6692",
           "#B6E880",
           "#FF97FF",
           "#FECB52"
          ],
          "font": {
           "color": "#2a3f5f"
          },
          "geo": {
           "bgcolor": "white",
           "lakecolor": "white",
           "landcolor": "#E5ECF6",
           "showlakes": true,
           "showland": true,
           "subunitcolor": "white"
          },
          "hoverlabel": {
           "align": "left"
          },
          "hovermode": "closest",
          "mapbox": {
           "style": "light"
          },
          "paper_bgcolor": "white",
          "plot_bgcolor": "#E5ECF6",
          "polar": {
           "angularaxis": {
            "gridcolor": "white",
            "linecolor": "white",
            "ticks": ""
           },
           "bgcolor": "#E5ECF6",
           "radialaxis": {
            "gridcolor": "white",
            "linecolor": "white",
            "ticks": ""
           }
          },
          "scene": {
           "xaxis": {
            "backgroundcolor": "#E5ECF6",
            "gridcolor": "white",
            "gridwidth": 2,
            "linecolor": "white",
            "showbackground": true,
            "ticks": "",
            "zerolinecolor": "white"
           },
           "yaxis": {
            "backgroundcolor": "#E5ECF6",
            "gridcolor": "white",
            "gridwidth": 2,
            "linecolor": "white",
            "showbackground": true,
            "ticks": "",
            "zerolinecolor": "white"
           },
           "zaxis": {
            "backgroundcolor": "#E5ECF6",
            "gridcolor": "white",
            "gridwidth": 2,
            "linecolor": "white",
            "showbackground": true,
            "ticks": "",
            "zerolinecolor": "white"
           }
          },
          "shapedefaults": {
           "line": {
            "color": "#2a3f5f"
           }
          },
          "ternary": {
           "aaxis": {
            "gridcolor": "white",
            "linecolor": "white",
            "ticks": ""
           },
           "baxis": {
            "gridcolor": "white",
            "linecolor": "white",
            "ticks": ""
           },
           "bgcolor": "#E5ECF6",
           "caxis": {
            "gridcolor": "white",
            "linecolor": "white",
            "ticks": ""
           }
          },
          "title": {
           "x": 0.05
          },
          "xaxis": {
           "automargin": true,
           "gridcolor": "white",
           "linecolor": "white",
           "ticks": "",
           "title": {
            "standoff": 15
           },
           "zerolinecolor": "white",
           "zerolinewidth": 2
          },
          "yaxis": {
           "automargin": true,
           "gridcolor": "white",
           "linecolor": "white",
           "ticks": "",
           "title": {
            "standoff": 15
           },
           "zerolinecolor": "white",
           "zerolinewidth": 2
          }
         }
        },
        "width": 500,
        "xaxis": {
         "autorange": false,
         "exponentformat": "e",
         "linecolor": "black",
         "linewidth": 1,
         "mirror": false,
         "range": [
          -0.010886621475219727,
          0.555217695236206
         ],
         "showexponent": "all",
         "showline": true,
         "side": "bottom",
         "ticks": "outside",
         "title": {
          "text": "Birth"
         },
         "type": "linear",
         "zeroline": true
        },
        "yaxis": {
         "autorange": false,
         "exponentformat": "e",
         "linecolor": "black",
         "linewidth": 1,
         "mirror": false,
         "range": [
          -0.010886621475219727,
          0.555217695236206
         ],
         "scaleanchor": "x",
         "scaleratio": 1,
         "showexponent": "all",
         "showline": true,
         "side": "left",
         "ticks": "outside",
         "title": {
          "text": "Death"
         },
         "type": "linear",
         "zeroline": true
        }
       }
      }
     },
     "metadata": {},
     "output_type": "display_data"
    }
   ],
   "source": [
    "plot_diagram(diagrams[-3]).show() # Plane"
   ]
  },
  {
   "cell_type": "markdown",
   "metadata": {},
   "source": [
    "At this point, we compute the entropy of each diagram above, which produces an entropy value for each dimension - quantifying the average persistence of topological features of that dimension (in comparison to the trivial diagram with no off-diagonal points). In our case, since our homologies only go up to dimension 2, the entropies are vectors in R^3 which can be easily visualized! "
   ]
  },
  {
   "cell_type": "code",
   "execution_count": 13,
   "metadata": {
    "id": "GoRdVubji5cF"
   },
   "outputs": [
    {
     "data": {
      "application/vnd.plotly.v1+json": {
       "config": {
        "plotlyServerURL": "https://plot.ly"
       },
       "data": [
        {
         "marker": {
          "color": [
           0,
           1,
           2,
           3,
           4,
           5,
           6,
           7,
           8,
           9,
           10,
           11,
           12,
           13,
           14,
           15,
           16,
           17,
           18,
           19,
           20,
           21,
           22,
           23,
           24,
           25,
           26,
           27,
           28,
           29,
           30,
           31,
           32,
           33,
           34,
           35,
           36,
           37,
           38,
           39
          ],
          "colorscale": [
           [
            0,
            "#440154"
           ],
           [
            0.1111111111111111,
            "#482878"
           ],
           [
            0.2222222222222222,
            "#3e4989"
           ],
           [
            0.3333333333333333,
            "#31688e"
           ],
           [
            0.4444444444444444,
            "#26828e"
           ],
           [
            0.5555555555555556,
            "#1f9e89"
           ],
           [
            0.6666666666666666,
            "#35b779"
           ],
           [
            0.7777777777777778,
            "#6ece58"
           ],
           [
            0.8888888888888888,
            "#b5de2b"
           ],
           [
            1,
            "#fde725"
           ]
          ],
          "opacity": 0.8,
          "size": 4
         },
         "mode": "markers",
         "type": "scatter3d",
         "x": [
          6.41427947258266,
          6.376772475871546,
          6.446681649758428,
          6.408175943920352,
          6.4552925146682245,
          6.451044754653329,
          6.399229381456771,
          6.3978024308116614,
          6.427726064262251,
          6.464574442265682,
          6.511929538654641,
          6.5037835990025705,
          6.5070982483515865,
          6.509265839665439,
          6.509897475462468,
          6.506919719278636,
          6.508315006615121,
          6.493914186210062,
          6.530444953863929,
          6.507660141851838,
          6.472013644395669,
          6.472696484292656,
          6.479829604470505,
          6.464291744812382,
          6.469329901969607,
          6.469217727008321,
          6.480096410821633,
          6.471786770304368,
          6.462703922660503,
          6.46933049253251,
          6.6104947624523,
          6.6104947624523,
          6.588364426054987,
          6.629356620079611,
          6.629356620079611,
          6.623326261857337,
          6.536827654667447,
          6.629356620079611,
          6.628836044383356,
          6.57952352431933
         ],
         "y": [
          0,
          0,
          0.016823837819644243,
          0.045421414279414395,
          0,
          0.050054228398673746,
          0.027213970529480488,
          0,
          0,
          0,
          4.628833678783801,
          4.6257614940101375,
          4.6402808051805975,
          4.725549462385381,
          4.46145674404858,
          4.56106892564056,
          4.480720754663509,
          4.48136760874714,
          4.586617404036418,
          4.410825589414,
          4.790860896660229,
          4.740847543586343,
          4.7469989789056015,
          4.77359575915463,
          4.827880869765271,
          4.779651351143922,
          4.848679705305944,
          4.807489670687175,
          4.790692023691736,
          4.765358928126853,
          5.977279923499918,
          5.977279923499918,
          5.807354922057605,
          -1,
          5.977279923499918,
          5.977279923499918,
          -1,
          5.977279923499918,
          5.977279923499918,
          5.977279923499918
         ],
         "z": [
          2.3827771489519485,
          2.84961100106574,
          2.446598943455301,
          2.7119767821001646,
          2.7947605634750867,
          2.6170077905190996,
          2.343293815169606,
          2.6180968998132075,
          2.636950372475593,
          2.5254540423104967,
          0.21280329990256652,
          0.18741222824326415,
          0.33324973005975256,
          0.09065401126321142,
          0.20641046342775668,
          0.1486777260145844,
          0.12287045160116203,
          0.3603304838589687,
          0.4253879390878696,
          0,
          3.491184230548474,
          3.361953358813995,
          3.4456369804500584,
          3.579194506076482,
          3.5795173214617453,
          3.483720315778336,
          3.427470340117196,
          3.484990093331264,
          3.633365133604891,
          3.5580482012873826,
          -1,
          -1,
          -1,
          -1,
          -1,
          -1,
          -1,
          -1,
          -1,
          -1
         ]
        }
       ],
       "layout": {
        "scene": {
         "xaxis": {
          "exponentformat": "e",
          "showexponent": "all",
          "title": {
           "text": "0th"
          },
          "type": "linear"
         },
         "yaxis": {
          "exponentformat": "e",
          "showexponent": "all",
          "title": {
           "text": "1st"
          },
          "type": "linear"
         },
         "zaxis": {
          "exponentformat": "e",
          "showexponent": "all",
          "title": {
           "text": "2nd"
          },
          "type": "linear"
         }
        },
        "template": {
         "data": {
          "bar": [
           {
            "error_x": {
             "color": "#2a3f5f"
            },
            "error_y": {
             "color": "#2a3f5f"
            },
            "marker": {
             "line": {
              "color": "#E5ECF6",
              "width": 0.5
             },
             "pattern": {
              "fillmode": "overlay",
              "size": 10,
              "solidity": 0.2
             }
            },
            "type": "bar"
           }
          ],
          "barpolar": [
           {
            "marker": {
             "line": {
              "color": "#E5ECF6",
              "width": 0.5
             },
             "pattern": {
              "fillmode": "overlay",
              "size": 10,
              "solidity": 0.2
             }
            },
            "type": "barpolar"
           }
          ],
          "carpet": [
           {
            "aaxis": {
             "endlinecolor": "#2a3f5f",
             "gridcolor": "white",
             "linecolor": "white",
             "minorgridcolor": "white",
             "startlinecolor": "#2a3f5f"
            },
            "baxis": {
             "endlinecolor": "#2a3f5f",
             "gridcolor": "white",
             "linecolor": "white",
             "minorgridcolor": "white",
             "startlinecolor": "#2a3f5f"
            },
            "type": "carpet"
           }
          ],
          "choropleth": [
           {
            "colorbar": {
             "outlinewidth": 0,
             "ticks": ""
            },
            "type": "choropleth"
           }
          ],
          "contour": [
           {
            "colorbar": {
             "outlinewidth": 0,
             "ticks": ""
            },
            "colorscale": [
             [
              0,
              "#0d0887"
             ],
             [
              0.1111111111111111,
              "#46039f"
             ],
             [
              0.2222222222222222,
              "#7201a8"
             ],
             [
              0.3333333333333333,
              "#9c179e"
             ],
             [
              0.4444444444444444,
              "#bd3786"
             ],
             [
              0.5555555555555556,
              "#d8576b"
             ],
             [
              0.6666666666666666,
              "#ed7953"
             ],
             [
              0.7777777777777778,
              "#fb9f3a"
             ],
             [
              0.8888888888888888,
              "#fdca26"
             ],
             [
              1,
              "#f0f921"
             ]
            ],
            "type": "contour"
           }
          ],
          "contourcarpet": [
           {
            "colorbar": {
             "outlinewidth": 0,
             "ticks": ""
            },
            "type": "contourcarpet"
           }
          ],
          "heatmap": [
           {
            "colorbar": {
             "outlinewidth": 0,
             "ticks": ""
            },
            "colorscale": [
             [
              0,
              "#0d0887"
             ],
             [
              0.1111111111111111,
              "#46039f"
             ],
             [
              0.2222222222222222,
              "#7201a8"
             ],
             [
              0.3333333333333333,
              "#9c179e"
             ],
             [
              0.4444444444444444,
              "#bd3786"
             ],
             [
              0.5555555555555556,
              "#d8576b"
             ],
             [
              0.6666666666666666,
              "#ed7953"
             ],
             [
              0.7777777777777778,
              "#fb9f3a"
             ],
             [
              0.8888888888888888,
              "#fdca26"
             ],
             [
              1,
              "#f0f921"
             ]
            ],
            "type": "heatmap"
           }
          ],
          "heatmapgl": [
           {
            "colorbar": {
             "outlinewidth": 0,
             "ticks": ""
            },
            "colorscale": [
             [
              0,
              "#0d0887"
             ],
             [
              0.1111111111111111,
              "#46039f"
             ],
             [
              0.2222222222222222,
              "#7201a8"
             ],
             [
              0.3333333333333333,
              "#9c179e"
             ],
             [
              0.4444444444444444,
              "#bd3786"
             ],
             [
              0.5555555555555556,
              "#d8576b"
             ],
             [
              0.6666666666666666,
              "#ed7953"
             ],
             [
              0.7777777777777778,
              "#fb9f3a"
             ],
             [
              0.8888888888888888,
              "#fdca26"
             ],
             [
              1,
              "#f0f921"
             ]
            ],
            "type": "heatmapgl"
           }
          ],
          "histogram": [
           {
            "marker": {
             "pattern": {
              "fillmode": "overlay",
              "size": 10,
              "solidity": 0.2
             }
            },
            "type": "histogram"
           }
          ],
          "histogram2d": [
           {
            "colorbar": {
             "outlinewidth": 0,
             "ticks": ""
            },
            "colorscale": [
             [
              0,
              "#0d0887"
             ],
             [
              0.1111111111111111,
              "#46039f"
             ],
             [
              0.2222222222222222,
              "#7201a8"
             ],
             [
              0.3333333333333333,
              "#9c179e"
             ],
             [
              0.4444444444444444,
              "#bd3786"
             ],
             [
              0.5555555555555556,
              "#d8576b"
             ],
             [
              0.6666666666666666,
              "#ed7953"
             ],
             [
              0.7777777777777778,
              "#fb9f3a"
             ],
             [
              0.8888888888888888,
              "#fdca26"
             ],
             [
              1,
              "#f0f921"
             ]
            ],
            "type": "histogram2d"
           }
          ],
          "histogram2dcontour": [
           {
            "colorbar": {
             "outlinewidth": 0,
             "ticks": ""
            },
            "colorscale": [
             [
              0,
              "#0d0887"
             ],
             [
              0.1111111111111111,
              "#46039f"
             ],
             [
              0.2222222222222222,
              "#7201a8"
             ],
             [
              0.3333333333333333,
              "#9c179e"
             ],
             [
              0.4444444444444444,
              "#bd3786"
             ],
             [
              0.5555555555555556,
              "#d8576b"
             ],
             [
              0.6666666666666666,
              "#ed7953"
             ],
             [
              0.7777777777777778,
              "#fb9f3a"
             ],
             [
              0.8888888888888888,
              "#fdca26"
             ],
             [
              1,
              "#f0f921"
             ]
            ],
            "type": "histogram2dcontour"
           }
          ],
          "mesh3d": [
           {
            "colorbar": {
             "outlinewidth": 0,
             "ticks": ""
            },
            "type": "mesh3d"
           }
          ],
          "parcoords": [
           {
            "line": {
             "colorbar": {
              "outlinewidth": 0,
              "ticks": ""
             }
            },
            "type": "parcoords"
           }
          ],
          "pie": [
           {
            "automargin": true,
            "type": "pie"
           }
          ],
          "scatter": [
           {
            "fillpattern": {
             "fillmode": "overlay",
             "size": 10,
             "solidity": 0.2
            },
            "type": "scatter"
           }
          ],
          "scatter3d": [
           {
            "line": {
             "colorbar": {
              "outlinewidth": 0,
              "ticks": ""
             }
            },
            "marker": {
             "colorbar": {
              "outlinewidth": 0,
              "ticks": ""
             }
            },
            "type": "scatter3d"
           }
          ],
          "scattercarpet": [
           {
            "marker": {
             "colorbar": {
              "outlinewidth": 0,
              "ticks": ""
             }
            },
            "type": "scattercarpet"
           }
          ],
          "scattergeo": [
           {
            "marker": {
             "colorbar": {
              "outlinewidth": 0,
              "ticks": ""
             }
            },
            "type": "scattergeo"
           }
          ],
          "scattergl": [
           {
            "marker": {
             "colorbar": {
              "outlinewidth": 0,
              "ticks": ""
             }
            },
            "type": "scattergl"
           }
          ],
          "scattermapbox": [
           {
            "marker": {
             "colorbar": {
              "outlinewidth": 0,
              "ticks": ""
             }
            },
            "type": "scattermapbox"
           }
          ],
          "scatterpolar": [
           {
            "marker": {
             "colorbar": {
              "outlinewidth": 0,
              "ticks": ""
             }
            },
            "type": "scatterpolar"
           }
          ],
          "scatterpolargl": [
           {
            "marker": {
             "colorbar": {
              "outlinewidth": 0,
              "ticks": ""
             }
            },
            "type": "scatterpolargl"
           }
          ],
          "scatterternary": [
           {
            "marker": {
             "colorbar": {
              "outlinewidth": 0,
              "ticks": ""
             }
            },
            "type": "scatterternary"
           }
          ],
          "surface": [
           {
            "colorbar": {
             "outlinewidth": 0,
             "ticks": ""
            },
            "colorscale": [
             [
              0,
              "#0d0887"
             ],
             [
              0.1111111111111111,
              "#46039f"
             ],
             [
              0.2222222222222222,
              "#7201a8"
             ],
             [
              0.3333333333333333,
              "#9c179e"
             ],
             [
              0.4444444444444444,
              "#bd3786"
             ],
             [
              0.5555555555555556,
              "#d8576b"
             ],
             [
              0.6666666666666666,
              "#ed7953"
             ],
             [
              0.7777777777777778,
              "#fb9f3a"
             ],
             [
              0.8888888888888888,
              "#fdca26"
             ],
             [
              1,
              "#f0f921"
             ]
            ],
            "type": "surface"
           }
          ],
          "table": [
           {
            "cells": {
             "fill": {
              "color": "#EBF0F8"
             },
             "line": {
              "color": "white"
             }
            },
            "header": {
             "fill": {
              "color": "#C8D4E3"
             },
             "line": {
              "color": "white"
             }
            },
            "type": "table"
           }
          ]
         },
         "layout": {
          "annotationdefaults": {
           "arrowcolor": "#2a3f5f",
           "arrowhead": 0,
           "arrowwidth": 1
          },
          "autotypenumbers": "strict",
          "coloraxis": {
           "colorbar": {
            "outlinewidth": 0,
            "ticks": ""
           }
          },
          "colorscale": {
           "diverging": [
            [
             0,
             "#8e0152"
            ],
            [
             0.1,
             "#c51b7d"
            ],
            [
             0.2,
             "#de77ae"
            ],
            [
             0.3,
             "#f1b6da"
            ],
            [
             0.4,
             "#fde0ef"
            ],
            [
             0.5,
             "#f7f7f7"
            ],
            [
             0.6,
             "#e6f5d0"
            ],
            [
             0.7,
             "#b8e186"
            ],
            [
             0.8,
             "#7fbc41"
            ],
            [
             0.9,
             "#4d9221"
            ],
            [
             1,
             "#276419"
            ]
           ],
           "sequential": [
            [
             0,
             "#0d0887"
            ],
            [
             0.1111111111111111,
             "#46039f"
            ],
            [
             0.2222222222222222,
             "#7201a8"
            ],
            [
             0.3333333333333333,
             "#9c179e"
            ],
            [
             0.4444444444444444,
             "#bd3786"
            ],
            [
             0.5555555555555556,
             "#d8576b"
            ],
            [
             0.6666666666666666,
             "#ed7953"
            ],
            [
             0.7777777777777778,
             "#fb9f3a"
            ],
            [
             0.8888888888888888,
             "#fdca26"
            ],
            [
             1,
             "#f0f921"
            ]
           ],
           "sequentialminus": [
            [
             0,
             "#0d0887"
            ],
            [
             0.1111111111111111,
             "#46039f"
            ],
            [
             0.2222222222222222,
             "#7201a8"
            ],
            [
             0.3333333333333333,
             "#9c179e"
            ],
            [
             0.4444444444444444,
             "#bd3786"
            ],
            [
             0.5555555555555556,
             "#d8576b"
            ],
            [
             0.6666666666666666,
             "#ed7953"
            ],
            [
             0.7777777777777778,
             "#fb9f3a"
            ],
            [
             0.8888888888888888,
             "#fdca26"
            ],
            [
             1,
             "#f0f921"
            ]
           ]
          },
          "colorway": [
           "#636efa",
           "#EF553B",
           "#00cc96",
           "#ab63fa",
           "#FFA15A",
           "#19d3f3",
           "#FF6692",
           "#B6E880",
           "#FF97FF",
           "#FECB52"
          ],
          "font": {
           "color": "#2a3f5f"
          },
          "geo": {
           "bgcolor": "white",
           "lakecolor": "white",
           "landcolor": "#E5ECF6",
           "showlakes": true,
           "showland": true,
           "subunitcolor": "white"
          },
          "hoverlabel": {
           "align": "left"
          },
          "hovermode": "closest",
          "mapbox": {
           "style": "light"
          },
          "paper_bgcolor": "white",
          "plot_bgcolor": "#E5ECF6",
          "polar": {
           "angularaxis": {
            "gridcolor": "white",
            "linecolor": "white",
            "ticks": ""
           },
           "bgcolor": "#E5ECF6",
           "radialaxis": {
            "gridcolor": "white",
            "linecolor": "white",
            "ticks": ""
           }
          },
          "scene": {
           "xaxis": {
            "backgroundcolor": "#E5ECF6",
            "gridcolor": "white",
            "gridwidth": 2,
            "linecolor": "white",
            "showbackground": true,
            "ticks": "",
            "zerolinecolor": "white"
           },
           "yaxis": {
            "backgroundcolor": "#E5ECF6",
            "gridcolor": "white",
            "gridwidth": 2,
            "linecolor": "white",
            "showbackground": true,
            "ticks": "",
            "zerolinecolor": "white"
           },
           "zaxis": {
            "backgroundcolor": "#E5ECF6",
            "gridcolor": "white",
            "gridwidth": 2,
            "linecolor": "white",
            "showbackground": true,
            "ticks": "",
            "zerolinecolor": "white"
           }
          },
          "shapedefaults": {
           "line": {
            "color": "#2a3f5f"
           }
          },
          "ternary": {
           "aaxis": {
            "gridcolor": "white",
            "linecolor": "white",
            "ticks": ""
           },
           "baxis": {
            "gridcolor": "white",
            "linecolor": "white",
            "ticks": ""
           },
           "bgcolor": "#E5ECF6",
           "caxis": {
            "gridcolor": "white",
            "linecolor": "white",
            "ticks": ""
           }
          },
          "title": {
           "x": 0.05
          },
          "xaxis": {
           "automargin": true,
           "gridcolor": "white",
           "linecolor": "white",
           "ticks": "",
           "title": {
            "standoff": 15
           },
           "zerolinecolor": "white",
           "zerolinewidth": 2
          },
          "yaxis": {
           "automargin": true,
           "gridcolor": "white",
           "linecolor": "white",
           "ticks": "",
           "title": {
            "standoff": 15
           },
           "zerolinecolor": "white",
           "zerolinewidth": 2
          }
         }
        }
       }
      }
     },
     "metadata": {},
     "output_type": "display_data"
    }
   ],
   "source": [
    "persistence_entropy = PersistenceEntropy()\n",
    "\n",
    "# calculate topological feature matrix\n",
    "X = persistence_entropy.fit_transform(diagrams)\n",
    "plot_point_cloud(X).show()"
   ]
  },
  {
   "cell_type": "markdown",
   "metadata": {},
   "source": [
    "And we see formation of clusters!!! So the entropy is a great way that (linearly) separates the shapes! So we can just train a classifier on the entropy values. Note that the input to our classifier now is just a 3 dimensional vector as opposed to a 300 dimensional vector had we fed in the entire point cloud with 100 points each with 3 numbers quantifying the x,y and z position values! This is a reduction of the input feature size by **two orders of magnitude**!!!"
   ]
  },
  {
   "cell_type": "code",
   "execution_count": 14,
   "metadata": {
    "id": "VtzJ4VVGi_wY"
   },
   "outputs": [
    {
     "name": "stdout",
     "output_type": "stream",
     "text": [
      "OOB score: 1.000\n"
     ]
    }
   ],
   "source": [
    "rf = RandomForestClassifier(oob_score=True)\n",
    "rf.fit(X, labs)\n",
    "print(f\"OOB score: {rf.oob_score:.3f}\")"
   ]
  },
  {
   "cell_type": "markdown",
   "metadata": {},
   "source": [
    "We can see that our model performs exceptionally well with synthetically generated data. We will now implement a version for data from real 3-d models. We will use the data from Princeton's computer vision course for our implementation. This dataset is freely available via the get_dataset function in the openml library. The data file contains 40 different point clouds across 4 classes (i.e, 10 clouds per class), each with 400 points."
   ]
  },
  {
   "cell_type": "code",
   "execution_count": 15,
   "metadata": {},
   "outputs": [
    {
     "name": "stderr",
     "output_type": "stream",
     "text": [
      "C:\\Users\\ab251\\AppData\\Local\\Temp\\ipykernel_32560\\1591671407.py:2: FutureWarning:\n",
      "\n",
      "Starting from Version 0.15 `download_data`, `download_qualities`, and `download_features_meta_data` will all be ``False`` instead of ``True`` by default to enable lazy loading. To disable this message until version 0.15 explicitly set `download_data`, `download_qualities`, and `download_features_meta_data` to a bool while calling `get_dataset`.\n",
      "\n"
     ]
    },
    {
     "data": {
      "text/html": [
       "<div>\n",
       "<style scoped>\n",
       "    .dataframe tbody tr th:only-of-type {\n",
       "        vertical-align: middle;\n",
       "    }\n",
       "\n",
       "    .dataframe tbody tr th {\n",
       "        vertical-align: top;\n",
       "    }\n",
       "\n",
       "    .dataframe thead th {\n",
       "        text-align: right;\n",
       "    }\n",
       "</style>\n",
       "<table border=\"1\" class=\"dataframe\">\n",
       "  <thead>\n",
       "    <tr style=\"text-align: right;\">\n",
       "      <th></th>\n",
       "      <th>x</th>\n",
       "      <th>y</th>\n",
       "      <th>z</th>\n",
       "      <th>target</th>\n",
       "    </tr>\n",
       "  </thead>\n",
       "  <tbody>\n",
       "    <tr>\n",
       "      <th>0</th>\n",
       "      <td>0.341007</td>\n",
       "      <td>0.318606</td>\n",
       "      <td>0.096725</td>\n",
       "      <td>human_arms_out9</td>\n",
       "    </tr>\n",
       "    <tr>\n",
       "      <th>1</th>\n",
       "      <td>0.329226</td>\n",
       "      <td>0.421601</td>\n",
       "      <td>0.056749</td>\n",
       "      <td>human_arms_out9</td>\n",
       "    </tr>\n",
       "    <tr>\n",
       "      <th>2</th>\n",
       "      <td>0.446869</td>\n",
       "      <td>0.648674</td>\n",
       "      <td>0.124090</td>\n",
       "      <td>human_arms_out9</td>\n",
       "    </tr>\n",
       "    <tr>\n",
       "      <th>3</th>\n",
       "      <td>0.314729</td>\n",
       "      <td>0.217860</td>\n",
       "      <td>0.070847</td>\n",
       "      <td>human_arms_out9</td>\n",
       "    </tr>\n",
       "    <tr>\n",
       "      <th>4</th>\n",
       "      <td>0.426678</td>\n",
       "      <td>0.919195</td>\n",
       "      <td>0.047609</td>\n",
       "      <td>human_arms_out9</td>\n",
       "    </tr>\n",
       "  </tbody>\n",
       "</table>\n",
       "</div>"
      ],
      "text/plain": [
       "          x         y         z           target\n",
       "0  0.341007  0.318606  0.096725  human_arms_out9\n",
       "1  0.329226  0.421601  0.056749  human_arms_out9\n",
       "2  0.446869  0.648674  0.124090  human_arms_out9\n",
       "3  0.314729  0.217860  0.070847  human_arms_out9\n",
       "4  0.426678  0.919195  0.047609  human_arms_out9"
      ]
     },
     "execution_count": 15,
     "metadata": {},
     "output_type": "execute_result"
    }
   ],
   "source": [
    "# Obtain the shapes dataset\n",
    "df = get_dataset('shapes').get_data(dataset_format='dataframe')[0]\n",
    "df.head()"
   ]
  },
  {
   "cell_type": "code",
   "execution_count": 16,
   "metadata": {},
   "outputs": [
    {
     "data": {
      "application/vnd.plotly.v1+json": {
       "config": {
        "plotlyServerURL": "https://plot.ly"
       },
       "data": [
        {
         "marker": {
          "color": [
           0,
           1,
           2,
           3,
           4,
           5,
           6,
           7,
           8,
           9,
           10,
           11,
           12,
           13,
           14,
           15,
           16,
           17,
           18,
           19,
           20,
           21,
           22,
           23,
           24,
           25,
           26,
           27,
           28,
           29,
           30,
           31,
           32,
           33,
           34,
           35,
           36,
           37,
           38,
           39,
           40,
           41,
           42,
           43,
           44,
           45,
           46,
           47,
           48,
           49,
           50,
           51,
           52,
           53,
           54,
           55,
           56,
           57,
           58,
           59,
           60,
           61,
           62,
           63,
           64,
           65,
           66,
           67,
           68,
           69,
           70,
           71,
           72,
           73,
           74,
           75,
           76,
           77,
           78,
           79,
           80,
           81,
           82,
           83,
           84,
           85,
           86,
           87,
           88,
           89,
           90,
           91,
           92,
           93,
           94,
           95,
           96,
           97,
           98,
           99,
           100,
           101,
           102,
           103,
           104,
           105,
           106,
           107,
           108,
           109,
           110,
           111,
           112,
           113,
           114,
           115,
           116,
           117,
           118,
           119,
           120,
           121,
           122,
           123,
           124,
           125,
           126,
           127,
           128,
           129,
           130,
           131,
           132,
           133,
           134,
           135,
           136,
           137,
           138,
           139,
           140,
           141,
           142,
           143,
           144,
           145,
           146,
           147,
           148,
           149,
           150,
           151,
           152,
           153,
           154,
           155,
           156,
           157,
           158,
           159,
           160,
           161,
           162,
           163,
           164,
           165,
           166,
           167,
           168,
           169,
           170,
           171,
           172,
           173,
           174,
           175,
           176,
           177,
           178,
           179,
           180,
           181,
           182,
           183,
           184,
           185,
           186,
           187,
           188,
           189,
           190,
           191,
           192,
           193,
           194,
           195,
           196,
           197,
           198,
           199,
           200,
           201,
           202,
           203,
           204,
           205,
           206,
           207,
           208,
           209,
           210,
           211,
           212,
           213,
           214,
           215,
           216,
           217,
           218,
           219,
           220,
           221,
           222,
           223,
           224,
           225,
           226,
           227,
           228,
           229,
           230,
           231,
           232,
           233,
           234,
           235,
           236,
           237,
           238,
           239,
           240,
           241,
           242,
           243,
           244,
           245,
           246,
           247,
           248,
           249,
           250,
           251,
           252,
           253,
           254,
           255,
           256,
           257,
           258,
           259,
           260,
           261,
           262,
           263,
           264,
           265,
           266,
           267,
           268,
           269,
           270,
           271,
           272,
           273,
           274,
           275,
           276,
           277,
           278,
           279,
           280,
           281,
           282,
           283,
           284,
           285,
           286,
           287,
           288,
           289,
           290,
           291,
           292,
           293,
           294,
           295,
           296,
           297,
           298,
           299,
           300,
           301,
           302,
           303,
           304,
           305,
           306,
           307,
           308,
           309,
           310,
           311,
           312,
           313,
           314,
           315,
           316,
           317,
           318,
           319,
           320,
           321,
           322,
           323,
           324,
           325,
           326,
           327,
           328,
           329,
           330,
           331,
           332,
           333,
           334,
           335,
           336,
           337,
           338,
           339,
           340,
           341,
           342,
           343,
           344,
           345,
           346,
           347,
           348,
           349,
           350,
           351,
           352,
           353,
           354,
           355,
           356,
           357,
           358,
           359,
           360,
           361,
           362,
           363,
           364,
           365,
           366,
           367,
           368,
           369,
           370,
           371,
           372,
           373,
           374,
           375,
           376,
           377,
           378,
           379,
           380,
           381,
           382,
           383,
           384,
           385,
           386,
           387,
           388,
           389,
           390,
           391,
           392,
           393,
           394,
           395,
           396,
           397,
           398,
           399
          ],
          "colorscale": [
           [
            0,
            "#440154"
           ],
           [
            0.1111111111111111,
            "#482878"
           ],
           [
            0.2222222222222222,
            "#3e4989"
           ],
           [
            0.3333333333333333,
            "#31688e"
           ],
           [
            0.4444444444444444,
            "#26828e"
           ],
           [
            0.5555555555555556,
            "#1f9e89"
           ],
           [
            0.6666666666666666,
            "#35b779"
           ],
           [
            0.7777777777777778,
            "#6ece58"
           ],
           [
            0.8888888888888888,
            "#b5de2b"
           ],
           [
            1,
            "#fde725"
           ]
          ],
          "opacity": 0.8,
          "size": 4
         },
         "mode": "markers",
         "type": "scatter3d",
         "x": [
          0.46436499999999997,
          0.51954,
          0.493255,
          0.779754,
          0.270703,
          0.44394700000000004,
          0.296464,
          0.44704499999999997,
          0.442582,
          0.69513,
          0.382398,
          0.197761,
          0.304458,
          0.500189,
          0.586929,
          0.41141099999999997,
          0.6321640000000001,
          0.33774299999999996,
          0.385999,
          0.402905,
          0.630829,
          0.529135,
          0.6272760000000001,
          0.215746,
          0.568916,
          0.6297119999999999,
          0.494663,
          0.749855,
          0.569276,
          0.483072,
          0.734114,
          0.5000560000000001,
          0.30286199999999996,
          0.248946,
          0.839038,
          0.744399,
          0.469125,
          0.48449200000000003,
          0.725688,
          0.091961,
          0.402798,
          0.464024,
          0.35781399999999997,
          0.427922,
          0.193934,
          0.444642,
          0.761652,
          0.340929,
          0.374643,
          0.599803,
          0.618688,
          0.521683,
          0.420562,
          0.358749,
          0.5251,
          0.43363199999999996,
          0.326571,
          0.663587,
          0.234409,
          0.446985,
          0.793766,
          0.45196000000000003,
          0.5786789999999999,
          0.549059,
          0.480437,
          0.295375,
          0.350699,
          0.46141800000000005,
          0.31032,
          0.659015,
          0.510274,
          0.429087,
          0.566691,
          0.447288,
          0.538194,
          0.401469,
          0.490824,
          0.345546,
          0.401473,
          0.523842,
          0.42637700000000006,
          0.613889,
          0.347543,
          0.335194,
          0.383886,
          0.513949,
          0.8704569999999999,
          0.44161300000000003,
          0.531432,
          0.385056,
          0.255823,
          0.265217,
          0.44417399999999996,
          0.276525,
          0.301763,
          0.55672,
          0.272368,
          0.380915,
          0.33881500000000003,
          0.403156,
          0.55545,
          0.454506,
          0.588604,
          0.397623,
          0.464478,
          0.533863,
          0.22170399999999998,
          0.40219099999999997,
          0.196267,
          0.408468,
          0.45290600000000003,
          0.367425,
          0.481401,
          0.583938,
          0.45965100000000003,
          0.753117,
          0.49284300000000003,
          0.48380200000000007,
          0.72015,
          0.437571,
          0.44770699999999997,
          0.43132299999999996,
          0.366217,
          0.193793,
          0.270768,
          0.533018,
          0.554196,
          0.47184799999999993,
          0.41319700000000004,
          0.429288,
          0.425353,
          0.173424,
          0.523825,
          0.469962,
          0.48125500000000004,
          0.14713199999999999,
          0.645085,
          0.406673,
          0.436458,
          0.5878979999999999,
          0.453617,
          0.345492,
          0.427738,
          0.6832050000000001,
          0.443018,
          0.194868,
          0.586942,
          0.5057189999999999,
          0.38417199999999996,
          0.663904,
          0.32562199999999997,
          0.33371300000000004,
          0.34751,
          0.47576599999999997,
          0.39755300000000005,
          0.601923,
          0.589105,
          0.145815,
          0.399623,
          0.283004,
          0.382755,
          0.466024,
          0.537846,
          0.471674,
          0.375722,
          0.201734,
          0.500156,
          0.663562,
          0.438097,
          0.518975,
          0.510429,
          0.44757399999999997,
          0.278173,
          0.871166,
          0.673768,
          0.624728,
          0.682245,
          0.8610969999999999,
          0.429266,
          0.788213,
          0.362927,
          0.42686199999999996,
          0.753685,
          0.276888,
          0.635903,
          0.483097,
          0.287727,
          0.47691000000000006,
          0.426965,
          0.788233,
          0.235854,
          0.683455,
          0.27119699999999997,
          0.351511,
          0.233923,
          0.43599499999999997,
          0.34610599999999997,
          0.39611399999999997,
          0.46964300000000003,
          0.439327,
          0.529433,
          0.421642,
          0.286985,
          0.387988,
          0.48096700000000003,
          0.52623,
          0.718225,
          0.20856100000000002,
          0.232246,
          0.378787,
          0.26774699999999996,
          0.387982,
          0.288909,
          0.36686599999999997,
          0.313396,
          0.41766899999999996,
          0.764925,
          0.539327,
          0.766339,
          0.22629699999999997,
          0.5241600000000001,
          0.529774,
          0.4855,
          0.5182869999999999,
          0.846475,
          0.6249640000000001,
          0.45023500000000005,
          0.459121,
          0.19630999999999998,
          0.462739,
          0.393855,
          0.595564,
          0.042376,
          0.46209399999999995,
          0.407379,
          0.777252,
          0.057444,
          0.22723000000000002,
          0.473218,
          0.440464,
          0.552098,
          0.46849799999999997,
          0.504371,
          0.455317,
          0.49125699999999994,
          0.292914,
          0.808501,
          0.354453,
          0.50275,
          0.8846799999999999,
          0.49946999999999997,
          0.102447,
          0.44205600000000006,
          0.405844,
          0.636402,
          0.517523,
          0.300687,
          0.398007,
          0.252775,
          0.542141,
          0.513259,
          0.394023,
          0.384573,
          0.258288,
          0.840199,
          0.627296,
          0.411592,
          0.47466099999999994,
          0.329644,
          0.504303,
          0.47148,
          0.356631,
          0.668553,
          0.721248,
          0.530855,
          0.391256,
          0.654892,
          0.13964300000000002,
          0.129088,
          0.44247600000000004,
          0.381755,
          0.21044200000000002,
          0.412054,
          0.5116649999999999,
          0.40029000000000003,
          0.386397,
          0.744642,
          0.437513,
          0.6924279999999999,
          0.409197,
          0.355065,
          0.488683,
          0.685285,
          0.257895,
          0.19778199999999999,
          0.265094,
          0.8337700000000001,
          0.492788,
          0.5409430000000001,
          0.444995,
          0.344099,
          0.111197,
          0.194606,
          0.47578400000000004,
          0.755426,
          0.060828999999999994,
          0.277737,
          0.450693,
          0.39408200000000004,
          0.157917,
          0.472934,
          0.5621520000000001,
          0.38256799999999996,
          0.38648699999999997,
          0.7294689999999999,
          0.590444,
          0.345497,
          0.48516400000000004,
          0.29505,
          0.408893,
          0.460434,
          0.760137,
          0.689638,
          0.27648,
          0.424699,
          0.262074,
          0.512622,
          0.270977,
          0.382677,
          0.498259,
          0.514845,
          0.218196,
          0.511293,
          0.533116,
          0.242606,
          0.50084,
          0.5755359999999999,
          0.761478,
          0.5173979999999999,
          0.485599,
          0.424727,
          0.7046819999999999,
          0.621688,
          0.5583819999999999,
          0.623111,
          0.468836,
          0.235531,
          0.625631,
          0.579421,
          0.519784,
          0.258795,
          0.316688,
          0.562437,
          0.858402,
          0.21898,
          0.5669529999999999,
          0.7029449999999999,
          0.516266,
          0.46204300000000004,
          0.627081,
          0.6615409999999999,
          0.787775,
          0.48264300000000004,
          0.48742700000000005,
          0.600058,
          0.392683,
          0.453658,
          0.497936,
          0.767396,
          0.256583,
          0.44928999999999997,
          0.686807,
          0.43843699999999997,
          0.520514,
          0.267662,
          0.27952,
          0.232643,
          0.33174499999999996,
          0.393575,
          0.381601,
          0.411628,
          0.535972,
          0.435705,
          0.14986,
          0.596437,
          0.61328,
          0.381037,
          0.5507380000000001,
          0.40876399999999996,
          0.48554899999999995,
          0.661816,
          0.6496029999999999,
          0.575601,
          0.49270600000000003,
          0.524493,
          0.43865699999999996,
          0.283663,
          0.438908,
          0.575311,
          0.28341500000000003
         ],
         "y": [
          0.928639,
          0.544782,
          0.66782,
          0.039841,
          0.323977,
          0.892459,
          0.34227199999999997,
          0.889134,
          0.753798,
          0.22303299999999998,
          0.45213400000000004,
          0.0917,
          0.758219,
          0.854218,
          0.749592,
          0.47391400000000006,
          0.271767,
          0.40431300000000003,
          0.657678,
          0.647712,
          0.34379499999999996,
          0.40676599999999996,
          0.285878,
          0.198628,
          0.346448,
          0.34365100000000004,
          0.526411,
          0.09943300000000001,
          0.800566,
          0.880433,
          0.091894,
          0.835066,
          0.7295010000000001,
          0.261018,
          0.601376,
          0.09538300000000001,
          0.79089,
          0.761996,
          0.116933,
          0.61259,
          0.6624720000000001,
          0.8895379999999999,
          0.405817,
          0.769407,
          0.16219,
          0.6907399999999999,
          0.045823,
          0.49766000000000005,
          0.376643,
          0.740275,
          0.732312,
          0.555567,
          0.466484,
          0.651212,
          0.8305389999999999,
          0.574313,
          0.791412,
          0.187504,
          0.221493,
          0.873122,
          0.046098,
          0.9240709999999999,
          0.47508199999999995,
          0.7655569999999999,
          0.94604,
          0.766975,
          0.811249,
          0.788084,
          0.34991,
          0.297304,
          0.749972,
          0.8949030000000001,
          0.796038,
          0.875217,
          0.769034,
          0.732368,
          0.9407989999999999,
          0.772945,
          0.49328999999999995,
          0.434501,
          0.8500540000000001,
          0.30089699999999997,
          0.64668,
          0.42746300000000004,
          0.570042,
          0.802954,
          0.579495,
          0.815497,
          0.829311,
          0.757157,
          0.734668,
          0.210671,
          0.667184,
          0.26503499999999997,
          0.770443,
          0.427288,
          0.7439979999999999,
          0.769996,
          0.415204,
          0.44706899999999994,
          0.384258,
          0.629023,
          0.787193,
          0.6244850000000001,
          0.5610890000000001,
          0.756931,
          0.675071,
          0.531911,
          0.6913630000000001,
          0.437569,
          0.624455,
          0.794795,
          0.48138500000000006,
          0.751926,
          0.931897,
          0.6576380000000001,
          0.770731,
          0.9599620000000001,
          0.685883,
          0.600482,
          0.874444,
          0.7899390000000001,
          0.536246,
          0.662,
          0.7499979999999999,
          0.49387,
          0.43363999999999997,
          0.628267,
          0.739042,
          0.785801,
          0.6455350000000001,
          0.105651,
          0.604268,
          0.947694,
          0.682778,
          0.061184,
          0.71249,
          0.6007939999999999,
          0.9610040000000001,
          0.438454,
          0.87608,
          0.461776,
          0.89515,
          0.71943,
          0.6288729999999999,
          0.12214100000000001,
          0.796243,
          0.460052,
          0.589925,
          0.19584200000000002,
          0.30835300000000004,
          0.780542,
          0.774907,
          0.48348199999999997,
          0.698495,
          0.350088,
          0.47001400000000004,
          0.073973,
          0.68177,
          0.34953,
          0.5154380000000001,
          0.59464,
          0.500193,
          0.917834,
          0.378079,
          0.10965699999999999,
          0.737969,
          0.189555,
          0.845391,
          0.564109,
          0.6580189999999999,
          0.8796579999999999,
          0.292016,
          0.5773010000000001,
          0.26279,
          0.320736,
          0.708244,
          0.5862310000000001,
          0.45341400000000004,
          0.622306,
          0.374293,
          0.711482,
          0.049948,
          0.289566,
          0.278175,
          0.771749,
          0.241497,
          0.912694,
          0.912725,
          0.03302,
          0.23537600000000003,
          0.223005,
          0.317089,
          0.810292,
          0.169398,
          0.8742030000000001,
          0.35786100000000004,
          0.468605,
          0.783507,
          0.8981100000000001,
          0.612929,
          0.48240200000000005,
          0.759081,
          0.7478279999999999,
          0.953673,
          0.497324,
          0.122885,
          0.124623,
          0.18741300000000002,
          0.568101,
          0.749229,
          0.739401,
          0.735872,
          0.467653,
          0.7726649999999999,
          0.6393989999999999,
          0.633441,
          0.761339,
          0.084607,
          0.677802,
          0.599366,
          0.811588,
          0.606632,
          0.678666,
          0.5845640000000001,
          0.374585,
          0.625993,
          0.879808,
          0.154107,
          0.885915,
          0.41744499999999995,
          0.413925,
          0.566984,
          0.7014279999999999,
          0.703271,
          0.048304,
          0.5881,
          0.19101400000000002,
          0.64756,
          0.64489,
          0.366114,
          0.75305,
          0.600874,
          0.886764,
          0.736067,
          0.344595,
          0.619154,
          0.490782,
          0.437222,
          0.5670109999999999,
          0.454636,
          0.598366,
          0.548779,
          0.715374,
          0.27769299999999997,
          0.656814,
          0.35225300000000004,
          0.770534,
          0.237544,
          0.763995,
          0.419955,
          0.6235,
          0.767482,
          0.743704,
          0.5899449999999999,
          0.277082,
          0.43063,
          0.759128,
          0.444957,
          0.455951,
          0.6230939999999999,
          0.512486,
          0.17965599999999998,
          0.101194,
          0.757476,
          0.727255,
          0.24875500000000003,
          0.026626999999999998,
          0.617992,
          0.753864,
          0.402787,
          0.681617,
          0.47649600000000003,
          0.709915,
          0.679755,
          0.751084,
          0.07659500000000001,
          0.6646350000000001,
          0.6809850000000001,
          0.5783550000000001,
          0.395468,
          0.947052,
          0.699504,
          0.236927,
          0.681194,
          0.31957399999999997,
          0.608785,
          0.82252,
          0.824734,
          0.875309,
          0.642512,
          0.607286,
          0.119098,
          0.5762229999999999,
          0.04411,
          0.582773,
          0.24569899999999997,
          0.48860600000000004,
          0.725043,
          0.057846,
          0.49954399999999993,
          0.43650200000000006,
          0.806049,
          0.721354,
          0.092954,
          0.40324699999999997,
          0.436862,
          0.662643,
          0.25819699999999995,
          0.741915,
          0.5000720000000001,
          0.635671,
          0.153185,
          0.719694,
          0.464794,
          0.293585,
          0.577378,
          0.223687,
          0.593934,
          0.723283,
          0.796902,
          0.13000699999999998,
          0.422782,
          0.5102270000000001,
          0.244773,
          0.674979,
          0.502532,
          0.08413999999999999,
          0.75174,
          0.518945,
          0.8443139999999999,
          0.715009,
          0.260867,
          0.404911,
          0.373254,
          0.537668,
          0.206183,
          0.757207,
          0.37572300000000003,
          0.682027,
          0.720949,
          0.43471400000000004,
          0.761282,
          0.591889,
          0.6907439999999999,
          0.422396,
          0.6932,
          0.662425,
          0.511606,
          0.31524800000000003,
          0.705625,
          0.639622,
          0.5825359999999999,
          0.686638,
          0.7664529999999999,
          0.7379600000000001,
          0.8367190000000001,
          0.8450549999999999,
          0.637716,
          0.7253430000000001,
          0.919092,
          0.24720100000000003,
          0.575067,
          0.621992,
          0.20608800000000002,
          0.325194,
          0.221006,
          0.33713200000000004,
          0.617945,
          0.772991,
          0.627858,
          0.49581099999999995,
          0.648443,
          0.076473,
          0.792955,
          0.755749,
          0.658327,
          0.562813,
          0.656407,
          0.822667,
          0.288097,
          0.272663,
          0.402412,
          0.924588,
          0.7895840000000001,
          0.701407,
          0.7422449999999999,
          0.842348,
          0.46077700000000005,
          0.351128
         ],
         "z": [
          0.038762,
          0.045215,
          0.078222,
          0.07898,
          0.056346,
          0.044973,
          0.047133,
          0.10368699999999999,
          0.152093,
          0.072133,
          0.047403,
          0.046717,
          0.121974,
          0.09297899999999999,
          0.110758,
          0.054113999999999995,
          0.039952,
          0.121129,
          0.080234,
          0.11688499999999999,
          0.050995,
          0.10372,
          0.044301,
          0.073008,
          0.066285,
          0.095654,
          0.134506,
          0.068926,
          0.11921500000000002,
          0.13328399999999999,
          0.070061,
          0.11711600000000001,
          0.102384,
          0.037946,
          0.12546500000000002,
          0.032624,
          0.046531,
          0.152637,
          0.070704,
          0.11843,
          0.11788299999999999,
          0.145012,
          0.120899,
          0.149464,
          0.059272000000000005,
          0.14612999999999998,
          0.093257,
          0.08723600000000001,
          0.080419,
          0.097879,
          0.086339,
          0.047443,
          0.062198,
          0.144074,
          0.10068099999999999,
          0.04483,
          0.113943,
          0.06184,
          0.080704,
          0.131778,
          0.096479,
          0.038149,
          0.062214,
          0.105023,
          0.051905999999999994,
          0.082827,
          0.110029,
          0.04602,
          0.046603,
          0.052367,
          0.15853699999999998,
          0.070191,
          0.122269,
          0.140816,
          0.06022,
          0.162769,
          0.120447,
          0.122048,
          0.13462000000000002,
          0.117922,
          0.07759500000000001,
          0.100597,
          0.12728699999999998,
          0.11873,
          0.12105999999999999,
          0.13054300000000002,
          0.10696099999999999,
          0.132734,
          0.091593,
          0.10628699999999999,
          0.113081,
          0.077142,
          0.14577,
          0.034616,
          0.080777,
          0.046688,
          0.082175,
          0.059958000000000004,
          0.047566000000000004,
          0.05834299999999999,
          0.056948,
          0.148509,
          0.074299,
          0.113917,
          0.14572100000000002,
          0.106321,
          0.104735,
          0.043847000000000004,
          0.08744199999999999,
          0.066165,
          0.068611,
          0.061917999999999994,
          0.113765,
          0.112105,
          0.141497,
          0.115579,
          0.049299,
          0.073882,
          0.115476,
          0.146713,
          0.08822100000000001,
          0.141448,
          0.065152,
          0.09049700000000001,
          0.08837,
          0.044874000000000004,
          0.126996,
          0.147901,
          0.163154,
          0.14216600000000001,
          0.068598,
          0.039127999999999996,
          0.069095,
          0.045779,
          0.07297100000000001,
          0.044545999999999995,
          0.099477,
          0.063547,
          0.11705499999999999,
          0.112376,
          0.14823,
          0.119913,
          0.10816500000000001,
          0.11140599999999999,
          0.070021,
          0.037175,
          0.077652,
          0.12070299999999999,
          0.11466099999999999,
          0.040352,
          0.082843,
          0.072181,
          0.070721,
          0.10937000000000001,
          0.08742,
          0.109645,
          0.086374,
          0.056526,
          0.10974600000000001,
          0.081419,
          0.048875999999999996,
          0.05782,
          0.134149,
          0.138075,
          0.085578,
          0.041123,
          0.162512,
          0.07002699999999999,
          0.066743,
          0.04838,
          0.08734199999999999,
          0.09135700000000001,
          0.041114,
          0.08498700000000001,
          0.081785,
          0.046564999999999995,
          0.116499,
          0.091163,
          0.082558,
          0.092317,
          0.060248,
          0.06402100000000001,
          0.055709,
          0.09626799999999999,
          0.038463,
          0.148102,
          0.07286000000000001,
          0.138168,
          0.12775899999999998,
          0.113979,
          0.040518,
          0.038811,
          0.051021,
          0.074918,
          0.074635,
          0.123147,
          0.056142,
          0.13050699999999998,
          0.151251,
          0.045642,
          0.08881599999999999,
          0.126657,
          0.11429600000000001,
          0.147261,
          0.126425,
          0.044081999999999996,
          0.037215,
          0.040326999999999995,
          0.07916799999999999,
          0.116371,
          0.107579,
          0.078703,
          0.07775499999999999,
          0.046849,
          0.076098,
          0.140456,
          0.10754100000000001,
          0.091548,
          0.039282,
          0.10414100000000001,
          0.06592100000000001,
          0.059104,
          0.146189,
          0.120663,
          0.110918,
          0.085741,
          0.069095,
          0.08831900000000001,
          0.06943300000000001,
          0.045547000000000004,
          0.10837999999999999,
          0.11156700000000001,
          0.126556,
          0.148054,
          0.145259,
          0.101704,
          0.108276,
          0.078685,
          0.15257300000000001,
          0.073902,
          0.08768200000000001,
          0.150645,
          0.14138900000000001,
          0.148376,
          0.05599,
          0.099024,
          0.11583900000000001,
          0.119925,
          0.09830499999999999,
          0.097682,
          0.06729199999999999,
          0.10640899999999999,
          0.143264,
          0.156146,
          0.092683,
          0.10338199999999999,
          0.047525,
          0.052992,
          0.034363,
          0.08148999999999999,
          0.083213,
          0.09949,
          0.12301400000000001,
          0.103549,
          0.092714,
          0.090441,
          0.075465,
          0.150738,
          0.10841500000000001,
          0.117778,
          0.068348,
          0.11484200000000001,
          0.056816,
          0.064077,
          0.058910000000000004,
          0.070738,
          0.088766,
          0.11654300000000001,
          0.109929,
          0.152107,
          0.10830999999999999,
          0.085007,
          0.128736,
          0.069039,
          0.106326,
          0.063764,
          0.069855,
          0.16706400000000002,
          0.0927,
          0.050262,
          0.050317,
          0.06944,
          0.116835,
          0.086735,
          0.084905,
          0.077806,
          0.11678,
          0.130547,
          0.10369600000000001,
          0.13228900000000002,
          0.12182,
          0.117569,
          0.036282,
          0.146182,
          0.088405,
          0.08669400000000001,
          0.085626,
          0.073558,
          0.097301,
          0.088188,
          0.12198800000000001,
          0.045926999999999996,
          0.058754999999999995,
          0.139822,
          0.034482,
          0.048333999999999995,
          0.048548,
          0.112759,
          0.075537,
          0.162557,
          0.052449,
          0.09936,
          0.069595,
          0.083773,
          0.115398,
          0.046942000000000005,
          0.138264,
          0.037423000000000005,
          0.10908499999999999,
          0.060805,
          0.133012,
          0.046337,
          0.089056,
          0.13484200000000002,
          0.038286,
          0.078885,
          0.082588,
          0.068112,
          0.05581799999999999,
          0.036436,
          0.078605,
          0.10608800000000002,
          0.068699,
          0.119701,
          0.091815,
          0.034876,
          0.081028,
          0.11893699999999999,
          0.048597,
          0.113828,
          0.120609,
          0.07601000000000001,
          0.10261400000000001,
          0.107575,
          0.116995,
          0.125588,
          0.116671,
          0.096725,
          0.132968,
          0.104152,
          0.091908,
          0.094239,
          0.048832,
          0.072409,
          0.073648,
          0.101715,
          0.06217999999999999,
          0.08691900000000001,
          0.09025,
          0.080788,
          0.140041,
          0.068762,
          0.045157,
          0.11871300000000001,
          0.066756,
          0.093976,
          0.079934,
          0.101702,
          0.109366,
          0.126585,
          0.13757,
          0.134718,
          0.14523699999999998,
          0.037249000000000004,
          0.10876300000000001,
          0.122761,
          0.082065,
          0.084939,
          0.12946400000000002,
          0.056085,
          0.046833,
          0.035849,
          0.04626,
          0.066169,
          0.132744,
          0.066505,
          0.121531,
          0.06582400000000001,
          0.054525,
          0.078112
         ]
        }
       ],
       "layout": {
        "scene": {
         "xaxis": {
          "exponentformat": "e",
          "showexponent": "all",
          "title": {
           "text": "0th"
          },
          "type": "linear"
         },
         "yaxis": {
          "exponentformat": "e",
          "showexponent": "all",
          "title": {
           "text": "1st"
          },
          "type": "linear"
         },
         "zaxis": {
          "exponentformat": "e",
          "showexponent": "all",
          "title": {
           "text": "2nd"
          },
          "type": "linear"
         }
        },
        "template": {
         "data": {
          "bar": [
           {
            "error_x": {
             "color": "#2a3f5f"
            },
            "error_y": {
             "color": "#2a3f5f"
            },
            "marker": {
             "line": {
              "color": "#E5ECF6",
              "width": 0.5
             },
             "pattern": {
              "fillmode": "overlay",
              "size": 10,
              "solidity": 0.2
             }
            },
            "type": "bar"
           }
          ],
          "barpolar": [
           {
            "marker": {
             "line": {
              "color": "#E5ECF6",
              "width": 0.5
             },
             "pattern": {
              "fillmode": "overlay",
              "size": 10,
              "solidity": 0.2
             }
            },
            "type": "barpolar"
           }
          ],
          "carpet": [
           {
            "aaxis": {
             "endlinecolor": "#2a3f5f",
             "gridcolor": "white",
             "linecolor": "white",
             "minorgridcolor": "white",
             "startlinecolor": "#2a3f5f"
            },
            "baxis": {
             "endlinecolor": "#2a3f5f",
             "gridcolor": "white",
             "linecolor": "white",
             "minorgridcolor": "white",
             "startlinecolor": "#2a3f5f"
            },
            "type": "carpet"
           }
          ],
          "choropleth": [
           {
            "colorbar": {
             "outlinewidth": 0,
             "ticks": ""
            },
            "type": "choropleth"
           }
          ],
          "contour": [
           {
            "colorbar": {
             "outlinewidth": 0,
             "ticks": ""
            },
            "colorscale": [
             [
              0,
              "#0d0887"
             ],
             [
              0.1111111111111111,
              "#46039f"
             ],
             [
              0.2222222222222222,
              "#7201a8"
             ],
             [
              0.3333333333333333,
              "#9c179e"
             ],
             [
              0.4444444444444444,
              "#bd3786"
             ],
             [
              0.5555555555555556,
              "#d8576b"
             ],
             [
              0.6666666666666666,
              "#ed7953"
             ],
             [
              0.7777777777777778,
              "#fb9f3a"
             ],
             [
              0.8888888888888888,
              "#fdca26"
             ],
             [
              1,
              "#f0f921"
             ]
            ],
            "type": "contour"
           }
          ],
          "contourcarpet": [
           {
            "colorbar": {
             "outlinewidth": 0,
             "ticks": ""
            },
            "type": "contourcarpet"
           }
          ],
          "heatmap": [
           {
            "colorbar": {
             "outlinewidth": 0,
             "ticks": ""
            },
            "colorscale": [
             [
              0,
              "#0d0887"
             ],
             [
              0.1111111111111111,
              "#46039f"
             ],
             [
              0.2222222222222222,
              "#7201a8"
             ],
             [
              0.3333333333333333,
              "#9c179e"
             ],
             [
              0.4444444444444444,
              "#bd3786"
             ],
             [
              0.5555555555555556,
              "#d8576b"
             ],
             [
              0.6666666666666666,
              "#ed7953"
             ],
             [
              0.7777777777777778,
              "#fb9f3a"
             ],
             [
              0.8888888888888888,
              "#fdca26"
             ],
             [
              1,
              "#f0f921"
             ]
            ],
            "type": "heatmap"
           }
          ],
          "heatmapgl": [
           {
            "colorbar": {
             "outlinewidth": 0,
             "ticks": ""
            },
            "colorscale": [
             [
              0,
              "#0d0887"
             ],
             [
              0.1111111111111111,
              "#46039f"
             ],
             [
              0.2222222222222222,
              "#7201a8"
             ],
             [
              0.3333333333333333,
              "#9c179e"
             ],
             [
              0.4444444444444444,
              "#bd3786"
             ],
             [
              0.5555555555555556,
              "#d8576b"
             ],
             [
              0.6666666666666666,
              "#ed7953"
             ],
             [
              0.7777777777777778,
              "#fb9f3a"
             ],
             [
              0.8888888888888888,
              "#fdca26"
             ],
             [
              1,
              "#f0f921"
             ]
            ],
            "type": "heatmapgl"
           }
          ],
          "histogram": [
           {
            "marker": {
             "pattern": {
              "fillmode": "overlay",
              "size": 10,
              "solidity": 0.2
             }
            },
            "type": "histogram"
           }
          ],
          "histogram2d": [
           {
            "colorbar": {
             "outlinewidth": 0,
             "ticks": ""
            },
            "colorscale": [
             [
              0,
              "#0d0887"
             ],
             [
              0.1111111111111111,
              "#46039f"
             ],
             [
              0.2222222222222222,
              "#7201a8"
             ],
             [
              0.3333333333333333,
              "#9c179e"
             ],
             [
              0.4444444444444444,
              "#bd3786"
             ],
             [
              0.5555555555555556,
              "#d8576b"
             ],
             [
              0.6666666666666666,
              "#ed7953"
             ],
             [
              0.7777777777777778,
              "#fb9f3a"
             ],
             [
              0.8888888888888888,
              "#fdca26"
             ],
             [
              1,
              "#f0f921"
             ]
            ],
            "type": "histogram2d"
           }
          ],
          "histogram2dcontour": [
           {
            "colorbar": {
             "outlinewidth": 0,
             "ticks": ""
            },
            "colorscale": [
             [
              0,
              "#0d0887"
             ],
             [
              0.1111111111111111,
              "#46039f"
             ],
             [
              0.2222222222222222,
              "#7201a8"
             ],
             [
              0.3333333333333333,
              "#9c179e"
             ],
             [
              0.4444444444444444,
              "#bd3786"
             ],
             [
              0.5555555555555556,
              "#d8576b"
             ],
             [
              0.6666666666666666,
              "#ed7953"
             ],
             [
              0.7777777777777778,
              "#fb9f3a"
             ],
             [
              0.8888888888888888,
              "#fdca26"
             ],
             [
              1,
              "#f0f921"
             ]
            ],
            "type": "histogram2dcontour"
           }
          ],
          "mesh3d": [
           {
            "colorbar": {
             "outlinewidth": 0,
             "ticks": ""
            },
            "type": "mesh3d"
           }
          ],
          "parcoords": [
           {
            "line": {
             "colorbar": {
              "outlinewidth": 0,
              "ticks": ""
             }
            },
            "type": "parcoords"
           }
          ],
          "pie": [
           {
            "automargin": true,
            "type": "pie"
           }
          ],
          "scatter": [
           {
            "fillpattern": {
             "fillmode": "overlay",
             "size": 10,
             "solidity": 0.2
            },
            "type": "scatter"
           }
          ],
          "scatter3d": [
           {
            "line": {
             "colorbar": {
              "outlinewidth": 0,
              "ticks": ""
             }
            },
            "marker": {
             "colorbar": {
              "outlinewidth": 0,
              "ticks": ""
             }
            },
            "type": "scatter3d"
           }
          ],
          "scattercarpet": [
           {
            "marker": {
             "colorbar": {
              "outlinewidth": 0,
              "ticks": ""
             }
            },
            "type": "scattercarpet"
           }
          ],
          "scattergeo": [
           {
            "marker": {
             "colorbar": {
              "outlinewidth": 0,
              "ticks": ""
             }
            },
            "type": "scattergeo"
           }
          ],
          "scattergl": [
           {
            "marker": {
             "colorbar": {
              "outlinewidth": 0,
              "ticks": ""
             }
            },
            "type": "scattergl"
           }
          ],
          "scattermapbox": [
           {
            "marker": {
             "colorbar": {
              "outlinewidth": 0,
              "ticks": ""
             }
            },
            "type": "scattermapbox"
           }
          ],
          "scatterpolar": [
           {
            "marker": {
             "colorbar": {
              "outlinewidth": 0,
              "ticks": ""
             }
            },
            "type": "scatterpolar"
           }
          ],
          "scatterpolargl": [
           {
            "marker": {
             "colorbar": {
              "outlinewidth": 0,
              "ticks": ""
             }
            },
            "type": "scatterpolargl"
           }
          ],
          "scatterternary": [
           {
            "marker": {
             "colorbar": {
              "outlinewidth": 0,
              "ticks": ""
             }
            },
            "type": "scatterternary"
           }
          ],
          "surface": [
           {
            "colorbar": {
             "outlinewidth": 0,
             "ticks": ""
            },
            "colorscale": [
             [
              0,
              "#0d0887"
             ],
             [
              0.1111111111111111,
              "#46039f"
             ],
             [
              0.2222222222222222,
              "#7201a8"
             ],
             [
              0.3333333333333333,
              "#9c179e"
             ],
             [
              0.4444444444444444,
              "#bd3786"
             ],
             [
              0.5555555555555556,
              "#d8576b"
             ],
             [
              0.6666666666666666,
              "#ed7953"
             ],
             [
              0.7777777777777778,
              "#fb9f3a"
             ],
             [
              0.8888888888888888,
              "#fdca26"
             ],
             [
              1,
              "#f0f921"
             ]
            ],
            "type": "surface"
           }
          ],
          "table": [
           {
            "cells": {
             "fill": {
              "color": "#EBF0F8"
             },
             "line": {
              "color": "white"
             }
            },
            "header": {
             "fill": {
              "color": "#C8D4E3"
             },
             "line": {
              "color": "white"
             }
            },
            "type": "table"
           }
          ]
         },
         "layout": {
          "annotationdefaults": {
           "arrowcolor": "#2a3f5f",
           "arrowhead": 0,
           "arrowwidth": 1
          },
          "autotypenumbers": "strict",
          "coloraxis": {
           "colorbar": {
            "outlinewidth": 0,
            "ticks": ""
           }
          },
          "colorscale": {
           "diverging": [
            [
             0,
             "#8e0152"
            ],
            [
             0.1,
             "#c51b7d"
            ],
            [
             0.2,
             "#de77ae"
            ],
            [
             0.3,
             "#f1b6da"
            ],
            [
             0.4,
             "#fde0ef"
            ],
            [
             0.5,
             "#f7f7f7"
            ],
            [
             0.6,
             "#e6f5d0"
            ],
            [
             0.7,
             "#b8e186"
            ],
            [
             0.8,
             "#7fbc41"
            ],
            [
             0.9,
             "#4d9221"
            ],
            [
             1,
             "#276419"
            ]
           ],
           "sequential": [
            [
             0,
             "#0d0887"
            ],
            [
             0.1111111111111111,
             "#46039f"
            ],
            [
             0.2222222222222222,
             "#7201a8"
            ],
            [
             0.3333333333333333,
             "#9c179e"
            ],
            [
             0.4444444444444444,
             "#bd3786"
            ],
            [
             0.5555555555555556,
             "#d8576b"
            ],
            [
             0.6666666666666666,
             "#ed7953"
            ],
            [
             0.7777777777777778,
             "#fb9f3a"
            ],
            [
             0.8888888888888888,
             "#fdca26"
            ],
            [
             1,
             "#f0f921"
            ]
           ],
           "sequentialminus": [
            [
             0,
             "#0d0887"
            ],
            [
             0.1111111111111111,
             "#46039f"
            ],
            [
             0.2222222222222222,
             "#7201a8"
            ],
            [
             0.3333333333333333,
             "#9c179e"
            ],
            [
             0.4444444444444444,
             "#bd3786"
            ],
            [
             0.5555555555555556,
             "#d8576b"
            ],
            [
             0.6666666666666666,
             "#ed7953"
            ],
            [
             0.7777777777777778,
             "#fb9f3a"
            ],
            [
             0.8888888888888888,
             "#fdca26"
            ],
            [
             1,
             "#f0f921"
            ]
           ]
          },
          "colorway": [
           "#636efa",
           "#EF553B",
           "#00cc96",
           "#ab63fa",
           "#FFA15A",
           "#19d3f3",
           "#FF6692",
           "#B6E880",
           "#FF97FF",
           "#FECB52"
          ],
          "font": {
           "color": "#2a3f5f"
          },
          "geo": {
           "bgcolor": "white",
           "lakecolor": "white",
           "landcolor": "#E5ECF6",
           "showlakes": true,
           "showland": true,
           "subunitcolor": "white"
          },
          "hoverlabel": {
           "align": "left"
          },
          "hovermode": "closest",
          "mapbox": {
           "style": "light"
          },
          "paper_bgcolor": "white",
          "plot_bgcolor": "#E5ECF6",
          "polar": {
           "angularaxis": {
            "gridcolor": "white",
            "linecolor": "white",
            "ticks": ""
           },
           "bgcolor": "#E5ECF6",
           "radialaxis": {
            "gridcolor": "white",
            "linecolor": "white",
            "ticks": ""
           }
          },
          "scene": {
           "xaxis": {
            "backgroundcolor": "#E5ECF6",
            "gridcolor": "white",
            "gridwidth": 2,
            "linecolor": "white",
            "showbackground": true,
            "ticks": "",
            "zerolinecolor": "white"
           },
           "yaxis": {
            "backgroundcolor": "#E5ECF6",
            "gridcolor": "white",
            "gridwidth": 2,
            "linecolor": "white",
            "showbackground": true,
            "ticks": "",
            "zerolinecolor": "white"
           },
           "zaxis": {
            "backgroundcolor": "#E5ECF6",
            "gridcolor": "white",
            "gridwidth": 2,
            "linecolor": "white",
            "showbackground": true,
            "ticks": "",
            "zerolinecolor": "white"
           }
          },
          "shapedefaults": {
           "line": {
            "color": "#2a3f5f"
           }
          },
          "ternary": {
           "aaxis": {
            "gridcolor": "white",
            "linecolor": "white",
            "ticks": ""
           },
           "baxis": {
            "gridcolor": "white",
            "linecolor": "white",
            "ticks": ""
           },
           "bgcolor": "#E5ECF6",
           "caxis": {
            "gridcolor": "white",
            "linecolor": "white",
            "ticks": ""
           }
          },
          "title": {
           "x": 0.05
          },
          "xaxis": {
           "automargin": true,
           "gridcolor": "white",
           "linecolor": "white",
           "ticks": "",
           "title": {
            "standoff": 15
           },
           "zerolinecolor": "white",
           "zerolinewidth": 2
          },
          "yaxis": {
           "automargin": true,
           "gridcolor": "white",
           "linecolor": "white",
           "ticks": "",
           "title": {
            "standoff": 15
           },
           "zerolinecolor": "white",
           "zerolinewidth": 2
          }
         }
        }
       }
      }
     },
     "metadata": {},
     "output_type": "display_data"
    }
   ],
   "source": [
    "plot_point_cloud(df.query('target == \"human_arms_out3\"')[[\"x\", \"y\", \"z\"]].values)"
   ]
  },
  {
   "cell_type": "markdown",
   "metadata": {},
   "source": [
    "Ensuring our data is read as desired."
   ]
  },
  {
   "cell_type": "code",
   "execution_count": 17,
   "metadata": {},
   "outputs": [
    {
     "data": {
      "text/plain": [
       "(40, 400, 3)"
      ]
     },
     "execution_count": 17,
     "metadata": {},
     "output_type": "execute_result"
    }
   ],
   "source": [
    "point_clouds = np.asarray(\n",
    "    [\n",
    "        df.query(\"target == @shape\")[[\"x\", \"y\", \"z\"]].values\n",
    "        for shape in df[\"target\"].unique()\n",
    "    ]\n",
    ")\n",
    "point_clouds.shape"
   ]
  },
  {
   "cell_type": "code",
   "execution_count": 18,
   "metadata": {},
   "outputs": [],
   "source": [
    "# Initializing the Rips persistence routine again and generating persistence diagrams\n",
    "persistence = VietorisRipsPersistence(\n",
    "    metric=\"euclidean\",\n",
    "    homology_dimensions=homology_dimensions,\n",
    "    n_jobs=6,\n",
    "    collapse_edges=True,\n",
    ")\n",
    "persistence_diagrams = persistence.fit_transform(point_clouds)\n"
   ]
  },
  {
   "cell_type": "markdown",
   "metadata": {},
   "source": [
    "We compute the entropy again and plot our entropy values -- and we don't observe nice clusters. This is expected out of real world data that doesn't have just a single prominent topological feature. So we should expect our model to not perform very well....  "
   ]
  },
  {
   "cell_type": "code",
   "execution_count": 19,
   "metadata": {},
   "outputs": [
    {
     "data": {
      "application/vnd.plotly.v1+json": {
       "config": {
        "plotlyServerURL": "https://plot.ly"
       },
       "data": [
        {
         "marker": {
          "color": [
           0,
           1,
           2,
           3,
           4,
           5,
           6,
           7,
           8,
           9,
           10,
           11,
           12,
           13,
           14,
           15,
           16,
           17,
           18,
           19,
           20,
           21,
           22,
           23,
           24,
           25,
           26,
           27,
           28,
           29,
           30,
           31,
           32,
           33,
           34,
           35,
           36,
           37,
           38,
           39
          ],
          "colorscale": [
           [
            0,
            "#440154"
           ],
           [
            0.1111111111111111,
            "#482878"
           ],
           [
            0.2222222222222222,
            "#3e4989"
           ],
           [
            0.3333333333333333,
            "#31688e"
           ],
           [
            0.4444444444444444,
            "#26828e"
           ],
           [
            0.5555555555555556,
            "#1f9e89"
           ],
           [
            0.6666666666666666,
            "#35b779"
           ],
           [
            0.7777777777777778,
            "#6ece58"
           ],
           [
            0.8888888888888888,
            "#b5de2b"
           ],
           [
            1,
            "#fde725"
           ]
          ],
          "opacity": 0.8,
          "size": 4
         },
         "mode": "markers",
         "type": "scatter3d",
         "x": [
          2.7720152803512863,
          2.4727784557939465,
          2.663165201353194,
          2.520703847864949,
          2.343080696151383,
          2.5289286062931304,
          2.6989359192355216,
          2.6853741691935573,
          2.633123459363426,
          2.5993512661121736,
          2.1168535469866434,
          2.1420622017655417,
          2.035783767703829,
          1.9515822379083356,
          1.9568154787316179,
          2.293336263624783,
          1.8907125790025385,
          1.9850251384854471,
          2.1391333279442053,
          1.9395120905155838,
          2.1919971199523576,
          2.3764262490917236,
          2.4482882338032623,
          2.4238031611203685,
          2.2581059296096577,
          2.3960124938223,
          2.259557648728813,
          2.4388499541493327,
          2.3836436684258873,
          2.4787675530030646,
          2.3843970809014037,
          2.3969279728123762,
          2.3934998590113565,
          2.5866003515644285,
          2.5692675114759758,
          2.56210349483893,
          2.5704160316404097,
          2.5740547219694174,
          2.8645306629872214,
          2.6577189702867328
         ],
         "y": [
          -20.30837529684805,
          19.092539772030268,
          -44.32448135376935,
          -74.41023553991766,
          84.42254067379726,
          -33.53879190383647,
          -13.56009683224219,
          -60.20456110274811,
          -20.385188857765897,
          52.22856708407158,
          5.463676141068623,
          5.260426546490224,
          4.902534769370383,
          3.8071044520525157,
          4.602505237361362,
          9.620792487148124,
          3.514676868316563,
          4.762822739028447,
          9.308908788699805,
          3.984020046836306,
          9.82159000988041,
          7.329323768913488,
          -42.28789521171053,
          29.55174521874718,
          -125.2031291227712,
          51.23625354514134,
          21.663966649159256,
          39.48352959326419,
          14.15878085149679,
          -15.125157699927259,
          -770.2689310607459,
          22.746218094209734,
          39.39188244973213,
          -17.79420850148126,
          -24.39578202263004,
          -16.229985757312512,
          -15.934219394302962,
          -30.33630976586378,
          -9.484523747399273,
          -28.806739578937183
         ],
         "z": [
          -0.4965494269287455,
          -1.0664900016749523,
          -0.7093010066214845,
          -0.7358718960216651,
          -0.7980006217988493,
          -0.6333775177864173,
          -0.6487402638360065,
          -0.7690166023925374,
          -0.6607070279090944,
          -0.5803813227606248,
          -0.583199766115152,
          -0.27612140360096493,
          -0.19871756223024484,
          -0.5765977071655582,
          -1.722800092172516,
          -1.1523807151218226,
          -0.019807576124777737,
          -0.29256933037594857,
          -0.22041759865344812,
          -0.4757297899928606,
          -0.6523102302210059,
          -0.6263222074662546,
          0,
          -0.22160420236476638,
          -1,
          -0.28332374833928176,
          -0.7332787104759891,
          -0.5150215022973542,
          -0.3361361284774667,
          -1,
          -0.672702899871738,
          -0.7442359935011715,
          -0.8613236395355115,
          -0.5182498595647056,
          -0.5456666568003746,
          -0.6414448292234928,
          -0.5979163595123698,
          -0.5454334398929962,
          -0.8330141031662486,
          -0.6624725539763923
         ]
        }
       ],
       "layout": {
        "scene": {
         "xaxis": {
          "exponentformat": "e",
          "showexponent": "all",
          "title": {
           "text": "0th"
          },
          "type": "linear"
         },
         "yaxis": {
          "exponentformat": "e",
          "showexponent": "all",
          "title": {
           "text": "1st"
          },
          "type": "linear"
         },
         "zaxis": {
          "exponentformat": "e",
          "showexponent": "all",
          "title": {
           "text": "2nd"
          },
          "type": "linear"
         }
        },
        "template": {
         "data": {
          "bar": [
           {
            "error_x": {
             "color": "#2a3f5f"
            },
            "error_y": {
             "color": "#2a3f5f"
            },
            "marker": {
             "line": {
              "color": "#E5ECF6",
              "width": 0.5
             },
             "pattern": {
              "fillmode": "overlay",
              "size": 10,
              "solidity": 0.2
             }
            },
            "type": "bar"
           }
          ],
          "barpolar": [
           {
            "marker": {
             "line": {
              "color": "#E5ECF6",
              "width": 0.5
             },
             "pattern": {
              "fillmode": "overlay",
              "size": 10,
              "solidity": 0.2
             }
            },
            "type": "barpolar"
           }
          ],
          "carpet": [
           {
            "aaxis": {
             "endlinecolor": "#2a3f5f",
             "gridcolor": "white",
             "linecolor": "white",
             "minorgridcolor": "white",
             "startlinecolor": "#2a3f5f"
            },
            "baxis": {
             "endlinecolor": "#2a3f5f",
             "gridcolor": "white",
             "linecolor": "white",
             "minorgridcolor": "white",
             "startlinecolor": "#2a3f5f"
            },
            "type": "carpet"
           }
          ],
          "choropleth": [
           {
            "colorbar": {
             "outlinewidth": 0,
             "ticks": ""
            },
            "type": "choropleth"
           }
          ],
          "contour": [
           {
            "colorbar": {
             "outlinewidth": 0,
             "ticks": ""
            },
            "colorscale": [
             [
              0,
              "#0d0887"
             ],
             [
              0.1111111111111111,
              "#46039f"
             ],
             [
              0.2222222222222222,
              "#7201a8"
             ],
             [
              0.3333333333333333,
              "#9c179e"
             ],
             [
              0.4444444444444444,
              "#bd3786"
             ],
             [
              0.5555555555555556,
              "#d8576b"
             ],
             [
              0.6666666666666666,
              "#ed7953"
             ],
             [
              0.7777777777777778,
              "#fb9f3a"
             ],
             [
              0.8888888888888888,
              "#fdca26"
             ],
             [
              1,
              "#f0f921"
             ]
            ],
            "type": "contour"
           }
          ],
          "contourcarpet": [
           {
            "colorbar": {
             "outlinewidth": 0,
             "ticks": ""
            },
            "type": "contourcarpet"
           }
          ],
          "heatmap": [
           {
            "colorbar": {
             "outlinewidth": 0,
             "ticks": ""
            },
            "colorscale": [
             [
              0,
              "#0d0887"
             ],
             [
              0.1111111111111111,
              "#46039f"
             ],
             [
              0.2222222222222222,
              "#7201a8"
             ],
             [
              0.3333333333333333,
              "#9c179e"
             ],
             [
              0.4444444444444444,
              "#bd3786"
             ],
             [
              0.5555555555555556,
              "#d8576b"
             ],
             [
              0.6666666666666666,
              "#ed7953"
             ],
             [
              0.7777777777777778,
              "#fb9f3a"
             ],
             [
              0.8888888888888888,
              "#fdca26"
             ],
             [
              1,
              "#f0f921"
             ]
            ],
            "type": "heatmap"
           }
          ],
          "heatmapgl": [
           {
            "colorbar": {
             "outlinewidth": 0,
             "ticks": ""
            },
            "colorscale": [
             [
              0,
              "#0d0887"
             ],
             [
              0.1111111111111111,
              "#46039f"
             ],
             [
              0.2222222222222222,
              "#7201a8"
             ],
             [
              0.3333333333333333,
              "#9c179e"
             ],
             [
              0.4444444444444444,
              "#bd3786"
             ],
             [
              0.5555555555555556,
              "#d8576b"
             ],
             [
              0.6666666666666666,
              "#ed7953"
             ],
             [
              0.7777777777777778,
              "#fb9f3a"
             ],
             [
              0.8888888888888888,
              "#fdca26"
             ],
             [
              1,
              "#f0f921"
             ]
            ],
            "type": "heatmapgl"
           }
          ],
          "histogram": [
           {
            "marker": {
             "pattern": {
              "fillmode": "overlay",
              "size": 10,
              "solidity": 0.2
             }
            },
            "type": "histogram"
           }
          ],
          "histogram2d": [
           {
            "colorbar": {
             "outlinewidth": 0,
             "ticks": ""
            },
            "colorscale": [
             [
              0,
              "#0d0887"
             ],
             [
              0.1111111111111111,
              "#46039f"
             ],
             [
              0.2222222222222222,
              "#7201a8"
             ],
             [
              0.3333333333333333,
              "#9c179e"
             ],
             [
              0.4444444444444444,
              "#bd3786"
             ],
             [
              0.5555555555555556,
              "#d8576b"
             ],
             [
              0.6666666666666666,
              "#ed7953"
             ],
             [
              0.7777777777777778,
              "#fb9f3a"
             ],
             [
              0.8888888888888888,
              "#fdca26"
             ],
             [
              1,
              "#f0f921"
             ]
            ],
            "type": "histogram2d"
           }
          ],
          "histogram2dcontour": [
           {
            "colorbar": {
             "outlinewidth": 0,
             "ticks": ""
            },
            "colorscale": [
             [
              0,
              "#0d0887"
             ],
             [
              0.1111111111111111,
              "#46039f"
             ],
             [
              0.2222222222222222,
              "#7201a8"
             ],
             [
              0.3333333333333333,
              "#9c179e"
             ],
             [
              0.4444444444444444,
              "#bd3786"
             ],
             [
              0.5555555555555556,
              "#d8576b"
             ],
             [
              0.6666666666666666,
              "#ed7953"
             ],
             [
              0.7777777777777778,
              "#fb9f3a"
             ],
             [
              0.8888888888888888,
              "#fdca26"
             ],
             [
              1,
              "#f0f921"
             ]
            ],
            "type": "histogram2dcontour"
           }
          ],
          "mesh3d": [
           {
            "colorbar": {
             "outlinewidth": 0,
             "ticks": ""
            },
            "type": "mesh3d"
           }
          ],
          "parcoords": [
           {
            "line": {
             "colorbar": {
              "outlinewidth": 0,
              "ticks": ""
             }
            },
            "type": "parcoords"
           }
          ],
          "pie": [
           {
            "automargin": true,
            "type": "pie"
           }
          ],
          "scatter": [
           {
            "fillpattern": {
             "fillmode": "overlay",
             "size": 10,
             "solidity": 0.2
            },
            "type": "scatter"
           }
          ],
          "scatter3d": [
           {
            "line": {
             "colorbar": {
              "outlinewidth": 0,
              "ticks": ""
             }
            },
            "marker": {
             "colorbar": {
              "outlinewidth": 0,
              "ticks": ""
             }
            },
            "type": "scatter3d"
           }
          ],
          "scattercarpet": [
           {
            "marker": {
             "colorbar": {
              "outlinewidth": 0,
              "ticks": ""
             }
            },
            "type": "scattercarpet"
           }
          ],
          "scattergeo": [
           {
            "marker": {
             "colorbar": {
              "outlinewidth": 0,
              "ticks": ""
             }
            },
            "type": "scattergeo"
           }
          ],
          "scattergl": [
           {
            "marker": {
             "colorbar": {
              "outlinewidth": 0,
              "ticks": ""
             }
            },
            "type": "scattergl"
           }
          ],
          "scattermapbox": [
           {
            "marker": {
             "colorbar": {
              "outlinewidth": 0,
              "ticks": ""
             }
            },
            "type": "scattermapbox"
           }
          ],
          "scatterpolar": [
           {
            "marker": {
             "colorbar": {
              "outlinewidth": 0,
              "ticks": ""
             }
            },
            "type": "scatterpolar"
           }
          ],
          "scatterpolargl": [
           {
            "marker": {
             "colorbar": {
              "outlinewidth": 0,
              "ticks": ""
             }
            },
            "type": "scatterpolargl"
           }
          ],
          "scatterternary": [
           {
            "marker": {
             "colorbar": {
              "outlinewidth": 0,
              "ticks": ""
             }
            },
            "type": "scatterternary"
           }
          ],
          "surface": [
           {
            "colorbar": {
             "outlinewidth": 0,
             "ticks": ""
            },
            "colorscale": [
             [
              0,
              "#0d0887"
             ],
             [
              0.1111111111111111,
              "#46039f"
             ],
             [
              0.2222222222222222,
              "#7201a8"
             ],
             [
              0.3333333333333333,
              "#9c179e"
             ],
             [
              0.4444444444444444,
              "#bd3786"
             ],
             [
              0.5555555555555556,
              "#d8576b"
             ],
             [
              0.6666666666666666,
              "#ed7953"
             ],
             [
              0.7777777777777778,
              "#fb9f3a"
             ],
             [
              0.8888888888888888,
              "#fdca26"
             ],
             [
              1,
              "#f0f921"
             ]
            ],
            "type": "surface"
           }
          ],
          "table": [
           {
            "cells": {
             "fill": {
              "color": "#EBF0F8"
             },
             "line": {
              "color": "white"
             }
            },
            "header": {
             "fill": {
              "color": "#C8D4E3"
             },
             "line": {
              "color": "white"
             }
            },
            "type": "table"
           }
          ]
         },
         "layout": {
          "annotationdefaults": {
           "arrowcolor": "#2a3f5f",
           "arrowhead": 0,
           "arrowwidth": 1
          },
          "autotypenumbers": "strict",
          "coloraxis": {
           "colorbar": {
            "outlinewidth": 0,
            "ticks": ""
           }
          },
          "colorscale": {
           "diverging": [
            [
             0,
             "#8e0152"
            ],
            [
             0.1,
             "#c51b7d"
            ],
            [
             0.2,
             "#de77ae"
            ],
            [
             0.3,
             "#f1b6da"
            ],
            [
             0.4,
             "#fde0ef"
            ],
            [
             0.5,
             "#f7f7f7"
            ],
            [
             0.6,
             "#e6f5d0"
            ],
            [
             0.7,
             "#b8e186"
            ],
            [
             0.8,
             "#7fbc41"
            ],
            [
             0.9,
             "#4d9221"
            ],
            [
             1,
             "#276419"
            ]
           ],
           "sequential": [
            [
             0,
             "#0d0887"
            ],
            [
             0.1111111111111111,
             "#46039f"
            ],
            [
             0.2222222222222222,
             "#7201a8"
            ],
            [
             0.3333333333333333,
             "#9c179e"
            ],
            [
             0.4444444444444444,
             "#bd3786"
            ],
            [
             0.5555555555555556,
             "#d8576b"
            ],
            [
             0.6666666666666666,
             "#ed7953"
            ],
            [
             0.7777777777777778,
             "#fb9f3a"
            ],
            [
             0.8888888888888888,
             "#fdca26"
            ],
            [
             1,
             "#f0f921"
            ]
           ],
           "sequentialminus": [
            [
             0,
             "#0d0887"
            ],
            [
             0.1111111111111111,
             "#46039f"
            ],
            [
             0.2222222222222222,
             "#7201a8"
            ],
            [
             0.3333333333333333,
             "#9c179e"
            ],
            [
             0.4444444444444444,
             "#bd3786"
            ],
            [
             0.5555555555555556,
             "#d8576b"
            ],
            [
             0.6666666666666666,
             "#ed7953"
            ],
            [
             0.7777777777777778,
             "#fb9f3a"
            ],
            [
             0.8888888888888888,
             "#fdca26"
            ],
            [
             1,
             "#f0f921"
            ]
           ]
          },
          "colorway": [
           "#636efa",
           "#EF553B",
           "#00cc96",
           "#ab63fa",
           "#FFA15A",
           "#19d3f3",
           "#FF6692",
           "#B6E880",
           "#FF97FF",
           "#FECB52"
          ],
          "font": {
           "color": "#2a3f5f"
          },
          "geo": {
           "bgcolor": "white",
           "lakecolor": "white",
           "landcolor": "#E5ECF6",
           "showlakes": true,
           "showland": true,
           "subunitcolor": "white"
          },
          "hoverlabel": {
           "align": "left"
          },
          "hovermode": "closest",
          "mapbox": {
           "style": "light"
          },
          "paper_bgcolor": "white",
          "plot_bgcolor": "#E5ECF6",
          "polar": {
           "angularaxis": {
            "gridcolor": "white",
            "linecolor": "white",
            "ticks": ""
           },
           "bgcolor": "#E5ECF6",
           "radialaxis": {
            "gridcolor": "white",
            "linecolor": "white",
            "ticks": ""
           }
          },
          "scene": {
           "xaxis": {
            "backgroundcolor": "#E5ECF6",
            "gridcolor": "white",
            "gridwidth": 2,
            "linecolor": "white",
            "showbackground": true,
            "ticks": "",
            "zerolinecolor": "white"
           },
           "yaxis": {
            "backgroundcolor": "#E5ECF6",
            "gridcolor": "white",
            "gridwidth": 2,
            "linecolor": "white",
            "showbackground": true,
            "ticks": "",
            "zerolinecolor": "white"
           },
           "zaxis": {
            "backgroundcolor": "#E5ECF6",
            "gridcolor": "white",
            "gridwidth": 2,
            "linecolor": "white",
            "showbackground": true,
            "ticks": "",
            "zerolinecolor": "white"
           }
          },
          "shapedefaults": {
           "line": {
            "color": "#2a3f5f"
           }
          },
          "ternary": {
           "aaxis": {
            "gridcolor": "white",
            "linecolor": "white",
            "ticks": ""
           },
           "baxis": {
            "gridcolor": "white",
            "linecolor": "white",
            "ticks": ""
           },
           "bgcolor": "#E5ECF6",
           "caxis": {
            "gridcolor": "white",
            "linecolor": "white",
            "ticks": ""
           }
          },
          "title": {
           "x": 0.05
          },
          "xaxis": {
           "automargin": true,
           "gridcolor": "white",
           "linecolor": "white",
           "ticks": "",
           "title": {
            "standoff": 15
           },
           "zerolinecolor": "white",
           "zerolinewidth": 2
          },
          "yaxis": {
           "automargin": true,
           "gridcolor": "white",
           "linecolor": "white",
           "ticks": "",
           "title": {
            "standoff": 15
           },
           "zerolinecolor": "white",
           "zerolinewidth": 2
          }
         }
        }
       }
      }
     },
     "metadata": {},
     "output_type": "display_data"
    }
   ],
   "source": [
    "persistence_entropy = PersistenceEntropy(normalize=True)\n",
    "X = persistence_entropy.fit_transform(persistence_diagrams)\n",
    "plot_point_cloud(X)"
   ]
  },
  {
   "cell_type": "code",
   "execution_count": 20,
   "metadata": {},
   "outputs": [
    {
     "data": {
      "text/plain": [
       "0.6"
      ]
     },
     "execution_count": 20,
     "metadata": {},
     "output_type": "execute_result"
    }
   ],
   "source": [
    "labs = np.zeros(40)\n",
    "labs[10:20] = 1\n",
    "labs[20:30] = 2\n",
    "labs[30:] = 3\n",
    "\n",
    "rf = RandomForestClassifier(oob_score=True, random_state=400)\n",
    "rf.fit(X, labs)\n",
    "rf.oob_score_"
   ]
  },
  {
   "cell_type": "markdown",
   "metadata": {},
   "source": [
    "Not bad at all (note that random guessing would give an oob_score of 0.25)! But we can do better. For instance by only using the PersistenceEntropy to classify our shapes, we are averaging out the distribution of points on the persistence diagram which might hold important information - for instance, the number of off-diagonal points in our persistence diagrams could be a great predictor of how clean our homology is, which is bound to change between different classes (and thus might be a good predictor). In addition to persistence entropy, we can also have other measures of \"amplitudes\" that detect how far away a given persistence diagram is from the trivial persistence diagram (of the empty-set, where no homological information is observed in any dimension). Giotto comes built in with various standard amplitudes that are considered industry standard. Each of these amplitude will contribute to three new features (one for each homology dimension) that could potentially improve our classifier. "
   ]
  },
  {
   "cell_type": "code",
   "execution_count": 21,
   "metadata": {},
   "outputs": [],
   "source": [
    "metrics = [\n",
    "    {\"metric\": metric}\n",
    "    for metric in [\"heat\", \"betti\", \"bottleneck\", \"wasserstein\", \"landscape\"]\n",
    "]\n",
    "\n",
    "\n",
    "feature_union = make_union(\n",
    "    PersistenceEntropy(normalize=True),\n",
    "    NumberOfPoints(),\n",
    "    *[Amplitude(**metric) for metric in metrics]\n",
    ")"
   ]
  },
  {
   "cell_type": "code",
   "execution_count": 22,
   "metadata": {},
   "outputs": [
    {
     "data": {
      "text/plain": [
       "0.825"
      ]
     },
     "execution_count": 22,
     "metadata": {},
     "output_type": "execute_result"
    }
   ],
   "source": [
    "p = Pipeline(\n",
    "    [\n",
    "        (\"features\", feature_union),\n",
    "        (\"rf\", RandomForestClassifier(oob_score=True, random_state=42)),\n",
    "    ]\n",
    ")\n",
    "p.fit(persistence_diagrams, labs)\n",
    "p[\"rf\"].oob_score_\n"
   ]
  },
  {
   "cell_type": "code",
   "execution_count": 23,
   "metadata": {},
   "outputs": [
    {
     "data": {
      "image/png": "[encoded data removed]",
      "text/plain": [
       "<Figure size 640x480 with 1 Axes>"
      ]
     },
     "metadata": {},
     "output_type": "display_data"
    }
   ],
   "source": [
    "feature_types = [\"PE\", \"NP\", \"heat\", \"betti\", \"bottleneck\", \"wasserstein\", \"landscape\"]\n",
    "feature_names = [type + str(i) for type in feature_types for i in homology_dimensions]\n",
    "importances = p[\"rf\"].feature_importances_\n",
    "forest_importances = pd.Series(importances, index=feature_names)\n",
    "fig, ax = plt.subplots()\n",
    "forest_importances.plot.bar(ax=ax)\n",
    "fig.tight_layout()\n"
   ]
  },
  {
   "cell_type": "markdown",
   "metadata": {},
   "source": [
    "From here it looks like the most prominent predictors turn out to be \n",
    "\n",
    "1. Bottleneck distance in dimension 2, \n",
    "2. The betti amplitude in dimension 1, and\n",
    "3. The Wasserstein metric in dimension 0\n",
    "\n",
    "where the wasserstein metric behaves comparably to the betti amplitude in dimension 0 and the heat (homology contour) map in dimension 0.\n"
   ]
  }
 ],
 "metadata": {
  "colab": {
   "provenance": []
  },
  "kernelspec": {
   "display_name": "Python 3",
   "name": "python3"
  },
  "language_info": {
   "codemirror_mode": {
    "name": "ipython",
    "version": 3
   },
   "file_extension": ".py",
   "mimetype": "text/x-python",
   "name": "python",
   "nbconvert_exporter": "python",
   "pygments_lexer": "ipython3",
   "version": "3.10.0"
  }
 },
 "nbformat": 4,
 "nbformat_minor": 0
}
