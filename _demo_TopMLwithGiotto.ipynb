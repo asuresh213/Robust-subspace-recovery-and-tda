{
 "cells": [
  {
   "cell_type": "code",
   "execution_count": 104,
   "metadata": {
    "id": "lzTDOsK7hMqa"
   },
   "outputs": [],
   "source": [
    "import gtda \n",
    "import numpy as np\n",
    "from generate_data import *\n",
    "from gtda.plotting import plot_point_cloud\n",
    "from gtda.homology import VietorisRipsPersistence\n",
    "from gtda.homology import WeakAlphaPersistence\n",
    "from gtda.diagrams import PersistenceEntropy\n",
    "import matplotlib.pyplot as plt\n",
    "from gtda.plotting import plot_diagram\n",
    "from sklearn.ensemble import RandomForestClassifier\n",
    "from openml.datasets.functions import get_dataset\n",
    "from gtda.diagrams import Amplitude, NumberOfPoints\n",
    "from sklearn.pipeline import make_union\n",
    "from gtda.pipeline import Pipeline \n",
    "import pandas as pd\n",
    "import matplotlib.pyplot as plt"
   ]
  },
  {
   "cell_type": "markdown",
   "metadata": {
    "id": "BYTRE-0Uhf_b"
   },
   "source": [
    "Helper function to make some point clouds X:\n"
   ]
  },
  {
   "cell_type": "code",
   "execution_count": 105,
   "metadata": {
    "id": "ZWfYon6gheFq"
   },
   "outputs": [],
   "source": [
    "def make_point_clouds(n_samples_per_shape: int, n_points: int, noise: float):\n",
    "    #--- circles ---\n",
    "    circle_point_clouds = [\n",
    "        np.asarray(\n",
    "            [\n",
    "                [np.sin(t) + noise * (np.random.rand(1)[0] - 0.5), np.cos(t) + noise * (np.random.rand(1)[0] - 0.5), 0]\n",
    "                for t in range((n_points ** 2))\n",
    "            ]\n",
    "        )\n",
    "        for kk in range(n_samples_per_shape)\n",
    "    ]\n",
    "    circle_labels = np.zeros(n_samples_per_shape)  # label circles with 0\n",
    "\n",
    "    #--- spheres ---\n",
    "    sphere_point_clouds = [\n",
    "        np.asarray(\n",
    "            [\n",
    "                [\n",
    "                    np.cos(s) * np.cos(t) + noise * (np.random.rand(1)[0] - 0.5),\n",
    "                    np.cos(s) * np.sin(t) + noise * (np.random.rand(1)[0] - 0.5),\n",
    "                    np.sin(s) + noise * (np.random.rand(1)[0] - 0.5),\n",
    "                ]\n",
    "                for t in range(n_points)\n",
    "                for s in range(n_points)\n",
    "            ]\n",
    "        )\n",
    "        for kk in range(n_samples_per_shape)\n",
    "    ]\n",
    "    sphere_labels = np.ones(n_samples_per_shape)     # label spheres with 1\n",
    "\n",
    "    #--- tori ---\n",
    "    torus_point_clouds = [\n",
    "        np.asarray(\n",
    "            [\n",
    "                [\n",
    "                    (2 + np.cos(s)) * np.cos(t) + noise * (np.random.rand(1)[0] - 0.5),\n",
    "                    (2 + np.cos(s)) * np.sin(t) + noise * (np.random.rand(1)[0] - 0.5),\n",
    "                    np.sin(s) + noise * (np.random.rand(1)[0] - 0.5),\n",
    "                ]\n",
    "                for t in range(n_points)\n",
    "                for s in range(n_points)\n",
    "            ]\n",
    "        )\n",
    "        for kk in range(n_samples_per_shape)\n",
    "    ]\n",
    "\n",
    "    torus_labels = 2 * np.ones(n_samples_per_shape)     # label tori with 2\n",
    "\n",
    "    #--- plane ---\n",
    "    coefs = list(zip((1+6*np.random.rand(n_samples_per_shape)).astype(int), (1+6*np.random.rand(n_samples_per_shape)).astype(int)))\n",
    "    plane_point_clouds = [\n",
    "        np.asarray(\n",
    "            [\n",
    "                [\n",
    "                    x,\n",
    "                    y,\n",
    "                    coef[0]*x + coef[1]*y,\n",
    "                ]\n",
    "                for x in np.linspace(-1, 1, n_points)\n",
    "                for y in np.linspace(-1, 1, n_points)\n",
    "            ]\n",
    "        )\n",
    "        for coef in coefs\n",
    "    ]\n",
    "    plane_labels = 3 * np.ones(n_samples_per_shape) # label plane with 3\n",
    "\n",
    "    point_clouds = np.concatenate((circle_point_clouds, sphere_point_clouds, torus_point_clouds, plane_point_clouds))\n",
    "    labels = np.concatenate((circle_labels, sphere_labels, torus_labels, plane_labels))\n",
    "\n",
    "    return point_clouds, labels"
   ]
  },
  {
   "cell_type": "code",
   "execution_count": 106,
   "metadata": {
    "collapsed": true,
    "id": "2nD32pzjiDdi"
   },
   "outputs": [
    {
     "name": "stdout",
     "output_type": "stream",
     "text": [
      "(40, 100, 3)\n",
      "(40,)\n"
     ]
    }
   ],
   "source": [
    "n_samples_per_class = 10\n",
    "point_clouds, labs = make_point_clouds(n_samples_per_class, n_points = 10, noise=0.1)\n",
    "print(point_clouds.shape)\n",
    "print(labs.shape)"
   ]
  },
  {
   "cell_type": "code",
   "execution_count": 107,
   "metadata": {
    "collapsed": true,
    "id": "STI766YBiSMA"
   },
   "outputs": [
    {
     "data": {
      "application/vnd.plotly.v1+json": {
       "config": {
        "plotlyServerURL": "https://plot.ly"
       },
       "data": [
        {
         "marker": {
          "color": [
           0,
           1,
           2,
           3,
           4,
           5,
           6,
           7,
           8,
           9,
           10,
           11,
           12,
           13,
           14,
           15,
           16,
           17,
           18,
           19,
           20,
           21,
           22,
           23,
           24,
           25,
           26,
           27,
           28,
           29,
           30,
           31,
           32,
           33,
           34,
           35,
           36,
           37,
           38,
           39,
           40,
           41,
           42,
           43,
           44,
           45,
           46,
           47,
           48,
           49,
           50,
           51,
           52,
           53,
           54,
           55,
           56,
           57,
           58,
           59,
           60,
           61,
           62,
           63,
           64,
           65,
           66,
           67,
           68,
           69,
           70,
           71,
           72,
           73,
           74,
           75,
           76,
           77,
           78,
           79,
           80,
           81,
           82,
           83,
           84,
           85,
           86,
           87,
           88,
           89,
           90,
           91,
           92,
           93,
           94,
           95,
           96,
           97,
           98,
           99
          ],
          "colorscale": [
           [
            0,
            "#440154"
           ],
           [
            0.1111111111111111,
            "#482878"
           ],
           [
            0.2222222222222222,
            "#3e4989"
           ],
           [
            0.3333333333333333,
            "#31688e"
           ],
           [
            0.4444444444444444,
            "#26828e"
           ],
           [
            0.5555555555555556,
            "#1f9e89"
           ],
           [
            0.6666666666666666,
            "#35b779"
           ],
           [
            0.7777777777777778,
            "#6ece58"
           ],
           [
            0.8888888888888888,
            "#b5de2b"
           ],
           [
            1,
            "#fde725"
           ]
          ],
          "opacity": 0.8,
          "size": 4
         },
         "mode": "markers",
         "type": "scatter3d",
         "x": [
          -0.015193036061996235,
          0.8224439415980838,
          0.8765136553218572,
          0.140156222210866,
          -0.7664470592535684,
          -0.9970172190681242,
          -0.3155857095035345,
          0.6617724044285977,
          1.0142321957721656,
          0.39866747309451317,
          -0.5601516435248756,
          -1.0045038020891832,
          -0.5618270705049954,
          0.3710343759256066,
          1.0180412210783614,
          0.6177008812255851,
          -0.25608485224270894,
          -1.0057489871517025,
          -0.746837953022947,
          0.11835331547894617,
          0.9103074782904075,
          0.836945953277844,
          -0.003689320141403464,
          -0.829140087792064,
          -0.948500437415304,
          -0.1288753676058443,
          0.7973684448588381,
          0.9866915309280279,
          0.2891881720593651,
          -0.6960580740623142,
          -0.9730457360652695,
          -0.4128664220914723,
          0.588796517953901,
          1.042774506510433,
          0.48566188794409426,
          -0.3984343488964386,
          -1.0394903493578067,
          -0.6525946620561018,
          0.28622812889382876,
          0.915532474073325,
          0.7348101481341145,
          -0.11719400170440347,
          -0.9565374489901342,
          -0.8015673833246102,
          -0.014549807933478643,
          0.8621264399176578,
          0.9246729988323275,
          0.14883211637423133,
          -0.772023634884784,
          -0.9972103496126151,
          -0.26945689159876235,
          0.6531732525995622,
          1.0002930231069538,
          0.38170732577785776,
          -0.5567607066038277,
          -1.034984211798147,
          -0.5393387398310794,
          0.4113768967743377,
          0.959107869908175,
          0.5917676859422517,
          -0.3544177274255362,
          -0.9359878931897372,
          -0.7776130428749166,
          0.2031798986962576,
          0.9115666418428883,
          0.8374429939527688,
          0.015245868995719392,
          -0.9022128832382331,
          -0.9373797687970346,
          -0.0843159287227801,
          0.762262613522978,
          0.9305298121664248,
          0.27742884994958317,
          -0.6849884891353751,
          -0.9737540113184647,
          -0.33938335107567164,
          0.5713615403109727,
          1.030285448994925,
          0.5186639223651138,
          -0.47951258543621045,
          -0.9999260878555606,
          -0.6785664553632514,
          0.35697095974303944,
          0.9330890588774833,
          0.6934475322414322,
          -0.14937373930747944,
          -0.9499062296441253,
          -0.7836050413402772,
          0.05167736906076048,
          0.8309556143843402,
          0.9300648042879843,
          0.15065719711613568,
          -0.8027400171038205,
          -0.9836512927486745,
          -0.23636531434395128,
          0.6708015234559146,
          0.9612406552553732,
          0.4095991706653809,
          -0.6067602997325201,
          -1.0189098192127197
         ],
         "y": [
          0.9561550516396695,
          0.5897338174372111,
          -0.37685139113501115,
          -1.0008729270496035,
          -0.6065422036081193,
          0.23690043624629675,
          0.918306892413354,
          0.739264228718686,
          -0.11632374939661268,
          -0.9211890290056347,
          -0.8732664262522996,
          -0.038815018846372625,
          0.81800665086443,
          0.8958049918773026,
          0.11249043747921125,
          -0.7315068802881586,
          -0.9438310160292874,
          -0.24156878256211242,
          0.6184107303076278,
          1.0094612080750627,
          0.4374484191841739,
          -0.5582846458076108,
          -1.0233471032118817,
          -0.48605669590119155,
          0.39164902488880643,
          0.9676531588007984,
          0.6943893667605932,
          -0.28094849489655754,
          -1.0098588573285712,
          -0.7899960854012866,
          0.1931966248198096,
          0.9337542653161484,
          0.8385503895834553,
          0.002546646759787722,
          -0.8699895227285585,
          -0.8872443314600581,
          -0.1551730949536973,
          0.7850323458638643,
          0.9857644688920403,
          0.2177705986072244,
          -0.6675461186061249,
          -0.9718517545611377,
          -0.4246665628723944,
          0.509225220304641,
          0.9653762659162485,
          0.5290390110700858,
          -0.4734793692874909,
          -0.9499321046134854,
          -0.6108511722710906,
          0.32826707685692746,
          0.9906115123044155,
          0.7845580735383385,
          -0.20428174143865158,
          -0.902235109150827,
          -0.8266912209466784,
          -0.020287669039458275,
          0.8052536337415417,
          0.8979563920169724,
          0.1386046659088357,
          -0.7912561577988356,
          -0.9431328458009459,
          -0.29186275548438356,
          0.6451408956199411,
          1.0174082910434998,
          0.4288712994873272,
          -0.5200773628942542,
          -1.016624682891227,
          -0.4995317708464789,
          0.3964201159897842,
          0.9938322200857981,
          0.5904010390259372,
          -0.33540901906678583,
          -0.9824373741899121,
          -0.7741977920678816,
          0.1310762062987439,
          0.9214327616204351,
          0.8552595691716022,
          -0.05302015230803338,
          -0.8951878442301243,
          -0.907516305227869,
          -0.07964586860977854,
          0.7900892503769308,
          0.9611478453770865,
          0.26171151413438837,
          -0.6365659781146196,
          -0.9910175938073348,
          -0.3725436734292374,
          0.5496805334197449,
          1.0270949207018776,
          0.48660452788515346,
          -0.48722972291790684,
          -1.0234972029263667,
          -0.6661725036734664,
          0.3383575498227172,
          0.9802742019148617,
          0.7391315584475643,
          -0.21671910809408046,
          -0.9106209005988295,
          -0.8418697608456958,
          0.019000463801093645
         ],
         "z": [
          0,
          0,
          0,
          0,
          0,
          0,
          0,
          0,
          0,
          0,
          0,
          0,
          0,
          0,
          0,
          0,
          0,
          0,
          0,
          0,
          0,
          0,
          0,
          0,
          0,
          0,
          0,
          0,
          0,
          0,
          0,
          0,
          0,
          0,
          0,
          0,
          0,
          0,
          0,
          0,
          0,
          0,
          0,
          0,
          0,
          0,
          0,
          0,
          0,
          0,
          0,
          0,
          0,
          0,
          0,
          0,
          0,
          0,
          0,
          0,
          0,
          0,
          0,
          0,
          0,
          0,
          0,
          0,
          0,
          0,
          0,
          0,
          0,
          0,
          0,
          0,
          0,
          0,
          0,
          0,
          0,
          0,
          0,
          0,
          0,
          0,
          0,
          0,
          0,
          0,
          0,
          0,
          0,
          0,
          0,
          0,
          0,
          0,
          0,
          0
         ]
        }
       ],
       "layout": {
        "scene": {
         "xaxis": {
          "exponentformat": "e",
          "showexponent": "all",
          "title": {
           "text": "0th"
          },
          "type": "linear"
         },
         "yaxis": {
          "exponentformat": "e",
          "showexponent": "all",
          "title": {
           "text": "1st"
          },
          "type": "linear"
         },
         "zaxis": {
          "exponentformat": "e",
          "showexponent": "all",
          "title": {
           "text": "2nd"
          },
          "type": "linear"
         }
        },
        "template": {
         "data": {
          "bar": [
           {
            "error_x": {
             "color": "#2a3f5f"
            },
            "error_y": {
             "color": "#2a3f5f"
            },
            "marker": {
             "line": {
              "color": "#E5ECF6",
              "width": 0.5
             },
             "pattern": {
              "fillmode": "overlay",
              "size": 10,
              "solidity": 0.2
             }
            },
            "type": "bar"
           }
          ],
          "barpolar": [
           {
            "marker": {
             "line": {
              "color": "#E5ECF6",
              "width": 0.5
             },
             "pattern": {
              "fillmode": "overlay",
              "size": 10,
              "solidity": 0.2
             }
            },
            "type": "barpolar"
           }
          ],
          "carpet": [
           {
            "aaxis": {
             "endlinecolor": "#2a3f5f",
             "gridcolor": "white",
             "linecolor": "white",
             "minorgridcolor": "white",
             "startlinecolor": "#2a3f5f"
            },
            "baxis": {
             "endlinecolor": "#2a3f5f",
             "gridcolor": "white",
             "linecolor": "white",
             "minorgridcolor": "white",
             "startlinecolor": "#2a3f5f"
            },
            "type": "carpet"
           }
          ],
          "choropleth": [
           {
            "colorbar": {
             "outlinewidth": 0,
             "ticks": ""
            },
            "type": "choropleth"
           }
          ],
          "contour": [
           {
            "colorbar": {
             "outlinewidth": 0,
             "ticks": ""
            },
            "colorscale": [
             [
              0,
              "#0d0887"
             ],
             [
              0.1111111111111111,
              "#46039f"
             ],
             [
              0.2222222222222222,
              "#7201a8"
             ],
             [
              0.3333333333333333,
              "#9c179e"
             ],
             [
              0.4444444444444444,
              "#bd3786"
             ],
             [
              0.5555555555555556,
              "#d8576b"
             ],
             [
              0.6666666666666666,
              "#ed7953"
             ],
             [
              0.7777777777777778,
              "#fb9f3a"
             ],
             [
              0.8888888888888888,
              "#fdca26"
             ],
             [
              1,
              "#f0f921"
             ]
            ],
            "type": "contour"
           }
          ],
          "contourcarpet": [
           {
            "colorbar": {
             "outlinewidth": 0,
             "ticks": ""
            },
            "type": "contourcarpet"
           }
          ],
          "heatmap": [
           {
            "colorbar": {
             "outlinewidth": 0,
             "ticks": ""
            },
            "colorscale": [
             [
              0,
              "#0d0887"
             ],
             [
              0.1111111111111111,
              "#46039f"
             ],
             [
              0.2222222222222222,
              "#7201a8"
             ],
             [
              0.3333333333333333,
              "#9c179e"
             ],
             [
              0.4444444444444444,
              "#bd3786"
             ],
             [
              0.5555555555555556,
              "#d8576b"
             ],
             [
              0.6666666666666666,
              "#ed7953"
             ],
             [
              0.7777777777777778,
              "#fb9f3a"
             ],
             [
              0.8888888888888888,
              "#fdca26"
             ],
             [
              1,
              "#f0f921"
             ]
            ],
            "type": "heatmap"
           }
          ],
          "heatmapgl": [
           {
            "colorbar": {
             "outlinewidth": 0,
             "ticks": ""
            },
            "colorscale": [
             [
              0,
              "#0d0887"
             ],
             [
              0.1111111111111111,
              "#46039f"
             ],
             [
              0.2222222222222222,
              "#7201a8"
             ],
             [
              0.3333333333333333,
              "#9c179e"
             ],
             [
              0.4444444444444444,
              "#bd3786"
             ],
             [
              0.5555555555555556,
              "#d8576b"
             ],
             [
              0.6666666666666666,
              "#ed7953"
             ],
             [
              0.7777777777777778,
              "#fb9f3a"
             ],
             [
              0.8888888888888888,
              "#fdca26"
             ],
             [
              1,
              "#f0f921"
             ]
            ],
            "type": "heatmapgl"
           }
          ],
          "histogram": [
           {
            "marker": {
             "pattern": {
              "fillmode": "overlay",
              "size": 10,
              "solidity": 0.2
             }
            },
            "type": "histogram"
           }
          ],
          "histogram2d": [
           {
            "colorbar": {
             "outlinewidth": 0,
             "ticks": ""
            },
            "colorscale": [
             [
              0,
              "#0d0887"
             ],
             [
              0.1111111111111111,
              "#46039f"
             ],
             [
              0.2222222222222222,
              "#7201a8"
             ],
             [
              0.3333333333333333,
              "#9c179e"
             ],
             [
              0.4444444444444444,
              "#bd3786"
             ],
             [
              0.5555555555555556,
              "#d8576b"
             ],
             [
              0.6666666666666666,
              "#ed7953"
             ],
             [
              0.7777777777777778,
              "#fb9f3a"
             ],
             [
              0.8888888888888888,
              "#fdca26"
             ],
             [
              1,
              "#f0f921"
             ]
            ],
            "type": "histogram2d"
           }
          ],
          "histogram2dcontour": [
           {
            "colorbar": {
             "outlinewidth": 0,
             "ticks": ""
            },
            "colorscale": [
             [
              0,
              "#0d0887"
             ],
             [
              0.1111111111111111,
              "#46039f"
             ],
             [
              0.2222222222222222,
              "#7201a8"
             ],
             [
              0.3333333333333333,
              "#9c179e"
             ],
             [
              0.4444444444444444,
              "#bd3786"
             ],
             [
              0.5555555555555556,
              "#d8576b"
             ],
             [
              0.6666666666666666,
              "#ed7953"
             ],
             [
              0.7777777777777778,
              "#fb9f3a"
             ],
             [
              0.8888888888888888,
              "#fdca26"
             ],
             [
              1,
              "#f0f921"
             ]
            ],
            "type": "histogram2dcontour"
           }
          ],
          "mesh3d": [
           {
            "colorbar": {
             "outlinewidth": 0,
             "ticks": ""
            },
            "type": "mesh3d"
           }
          ],
          "parcoords": [
           {
            "line": {
             "colorbar": {
              "outlinewidth": 0,
              "ticks": ""
             }
            },
            "type": "parcoords"
           }
          ],
          "pie": [
           {
            "automargin": true,
            "type": "pie"
           }
          ],
          "scatter": [
           {
            "fillpattern": {
             "fillmode": "overlay",
             "size": 10,
             "solidity": 0.2
            },
            "type": "scatter"
           }
          ],
          "scatter3d": [
           {
            "line": {
             "colorbar": {
              "outlinewidth": 0,
              "ticks": ""
             }
            },
            "marker": {
             "colorbar": {
              "outlinewidth": 0,
              "ticks": ""
             }
            },
            "type": "scatter3d"
           }
          ],
          "scattercarpet": [
           {
            "marker": {
             "colorbar": {
              "outlinewidth": 0,
              "ticks": ""
             }
            },
            "type": "scattercarpet"
           }
          ],
          "scattergeo": [
           {
            "marker": {
             "colorbar": {
              "outlinewidth": 0,
              "ticks": ""
             }
            },
            "type": "scattergeo"
           }
          ],
          "scattergl": [
           {
            "marker": {
             "colorbar": {
              "outlinewidth": 0,
              "ticks": ""
             }
            },
            "type": "scattergl"
           }
          ],
          "scattermapbox": [
           {
            "marker": {
             "colorbar": {
              "outlinewidth": 0,
              "ticks": ""
             }
            },
            "type": "scattermapbox"
           }
          ],
          "scatterpolar": [
           {
            "marker": {
             "colorbar": {
              "outlinewidth": 0,
              "ticks": ""
             }
            },
            "type": "scatterpolar"
           }
          ],
          "scatterpolargl": [
           {
            "marker": {
             "colorbar": {
              "outlinewidth": 0,
              "ticks": ""
             }
            },
            "type": "scatterpolargl"
           }
          ],
          "scatterternary": [
           {
            "marker": {
             "colorbar": {
              "outlinewidth": 0,
              "ticks": ""
             }
            },
            "type": "scatterternary"
           }
          ],
          "surface": [
           {
            "colorbar": {
             "outlinewidth": 0,
             "ticks": ""
            },
            "colorscale": [
             [
              0,
              "#0d0887"
             ],
             [
              0.1111111111111111,
              "#46039f"
             ],
             [
              0.2222222222222222,
              "#7201a8"
             ],
             [
              0.3333333333333333,
              "#9c179e"
             ],
             [
              0.4444444444444444,
              "#bd3786"
             ],
             [
              0.5555555555555556,
              "#d8576b"
             ],
             [
              0.6666666666666666,
              "#ed7953"
             ],
             [
              0.7777777777777778,
              "#fb9f3a"
             ],
             [
              0.8888888888888888,
              "#fdca26"
             ],
             [
              1,
              "#f0f921"
             ]
            ],
            "type": "surface"
           }
          ],
          "table": [
           {
            "cells": {
             "fill": {
              "color": "#EBF0F8"
             },
             "line": {
              "color": "white"
             }
            },
            "header": {
             "fill": {
              "color": "#C8D4E3"
             },
             "line": {
              "color": "white"
             }
            },
            "type": "table"
           }
          ]
         },
         "layout": {
          "annotationdefaults": {
           "arrowcolor": "#2a3f5f",
           "arrowhead": 0,
           "arrowwidth": 1
          },
          "autotypenumbers": "strict",
          "coloraxis": {
           "colorbar": {
            "outlinewidth": 0,
            "ticks": ""
           }
          },
          "colorscale": {
           "diverging": [
            [
             0,
             "#8e0152"
            ],
            [
             0.1,
             "#c51b7d"
            ],
            [
             0.2,
             "#de77ae"
            ],
            [
             0.3,
             "#f1b6da"
            ],
            [
             0.4,
             "#fde0ef"
            ],
            [
             0.5,
             "#f7f7f7"
            ],
            [
             0.6,
             "#e6f5d0"
            ],
            [
             0.7,
             "#b8e186"
            ],
            [
             0.8,
             "#7fbc41"
            ],
            [
             0.9,
             "#4d9221"
            ],
            [
             1,
             "#276419"
            ]
           ],
           "sequential": [
            [
             0,
             "#0d0887"
            ],
            [
             0.1111111111111111,
             "#46039f"
            ],
            [
             0.2222222222222222,
             "#7201a8"
            ],
            [
             0.3333333333333333,
             "#9c179e"
            ],
            [
             0.4444444444444444,
             "#bd3786"
            ],
            [
             0.5555555555555556,
             "#d8576b"
            ],
            [
             0.6666666666666666,
             "#ed7953"
            ],
            [
             0.7777777777777778,
             "#fb9f3a"
            ],
            [
             0.8888888888888888,
             "#fdca26"
            ],
            [
             1,
             "#f0f921"
            ]
           ],
           "sequentialminus": [
            [
             0,
             "#0d0887"
            ],
            [
             0.1111111111111111,
             "#46039f"
            ],
            [
             0.2222222222222222,
             "#7201a8"
            ],
            [
             0.3333333333333333,
             "#9c179e"
            ],
            [
             0.4444444444444444,
             "#bd3786"
            ],
            [
             0.5555555555555556,
             "#d8576b"
            ],
            [
             0.6666666666666666,
             "#ed7953"
            ],
            [
             0.7777777777777778,
             "#fb9f3a"
            ],
            [
             0.8888888888888888,
             "#fdca26"
            ],
            [
             1,
             "#f0f921"
            ]
           ]
          },
          "colorway": [
           "#636efa",
           "#EF553B",
           "#00cc96",
           "#ab63fa",
           "#FFA15A",
           "#19d3f3",
           "#FF6692",
           "#B6E880",
           "#FF97FF",
           "#FECB52"
          ],
          "font": {
           "color": "#2a3f5f"
          },
          "geo": {
           "bgcolor": "white",
           "lakecolor": "white",
           "landcolor": "#E5ECF6",
           "showlakes": true,
           "showland": true,
           "subunitcolor": "white"
          },
          "hoverlabel": {
           "align": "left"
          },
          "hovermode": "closest",
          "mapbox": {
           "style": "light"
          },
          "paper_bgcolor": "white",
          "plot_bgcolor": "#E5ECF6",
          "polar": {
           "angularaxis": {
            "gridcolor": "white",
            "linecolor": "white",
            "ticks": ""
           },
           "bgcolor": "#E5ECF6",
           "radialaxis": {
            "gridcolor": "white",
            "linecolor": "white",
            "ticks": ""
           }
          },
          "scene": {
           "xaxis": {
            "backgroundcolor": "#E5ECF6",
            "gridcolor": "white",
            "gridwidth": 2,
            "linecolor": "white",
            "showbackground": true,
            "ticks": "",
            "zerolinecolor": "white"
           },
           "yaxis": {
            "backgroundcolor": "#E5ECF6",
            "gridcolor": "white",
            "gridwidth": 2,
            "linecolor": "white",
            "showbackground": true,
            "ticks": "",
            "zerolinecolor": "white"
           },
           "zaxis": {
            "backgroundcolor": "#E5ECF6",
            "gridcolor": "white",
            "gridwidth": 2,
            "linecolor": "white",
            "showbackground": true,
            "ticks": "",
            "zerolinecolor": "white"
           }
          },
          "shapedefaults": {
           "line": {
            "color": "#2a3f5f"
           }
          },
          "ternary": {
           "aaxis": {
            "gridcolor": "white",
            "linecolor": "white",
            "ticks": ""
           },
           "baxis": {
            "gridcolor": "white",
            "linecolor": "white",
            "ticks": ""
           },
           "bgcolor": "#E5ECF6",
           "caxis": {
            "gridcolor": "white",
            "linecolor": "white",
            "ticks": ""
           }
          },
          "title": {
           "x": 0.05
          },
          "xaxis": {
           "automargin": true,
           "gridcolor": "white",
           "linecolor": "white",
           "ticks": "",
           "title": {
            "standoff": 15
           },
           "zerolinecolor": "white",
           "zerolinewidth": 2
          },
          "yaxis": {
           "automargin": true,
           "gridcolor": "white",
           "linecolor": "white",
           "ticks": "",
           "title": {
            "standoff": 15
           },
           "zerolinecolor": "white",
           "zerolinewidth": 2
          }
         }
        }
       }
      }
     },
     "metadata": {},
     "output_type": "display_data"
    }
   ],
   "source": [
    "plot_point_cloud(point_clouds[0]).show()"
   ]
  },
  {
   "cell_type": "code",
   "execution_count": 108,
   "metadata": {
    "collapsed": true,
    "id": "rXQ9a1nNiZWX"
   },
   "outputs": [
    {
     "data": {
      "application/vnd.plotly.v1+json": {
       "config": {
        "plotlyServerURL": "https://plot.ly"
       },
       "data": [
        {
         "marker": {
          "color": [
           0,
           1,
           2,
           3,
           4,
           5,
           6,
           7,
           8,
           9,
           10,
           11,
           12,
           13,
           14,
           15,
           16,
           17,
           18,
           19,
           20,
           21,
           22,
           23,
           24,
           25,
           26,
           27,
           28,
           29,
           30,
           31,
           32,
           33,
           34,
           35,
           36,
           37,
           38,
           39,
           40,
           41,
           42,
           43,
           44,
           45,
           46,
           47,
           48,
           49,
           50,
           51,
           52,
           53,
           54,
           55,
           56,
           57,
           58,
           59,
           60,
           61,
           62,
           63,
           64,
           65,
           66,
           67,
           68,
           69,
           70,
           71,
           72,
           73,
           74,
           75,
           76,
           77,
           78,
           79,
           80,
           81,
           82,
           83,
           84,
           85,
           86,
           87,
           88,
           89,
           90,
           91,
           92,
           93,
           94,
           95,
           96,
           97,
           98,
           99
          ],
          "colorscale": [
           [
            0,
            "#440154"
           ],
           [
            0.1111111111111111,
            "#482878"
           ],
           [
            0.2222222222222222,
            "#3e4989"
           ],
           [
            0.3333333333333333,
            "#31688e"
           ],
           [
            0.4444444444444444,
            "#26828e"
           ],
           [
            0.5555555555555556,
            "#1f9e89"
           ],
           [
            0.6666666666666666,
            "#35b779"
           ],
           [
            0.7777777777777778,
            "#6ece58"
           ],
           [
            0.8888888888888888,
            "#b5de2b"
           ],
           [
            1,
            "#fde725"
           ]
          ],
          "opacity": 0.8,
          "size": 4
         },
         "mode": "markers",
         "type": "scatter3d",
         "x": [
          0.9689434752087744,
          0.5352969599908666,
          -0.41330866301144575,
          -0.9801368837745432,
          -0.6127376328165293,
          0.3217199411786665,
          1.0018665947082468,
          0.7597833053254636,
          -0.13097227442422987,
          -0.8919497053350318,
          0.570151069375666,
          0.252317372908489,
          -0.2710480343621613,
          -0.5341773632236066,
          -0.32025968241873387,
          0.14418337517663024,
          0.4828899259775512,
          0.3884400506035888,
          -0.0938910192559388,
          -0.4736119762978688,
          -0.39141561730763386,
          -0.1805134224344178,
          0.18892976353901678,
          0.42444221665202014,
          0.25929420588225954,
          -0.15856134497346147,
          -0.40863918949015987,
          -0.2670012622872822,
          0.08250596180834174,
          0.36790647934163245,
          -1.0385267792009159,
          -0.5014077761035686,
          0.4153177192367165,
          0.9347943671613366,
          0.6931378411564463,
          -0.24666993222079686,
          -0.9416991074949882,
          -0.764672755938166,
          0.10039357628433265,
          0.8575832848141327,
          -0.6085949680491184,
          -0.3078769118522781,
          0.2814137242291063,
          0.6060682495256121,
          0.4022001179674361,
          -0.22265121539605454,
          -0.6647154706229366,
          -0.515798639398707,
          0.09975484043356524,
          0.6149980341930996,
          0.27318896678391846,
          0.13375713359563107,
          -0.06978895636594307,
          -0.24672136687371812,
          -0.15084239387498144,
          0.08353858613905586,
          0.2858392963949307,
          0.17461190474809615,
          0.0038946357414049934,
          -0.29185523204562674,
          0.9955567044759324,
          0.522589627321341,
          -0.42412401196786736,
          -0.9944856505639081,
          -0.6742516608938295,
          0.2288293773212891,
          0.8851300169108276,
          0.7397370541258256,
          -0.18392038687514417,
          -0.8911970666558826,
          0.7667555218230684,
          0.3953062925886015,
          -0.357110085376954,
          -0.7398819402307717,
          -0.5159792142396087,
          0.2612431566187823,
          0.6909966753468721,
          0.5522586672762295,
          -0.11017605573629777,
          -0.6752858644615862,
          -0.16569386809203565,
          -0.11782181514832309,
          0.060595627286932525,
          0.12174315311621986,
          0.047665687297984136,
          -0.024229227397223354,
          -0.12544779615438378,
          -0.12823663523594964,
          0.03834116731604558,
          0.1332696585064017,
          -0.8684889327745803,
          -0.4575632238009815,
          0.3473214591620632,
          0.8782411833341969,
          0.5758848585978975,
          -0.2608652808111764,
          -0.9227615344651473,
          -0.6831263505237292,
          0.1571231539820594,
          0.816428670137019
         ],
         "y": [
          -0.027033492635771594,
          -0.04149058823183526,
          -0.006655170449756199,
          0.028352639575271357,
          -0.029055962242933997,
          0.04944400499486608,
          -0.030510344599405527,
          -0.037356813914592515,
          0.04270619924284739,
          0.028679506030386628,
          0.8645161635292133,
          0.463213244799901,
          -0.30985282609784026,
          -0.8119616356902151,
          -0.5209614452345288,
          0.24366007849126492,
          0.8434978115531181,
          0.5843947342012257,
          -0.10811148142944638,
          -0.7599349746542228,
          0.940701378211413,
          0.5319962031690812,
          -0.34324616782649137,
          -0.8674288954101891,
          -0.5471690927031481,
          0.22682204289267735,
          0.8254776011407898,
          0.6508742862175521,
          -0.15242869441027768,
          -0.8322444726531129,
          0.1732569274730255,
          0.07061264791624679,
          -0.05263989807334789,
          -0.11217127198830831,
          -0.04443744312343863,
          -0.0042951446839997465,
          0.13731608463040887,
          0.06291510814144861,
          -0.0583723142559114,
          -0.1365072960012898,
          -0.7928911785142894,
          -0.4333867132597642,
          0.27847257189451674,
          0.7330814706439905,
          0.5219189182627507,
          -0.18987197944208012,
          -0.710674514990308,
          -0.5696998335874003,
          0.08843058186097838,
          0.6809306183604772,
          -0.9419174333755258,
          -0.5575727684007504,
          0.4153830376045037,
          0.9806165818800672,
          0.6083994873721158,
          -0.259452133333614,
          -0.9239690740186551,
          -0.7623327995600462,
          0.1871533256556122,
          0.9049588466901515,
          -0.25512455128259715,
          -0.1969469226398033,
          0.16525419246657105,
          0.25329531112487,
          0.16661954104213453,
          -0.06727174522647454,
          -0.3136289920835636,
          -0.22799316988445492,
          0.058950080306168606,
          0.23350713952392138,
          0.6556015404588899,
          0.39377226256266523,
          -0.2423917780014748,
          -0.6574605891742903,
          -0.47751148658904996,
          0.1921742616363837,
          0.6454866364420918,
          0.5053461840468082,
          -0.05672758858439578,
          -0.5778706696212916,
          0.9483729563826099,
          0.5736119037923698,
          -0.44182510708242245,
          -0.990310698531295,
          -0.6681305135259313,
          0.29059056346944306,
          0.9103913914914848,
          0.7090854798751789,
          -0.15451519386278345,
          -0.9113686582391803,
          0.36414724775442975,
          0.2703662538606905,
          -0.16605304404593266,
          -0.3812242305108212,
          -0.2803522088311329,
          0.13898610601229183,
          0.38993486677838557,
          0.2879547203331024,
          -0.011177619344851487,
          -0.33446735950996637
         ],
         "z": [
          0.03894818491064919,
          0.7943385848378609,
          0.8972529790752729,
          0.13820756536332734,
          -0.746381984722964,
          -0.9832162317952392,
          -0.31952180215032655,
          0.6272242317371283,
          1.0004534900601536,
          0.4022888365879745,
          0.01970672034717541,
          0.8813628057918023,
          0.9083894695224776,
          0.13472329669187297,
          -0.7418051744874018,
          -0.9320701321727312,
          -0.241062298598089,
          0.6096128344452062,
          0.9888170968280708,
          0.3951678359445736,
          0.038003211607251425,
          0.8275331822964941,
          0.8907069971601929,
          0.1258106491102106,
          -0.7568878901902163,
          -0.9989095139546302,
          -0.2539717875339452,
          0.7022423984711763,
          1.0030233463625733,
          0.43728939096330216,
          -0.004106105133453874,
          0.8354072375080851,
          0.8964930110500491,
          0.15982251222603663,
          -0.7674975049599727,
          -0.9915236181272724,
          -0.23974580711386717,
          0.7058445841162182,
          0.9950578105286013,
          0.45448009313541027,
          -0.03518028952847333,
          0.8224840852418673,
          0.9245482938464941,
          0.15865601639040985,
          -0.8065016764023865,
          -1.0041550741312768,
          -0.3110035567468308,
          0.6114540518642566,
          0.9567183916953671,
          0.43794946571598636,
          -0.009960474960460743,
          0.7959988884821091,
          0.8707246966079962,
          0.14667382829128278,
          -0.7971182262386314,
          -0.9996034287871605,
          -0.2841896139599407,
          0.6429933882403281,
          0.9671889673611025,
          0.44745128479448276,
          -0.034813488836442634,
          0.8558097157838866,
          0.8938858053316181,
          0.1095373448706064,
          -0.801068817238202,
          -0.9404685263638456,
          -0.3264133260814462,
          0.6597332092011405,
          0.989885789176361,
          0.3960210905978542,
          -0.0382528967163036,
          0.8075643549554555,
          0.8681300920401197,
          0.14491577516689408,
          -0.7674529707727681,
          -0.9377236585337512,
          -0.2828654230535627,
          0.6182169079815096,
          0.9685494114184117,
          0.3813747949532275,
          -0.015879174471149126,
          0.8308911632224038,
          0.9136620427609016,
          0.1789650306151624,
          -0.7302194642221369,
          -0.9714861490977813,
          -0.2463401514145112,
          0.6704834454040305,
          1.0245295584880851,
          0.3728474903325671,
          0.014133471757918882,
          0.8857550389970814,
          0.9085693707220328,
          0.1322585741814818,
          -0.7426496749442583,
          -0.9326440088754004,
          -0.24154374764501893,
          0.6848048872413234,
          0.9514664088191468,
          0.4440187354198082
         ]
        }
       ],
       "layout": {
        "scene": {
         "xaxis": {
          "exponentformat": "e",
          "showexponent": "all",
          "title": {
           "text": "0th"
          },
          "type": "linear"
         },
         "yaxis": {
          "exponentformat": "e",
          "showexponent": "all",
          "title": {
           "text": "1st"
          },
          "type": "linear"
         },
         "zaxis": {
          "exponentformat": "e",
          "showexponent": "all",
          "title": {
           "text": "2nd"
          },
          "type": "linear"
         }
        },
        "template": {
         "data": {
          "bar": [
           {
            "error_x": {
             "color": "#2a3f5f"
            },
            "error_y": {
             "color": "#2a3f5f"
            },
            "marker": {
             "line": {
              "color": "#E5ECF6",
              "width": 0.5
             },
             "pattern": {
              "fillmode": "overlay",
              "size": 10,
              "solidity": 0.2
             }
            },
            "type": "bar"
           }
          ],
          "barpolar": [
           {
            "marker": {
             "line": {
              "color": "#E5ECF6",
              "width": 0.5
             },
             "pattern": {
              "fillmode": "overlay",
              "size": 10,
              "solidity": 0.2
             }
            },
            "type": "barpolar"
           }
          ],
          "carpet": [
           {
            "aaxis": {
             "endlinecolor": "#2a3f5f",
             "gridcolor": "white",
             "linecolor": "white",
             "minorgridcolor": "white",
             "startlinecolor": "#2a3f5f"
            },
            "baxis": {
             "endlinecolor": "#2a3f5f",
             "gridcolor": "white",
             "linecolor": "white",
             "minorgridcolor": "white",
             "startlinecolor": "#2a3f5f"
            },
            "type": "carpet"
           }
          ],
          "choropleth": [
           {
            "colorbar": {
             "outlinewidth": 0,
             "ticks": ""
            },
            "type": "choropleth"
           }
          ],
          "contour": [
           {
            "colorbar": {
             "outlinewidth": 0,
             "ticks": ""
            },
            "colorscale": [
             [
              0,
              "#0d0887"
             ],
             [
              0.1111111111111111,
              "#46039f"
             ],
             [
              0.2222222222222222,
              "#7201a8"
             ],
             [
              0.3333333333333333,
              "#9c179e"
             ],
             [
              0.4444444444444444,
              "#bd3786"
             ],
             [
              0.5555555555555556,
              "#d8576b"
             ],
             [
              0.6666666666666666,
              "#ed7953"
             ],
             [
              0.7777777777777778,
              "#fb9f3a"
             ],
             [
              0.8888888888888888,
              "#fdca26"
             ],
             [
              1,
              "#f0f921"
             ]
            ],
            "type": "contour"
           }
          ],
          "contourcarpet": [
           {
            "colorbar": {
             "outlinewidth": 0,
             "ticks": ""
            },
            "type": "contourcarpet"
           }
          ],
          "heatmap": [
           {
            "colorbar": {
             "outlinewidth": 0,
             "ticks": ""
            },
            "colorscale": [
             [
              0,
              "#0d0887"
             ],
             [
              0.1111111111111111,
              "#46039f"
             ],
             [
              0.2222222222222222,
              "#7201a8"
             ],
             [
              0.3333333333333333,
              "#9c179e"
             ],
             [
              0.4444444444444444,
              "#bd3786"
             ],
             [
              0.5555555555555556,
              "#d8576b"
             ],
             [
              0.6666666666666666,
              "#ed7953"
             ],
             [
              0.7777777777777778,
              "#fb9f3a"
             ],
             [
              0.8888888888888888,
              "#fdca26"
             ],
             [
              1,
              "#f0f921"
             ]
            ],
            "type": "heatmap"
           }
          ],
          "heatmapgl": [
           {
            "colorbar": {
             "outlinewidth": 0,
             "ticks": ""
            },
            "colorscale": [
             [
              0,
              "#0d0887"
             ],
             [
              0.1111111111111111,
              "#46039f"
             ],
             [
              0.2222222222222222,
              "#7201a8"
             ],
             [
              0.3333333333333333,
              "#9c179e"
             ],
             [
              0.4444444444444444,
              "#bd3786"
             ],
             [
              0.5555555555555556,
              "#d8576b"
             ],
             [
              0.6666666666666666,
              "#ed7953"
             ],
             [
              0.7777777777777778,
              "#fb9f3a"
             ],
             [
              0.8888888888888888,
              "#fdca26"
             ],
             [
              1,
              "#f0f921"
             ]
            ],
            "type": "heatmapgl"
           }
          ],
          "histogram": [
           {
            "marker": {
             "pattern": {
              "fillmode": "overlay",
              "size": 10,
              "solidity": 0.2
             }
            },
            "type": "histogram"
           }
          ],
          "histogram2d": [
           {
            "colorbar": {
             "outlinewidth": 0,
             "ticks": ""
            },
            "colorscale": [
             [
              0,
              "#0d0887"
             ],
             [
              0.1111111111111111,
              "#46039f"
             ],
             [
              0.2222222222222222,
              "#7201a8"
             ],
             [
              0.3333333333333333,
              "#9c179e"
             ],
             [
              0.4444444444444444,
              "#bd3786"
             ],
             [
              0.5555555555555556,
              "#d8576b"
             ],
             [
              0.6666666666666666,
              "#ed7953"
             ],
             [
              0.7777777777777778,
              "#fb9f3a"
             ],
             [
              0.8888888888888888,
              "#fdca26"
             ],
             [
              1,
              "#f0f921"
             ]
            ],
            "type": "histogram2d"
           }
          ],
          "histogram2dcontour": [
           {
            "colorbar": {
             "outlinewidth": 0,
             "ticks": ""
            },
            "colorscale": [
             [
              0,
              "#0d0887"
             ],
             [
              0.1111111111111111,
              "#46039f"
             ],
             [
              0.2222222222222222,
              "#7201a8"
             ],
             [
              0.3333333333333333,
              "#9c179e"
             ],
             [
              0.4444444444444444,
              "#bd3786"
             ],
             [
              0.5555555555555556,
              "#d8576b"
             ],
             [
              0.6666666666666666,
              "#ed7953"
             ],
             [
              0.7777777777777778,
              "#fb9f3a"
             ],
             [
              0.8888888888888888,
              "#fdca26"
             ],
             [
              1,
              "#f0f921"
             ]
            ],
            "type": "histogram2dcontour"
           }
          ],
          "mesh3d": [
           {
            "colorbar": {
             "outlinewidth": 0,
             "ticks": ""
            },
            "type": "mesh3d"
           }
          ],
          "parcoords": [
           {
            "line": {
             "colorbar": {
              "outlinewidth": 0,
              "ticks": ""
             }
            },
            "type": "parcoords"
           }
          ],
          "pie": [
           {
            "automargin": true,
            "type": "pie"
           }
          ],
          "scatter": [
           {
            "fillpattern": {
             "fillmode": "overlay",
             "size": 10,
             "solidity": 0.2
            },
            "type": "scatter"
           }
          ],
          "scatter3d": [
           {
            "line": {
             "colorbar": {
              "outlinewidth": 0,
              "ticks": ""
             }
            },
            "marker": {
             "colorbar": {
              "outlinewidth": 0,
              "ticks": ""
             }
            },
            "type": "scatter3d"
           }
          ],
          "scattercarpet": [
           {
            "marker": {
             "colorbar": {
              "outlinewidth": 0,
              "ticks": ""
             }
            },
            "type": "scattercarpet"
           }
          ],
          "scattergeo": [
           {
            "marker": {
             "colorbar": {
              "outlinewidth": 0,
              "ticks": ""
             }
            },
            "type": "scattergeo"
           }
          ],
          "scattergl": [
           {
            "marker": {
             "colorbar": {
              "outlinewidth": 0,
              "ticks": ""
             }
            },
            "type": "scattergl"
           }
          ],
          "scattermapbox": [
           {
            "marker": {
             "colorbar": {
              "outlinewidth": 0,
              "ticks": ""
             }
            },
            "type": "scattermapbox"
           }
          ],
          "scatterpolar": [
           {
            "marker": {
             "colorbar": {
              "outlinewidth": 0,
              "ticks": ""
             }
            },
            "type": "scatterpolar"
           }
          ],
          "scatterpolargl": [
           {
            "marker": {
             "colorbar": {
              "outlinewidth": 0,
              "ticks": ""
             }
            },
            "type": "scatterpolargl"
           }
          ],
          "scatterternary": [
           {
            "marker": {
             "colorbar": {
              "outlinewidth": 0,
              "ticks": ""
             }
            },
            "type": "scatterternary"
           }
          ],
          "surface": [
           {
            "colorbar": {
             "outlinewidth": 0,
             "ticks": ""
            },
            "colorscale": [
             [
              0,
              "#0d0887"
             ],
             [
              0.1111111111111111,
              "#46039f"
             ],
             [
              0.2222222222222222,
              "#7201a8"
             ],
             [
              0.3333333333333333,
              "#9c179e"
             ],
             [
              0.4444444444444444,
              "#bd3786"
             ],
             [
              0.5555555555555556,
              "#d8576b"
             ],
             [
              0.6666666666666666,
              "#ed7953"
             ],
             [
              0.7777777777777778,
              "#fb9f3a"
             ],
             [
              0.8888888888888888,
              "#fdca26"
             ],
             [
              1,
              "#f0f921"
             ]
            ],
            "type": "surface"
           }
          ],
          "table": [
           {
            "cells": {
             "fill": {
              "color": "#EBF0F8"
             },
             "line": {
              "color": "white"
             }
            },
            "header": {
             "fill": {
              "color": "#C8D4E3"
             },
             "line": {
              "color": "white"
             }
            },
            "type": "table"
           }
          ]
         },
         "layout": {
          "annotationdefaults": {
           "arrowcolor": "#2a3f5f",
           "arrowhead": 0,
           "arrowwidth": 1
          },
          "autotypenumbers": "strict",
          "coloraxis": {
           "colorbar": {
            "outlinewidth": 0,
            "ticks": ""
           }
          },
          "colorscale": {
           "diverging": [
            [
             0,
             "#8e0152"
            ],
            [
             0.1,
             "#c51b7d"
            ],
            [
             0.2,
             "#de77ae"
            ],
            [
             0.3,
             "#f1b6da"
            ],
            [
             0.4,
             "#fde0ef"
            ],
            [
             0.5,
             "#f7f7f7"
            ],
            [
             0.6,
             "#e6f5d0"
            ],
            [
             0.7,
             "#b8e186"
            ],
            [
             0.8,
             "#7fbc41"
            ],
            [
             0.9,
             "#4d9221"
            ],
            [
             1,
             "#276419"
            ]
           ],
           "sequential": [
            [
             0,
             "#0d0887"
            ],
            [
             0.1111111111111111,
             "#46039f"
            ],
            [
             0.2222222222222222,
             "#7201a8"
            ],
            [
             0.3333333333333333,
             "#9c179e"
            ],
            [
             0.4444444444444444,
             "#bd3786"
            ],
            [
             0.5555555555555556,
             "#d8576b"
            ],
            [
             0.6666666666666666,
             "#ed7953"
            ],
            [
             0.7777777777777778,
             "#fb9f3a"
            ],
            [
             0.8888888888888888,
             "#fdca26"
            ],
            [
             1,
             "#f0f921"
            ]
           ],
           "sequentialminus": [
            [
             0,
             "#0d0887"
            ],
            [
             0.1111111111111111,
             "#46039f"
            ],
            [
             0.2222222222222222,
             "#7201a8"
            ],
            [
             0.3333333333333333,
             "#9c179e"
            ],
            [
             0.4444444444444444,
             "#bd3786"
            ],
            [
             0.5555555555555556,
             "#d8576b"
            ],
            [
             0.6666666666666666,
             "#ed7953"
            ],
            [
             0.7777777777777778,
             "#fb9f3a"
            ],
            [
             0.8888888888888888,
             "#fdca26"
            ],
            [
             1,
             "#f0f921"
            ]
           ]
          },
          "colorway": [
           "#636efa",
           "#EF553B",
           "#00cc96",
           "#ab63fa",
           "#FFA15A",
           "#19d3f3",
           "#FF6692",
           "#B6E880",
           "#FF97FF",
           "#FECB52"
          ],
          "font": {
           "color": "#2a3f5f"
          },
          "geo": {
           "bgcolor": "white",
           "lakecolor": "white",
           "landcolor": "#E5ECF6",
           "showlakes": true,
           "showland": true,
           "subunitcolor": "white"
          },
          "hoverlabel": {
           "align": "left"
          },
          "hovermode": "closest",
          "mapbox": {
           "style": "light"
          },
          "paper_bgcolor": "white",
          "plot_bgcolor": "#E5ECF6",
          "polar": {
           "angularaxis": {
            "gridcolor": "white",
            "linecolor": "white",
            "ticks": ""
           },
           "bgcolor": "#E5ECF6",
           "radialaxis": {
            "gridcolor": "white",
            "linecolor": "white",
            "ticks": ""
           }
          },
          "scene": {
           "xaxis": {
            "backgroundcolor": "#E5ECF6",
            "gridcolor": "white",
            "gridwidth": 2,
            "linecolor": "white",
            "showbackground": true,
            "ticks": "",
            "zerolinecolor": "white"
           },
           "yaxis": {
            "backgroundcolor": "#E5ECF6",
            "gridcolor": "white",
            "gridwidth": 2,
            "linecolor": "white",
            "showbackground": true,
            "ticks": "",
            "zerolinecolor": "white"
           },
           "zaxis": {
            "backgroundcolor": "#E5ECF6",
            "gridcolor": "white",
            "gridwidth": 2,
            "linecolor": "white",
            "showbackground": true,
            "ticks": "",
            "zerolinecolor": "white"
           }
          },
          "shapedefaults": {
           "line": {
            "color": "#2a3f5f"
           }
          },
          "ternary": {
           "aaxis": {
            "gridcolor": "white",
            "linecolor": "white",
            "ticks": ""
           },
           "baxis": {
            "gridcolor": "white",
            "linecolor": "white",
            "ticks": ""
           },
           "bgcolor": "#E5ECF6",
           "caxis": {
            "gridcolor": "white",
            "linecolor": "white",
            "ticks": ""
           }
          },
          "title": {
           "x": 0.05
          },
          "xaxis": {
           "automargin": true,
           "gridcolor": "white",
           "linecolor": "white",
           "ticks": "",
           "title": {
            "standoff": 15
           },
           "zerolinecolor": "white",
           "zerolinewidth": 2
          },
          "yaxis": {
           "automargin": true,
           "gridcolor": "white",
           "linecolor": "white",
           "ticks": "",
           "title": {
            "standoff": 15
           },
           "zerolinecolor": "white",
           "zerolinewidth": 2
          }
         }
        }
       }
      }
     },
     "metadata": {},
     "output_type": "display_data"
    }
   ],
   "source": [
    "plot_point_cloud(point_clouds[11]).show()"
   ]
  },
  {
   "cell_type": "code",
   "execution_count": 109,
   "metadata": {
    "collapsed": true,
    "id": "u0nnzSsOiaoN"
   },
   "outputs": [
    {
     "data": {
      "application/vnd.plotly.v1+json": {
       "config": {
        "plotlyServerURL": "https://plot.ly"
       },
       "data": [
        {
         "marker": {
          "color": [
           0,
           1,
           2,
           3,
           4,
           5,
           6,
           7,
           8,
           9,
           10,
           11,
           12,
           13,
           14,
           15,
           16,
           17,
           18,
           19,
           20,
           21,
           22,
           23,
           24,
           25,
           26,
           27,
           28,
           29,
           30,
           31,
           32,
           33,
           34,
           35,
           36,
           37,
           38,
           39,
           40,
           41,
           42,
           43,
           44,
           45,
           46,
           47,
           48,
           49,
           50,
           51,
           52,
           53,
           54,
           55,
           56,
           57,
           58,
           59,
           60,
           61,
           62,
           63,
           64,
           65,
           66,
           67,
           68,
           69,
           70,
           71,
           72,
           73,
           74,
           75,
           76,
           77,
           78,
           79,
           80,
           81,
           82,
           83,
           84,
           85,
           86,
           87,
           88,
           89,
           90,
           91,
           92,
           93,
           94,
           95,
           96,
           97,
           98,
           99
          ],
          "colorscale": [
           [
            0,
            "#440154"
           ],
           [
            0.1111111111111111,
            "#482878"
           ],
           [
            0.2222222222222222,
            "#3e4989"
           ],
           [
            0.3333333333333333,
            "#31688e"
           ],
           [
            0.4444444444444444,
            "#26828e"
           ],
           [
            0.5555555555555556,
            "#1f9e89"
           ],
           [
            0.6666666666666666,
            "#35b779"
           ],
           [
            0.7777777777777778,
            "#6ece58"
           ],
           [
            0.8888888888888888,
            "#b5de2b"
           ],
           [
            1,
            "#fde725"
           ]
          ],
          "opacity": 0.8,
          "size": 4
         },
         "mode": "markers",
         "type": "scatter3d",
         "x": [
          2.981508554179075,
          2.5648631438566265,
          1.5653774051877485,
          1.050534363505318,
          1.3407249650300637,
          2.3240384119026483,
          3.003757856904591,
          2.7214978850466873,
          1.811567947802329,
          1.0894877279253496,
          1.6036613292843296,
          1.402821796788439,
          0.8986979948797733,
          0.49758333417099504,
          0.7199231540215096,
          1.2611616198897815,
          1.6474595979269224,
          1.48476796368771,
          0.9905956680957817,
          0.6028631760143831,
          -1.2746917300191667,
          -1.0361913787799144,
          -0.6587700484913684,
          -0.45586372615592685,
          -0.5675845245873924,
          -0.9995917661694509,
          -1.1918201996091748,
          -1.1059952521048098,
          -0.7801503933148308,
          -0.44975019337176525,
          -2.9851986166719047,
          -2.4900599221426685,
          -1.5577461717724939,
          -0.9906615601466556,
          -1.3513925266231688,
          -2.2190417234871727,
          -2.937188572080001,
          -2.726466266467647,
          -1.859776964561206,
          -1.0561755019695198,
          -1.975232068667933,
          -1.6224676668142854,
          -1.030105161162594,
          -0.6195595070329477,
          -0.8994293918348556,
          -1.5232179288313517,
          -1.9048521607432334,
          -1.7515675797284886,
          -1.2015750564832393,
          -0.6808408981326693,
          0.8525318112219077,
          0.7363918078825745,
          0.43951044573804854,
          0.2810440434784592,
          0.3456826937672771,
          0.6734384681732263,
          0.7987258269918175,
          0.8264895111549513,
          0.4853807238476323,
          0.3168117819515885,
          2.836415308151088,
          2.422741433534762,
          1.543150320787868,
          0.9504948489065106,
          1.3352693882475992,
          2.158691693131371,
          2.8312689097545087,
          2.6243238239496676,
          1.76919995951369,
          1.0408618414306257,
          2.2258926909771835,
          1.9334238405381285,
          1.2373867659441333,
          0.7266652135835391,
          1.0556716842025895,
          1.6725676878928424,
          2.195225677784011,
          2.0390635618502815,
          1.4038415465277967,
          0.8547054281951845,
          -0.3967301072307275,
          -0.3771103567912295,
          -0.19922215909585592,
          -0.12592792160617702,
          -0.17898649909252043,
          -0.3661551364338628,
          -0.390741131505984,
          -0.3676291948502881,
          -0.26322692789210544,
          -0.16926152798999172,
          -2.7355681846843267,
          -2.270938682338028,
          -1.454573945961635,
          -0.9407947879580894,
          -1.2496474601588545,
          -2.0800260979444354,
          -2.7140197518511275,
          -2.5025723348890305,
          -1.6993732333234268,
          -0.9898179622059446
         ],
         "y": [
          -0.00627996046163869,
          -0.007945682430809176,
          0.013946525548480382,
          0.03012331563283227,
          -0.01590745690600196,
          -0.013607431834249917,
          -0.04818579883019417,
          0.03348025544993224,
          -0.049490460482205414,
          0.04106970656269407,
          2.5684682426342773,
          2.1560402338344034,
          1.3627862557732222,
          0.8343359054814735,
          1.1472745285429276,
          1.9259285917148752,
          2.4956070739830385,
          2.3450008234571134,
          1.5482419769462699,
          0.9412949326306622,
          2.6811388904194344,
          2.2794020671044346,
          1.4829974266378843,
          0.9636978074051831,
          1.2166386544304277,
          2.0689447434162336,
          2.697127217380499,
          2.5083785646093455,
          1.7006621695523696,
          0.9640149761790575,
          0.4408670875195587,
          0.322794815803358,
          0.180820688420469,
          0.17581872117922598,
          0.17850849585942433,
          0.3055886150198105,
          0.4007195874035606,
          0.4024400699373346,
          0.2986895855216029,
          0.19500211665089834,
          -2.27233032138711,
          -1.9643828972853457,
          -1.2179346188957345,
          -0.7927669742888794,
          -1.0479124679026366,
          -1.714418410797772,
          -2.2862828558353283,
          -2.036337966886787,
          -1.4186626868549235,
          -0.7925347761004758,
          -2.896794807578148,
          -2.414240009121484,
          -1.5287587326572414,
          -0.9305052505504066,
          -1.3400121104438876,
          -2.145200992129154,
          -2.887541678694029,
          -2.6796167195535068,
          -1.7796580231538197,
          -1.0925689011272184,
          -0.8786178026351594,
          -0.7421916542544795,
          -0.39924773019405313,
          -0.26402203576626054,
          -0.37088899906345235,
          -0.6242031815428335,
          -0.8203590117564921,
          -0.7523830691546499,
          -0.562103095074337,
          -0.292566712291369,
          2.0035241047261274,
          1.6275774382597623,
          1.074898426650483,
          0.6395577687465347,
          0.9188750863546515,
          1.5309547716421017,
          1.9384336859705038,
          1.7936054103891383,
          1.2560612429875009,
          0.6760120491852009,
          2.9733894343060516,
          2.552551312634262,
          1.5229486045080434,
          1.0042346873984123,
          1.3805059436585547,
          2.299485116256505,
          2.9366631280845454,
          2.708084477449817,
          1.8459882126461513,
          1.1019416326249636,
          1.20507553450816,
          1.0708869892122581,
          0.6847110079039238,
          0.42982218919631315,
          0.587181821389581,
          0.9514129460338541,
          1.215367253935173,
          1.161340594491518,
          0.7893591515232989,
          0.4900433033022064
         ],
         "z": [
          -0.03180029130644875,
          0.8464471317943131,
          0.9229198100796409,
          0.12097653652523505,
          -0.7660416108690842,
          -0.9872435421625709,
          -0.2745640546538281,
          0.6926254133430186,
          0.9455207408498172,
          0.4151428629433372,
          -0.01682948601940476,
          0.8508677689111062,
          0.8610492041159274,
          0.14302659288456315,
          -0.7252971282022009,
          -0.9973453283813544,
          -0.3085703728130461,
          0.6706988326856267,
          0.9508976934824871,
          0.3849640382474601,
          -0.003633376619882056,
          0.817938980151269,
          0.8995261899662335,
          0.1603855230616418,
          -0.7380769120178304,
          -1.0021081516825976,
          -0.26986368600832755,
          0.6230287474613863,
          0.9483565942638841,
          0.39798580324238153,
          0.006476691043221849,
          0.8797602506325011,
          0.948522735522354,
          0.11004729426538505,
          -0.7781994322850099,
          -0.9738676360316592,
          -0.31877292326281886,
          0.6991046002330822,
          1.0041225254740138,
          0.45775421499425833,
          0.03592191986801096,
          0.8408438469460475,
          0.8929399822986437,
          0.10320228735306378,
          -0.745121597025081,
          -0.9227915970862736,
          -0.2381492123840083,
          0.6177554850170903,
          0.9663791521768977,
          0.3980624713772746,
          -0.04964782174213128,
          0.8296342398840786,
          0.8699489951156805,
          0.15679600648610184,
          -0.7679867543944388,
          -0.988285300192411,
          -0.29777854456391517,
          0.6701280889114354,
          1.0123206979316761,
          0.44786201536304837,
          0.007578401714499406,
          0.8346121475648423,
          0.9479304632419646,
          0.1663883590286888,
          -0.7478961621969965,
          -0.9695741953842196,
          -0.31930427406634787,
          0.7057489212238881,
          0.9456300137449003,
          0.39825301769403515,
          0.013038124048651335,
          0.7998346086252255,
          0.9400361365040958,
          0.09622565178738174,
          -0.7112604516419574,
          -0.9152041426348769,
          -0.30798559238362927,
          0.6475272166484561,
          1.022166268466573,
          0.44496207350617395,
          0.006200323097636684,
          0.8112717526187662,
          0.9216884001314379,
          0.17840180698691094,
          -0.7410937291368218,
          -0.9255326402023267,
          -0.3269591798845701,
          0.6120936526152175,
          1.0220284600631342,
          0.4012379302342387,
          -0.023612556720551348,
          0.8483805087170532,
          0.8910908830581385,
          0.09124709244955072,
          -0.7845726370745036,
          -0.9307345329828329,
          -0.2582110147589875,
          0.6804519750980926,
          1.0131381103044683,
          0.40345232760562116
         ]
        }
       ],
       "layout": {
        "scene": {
         "xaxis": {
          "exponentformat": "e",
          "showexponent": "all",
          "title": {
           "text": "0th"
          },
          "type": "linear"
         },
         "yaxis": {
          "exponentformat": "e",
          "showexponent": "all",
          "title": {
           "text": "1st"
          },
          "type": "linear"
         },
         "zaxis": {
          "exponentformat": "e",
          "showexponent": "all",
          "title": {
           "text": "2nd"
          },
          "type": "linear"
         }
        },
        "template": {
         "data": {
          "bar": [
           {
            "error_x": {
             "color": "#2a3f5f"
            },
            "error_y": {
             "color": "#2a3f5f"
            },
            "marker": {
             "line": {
              "color": "#E5ECF6",
              "width": 0.5
             },
             "pattern": {
              "fillmode": "overlay",
              "size": 10,
              "solidity": 0.2
             }
            },
            "type": "bar"
           }
          ],
          "barpolar": [
           {
            "marker": {
             "line": {
              "color": "#E5ECF6",
              "width": 0.5
             },
             "pattern": {
              "fillmode": "overlay",
              "size": 10,
              "solidity": 0.2
             }
            },
            "type": "barpolar"
           }
          ],
          "carpet": [
           {
            "aaxis": {
             "endlinecolor": "#2a3f5f",
             "gridcolor": "white",
             "linecolor": "white",
             "minorgridcolor": "white",
             "startlinecolor": "#2a3f5f"
            },
            "baxis": {
             "endlinecolor": "#2a3f5f",
             "gridcolor": "white",
             "linecolor": "white",
             "minorgridcolor": "white",
             "startlinecolor": "#2a3f5f"
            },
            "type": "carpet"
           }
          ],
          "choropleth": [
           {
            "colorbar": {
             "outlinewidth": 0,
             "ticks": ""
            },
            "type": "choropleth"
           }
          ],
          "contour": [
           {
            "colorbar": {
             "outlinewidth": 0,
             "ticks": ""
            },
            "colorscale": [
             [
              0,
              "#0d0887"
             ],
             [
              0.1111111111111111,
              "#46039f"
             ],
             [
              0.2222222222222222,
              "#7201a8"
             ],
             [
              0.3333333333333333,
              "#9c179e"
             ],
             [
              0.4444444444444444,
              "#bd3786"
             ],
             [
              0.5555555555555556,
              "#d8576b"
             ],
             [
              0.6666666666666666,
              "#ed7953"
             ],
             [
              0.7777777777777778,
              "#fb9f3a"
             ],
             [
              0.8888888888888888,
              "#fdca26"
             ],
             [
              1,
              "#f0f921"
             ]
            ],
            "type": "contour"
           }
          ],
          "contourcarpet": [
           {
            "colorbar": {
             "outlinewidth": 0,
             "ticks": ""
            },
            "type": "contourcarpet"
           }
          ],
          "heatmap": [
           {
            "colorbar": {
             "outlinewidth": 0,
             "ticks": ""
            },
            "colorscale": [
             [
              0,
              "#0d0887"
             ],
             [
              0.1111111111111111,
              "#46039f"
             ],
             [
              0.2222222222222222,
              "#7201a8"
             ],
             [
              0.3333333333333333,
              "#9c179e"
             ],
             [
              0.4444444444444444,
              "#bd3786"
             ],
             [
              0.5555555555555556,
              "#d8576b"
             ],
             [
              0.6666666666666666,
              "#ed7953"
             ],
             [
              0.7777777777777778,
              "#fb9f3a"
             ],
             [
              0.8888888888888888,
              "#fdca26"
             ],
             [
              1,
              "#f0f921"
             ]
            ],
            "type": "heatmap"
           }
          ],
          "heatmapgl": [
           {
            "colorbar": {
             "outlinewidth": 0,
             "ticks": ""
            },
            "colorscale": [
             [
              0,
              "#0d0887"
             ],
             [
              0.1111111111111111,
              "#46039f"
             ],
             [
              0.2222222222222222,
              "#7201a8"
             ],
             [
              0.3333333333333333,
              "#9c179e"
             ],
             [
              0.4444444444444444,
              "#bd3786"
             ],
             [
              0.5555555555555556,
              "#d8576b"
             ],
             [
              0.6666666666666666,
              "#ed7953"
             ],
             [
              0.7777777777777778,
              "#fb9f3a"
             ],
             [
              0.8888888888888888,
              "#fdca26"
             ],
             [
              1,
              "#f0f921"
             ]
            ],
            "type": "heatmapgl"
           }
          ],
          "histogram": [
           {
            "marker": {
             "pattern": {
              "fillmode": "overlay",
              "size": 10,
              "solidity": 0.2
             }
            },
            "type": "histogram"
           }
          ],
          "histogram2d": [
           {
            "colorbar": {
             "outlinewidth": 0,
             "ticks": ""
            },
            "colorscale": [
             [
              0,
              "#0d0887"
             ],
             [
              0.1111111111111111,
              "#46039f"
             ],
             [
              0.2222222222222222,
              "#7201a8"
             ],
             [
              0.3333333333333333,
              "#9c179e"
             ],
             [
              0.4444444444444444,
              "#bd3786"
             ],
             [
              0.5555555555555556,
              "#d8576b"
             ],
             [
              0.6666666666666666,
              "#ed7953"
             ],
             [
              0.7777777777777778,
              "#fb9f3a"
             ],
             [
              0.8888888888888888,
              "#fdca26"
             ],
             [
              1,
              "#f0f921"
             ]
            ],
            "type": "histogram2d"
           }
          ],
          "histogram2dcontour": [
           {
            "colorbar": {
             "outlinewidth": 0,
             "ticks": ""
            },
            "colorscale": [
             [
              0,
              "#0d0887"
             ],
             [
              0.1111111111111111,
              "#46039f"
             ],
             [
              0.2222222222222222,
              "#7201a8"
             ],
             [
              0.3333333333333333,
              "#9c179e"
             ],
             [
              0.4444444444444444,
              "#bd3786"
             ],
             [
              0.5555555555555556,
              "#d8576b"
             ],
             [
              0.6666666666666666,
              "#ed7953"
             ],
             [
              0.7777777777777778,
              "#fb9f3a"
             ],
             [
              0.8888888888888888,
              "#fdca26"
             ],
             [
              1,
              "#f0f921"
             ]
            ],
            "type": "histogram2dcontour"
           }
          ],
          "mesh3d": [
           {
            "colorbar": {
             "outlinewidth": 0,
             "ticks": ""
            },
            "type": "mesh3d"
           }
          ],
          "parcoords": [
           {
            "line": {
             "colorbar": {
              "outlinewidth": 0,
              "ticks": ""
             }
            },
            "type": "parcoords"
           }
          ],
          "pie": [
           {
            "automargin": true,
            "type": "pie"
           }
          ],
          "scatter": [
           {
            "fillpattern": {
             "fillmode": "overlay",
             "size": 10,
             "solidity": 0.2
            },
            "type": "scatter"
           }
          ],
          "scatter3d": [
           {
            "line": {
             "colorbar": {
              "outlinewidth": 0,
              "ticks": ""
             }
            },
            "marker": {
             "colorbar": {
              "outlinewidth": 0,
              "ticks": ""
             }
            },
            "type": "scatter3d"
           }
          ],
          "scattercarpet": [
           {
            "marker": {
             "colorbar": {
              "outlinewidth": 0,
              "ticks": ""
             }
            },
            "type": "scattercarpet"
           }
          ],
          "scattergeo": [
           {
            "marker": {
             "colorbar": {
              "outlinewidth": 0,
              "ticks": ""
             }
            },
            "type": "scattergeo"
           }
          ],
          "scattergl": [
           {
            "marker": {
             "colorbar": {
              "outlinewidth": 0,
              "ticks": ""
             }
            },
            "type": "scattergl"
           }
          ],
          "scattermapbox": [
           {
            "marker": {
             "colorbar": {
              "outlinewidth": 0,
              "ticks": ""
             }
            },
            "type": "scattermapbox"
           }
          ],
          "scatterpolar": [
           {
            "marker": {
             "colorbar": {
              "outlinewidth": 0,
              "ticks": ""
             }
            },
            "type": "scatterpolar"
           }
          ],
          "scatterpolargl": [
           {
            "marker": {
             "colorbar": {
              "outlinewidth": 0,
              "ticks": ""
             }
            },
            "type": "scatterpolargl"
           }
          ],
          "scatterternary": [
           {
            "marker": {
             "colorbar": {
              "outlinewidth": 0,
              "ticks": ""
             }
            },
            "type": "scatterternary"
           }
          ],
          "surface": [
           {
            "colorbar": {
             "outlinewidth": 0,
             "ticks": ""
            },
            "colorscale": [
             [
              0,
              "#0d0887"
             ],
             [
              0.1111111111111111,
              "#46039f"
             ],
             [
              0.2222222222222222,
              "#7201a8"
             ],
             [
              0.3333333333333333,
              "#9c179e"
             ],
             [
              0.4444444444444444,
              "#bd3786"
             ],
             [
              0.5555555555555556,
              "#d8576b"
             ],
             [
              0.6666666666666666,
              "#ed7953"
             ],
             [
              0.7777777777777778,
              "#fb9f3a"
             ],
             [
              0.8888888888888888,
              "#fdca26"
             ],
             [
              1,
              "#f0f921"
             ]
            ],
            "type": "surface"
           }
          ],
          "table": [
           {
            "cells": {
             "fill": {
              "color": "#EBF0F8"
             },
             "line": {
              "color": "white"
             }
            },
            "header": {
             "fill": {
              "color": "#C8D4E3"
             },
             "line": {
              "color": "white"
             }
            },
            "type": "table"
           }
          ]
         },
         "layout": {
          "annotationdefaults": {
           "arrowcolor": "#2a3f5f",
           "arrowhead": 0,
           "arrowwidth": 1
          },
          "autotypenumbers": "strict",
          "coloraxis": {
           "colorbar": {
            "outlinewidth": 0,
            "ticks": ""
           }
          },
          "colorscale": {
           "diverging": [
            [
             0,
             "#8e0152"
            ],
            [
             0.1,
             "#c51b7d"
            ],
            [
             0.2,
             "#de77ae"
            ],
            [
             0.3,
             "#f1b6da"
            ],
            [
             0.4,
             "#fde0ef"
            ],
            [
             0.5,
             "#f7f7f7"
            ],
            [
             0.6,
             "#e6f5d0"
            ],
            [
             0.7,
             "#b8e186"
            ],
            [
             0.8,
             "#7fbc41"
            ],
            [
             0.9,
             "#4d9221"
            ],
            [
             1,
             "#276419"
            ]
           ],
           "sequential": [
            [
             0,
             "#0d0887"
            ],
            [
             0.1111111111111111,
             "#46039f"
            ],
            [
             0.2222222222222222,
             "#7201a8"
            ],
            [
             0.3333333333333333,
             "#9c179e"
            ],
            [
             0.4444444444444444,
             "#bd3786"
            ],
            [
             0.5555555555555556,
             "#d8576b"
            ],
            [
             0.6666666666666666,
             "#ed7953"
            ],
            [
             0.7777777777777778,
             "#fb9f3a"
            ],
            [
             0.8888888888888888,
             "#fdca26"
            ],
            [
             1,
             "#f0f921"
            ]
           ],
           "sequentialminus": [
            [
             0,
             "#0d0887"
            ],
            [
             0.1111111111111111,
             "#46039f"
            ],
            [
             0.2222222222222222,
             "#7201a8"
            ],
            [
             0.3333333333333333,
             "#9c179e"
            ],
            [
             0.4444444444444444,
             "#bd3786"
            ],
            [
             0.5555555555555556,
             "#d8576b"
            ],
            [
             0.6666666666666666,
             "#ed7953"
            ],
            [
             0.7777777777777778,
             "#fb9f3a"
            ],
            [
             0.8888888888888888,
             "#fdca26"
            ],
            [
             1,
             "#f0f921"
            ]
           ]
          },
          "colorway": [
           "#636efa",
           "#EF553B",
           "#00cc96",
           "#ab63fa",
           "#FFA15A",
           "#19d3f3",
           "#FF6692",
           "#B6E880",
           "#FF97FF",
           "#FECB52"
          ],
          "font": {
           "color": "#2a3f5f"
          },
          "geo": {
           "bgcolor": "white",
           "lakecolor": "white",
           "landcolor": "#E5ECF6",
           "showlakes": true,
           "showland": true,
           "subunitcolor": "white"
          },
          "hoverlabel": {
           "align": "left"
          },
          "hovermode": "closest",
          "mapbox": {
           "style": "light"
          },
          "paper_bgcolor": "white",
          "plot_bgcolor": "#E5ECF6",
          "polar": {
           "angularaxis": {
            "gridcolor": "white",
            "linecolor": "white",
            "ticks": ""
           },
           "bgcolor": "#E5ECF6",
           "radialaxis": {
            "gridcolor": "white",
            "linecolor": "white",
            "ticks": ""
           }
          },
          "scene": {
           "xaxis": {
            "backgroundcolor": "#E5ECF6",
            "gridcolor": "white",
            "gridwidth": 2,
            "linecolor": "white",
            "showbackground": true,
            "ticks": "",
            "zerolinecolor": "white"
           },
           "yaxis": {
            "backgroundcolor": "#E5ECF6",
            "gridcolor": "white",
            "gridwidth": 2,
            "linecolor": "white",
            "showbackground": true,
            "ticks": "",
            "zerolinecolor": "white"
           },
           "zaxis": {
            "backgroundcolor": "#E5ECF6",
            "gridcolor": "white",
            "gridwidth": 2,
            "linecolor": "white",
            "showbackground": true,
            "ticks": "",
            "zerolinecolor": "white"
           }
          },
          "shapedefaults": {
           "line": {
            "color": "#2a3f5f"
           }
          },
          "ternary": {
           "aaxis": {
            "gridcolor": "white",
            "linecolor": "white",
            "ticks": ""
           },
           "baxis": {
            "gridcolor": "white",
            "linecolor": "white",
            "ticks": ""
           },
           "bgcolor": "#E5ECF6",
           "caxis": {
            "gridcolor": "white",
            "linecolor": "white",
            "ticks": ""
           }
          },
          "title": {
           "x": 0.05
          },
          "xaxis": {
           "automargin": true,
           "gridcolor": "white",
           "linecolor": "white",
           "ticks": "",
           "title": {
            "standoff": 15
           },
           "zerolinecolor": "white",
           "zerolinewidth": 2
          },
          "yaxis": {
           "automargin": true,
           "gridcolor": "white",
           "linecolor": "white",
           "ticks": "",
           "title": {
            "standoff": 15
           },
           "zerolinecolor": "white",
           "zerolinewidth": 2
          }
         }
        }
       }
      }
     },
     "metadata": {},
     "output_type": "display_data"
    }
   ],
   "source": [
    "plot_point_cloud(point_clouds[20]).show()"
   ]
  },
  {
   "cell_type": "code",
   "execution_count": 110,
   "metadata": {
    "collapsed": true,
    "id": "sXVmwH_uibhC"
   },
   "outputs": [
    {
     "data": {
      "application/vnd.plotly.v1+json": {
       "config": {
        "plotlyServerURL": "https://plot.ly"
       },
       "data": [
        {
         "marker": {
          "color": [
           0,
           1,
           2,
           3,
           4,
           5,
           6,
           7,
           8,
           9,
           10,
           11,
           12,
           13,
           14,
           15,
           16,
           17,
           18,
           19,
           20,
           21,
           22,
           23,
           24,
           25,
           26,
           27,
           28,
           29,
           30,
           31,
           32,
           33,
           34,
           35,
           36,
           37,
           38,
           39,
           40,
           41,
           42,
           43,
           44,
           45,
           46,
           47,
           48,
           49,
           50,
           51,
           52,
           53,
           54,
           55,
           56,
           57,
           58,
           59,
           60,
           61,
           62,
           63,
           64,
           65,
           66,
           67,
           68,
           69,
           70,
           71,
           72,
           73,
           74,
           75,
           76,
           77,
           78,
           79,
           80,
           81,
           82,
           83,
           84,
           85,
           86,
           87,
           88,
           89,
           90,
           91,
           92,
           93,
           94,
           95,
           96,
           97,
           98,
           99
          ],
          "colorscale": [
           [
            0,
            "#440154"
           ],
           [
            0.1111111111111111,
            "#482878"
           ],
           [
            0.2222222222222222,
            "#3e4989"
           ],
           [
            0.3333333333333333,
            "#31688e"
           ],
           [
            0.4444444444444444,
            "#26828e"
           ],
           [
            0.5555555555555556,
            "#1f9e89"
           ],
           [
            0.6666666666666666,
            "#35b779"
           ],
           [
            0.7777777777777778,
            "#6ece58"
           ],
           [
            0.8888888888888888,
            "#b5de2b"
           ],
           [
            1,
            "#fde725"
           ]
          ],
          "opacity": 0.8,
          "size": 4
         },
         "mode": "markers",
         "type": "scatter3d",
         "x": [
          -1,
          -1,
          -1,
          -1,
          -1,
          -1,
          -1,
          -1,
          -1,
          -1,
          -0.7777777777777778,
          -0.7777777777777778,
          -0.7777777777777778,
          -0.7777777777777778,
          -0.7777777777777778,
          -0.7777777777777778,
          -0.7777777777777778,
          -0.7777777777777778,
          -0.7777777777777778,
          -0.7777777777777778,
          -0.5555555555555556,
          -0.5555555555555556,
          -0.5555555555555556,
          -0.5555555555555556,
          -0.5555555555555556,
          -0.5555555555555556,
          -0.5555555555555556,
          -0.5555555555555556,
          -0.5555555555555556,
          -0.5555555555555556,
          -0.33333333333333337,
          -0.33333333333333337,
          -0.33333333333333337,
          -0.33333333333333337,
          -0.33333333333333337,
          -0.33333333333333337,
          -0.33333333333333337,
          -0.33333333333333337,
          -0.33333333333333337,
          -0.33333333333333337,
          -0.11111111111111116,
          -0.11111111111111116,
          -0.11111111111111116,
          -0.11111111111111116,
          -0.11111111111111116,
          -0.11111111111111116,
          -0.11111111111111116,
          -0.11111111111111116,
          -0.11111111111111116,
          -0.11111111111111116,
          0.11111111111111116,
          0.11111111111111116,
          0.11111111111111116,
          0.11111111111111116,
          0.11111111111111116,
          0.11111111111111116,
          0.11111111111111116,
          0.11111111111111116,
          0.11111111111111116,
          0.11111111111111116,
          0.33333333333333326,
          0.33333333333333326,
          0.33333333333333326,
          0.33333333333333326,
          0.33333333333333326,
          0.33333333333333326,
          0.33333333333333326,
          0.33333333333333326,
          0.33333333333333326,
          0.33333333333333326,
          0.5555555555555554,
          0.5555555555555554,
          0.5555555555555554,
          0.5555555555555554,
          0.5555555555555554,
          0.5555555555555554,
          0.5555555555555554,
          0.5555555555555554,
          0.5555555555555554,
          0.5555555555555554,
          0.7777777777777777,
          0.7777777777777777,
          0.7777777777777777,
          0.7777777777777777,
          0.7777777777777777,
          0.7777777777777777,
          0.7777777777777777,
          0.7777777777777777,
          0.7777777777777777,
          0.7777777777777777,
          1,
          1,
          1,
          1,
          1,
          1,
          1,
          1,
          1,
          1
         ],
         "y": [
          -1,
          -0.7777777777777778,
          -0.5555555555555556,
          -0.33333333333333337,
          -0.11111111111111116,
          0.11111111111111116,
          0.33333333333333326,
          0.5555555555555554,
          0.7777777777777777,
          1,
          -1,
          -0.7777777777777778,
          -0.5555555555555556,
          -0.33333333333333337,
          -0.11111111111111116,
          0.11111111111111116,
          0.33333333333333326,
          0.5555555555555554,
          0.7777777777777777,
          1,
          -1,
          -0.7777777777777778,
          -0.5555555555555556,
          -0.33333333333333337,
          -0.11111111111111116,
          0.11111111111111116,
          0.33333333333333326,
          0.5555555555555554,
          0.7777777777777777,
          1,
          -1,
          -0.7777777777777778,
          -0.5555555555555556,
          -0.33333333333333337,
          -0.11111111111111116,
          0.11111111111111116,
          0.33333333333333326,
          0.5555555555555554,
          0.7777777777777777,
          1,
          -1,
          -0.7777777777777778,
          -0.5555555555555556,
          -0.33333333333333337,
          -0.11111111111111116,
          0.11111111111111116,
          0.33333333333333326,
          0.5555555555555554,
          0.7777777777777777,
          1,
          -1,
          -0.7777777777777778,
          -0.5555555555555556,
          -0.33333333333333337,
          -0.11111111111111116,
          0.11111111111111116,
          0.33333333333333326,
          0.5555555555555554,
          0.7777777777777777,
          1,
          -1,
          -0.7777777777777778,
          -0.5555555555555556,
          -0.33333333333333337,
          -0.11111111111111116,
          0.11111111111111116,
          0.33333333333333326,
          0.5555555555555554,
          0.7777777777777777,
          1,
          -1,
          -0.7777777777777778,
          -0.5555555555555556,
          -0.33333333333333337,
          -0.11111111111111116,
          0.11111111111111116,
          0.33333333333333326,
          0.5555555555555554,
          0.7777777777777777,
          1,
          -1,
          -0.7777777777777778,
          -0.5555555555555556,
          -0.33333333333333337,
          -0.11111111111111116,
          0.11111111111111116,
          0.33333333333333326,
          0.5555555555555554,
          0.7777777777777777,
          1,
          -1,
          -0.7777777777777778,
          -0.5555555555555556,
          -0.33333333333333337,
          -0.11111111111111116,
          0.11111111111111116,
          0.33333333333333326,
          0.5555555555555554,
          0.7777777777777777,
          1
         ],
         "z": [
          -8,
          -7.111111111111111,
          -6.222222222222222,
          -5.333333333333334,
          -4.444444444444445,
          -3.5555555555555554,
          -2.666666666666667,
          -1.7777777777777786,
          -0.8888888888888893,
          0,
          -7.111111111111111,
          -6.222222222222222,
          -5.333333333333334,
          -4.444444444444445,
          -3.555555555555556,
          -2.6666666666666665,
          -1.7777777777777781,
          -0.8888888888888897,
          -4.440892098500626e-16,
          0.8888888888888888,
          -6.222222222222222,
          -5.333333333333334,
          -4.444444444444445,
          -3.555555555555556,
          -2.666666666666667,
          -1.7777777777777777,
          -0.8888888888888893,
          -8.881784197001252e-16,
          0.8888888888888884,
          1.7777777777777777,
          -5.333333333333334,
          -4.444444444444445,
          -3.555555555555556,
          -2.666666666666667,
          -1.7777777777777781,
          -0.8888888888888888,
          -4.440892098500626e-16,
          0.888888888888888,
          1.7777777777777772,
          2.6666666666666665,
          -4.444444444444445,
          -3.555555555555556,
          -2.666666666666667,
          -1.7777777777777781,
          -0.8888888888888893,
          0,
          0.8888888888888884,
          1.7777777777777768,
          2.666666666666666,
          3.5555555555555554,
          -3.5555555555555554,
          -2.6666666666666665,
          -1.7777777777777777,
          -0.8888888888888888,
          0,
          0.8888888888888893,
          1.7777777777777777,
          2.666666666666666,
          3.5555555555555554,
          4.444444444444445,
          -2.666666666666667,
          -1.7777777777777781,
          -0.8888888888888893,
          -4.440892098500626e-16,
          0.8888888888888884,
          1.7777777777777777,
          2.666666666666666,
          3.5555555555555545,
          4.444444444444444,
          5.333333333333333,
          -1.7777777777777786,
          -0.8888888888888897,
          -8.881784197001252e-16,
          0.888888888888888,
          1.7777777777777768,
          2.666666666666666,
          3.5555555555555545,
          4.444444444444443,
          5.333333333333332,
          6.222222222222221,
          -0.8888888888888893,
          -4.440892098500626e-16,
          0.8888888888888884,
          1.7777777777777772,
          2.666666666666666,
          3.5555555555555554,
          4.444444444444444,
          5.333333333333332,
          6.222222222222221,
          7.111111111111111,
          0,
          0.8888888888888888,
          1.7777777777777777,
          2.6666666666666665,
          3.5555555555555554,
          4.444444444444445,
          5.333333333333333,
          6.222222222222221,
          7.111111111111111,
          8
         ]
        }
       ],
       "layout": {
        "scene": {
         "xaxis": {
          "exponentformat": "e",
          "showexponent": "all",
          "title": {
           "text": "0th"
          },
          "type": "linear"
         },
         "yaxis": {
          "exponentformat": "e",
          "showexponent": "all",
          "title": {
           "text": "1st"
          },
          "type": "linear"
         },
         "zaxis": {
          "exponentformat": "e",
          "showexponent": "all",
          "title": {
           "text": "2nd"
          },
          "type": "linear"
         }
        },
        "template": {
         "data": {
          "bar": [
           {
            "error_x": {
             "color": "#2a3f5f"
            },
            "error_y": {
             "color": "#2a3f5f"
            },
            "marker": {
             "line": {
              "color": "#E5ECF6",
              "width": 0.5
             },
             "pattern": {
              "fillmode": "overlay",
              "size": 10,
              "solidity": 0.2
             }
            },
            "type": "bar"
           }
          ],
          "barpolar": [
           {
            "marker": {
             "line": {
              "color": "#E5ECF6",
              "width": 0.5
             },
             "pattern": {
              "fillmode": "overlay",
              "size": 10,
              "solidity": 0.2
             }
            },
            "type": "barpolar"
           }
          ],
          "carpet": [
           {
            "aaxis": {
             "endlinecolor": "#2a3f5f",
             "gridcolor": "white",
             "linecolor": "white",
             "minorgridcolor": "white",
             "startlinecolor": "#2a3f5f"
            },
            "baxis": {
             "endlinecolor": "#2a3f5f",
             "gridcolor": "white",
             "linecolor": "white",
             "minorgridcolor": "white",
             "startlinecolor": "#2a3f5f"
            },
            "type": "carpet"
           }
          ],
          "choropleth": [
           {
            "colorbar": {
             "outlinewidth": 0,
             "ticks": ""
            },
            "type": "choropleth"
           }
          ],
          "contour": [
           {
            "colorbar": {
             "outlinewidth": 0,
             "ticks": ""
            },
            "colorscale": [
             [
              0,
              "#0d0887"
             ],
             [
              0.1111111111111111,
              "#46039f"
             ],
             [
              0.2222222222222222,
              "#7201a8"
             ],
             [
              0.3333333333333333,
              "#9c179e"
             ],
             [
              0.4444444444444444,
              "#bd3786"
             ],
             [
              0.5555555555555556,
              "#d8576b"
             ],
             [
              0.6666666666666666,
              "#ed7953"
             ],
             [
              0.7777777777777778,
              "#fb9f3a"
             ],
             [
              0.8888888888888888,
              "#fdca26"
             ],
             [
              1,
              "#f0f921"
             ]
            ],
            "type": "contour"
           }
          ],
          "contourcarpet": [
           {
            "colorbar": {
             "outlinewidth": 0,
             "ticks": ""
            },
            "type": "contourcarpet"
           }
          ],
          "heatmap": [
           {
            "colorbar": {
             "outlinewidth": 0,
             "ticks": ""
            },
            "colorscale": [
             [
              0,
              "#0d0887"
             ],
             [
              0.1111111111111111,
              "#46039f"
             ],
             [
              0.2222222222222222,
              "#7201a8"
             ],
             [
              0.3333333333333333,
              "#9c179e"
             ],
             [
              0.4444444444444444,
              "#bd3786"
             ],
             [
              0.5555555555555556,
              "#d8576b"
             ],
             [
              0.6666666666666666,
              "#ed7953"
             ],
             [
              0.7777777777777778,
              "#fb9f3a"
             ],
             [
              0.8888888888888888,
              "#fdca26"
             ],
             [
              1,
              "#f0f921"
             ]
            ],
            "type": "heatmap"
           }
          ],
          "heatmapgl": [
           {
            "colorbar": {
             "outlinewidth": 0,
             "ticks": ""
            },
            "colorscale": [
             [
              0,
              "#0d0887"
             ],
             [
              0.1111111111111111,
              "#46039f"
             ],
             [
              0.2222222222222222,
              "#7201a8"
             ],
             [
              0.3333333333333333,
              "#9c179e"
             ],
             [
              0.4444444444444444,
              "#bd3786"
             ],
             [
              0.5555555555555556,
              "#d8576b"
             ],
             [
              0.6666666666666666,
              "#ed7953"
             ],
             [
              0.7777777777777778,
              "#fb9f3a"
             ],
             [
              0.8888888888888888,
              "#fdca26"
             ],
             [
              1,
              "#f0f921"
             ]
            ],
            "type": "heatmapgl"
           }
          ],
          "histogram": [
           {
            "marker": {
             "pattern": {
              "fillmode": "overlay",
              "size": 10,
              "solidity": 0.2
             }
            },
            "type": "histogram"
           }
          ],
          "histogram2d": [
           {
            "colorbar": {
             "outlinewidth": 0,
             "ticks": ""
            },
            "colorscale": [
             [
              0,
              "#0d0887"
             ],
             [
              0.1111111111111111,
              "#46039f"
             ],
             [
              0.2222222222222222,
              "#7201a8"
             ],
             [
              0.3333333333333333,
              "#9c179e"
             ],
             [
              0.4444444444444444,
              "#bd3786"
             ],
             [
              0.5555555555555556,
              "#d8576b"
             ],
             [
              0.6666666666666666,
              "#ed7953"
             ],
             [
              0.7777777777777778,
              "#fb9f3a"
             ],
             [
              0.8888888888888888,
              "#fdca26"
             ],
             [
              1,
              "#f0f921"
             ]
            ],
            "type": "histogram2d"
           }
          ],
          "histogram2dcontour": [
           {
            "colorbar": {
             "outlinewidth": 0,
             "ticks": ""
            },
            "colorscale": [
             [
              0,
              "#0d0887"
             ],
             [
              0.1111111111111111,
              "#46039f"
             ],
             [
              0.2222222222222222,
              "#7201a8"
             ],
             [
              0.3333333333333333,
              "#9c179e"
             ],
             [
              0.4444444444444444,
              "#bd3786"
             ],
             [
              0.5555555555555556,
              "#d8576b"
             ],
             [
              0.6666666666666666,
              "#ed7953"
             ],
             [
              0.7777777777777778,
              "#fb9f3a"
             ],
             [
              0.8888888888888888,
              "#fdca26"
             ],
             [
              1,
              "#f0f921"
             ]
            ],
            "type": "histogram2dcontour"
           }
          ],
          "mesh3d": [
           {
            "colorbar": {
             "outlinewidth": 0,
             "ticks": ""
            },
            "type": "mesh3d"
           }
          ],
          "parcoords": [
           {
            "line": {
             "colorbar": {
              "outlinewidth": 0,
              "ticks": ""
             }
            },
            "type": "parcoords"
           }
          ],
          "pie": [
           {
            "automargin": true,
            "type": "pie"
           }
          ],
          "scatter": [
           {
            "fillpattern": {
             "fillmode": "overlay",
             "size": 10,
             "solidity": 0.2
            },
            "type": "scatter"
           }
          ],
          "scatter3d": [
           {
            "line": {
             "colorbar": {
              "outlinewidth": 0,
              "ticks": ""
             }
            },
            "marker": {
             "colorbar": {
              "outlinewidth": 0,
              "ticks": ""
             }
            },
            "type": "scatter3d"
           }
          ],
          "scattercarpet": [
           {
            "marker": {
             "colorbar": {
              "outlinewidth": 0,
              "ticks": ""
             }
            },
            "type": "scattercarpet"
           }
          ],
          "scattergeo": [
           {
            "marker": {
             "colorbar": {
              "outlinewidth": 0,
              "ticks": ""
             }
            },
            "type": "scattergeo"
           }
          ],
          "scattergl": [
           {
            "marker": {
             "colorbar": {
              "outlinewidth": 0,
              "ticks": ""
             }
            },
            "type": "scattergl"
           }
          ],
          "scattermapbox": [
           {
            "marker": {
             "colorbar": {
              "outlinewidth": 0,
              "ticks": ""
             }
            },
            "type": "scattermapbox"
           }
          ],
          "scatterpolar": [
           {
            "marker": {
             "colorbar": {
              "outlinewidth": 0,
              "ticks": ""
             }
            },
            "type": "scatterpolar"
           }
          ],
          "scatterpolargl": [
           {
            "marker": {
             "colorbar": {
              "outlinewidth": 0,
              "ticks": ""
             }
            },
            "type": "scatterpolargl"
           }
          ],
          "scatterternary": [
           {
            "marker": {
             "colorbar": {
              "outlinewidth": 0,
              "ticks": ""
             }
            },
            "type": "scatterternary"
           }
          ],
          "surface": [
           {
            "colorbar": {
             "outlinewidth": 0,
             "ticks": ""
            },
            "colorscale": [
             [
              0,
              "#0d0887"
             ],
             [
              0.1111111111111111,
              "#46039f"
             ],
             [
              0.2222222222222222,
              "#7201a8"
             ],
             [
              0.3333333333333333,
              "#9c179e"
             ],
             [
              0.4444444444444444,
              "#bd3786"
             ],
             [
              0.5555555555555556,
              "#d8576b"
             ],
             [
              0.6666666666666666,
              "#ed7953"
             ],
             [
              0.7777777777777778,
              "#fb9f3a"
             ],
             [
              0.8888888888888888,
              "#fdca26"
             ],
             [
              1,
              "#f0f921"
             ]
            ],
            "type": "surface"
           }
          ],
          "table": [
           {
            "cells": {
             "fill": {
              "color": "#EBF0F8"
             },
             "line": {
              "color": "white"
             }
            },
            "header": {
             "fill": {
              "color": "#C8D4E3"
             },
             "line": {
              "color": "white"
             }
            },
            "type": "table"
           }
          ]
         },
         "layout": {
          "annotationdefaults": {
           "arrowcolor": "#2a3f5f",
           "arrowhead": 0,
           "arrowwidth": 1
          },
          "autotypenumbers": "strict",
          "coloraxis": {
           "colorbar": {
            "outlinewidth": 0,
            "ticks": ""
           }
          },
          "colorscale": {
           "diverging": [
            [
             0,
             "#8e0152"
            ],
            [
             0.1,
             "#c51b7d"
            ],
            [
             0.2,
             "#de77ae"
            ],
            [
             0.3,
             "#f1b6da"
            ],
            [
             0.4,
             "#fde0ef"
            ],
            [
             0.5,
             "#f7f7f7"
            ],
            [
             0.6,
             "#e6f5d0"
            ],
            [
             0.7,
             "#b8e186"
            ],
            [
             0.8,
             "#7fbc41"
            ],
            [
             0.9,
             "#4d9221"
            ],
            [
             1,
             "#276419"
            ]
           ],
           "sequential": [
            [
             0,
             "#0d0887"
            ],
            [
             0.1111111111111111,
             "#46039f"
            ],
            [
             0.2222222222222222,
             "#7201a8"
            ],
            [
             0.3333333333333333,
             "#9c179e"
            ],
            [
             0.4444444444444444,
             "#bd3786"
            ],
            [
             0.5555555555555556,
             "#d8576b"
            ],
            [
             0.6666666666666666,
             "#ed7953"
            ],
            [
             0.7777777777777778,
             "#fb9f3a"
            ],
            [
             0.8888888888888888,
             "#fdca26"
            ],
            [
             1,
             "#f0f921"
            ]
           ],
           "sequentialminus": [
            [
             0,
             "#0d0887"
            ],
            [
             0.1111111111111111,
             "#46039f"
            ],
            [
             0.2222222222222222,
             "#7201a8"
            ],
            [
             0.3333333333333333,
             "#9c179e"
            ],
            [
             0.4444444444444444,
             "#bd3786"
            ],
            [
             0.5555555555555556,
             "#d8576b"
            ],
            [
             0.6666666666666666,
             "#ed7953"
            ],
            [
             0.7777777777777778,
             "#fb9f3a"
            ],
            [
             0.8888888888888888,
             "#fdca26"
            ],
            [
             1,
             "#f0f921"
            ]
           ]
          },
          "colorway": [
           "#636efa",
           "#EF553B",
           "#00cc96",
           "#ab63fa",
           "#FFA15A",
           "#19d3f3",
           "#FF6692",
           "#B6E880",
           "#FF97FF",
           "#FECB52"
          ],
          "font": {
           "color": "#2a3f5f"
          },
          "geo": {
           "bgcolor": "white",
           "lakecolor": "white",
           "landcolor": "#E5ECF6",
           "showlakes": true,
           "showland": true,
           "subunitcolor": "white"
          },
          "hoverlabel": {
           "align": "left"
          },
          "hovermode": "closest",
          "mapbox": {
           "style": "light"
          },
          "paper_bgcolor": "white",
          "plot_bgcolor": "#E5ECF6",
          "polar": {
           "angularaxis": {
            "gridcolor": "white",
            "linecolor": "white",
            "ticks": ""
           },
           "bgcolor": "#E5ECF6",
           "radialaxis": {
            "gridcolor": "white",
            "linecolor": "white",
            "ticks": ""
           }
          },
          "scene": {
           "xaxis": {
            "backgroundcolor": "#E5ECF6",
            "gridcolor": "white",
            "gridwidth": 2,
            "linecolor": "white",
            "showbackground": true,
            "ticks": "",
            "zerolinecolor": "white"
           },
           "yaxis": {
            "backgroundcolor": "#E5ECF6",
            "gridcolor": "white",
            "gridwidth": 2,
            "linecolor": "white",
            "showbackground": true,
            "ticks": "",
            "zerolinecolor": "white"
           },
           "zaxis": {
            "backgroundcolor": "#E5ECF6",
            "gridcolor": "white",
            "gridwidth": 2,
            "linecolor": "white",
            "showbackground": true,
            "ticks": "",
            "zerolinecolor": "white"
           }
          },
          "shapedefaults": {
           "line": {
            "color": "#2a3f5f"
           }
          },
          "ternary": {
           "aaxis": {
            "gridcolor": "white",
            "linecolor": "white",
            "ticks": ""
           },
           "baxis": {
            "gridcolor": "white",
            "linecolor": "white",
            "ticks": ""
           },
           "bgcolor": "#E5ECF6",
           "caxis": {
            "gridcolor": "white",
            "linecolor": "white",
            "ticks": ""
           }
          },
          "title": {
           "x": 0.05
          },
          "xaxis": {
           "automargin": true,
           "gridcolor": "white",
           "linecolor": "white",
           "ticks": "",
           "title": {
            "standoff": 15
           },
           "zerolinecolor": "white",
           "zerolinewidth": 2
          },
          "yaxis": {
           "automargin": true,
           "gridcolor": "white",
           "linecolor": "white",
           "ticks": "",
           "title": {
            "standoff": 15
           },
           "zerolinecolor": "white",
           "zerolinewidth": 2
          }
         }
        }
       }
      }
     },
     "metadata": {},
     "output_type": "display_data"
    }
   ],
   "source": [
    "plot_point_cloud(point_clouds[-1]).show()"
   ]
  },
  {
   "cell_type": "code",
   "execution_count": 111,
   "metadata": {
    "cellView": "form",
    "id": "QHyq2WEwirW7"
   },
   "outputs": [],
   "source": [
    "# @title\n",
    "# Track connected components, loops, and voids\n",
    "homology_dimensions = [0, 1, 2]\n",
    "\n",
    "# Collapse edges to speed up H2 persistence calculation!\n",
    "persistence = VietorisRipsPersistence(\n",
    "    metric = \"euclidean\",\n",
    "    homology_dimensions=homology_dimensions,\n",
    "    n_jobs=6,\n",
    "    collapse_edges=False\n",
    ")\n",
    "\n",
    "diagrams = persistence.fit_transform(point_clouds)"
   ]
  },
  {
   "cell_type": "code",
   "execution_count": 112,
   "metadata": {
    "id": "4_DWKjPOiye4"
   },
   "outputs": [
    {
     "data": {
      "application/vnd.plotly.v1+json": {
       "config": {
        "plotlyServerURL": "https://plot.ly"
       },
       "data": [
        {
         "hoverinfo": "none",
         "line": {
          "color": "black",
          "dash": "dash",
          "width": 1
         },
         "mode": "lines",
         "showlegend": false,
         "type": "scatter",
         "x": [
          -0.03539506912231445,
          1.805148525238037
         ],
         "y": [
          -0.03539506912231445,
          1.805148525238037
         ]
        },
        {
         "hoverinfo": "text",
         "hovertext": [
          "(0.0, 0.0070473686791956425)",
          "(0.0, 0.00866905227303505)",
          "(0.0, 0.009030093438923359)",
          "(0.0, 0.009243621490895748)",
          "(0.0, 0.012100933119654655)",
          "(0.0, 0.014769691973924637)",
          "(0.0, 0.015204845927655697)",
          "(0.0, 0.016901647672057152)",
          "(0.0, 0.019290458410978317)",
          "(0.0, 0.02009309083223343)",
          "(0.0, 0.024002058431506157)",
          "(0.0, 0.02414901927113533)",
          "(0.0, 0.02494250051677227)",
          "(0.0, 0.025434182956814766)",
          "(0.0, 0.02585274539887905)",
          "(0.0, 0.026459522545337677)",
          "(0.0, 0.029836544767022133)",
          "(0.0, 0.034668609499931335)",
          "(0.0, 0.03566956892609596)",
          "(0.0, 0.037454839795827866)",
          "(0.0, 0.038210514932870865)",
          "(0.0, 0.04039984568953514)",
          "(0.0, 0.040762823075056076)",
          "(0.0, 0.04098506644368172)",
          "(0.0, 0.04108666256070137)",
          "(0.0, 0.04152216017246246)",
          "(0.0, 0.04244930297136307)",
          "(0.0, 0.04426373168826103)",
          "(0.0, 0.04610290378332138)",
          "(0.0, 0.04669848084449768)",
          "(0.0, 0.0473184697329998)",
          "(0.0, 0.04984631389379501)",
          "(0.0, 0.05167435109615326)",
          "(0.0, 0.051678188145160675)",
          "(0.0, 0.05168062448501587)",
          "(0.0, 0.05225272476673126)",
          "(0.0, 0.05254301801323891)",
          "(0.0, 0.052652690559625626)",
          "(0.0, 0.05695301294326782)",
          "(0.0, 0.0601850263774395)",
          "(0.0, 0.06212445721030235)",
          "(0.0, 0.0632767379283905)",
          "(0.0, 0.06384014338254929)",
          "(0.0, 0.06446000933647156)",
          "(0.0, 0.06513452529907227)",
          "(0.0, 0.0653073713183403)",
          "(0.0, 0.06683912128210068)",
          "(0.0, 0.06808241456747055)",
          "(0.0, 0.06896832585334778)",
          "(0.0, 0.06908807158470154)",
          "(0.0, 0.07114063203334808)",
          "(0.0, 0.07251592725515366)",
          "(0.0, 0.07430484890937805)",
          "(0.0, 0.07450893521308899)",
          "(0.0, 0.0749034434556961)",
          "(0.0, 0.07534622400999069)",
          "(0.0, 0.07794651389122009)",
          "(0.0, 0.07823098450899124)",
          "(0.0, 0.08187264949083328)",
          "(0.0, 0.08357411623001099)",
          "(0.0, 0.08402103185653687)",
          "(0.0, 0.08519803732633591)",
          "(0.0, 0.0852624922990799)",
          "(0.0, 0.08576611429452896)",
          "(0.0, 0.08600054681301117)",
          "(0.0, 0.08623483031988144)",
          "(0.0, 0.0876111388206482)",
          "(0.0, 0.08887260407209396)",
          "(0.0, 0.08905564993619919)",
          "(0.0, 0.09036625176668167)",
          "(0.0, 0.09052751958370209)",
          "(0.0, 0.09136684238910675)",
          "(0.0, 0.09249842166900635)",
          "(0.0, 0.09275071322917938)",
          "(0.0, 0.09334367513656616)",
          "(0.0, 0.09657152742147446)",
          "(0.0, 0.09827394038438797)",
          "(0.0, 0.09833535552024841)",
          "(0.0, 0.10327134281396866)",
          "(0.0, 0.10761767625808716)",
          "(0.0, 0.10796429216861725)",
          "(0.0, 0.10822836309671402)",
          "(0.0, 0.1126914918422699)",
          "(0.0, 0.11667834222316742)",
          "(0.0, 0.12083053588867188)",
          "(0.0, 0.12145505100488663)",
          "(0.0, 0.12463981658220291)",
          "(0.0, 0.12589961290359497)",
          "(0.0, 0.1270667314529419)",
          "(0.0, 0.1315537989139557)",
          "(0.0, 0.1326412856578827)",
          "(0.0, 0.13424250483512878)",
          "(0.0, 0.13582037389278412)",
          "(0.0, 0.14956533908843994)",
          "(0.0, 0.15979638695716858)",
          "(0.0, 0.16558413207530975)",
          "(0.0, 0.1685396283864975)",
          "(0.0, 0.1755569726228714)",
          "(0.0, 0.1765502691268921)"
         ],
         "mode": "markers",
         "name": "H0",
         "type": "scatter",
         "x": [
          0,
          0,
          0,
          0,
          0,
          0,
          0,
          0,
          0,
          0,
          0,
          0,
          0,
          0,
          0,
          0,
          0,
          0,
          0,
          0,
          0,
          0,
          0,
          0,
          0,
          0,
          0,
          0,
          0,
          0,
          0,
          0,
          0,
          0,
          0,
          0,
          0,
          0,
          0,
          0,
          0,
          0,
          0,
          0,
          0,
          0,
          0,
          0,
          0,
          0,
          0,
          0,
          0,
          0,
          0,
          0,
          0,
          0,
          0,
          0,
          0,
          0,
          0,
          0,
          0,
          0,
          0,
          0,
          0,
          0,
          0,
          0,
          0,
          0,
          0,
          0,
          0,
          0,
          0,
          0,
          0,
          0,
          0,
          0,
          0,
          0,
          0,
          0,
          0,
          0,
          0,
          0,
          0,
          0,
          0,
          0,
          0,
          0,
          0
         ],
         "y": [
          0.0070473686791956425,
          0.00866905227303505,
          0.009030093438923359,
          0.009243621490895748,
          0.012100933119654655,
          0.014769691973924637,
          0.015204845927655697,
          0.016901647672057152,
          0.019290458410978317,
          0.02009309083223343,
          0.024002058431506157,
          0.02414901927113533,
          0.02494250051677227,
          0.025434182956814766,
          0.02585274539887905,
          0.026459522545337677,
          0.029836544767022133,
          0.034668609499931335,
          0.03566956892609596,
          0.037454839795827866,
          0.038210514932870865,
          0.04039984568953514,
          0.040762823075056076,
          0.04098506644368172,
          0.04108666256070137,
          0.04152216017246246,
          0.04244930297136307,
          0.04426373168826103,
          0.04610290378332138,
          0.04669848084449768,
          0.0473184697329998,
          0.04984631389379501,
          0.05167435109615326,
          0.051678188145160675,
          0.05168062448501587,
          0.05225272476673126,
          0.05254301801323891,
          0.052652690559625626,
          0.05695301294326782,
          0.0601850263774395,
          0.06212445721030235,
          0.0632767379283905,
          0.06384014338254929,
          0.06446000933647156,
          0.06513452529907227,
          0.0653073713183403,
          0.06683912128210068,
          0.06808241456747055,
          0.06896832585334778,
          0.06908807158470154,
          0.07114063203334808,
          0.07251592725515366,
          0.07430484890937805,
          0.07450893521308899,
          0.0749034434556961,
          0.07534622400999069,
          0.07794651389122009,
          0.07823098450899124,
          0.08187264949083328,
          0.08357411623001099,
          0.08402103185653687,
          0.08519803732633591,
          0.0852624922990799,
          0.08576611429452896,
          0.08600054681301117,
          0.08623483031988144,
          0.0876111388206482,
          0.08887260407209396,
          0.08905564993619919,
          0.09036625176668167,
          0.09052751958370209,
          0.09136684238910675,
          0.09249842166900635,
          0.09275071322917938,
          0.09334367513656616,
          0.09657152742147446,
          0.09827394038438797,
          0.09833535552024841,
          0.10327134281396866,
          0.10761767625808716,
          0.10796429216861725,
          0.10822836309671402,
          0.1126914918422699,
          0.11667834222316742,
          0.12083053588867188,
          0.12145505100488663,
          0.12463981658220291,
          0.12589961290359497,
          0.1270667314529419,
          0.1315537989139557,
          0.1326412856578827,
          0.13424250483512878,
          0.13582037389278412,
          0.14956533908843994,
          0.15979638695716858,
          0.16558413207530975,
          0.1685396283864975,
          0.1755569726228714,
          0.1765502691268921
         ]
        },
        {
         "hoverinfo": "text",
         "hovertext": [
          "(0.1802988052368164, 1.6984076499938965)"
         ],
         "mode": "markers",
         "name": "H1",
         "type": "scatter",
         "x": [
          0.1802988052368164
         ],
         "y": [
          1.6984076499938965
         ]
        },
        {
         "hoverinfo": "text",
         "hovertext": [
          "(1.7435246706008911, 1.766029953956604)",
          "(1.7422188520431519, 1.7653589248657227)",
          "(1.7380601167678833, 1.760265827178955)",
          "(1.7354809045791626, 1.743253231048584)",
          "(1.7298903465270996, 1.7413785457611084)",
          "(1.7278273105621338, 1.737922191619873)",
          "(1.7099672555923462, 1.7168478965759277)",
          "(1.7047728300094604, 1.7091461420059204)",
          "(1.701554298400879, 1.7697534561157227)"
         ],
         "mode": "markers",
         "name": "H2",
         "type": "scatter",
         "x": [
          1.7435246706008911,
          1.7422188520431519,
          1.7380601167678833,
          1.7354809045791626,
          1.7298903465270996,
          1.7278273105621338,
          1.7099672555923462,
          1.7047728300094604,
          1.701554298400879
         ],
         "y": [
          1.766029953956604,
          1.7653589248657227,
          1.760265827178955,
          1.743253231048584,
          1.7413785457611084,
          1.737922191619873,
          1.7168478965759277,
          1.7091461420059204,
          1.7697534561157227
         ]
        }
       ],
       "layout": {
        "height": 500,
        "plot_bgcolor": "white",
        "template": {
         "data": {
          "bar": [
           {
            "error_x": {
             "color": "#2a3f5f"
            },
            "error_y": {
             "color": "#2a3f5f"
            },
            "marker": {
             "line": {
              "color": "#E5ECF6",
              "width": 0.5
             },
             "pattern": {
              "fillmode": "overlay",
              "size": 10,
              "solidity": 0.2
             }
            },
            "type": "bar"
           }
          ],
          "barpolar": [
           {
            "marker": {
             "line": {
              "color": "#E5ECF6",
              "width": 0.5
             },
             "pattern": {
              "fillmode": "overlay",
              "size": 10,
              "solidity": 0.2
             }
            },
            "type": "barpolar"
           }
          ],
          "carpet": [
           {
            "aaxis": {
             "endlinecolor": "#2a3f5f",
             "gridcolor": "white",
             "linecolor": "white",
             "minorgridcolor": "white",
             "startlinecolor": "#2a3f5f"
            },
            "baxis": {
             "endlinecolor": "#2a3f5f",
             "gridcolor": "white",
             "linecolor": "white",
             "minorgridcolor": "white",
             "startlinecolor": "#2a3f5f"
            },
            "type": "carpet"
           }
          ],
          "choropleth": [
           {
            "colorbar": {
             "outlinewidth": 0,
             "ticks": ""
            },
            "type": "choropleth"
           }
          ],
          "contour": [
           {
            "colorbar": {
             "outlinewidth": 0,
             "ticks": ""
            },
            "colorscale": [
             [
              0,
              "#0d0887"
             ],
             [
              0.1111111111111111,
              "#46039f"
             ],
             [
              0.2222222222222222,
              "#7201a8"
             ],
             [
              0.3333333333333333,
              "#9c179e"
             ],
             [
              0.4444444444444444,
              "#bd3786"
             ],
             [
              0.5555555555555556,
              "#d8576b"
             ],
             [
              0.6666666666666666,
              "#ed7953"
             ],
             [
              0.7777777777777778,
              "#fb9f3a"
             ],
             [
              0.8888888888888888,
              "#fdca26"
             ],
             [
              1,
              "#f0f921"
             ]
            ],
            "type": "contour"
           }
          ],
          "contourcarpet": [
           {
            "colorbar": {
             "outlinewidth": 0,
             "ticks": ""
            },
            "type": "contourcarpet"
           }
          ],
          "heatmap": [
           {
            "colorbar": {
             "outlinewidth": 0,
             "ticks": ""
            },
            "colorscale": [
             [
              0,
              "#0d0887"
             ],
             [
              0.1111111111111111,
              "#46039f"
             ],
             [
              0.2222222222222222,
              "#7201a8"
             ],
             [
              0.3333333333333333,
              "#9c179e"
             ],
             [
              0.4444444444444444,
              "#bd3786"
             ],
             [
              0.5555555555555556,
              "#d8576b"
             ],
             [
              0.6666666666666666,
              "#ed7953"
             ],
             [
              0.7777777777777778,
              "#fb9f3a"
             ],
             [
              0.8888888888888888,
              "#fdca26"
             ],
             [
              1,
              "#f0f921"
             ]
            ],
            "type": "heatmap"
           }
          ],
          "heatmapgl": [
           {
            "colorbar": {
             "outlinewidth": 0,
             "ticks": ""
            },
            "colorscale": [
             [
              0,
              "#0d0887"
             ],
             [
              0.1111111111111111,
              "#46039f"
             ],
             [
              0.2222222222222222,
              "#7201a8"
             ],
             [
              0.3333333333333333,
              "#9c179e"
             ],
             [
              0.4444444444444444,
              "#bd3786"
             ],
             [
              0.5555555555555556,
              "#d8576b"
             ],
             [
              0.6666666666666666,
              "#ed7953"
             ],
             [
              0.7777777777777778,
              "#fb9f3a"
             ],
             [
              0.8888888888888888,
              "#fdca26"
             ],
             [
              1,
              "#f0f921"
             ]
            ],
            "type": "heatmapgl"
           }
          ],
          "histogram": [
           {
            "marker": {
             "pattern": {
              "fillmode": "overlay",
              "size": 10,
              "solidity": 0.2
             }
            },
            "type": "histogram"
           }
          ],
          "histogram2d": [
           {
            "colorbar": {
             "outlinewidth": 0,
             "ticks": ""
            },
            "colorscale": [
             [
              0,
              "#0d0887"
             ],
             [
              0.1111111111111111,
              "#46039f"
             ],
             [
              0.2222222222222222,
              "#7201a8"
             ],
             [
              0.3333333333333333,
              "#9c179e"
             ],
             [
              0.4444444444444444,
              "#bd3786"
             ],
             [
              0.5555555555555556,
              "#d8576b"
             ],
             [
              0.6666666666666666,
              "#ed7953"
             ],
             [
              0.7777777777777778,
              "#fb9f3a"
             ],
             [
              0.8888888888888888,
              "#fdca26"
             ],
             [
              1,
              "#f0f921"
             ]
            ],
            "type": "histogram2d"
           }
          ],
          "histogram2dcontour": [
           {
            "colorbar": {
             "outlinewidth": 0,
             "ticks": ""
            },
            "colorscale": [
             [
              0,
              "#0d0887"
             ],
             [
              0.1111111111111111,
              "#46039f"
             ],
             [
              0.2222222222222222,
              "#7201a8"
             ],
             [
              0.3333333333333333,
              "#9c179e"
             ],
             [
              0.4444444444444444,
              "#bd3786"
             ],
             [
              0.5555555555555556,
              "#d8576b"
             ],
             [
              0.6666666666666666,
              "#ed7953"
             ],
             [
              0.7777777777777778,
              "#fb9f3a"
             ],
             [
              0.8888888888888888,
              "#fdca26"
             ],
             [
              1,
              "#f0f921"
             ]
            ],
            "type": "histogram2dcontour"
           }
          ],
          "mesh3d": [
           {
            "colorbar": {
             "outlinewidth": 0,
             "ticks": ""
            },
            "type": "mesh3d"
           }
          ],
          "parcoords": [
           {
            "line": {
             "colorbar": {
              "outlinewidth": 0,
              "ticks": ""
             }
            },
            "type": "parcoords"
           }
          ],
          "pie": [
           {
            "automargin": true,
            "type": "pie"
           }
          ],
          "scatter": [
           {
            "fillpattern": {
             "fillmode": "overlay",
             "size": 10,
             "solidity": 0.2
            },
            "type": "scatter"
           }
          ],
          "scatter3d": [
           {
            "line": {
             "colorbar": {
              "outlinewidth": 0,
              "ticks": ""
             }
            },
            "marker": {
             "colorbar": {
              "outlinewidth": 0,
              "ticks": ""
             }
            },
            "type": "scatter3d"
           }
          ],
          "scattercarpet": [
           {
            "marker": {
             "colorbar": {
              "outlinewidth": 0,
              "ticks": ""
             }
            },
            "type": "scattercarpet"
           }
          ],
          "scattergeo": [
           {
            "marker": {
             "colorbar": {
              "outlinewidth": 0,
              "ticks": ""
             }
            },
            "type": "scattergeo"
           }
          ],
          "scattergl": [
           {
            "marker": {
             "colorbar": {
              "outlinewidth": 0,
              "ticks": ""
             }
            },
            "type": "scattergl"
           }
          ],
          "scattermapbox": [
           {
            "marker": {
             "colorbar": {
              "outlinewidth": 0,
              "ticks": ""
             }
            },
            "type": "scattermapbox"
           }
          ],
          "scatterpolar": [
           {
            "marker": {
             "colorbar": {
              "outlinewidth": 0,
              "ticks": ""
             }
            },
            "type": "scatterpolar"
           }
          ],
          "scatterpolargl": [
           {
            "marker": {
             "colorbar": {
              "outlinewidth": 0,
              "ticks": ""
             }
            },
            "type": "scatterpolargl"
           }
          ],
          "scatterternary": [
           {
            "marker": {
             "colorbar": {
              "outlinewidth": 0,
              "ticks": ""
             }
            },
            "type": "scatterternary"
           }
          ],
          "surface": [
           {
            "colorbar": {
             "outlinewidth": 0,
             "ticks": ""
            },
            "colorscale": [
             [
              0,
              "#0d0887"
             ],
             [
              0.1111111111111111,
              "#46039f"
             ],
             [
              0.2222222222222222,
              "#7201a8"
             ],
             [
              0.3333333333333333,
              "#9c179e"
             ],
             [
              0.4444444444444444,
              "#bd3786"
             ],
             [
              0.5555555555555556,
              "#d8576b"
             ],
             [
              0.6666666666666666,
              "#ed7953"
             ],
             [
              0.7777777777777778,
              "#fb9f3a"
             ],
             [
              0.8888888888888888,
              "#fdca26"
             ],
             [
              1,
              "#f0f921"
             ]
            ],
            "type": "surface"
           }
          ],
          "table": [
           {
            "cells": {
             "fill": {
              "color": "#EBF0F8"
             },
             "line": {
              "color": "white"
             }
            },
            "header": {
             "fill": {
              "color": "#C8D4E3"
             },
             "line": {
              "color": "white"
             }
            },
            "type": "table"
           }
          ]
         },
         "layout": {
          "annotationdefaults": {
           "arrowcolor": "#2a3f5f",
           "arrowhead": 0,
           "arrowwidth": 1
          },
          "autotypenumbers": "strict",
          "coloraxis": {
           "colorbar": {
            "outlinewidth": 0,
            "ticks": ""
           }
          },
          "colorscale": {
           "diverging": [
            [
             0,
             "#8e0152"
            ],
            [
             0.1,
             "#c51b7d"
            ],
            [
             0.2,
             "#de77ae"
            ],
            [
             0.3,
             "#f1b6da"
            ],
            [
             0.4,
             "#fde0ef"
            ],
            [
             0.5,
             "#f7f7f7"
            ],
            [
             0.6,
             "#e6f5d0"
            ],
            [
             0.7,
             "#b8e186"
            ],
            [
             0.8,
             "#7fbc41"
            ],
            [
             0.9,
             "#4d9221"
            ],
            [
             1,
             "#276419"
            ]
           ],
           "sequential": [
            [
             0,
             "#0d0887"
            ],
            [
             0.1111111111111111,
             "#46039f"
            ],
            [
             0.2222222222222222,
             "#7201a8"
            ],
            [
             0.3333333333333333,
             "#9c179e"
            ],
            [
             0.4444444444444444,
             "#bd3786"
            ],
            [
             0.5555555555555556,
             "#d8576b"
            ],
            [
             0.6666666666666666,
             "#ed7953"
            ],
            [
             0.7777777777777778,
             "#fb9f3a"
            ],
            [
             0.8888888888888888,
             "#fdca26"
            ],
            [
             1,
             "#f0f921"
            ]
           ],
           "sequentialminus": [
            [
             0,
             "#0d0887"
            ],
            [
             0.1111111111111111,
             "#46039f"
            ],
            [
             0.2222222222222222,
             "#7201a8"
            ],
            [
             0.3333333333333333,
             "#9c179e"
            ],
            [
             0.4444444444444444,
             "#bd3786"
            ],
            [
             0.5555555555555556,
             "#d8576b"
            ],
            [
             0.6666666666666666,
             "#ed7953"
            ],
            [
             0.7777777777777778,
             "#fb9f3a"
            ],
            [
             0.8888888888888888,
             "#fdca26"
            ],
            [
             1,
             "#f0f921"
            ]
           ]
          },
          "colorway": [
           "#636efa",
           "#EF553B",
           "#00cc96",
           "#ab63fa",
           "#FFA15A",
           "#19d3f3",
           "#FF6692",
           "#B6E880",
           "#FF97FF",
           "#FECB52"
          ],
          "font": {
           "color": "#2a3f5f"
          },
          "geo": {
           "bgcolor": "white",
           "lakecolor": "white",
           "landcolor": "#E5ECF6",
           "showlakes": true,
           "showland": true,
           "subunitcolor": "white"
          },
          "hoverlabel": {
           "align": "left"
          },
          "hovermode": "closest",
          "mapbox": {
           "style": "light"
          },
          "paper_bgcolor": "white",
          "plot_bgcolor": "#E5ECF6",
          "polar": {
           "angularaxis": {
            "gridcolor": "white",
            "linecolor": "white",
            "ticks": ""
           },
           "bgcolor": "#E5ECF6",
           "radialaxis": {
            "gridcolor": "white",
            "linecolor": "white",
            "ticks": ""
           }
          },
          "scene": {
           "xaxis": {
            "backgroundcolor": "#E5ECF6",
            "gridcolor": "white",
            "gridwidth": 2,
            "linecolor": "white",
            "showbackground": true,
            "ticks": "",
            "zerolinecolor": "white"
           },
           "yaxis": {
            "backgroundcolor": "#E5ECF6",
            "gridcolor": "white",
            "gridwidth": 2,
            "linecolor": "white",
            "showbackground": true,
            "ticks": "",
            "zerolinecolor": "white"
           },
           "zaxis": {
            "backgroundcolor": "#E5ECF6",
            "gridcolor": "white",
            "gridwidth": 2,
            "linecolor": "white",
            "showbackground": true,
            "ticks": "",
            "zerolinecolor": "white"
           }
          },
          "shapedefaults": {
           "line": {
            "color": "#2a3f5f"
           }
          },
          "ternary": {
           "aaxis": {
            "gridcolor": "white",
            "linecolor": "white",
            "ticks": ""
           },
           "baxis": {
            "gridcolor": "white",
            "linecolor": "white",
            "ticks": ""
           },
           "bgcolor": "#E5ECF6",
           "caxis": {
            "gridcolor": "white",
            "linecolor": "white",
            "ticks": ""
           }
          },
          "title": {
           "x": 0.05
          },
          "xaxis": {
           "automargin": true,
           "gridcolor": "white",
           "linecolor": "white",
           "ticks": "",
           "title": {
            "standoff": 15
           },
           "zerolinecolor": "white",
           "zerolinewidth": 2
          },
          "yaxis": {
           "automargin": true,
           "gridcolor": "white",
           "linecolor": "white",
           "ticks": "",
           "title": {
            "standoff": 15
           },
           "zerolinecolor": "white",
           "zerolinewidth": 2
          }
         }
        },
        "width": 500,
        "xaxis": {
         "autorange": false,
         "exponentformat": "e",
         "linecolor": "black",
         "linewidth": 1,
         "mirror": false,
         "range": [
          -0.03539506912231445,
          1.805148525238037
         ],
         "showexponent": "all",
         "showline": true,
         "side": "bottom",
         "ticks": "outside",
         "title": {
          "text": "Birth"
         },
         "type": "linear",
         "zeroline": true
        },
        "yaxis": {
         "autorange": false,
         "exponentformat": "e",
         "linecolor": "black",
         "linewidth": 1,
         "mirror": false,
         "range": [
          -0.03539506912231445,
          1.805148525238037
         ],
         "scaleanchor": "x",
         "scaleratio": 1,
         "showexponent": "all",
         "showline": true,
         "side": "left",
         "ticks": "outside",
         "title": {
          "text": "Death"
         },
         "type": "linear",
         "zeroline": true
        }
       }
      }
     },
     "metadata": {},
     "output_type": "display_data"
    }
   ],
   "source": [
    "plot_diagram(diagrams[0]).show() # Circle"
   ]
  },
  {
   "cell_type": "code",
   "execution_count": 113,
   "metadata": {
    "id": "4vWNshhRi17_"
   },
   "outputs": [
    {
     "data": {
      "application/vnd.plotly.v1+json": {
       "config": {
        "plotlyServerURL": "https://plot.ly"
       },
       "data": [
        {
         "hoverinfo": "none",
         "line": {
          "color": "black",
          "dash": "dash",
          "width": 1
         },
         "mode": "lines",
         "showlegend": false,
         "type": "scatter",
         "x": [
          -0.03268547534942627,
          1.6669592428207398
         ],
         "y": [
          -0.03268547534942627,
          1.6669592428207398
         ]
        },
        {
         "hoverinfo": "text",
         "hovertext": [
          "(0.0, 0.04916705936193466)",
          "(0.0, 0.05638299882411957)",
          "(0.0, 0.05758720263838768)",
          "(0.0, 0.07532184571027756)",
          "(0.0, 0.08570761233568192)",
          "(0.0, 0.09607298672199249)",
          "(0.0, 0.10647737234830856)",
          "(0.0, 0.11060214787721634)",
          "(0.0, 0.11506737023591995)",
          "(0.0, 0.1165267676115036)",
          "(0.0, 0.12800681591033936)",
          "(0.0, 0.13250157237052917)",
          "(0.0, 0.13278505206108093)",
          "(0.0, 0.1354604959487915)",
          "(0.0, 0.13800358772277832)",
          "(0.0, 0.14461685717105865)",
          "(0.0, 0.14581014215946198)",
          "(0.0, 0.15024101734161377)",
          "(0.0, 0.1512070894241333)",
          "(0.0, 0.15174058079719543)",
          "(0.0, 0.15379466116428375)",
          "(0.0, 0.15490876138210297)",
          "(0.0, 0.15517278015613556)",
          "(0.0, 0.15555652976036072)",
          "(0.0, 0.15797105431556702)",
          "(0.0, 0.16155166923999786)",
          "(0.0, 0.163445383310318)",
          "(0.0, 0.16650539636611938)",
          "(0.0, 0.16765096783638)",
          "(0.0, 0.17525435984134674)",
          "(0.0, 0.17921745777130127)",
          "(0.0, 0.18054014444351196)",
          "(0.0, 0.18209679424762726)",
          "(0.0, 0.18446838855743408)",
          "(0.0, 0.18530772626399994)",
          "(0.0, 0.18646417558193207)",
          "(0.0, 0.18755055963993073)",
          "(0.0, 0.1919393092393875)",
          "(0.0, 0.19304202497005463)",
          "(0.0, 0.19315777719020844)",
          "(0.0, 0.1944245547056198)",
          "(0.0, 0.19460737705230713)",
          "(0.0, 0.2021183967590332)",
          "(0.0, 0.20246315002441406)",
          "(0.0, 0.20492489635944366)",
          "(0.0, 0.20965474843978882)",
          "(0.0, 0.2113286852836609)",
          "(0.0, 0.2122817188501358)",
          "(0.0, 0.21647144854068756)",
          "(0.0, 0.22189229726791382)",
          "(0.0, 0.2370118349790573)",
          "(0.0, 0.2383367270231247)",
          "(0.0, 0.23995235562324524)",
          "(0.0, 0.24028173089027405)",
          "(0.0, 0.24119406938552856)",
          "(0.0, 0.2440863996744156)",
          "(0.0, 0.24521316587924957)",
          "(0.0, 0.24566704034805298)",
          "(0.0, 0.24692223966121674)",
          "(0.0, 0.24807186424732208)",
          "(0.0, 0.2533339858055115)",
          "(0.0, 0.2558668255805969)",
          "(0.0, 0.25593724846839905)",
          "(0.0, 0.2562752366065979)",
          "(0.0, 0.25728079676628113)",
          "(0.0, 0.2574661672115326)",
          "(0.0, 0.2577209174633026)",
          "(0.0, 0.2585022747516632)",
          "(0.0, 0.25885605812072754)",
          "(0.0, 0.25935009121894836)",
          "(0.0, 0.2646156847476959)",
          "(0.0, 0.26486000418663025)",
          "(0.0, 0.2657003104686737)",
          "(0.0, 0.2700652480125427)",
          "(0.0, 0.27204781770706177)",
          "(0.0, 0.27510687708854675)",
          "(0.0, 0.275783896446228)",
          "(0.0, 0.2784169614315033)",
          "(0.0, 0.2798900008201599)",
          "(0.0, 0.28007036447525024)",
          "(0.0, 0.28426092863082886)",
          "(0.0, 0.2907998859882355)",
          "(0.0, 0.2932363748550415)",
          "(0.0, 0.29352033138275146)",
          "(0.0, 0.29574644565582275)",
          "(0.0, 0.3055763244628906)",
          "(0.0, 0.30631861090660095)",
          "(0.0, 0.3134138286113739)",
          "(0.0, 0.3172495663166046)",
          "(0.0, 0.3261079490184784)",
          "(0.0, 0.33093440532684326)",
          "(0.0, 0.33894065022468567)",
          "(0.0, 0.3818633556365967)",
          "(0.0, 0.383976012468338)",
          "(0.0, 0.3964366912841797)",
          "(0.0, 0.41427481174468994)",
          "(0.0, 0.4154298007488251)",
          "(0.0, 0.432140976190567)",
          "(0.0, 0.5196081399917603)"
         ],
         "mode": "markers",
         "name": "H0",
         "type": "scatter",
         "x": [
          0,
          0,
          0,
          0,
          0,
          0,
          0,
          0,
          0,
          0,
          0,
          0,
          0,
          0,
          0,
          0,
          0,
          0,
          0,
          0,
          0,
          0,
          0,
          0,
          0,
          0,
          0,
          0,
          0,
          0,
          0,
          0,
          0,
          0,
          0,
          0,
          0,
          0,
          0,
          0,
          0,
          0,
          0,
          0,
          0,
          0,
          0,
          0,
          0,
          0,
          0,
          0,
          0,
          0,
          0,
          0,
          0,
          0,
          0,
          0,
          0,
          0,
          0,
          0,
          0,
          0,
          0,
          0,
          0,
          0,
          0,
          0,
          0,
          0,
          0,
          0,
          0,
          0,
          0,
          0,
          0,
          0,
          0,
          0,
          0,
          0,
          0,
          0,
          0,
          0,
          0,
          0,
          0,
          0,
          0,
          0,
          0,
          0,
          0
         ],
         "y": [
          0.04916705936193466,
          0.05638299882411957,
          0.05758720263838768,
          0.07532184571027756,
          0.08570761233568192,
          0.09607298672199249,
          0.10647737234830856,
          0.11060214787721634,
          0.11506737023591995,
          0.1165267676115036,
          0.12800681591033936,
          0.13250157237052917,
          0.13278505206108093,
          0.1354604959487915,
          0.13800358772277832,
          0.14461685717105865,
          0.14581014215946198,
          0.15024101734161377,
          0.1512070894241333,
          0.15174058079719543,
          0.15379466116428375,
          0.15490876138210297,
          0.15517278015613556,
          0.15555652976036072,
          0.15797105431556702,
          0.16155166923999786,
          0.163445383310318,
          0.16650539636611938,
          0.16765096783638,
          0.17525435984134674,
          0.17921745777130127,
          0.18054014444351196,
          0.18209679424762726,
          0.18446838855743408,
          0.18530772626399994,
          0.18646417558193207,
          0.18755055963993073,
          0.1919393092393875,
          0.19304202497005463,
          0.19315777719020844,
          0.1944245547056198,
          0.19460737705230713,
          0.2021183967590332,
          0.20246315002441406,
          0.20492489635944366,
          0.20965474843978882,
          0.2113286852836609,
          0.2122817188501358,
          0.21647144854068756,
          0.22189229726791382,
          0.2370118349790573,
          0.2383367270231247,
          0.23995235562324524,
          0.24028173089027405,
          0.24119406938552856,
          0.2440863996744156,
          0.24521316587924957,
          0.24566704034805298,
          0.24692223966121674,
          0.24807186424732208,
          0.2533339858055115,
          0.2558668255805969,
          0.25593724846839905,
          0.2562752366065979,
          0.25728079676628113,
          0.2574661672115326,
          0.2577209174633026,
          0.2585022747516632,
          0.25885605812072754,
          0.25935009121894836,
          0.2646156847476959,
          0.26486000418663025,
          0.2657003104686737,
          0.2700652480125427,
          0.27204781770706177,
          0.27510687708854675,
          0.275783896446228,
          0.2784169614315033,
          0.2798900008201599,
          0.28007036447525024,
          0.28426092863082886,
          0.2907998859882355,
          0.2932363748550415,
          0.29352033138275146,
          0.29574644565582275,
          0.3055763244628906,
          0.30631861090660095,
          0.3134138286113739,
          0.3172495663166046,
          0.3261079490184784,
          0.33093440532684326,
          0.33894065022468567,
          0.3818633556365967,
          0.383976012468338,
          0.3964366912841797,
          0.41427481174468994,
          0.4154298007488251,
          0.432140976190567,
          0.5196081399917603
         ]
        },
        {
         "hoverinfo": "text",
         "hovertext": [
          "(0.7449535131454468, 0.7779067754745483)",
          "(0.7161219120025635, 0.8431299328804016)",
          "(0.6739240884780884, 0.8966376781463623)",
          "(0.6700742244720459, 0.7341374158859253)",
          "(0.6651090383529663, 0.7435448169708252)",
          "(0.644425094127655, 0.7237935066223145)",
          "(0.6286497116088867, 0.8620348572731018)",
          "(0.625887930393219, 0.6939866542816162)",
          "(0.6224711537361145, 0.9015253186225891)",
          "(0.6120272874832153, 0.8801898956298828)",
          "(0.6106286644935608, 0.8589451909065247)",
          "(0.5666768550872803, 0.856415331363678)",
          "(0.5442330837249756, 0.5512534379959106)",
          "(0.5336979627609253, 0.9057398438453674)",
          "(0.45925867557525635, 0.4944453239440918)",
          "(0.4527505934238434, 0.4808717370033264)",
          "(0.4396584630012512, 0.5147148966789246)",
          "(0.43356096744537354, 0.5458022356033325)",
          "(0.3854823112487793, 0.4142760634422302)",
          "(0.36007505655288696, 0.3756336569786072)",
          "(0.3599954843521118, 0.3626984655857086)",
          "(0.356976181268692, 0.36515748500823975)",
          "(0.32581189274787903, 0.38076865673065186)",
          "(0.32124972343444824, 0.37972816824913025)",
          "(0.3185172379016876, 0.38436877727508545)",
          "(0.3143605589866638, 0.36168187856674194)",
          "(0.31402915716171265, 0.4823611378669739)",
          "(0.30517706274986267, 0.34127184748649597)",
          "(0.3026037812232971, 0.32084307074546814)",
          "(0.29421567916870117, 0.30772972106933594)",
          "(0.290283203125, 0.3925907611846924)",
          "(0.2802726924419403, 0.32485634088516235)",
          "(0.2724083364009857, 0.36816728115081787)",
          "(0.2626430094242096, 0.3416541516780853)",
          "(0.25248977541923523, 0.2537444531917572)",
          "(0.2490019053220749, 0.2814860939979553)",
          "(0.2102193981409073, 0.21159982681274414)",
          "(0.20040105283260345, 0.25253936648368835)"
         ],
         "mode": "markers",
         "name": "H1",
         "type": "scatter",
         "x": [
          0.7449535131454468,
          0.7161219120025635,
          0.6739240884780884,
          0.6700742244720459,
          0.6651090383529663,
          0.644425094127655,
          0.6286497116088867,
          0.625887930393219,
          0.6224711537361145,
          0.6120272874832153,
          0.6106286644935608,
          0.5666768550872803,
          0.5442330837249756,
          0.5336979627609253,
          0.45925867557525635,
          0.4527505934238434,
          0.4396584630012512,
          0.43356096744537354,
          0.3854823112487793,
          0.36007505655288696,
          0.3599954843521118,
          0.356976181268692,
          0.32581189274787903,
          0.32124972343444824,
          0.3185172379016876,
          0.3143605589866638,
          0.31402915716171265,
          0.30517706274986267,
          0.3026037812232971,
          0.29421567916870117,
          0.290283203125,
          0.2802726924419403,
          0.2724083364009857,
          0.2626430094242096,
          0.25248977541923523,
          0.2490019053220749,
          0.2102193981409073,
          0.20040105283260345
         ],
         "y": [
          0.7779067754745483,
          0.8431299328804016,
          0.8966376781463623,
          0.7341374158859253,
          0.7435448169708252,
          0.7237935066223145,
          0.8620348572731018,
          0.6939866542816162,
          0.9015253186225891,
          0.8801898956298828,
          0.8589451909065247,
          0.856415331363678,
          0.5512534379959106,
          0.9057398438453674,
          0.4944453239440918,
          0.4808717370033264,
          0.5147148966789246,
          0.5458022356033325,
          0.4142760634422302,
          0.3756336569786072,
          0.3626984655857086,
          0.36515748500823975,
          0.38076865673065186,
          0.37972816824913025,
          0.38436877727508545,
          0.36168187856674194,
          0.4823611378669739,
          0.34127184748649597,
          0.32084307074546814,
          0.30772972106933594,
          0.3925907611846924,
          0.32485634088516235,
          0.36816728115081787,
          0.3416541516780853,
          0.2537444531917572,
          0.2814860939979553,
          0.21159982681274414,
          0.25253936648368835
         ]
        },
        {
         "hoverinfo": "text",
         "hovertext": [
          "(0.9376565217971802, 1.6342737674713135)",
          "(0.8863930106163025, 0.890284538269043)"
         ],
         "mode": "markers",
         "name": "H2",
         "type": "scatter",
         "x": [
          0.9376565217971802,
          0.8863930106163025
         ],
         "y": [
          1.6342737674713135,
          0.890284538269043
         ]
        }
       ],
       "layout": {
        "height": 500,
        "plot_bgcolor": "white",
        "template": {
         "data": {
          "bar": [
           {
            "error_x": {
             "color": "#2a3f5f"
            },
            "error_y": {
             "color": "#2a3f5f"
            },
            "marker": {
             "line": {
              "color": "#E5ECF6",
              "width": 0.5
             },
             "pattern": {
              "fillmode": "overlay",
              "size": 10,
              "solidity": 0.2
             }
            },
            "type": "bar"
           }
          ],
          "barpolar": [
           {
            "marker": {
             "line": {
              "color": "#E5ECF6",
              "width": 0.5
             },
             "pattern": {
              "fillmode": "overlay",
              "size": 10,
              "solidity": 0.2
             }
            },
            "type": "barpolar"
           }
          ],
          "carpet": [
           {
            "aaxis": {
             "endlinecolor": "#2a3f5f",
             "gridcolor": "white",
             "linecolor": "white",
             "minorgridcolor": "white",
             "startlinecolor": "#2a3f5f"
            },
            "baxis": {
             "endlinecolor": "#2a3f5f",
             "gridcolor": "white",
             "linecolor": "white",
             "minorgridcolor": "white",
             "startlinecolor": "#2a3f5f"
            },
            "type": "carpet"
           }
          ],
          "choropleth": [
           {
            "colorbar": {
             "outlinewidth": 0,
             "ticks": ""
            },
            "type": "choropleth"
           }
          ],
          "contour": [
           {
            "colorbar": {
             "outlinewidth": 0,
             "ticks": ""
            },
            "colorscale": [
             [
              0,
              "#0d0887"
             ],
             [
              0.1111111111111111,
              "#46039f"
             ],
             [
              0.2222222222222222,
              "#7201a8"
             ],
             [
              0.3333333333333333,
              "#9c179e"
             ],
             [
              0.4444444444444444,
              "#bd3786"
             ],
             [
              0.5555555555555556,
              "#d8576b"
             ],
             [
              0.6666666666666666,
              "#ed7953"
             ],
             [
              0.7777777777777778,
              "#fb9f3a"
             ],
             [
              0.8888888888888888,
              "#fdca26"
             ],
             [
              1,
              "#f0f921"
             ]
            ],
            "type": "contour"
           }
          ],
          "contourcarpet": [
           {
            "colorbar": {
             "outlinewidth": 0,
             "ticks": ""
            },
            "type": "contourcarpet"
           }
          ],
          "heatmap": [
           {
            "colorbar": {
             "outlinewidth": 0,
             "ticks": ""
            },
            "colorscale": [
             [
              0,
              "#0d0887"
             ],
             [
              0.1111111111111111,
              "#46039f"
             ],
             [
              0.2222222222222222,
              "#7201a8"
             ],
             [
              0.3333333333333333,
              "#9c179e"
             ],
             [
              0.4444444444444444,
              "#bd3786"
             ],
             [
              0.5555555555555556,
              "#d8576b"
             ],
             [
              0.6666666666666666,
              "#ed7953"
             ],
             [
              0.7777777777777778,
              "#fb9f3a"
             ],
             [
              0.8888888888888888,
              "#fdca26"
             ],
             [
              1,
              "#f0f921"
             ]
            ],
            "type": "heatmap"
           }
          ],
          "heatmapgl": [
           {
            "colorbar": {
             "outlinewidth": 0,
             "ticks": ""
            },
            "colorscale": [
             [
              0,
              "#0d0887"
             ],
             [
              0.1111111111111111,
              "#46039f"
             ],
             [
              0.2222222222222222,
              "#7201a8"
             ],
             [
              0.3333333333333333,
              "#9c179e"
             ],
             [
              0.4444444444444444,
              "#bd3786"
             ],
             [
              0.5555555555555556,
              "#d8576b"
             ],
             [
              0.6666666666666666,
              "#ed7953"
             ],
             [
              0.7777777777777778,
              "#fb9f3a"
             ],
             [
              0.8888888888888888,
              "#fdca26"
             ],
             [
              1,
              "#f0f921"
             ]
            ],
            "type": "heatmapgl"
           }
          ],
          "histogram": [
           {
            "marker": {
             "pattern": {
              "fillmode": "overlay",
              "size": 10,
              "solidity": 0.2
             }
            },
            "type": "histogram"
           }
          ],
          "histogram2d": [
           {
            "colorbar": {
             "outlinewidth": 0,
             "ticks": ""
            },
            "colorscale": [
             [
              0,
              "#0d0887"
             ],
             [
              0.1111111111111111,
              "#46039f"
             ],
             [
              0.2222222222222222,
              "#7201a8"
             ],
             [
              0.3333333333333333,
              "#9c179e"
             ],
             [
              0.4444444444444444,
              "#bd3786"
             ],
             [
              0.5555555555555556,
              "#d8576b"
             ],
             [
              0.6666666666666666,
              "#ed7953"
             ],
             [
              0.7777777777777778,
              "#fb9f3a"
             ],
             [
              0.8888888888888888,
              "#fdca26"
             ],
             [
              1,
              "#f0f921"
             ]
            ],
            "type": "histogram2d"
           }
          ],
          "histogram2dcontour": [
           {
            "colorbar": {
             "outlinewidth": 0,
             "ticks": ""
            },
            "colorscale": [
             [
              0,
              "#0d0887"
             ],
             [
              0.1111111111111111,
              "#46039f"
             ],
             [
              0.2222222222222222,
              "#7201a8"
             ],
             [
              0.3333333333333333,
              "#9c179e"
             ],
             [
              0.4444444444444444,
              "#bd3786"
             ],
             [
              0.5555555555555556,
              "#d8576b"
             ],
             [
              0.6666666666666666,
              "#ed7953"
             ],
             [
              0.7777777777777778,
              "#fb9f3a"
             ],
             [
              0.8888888888888888,
              "#fdca26"
             ],
             [
              1,
              "#f0f921"
             ]
            ],
            "type": "histogram2dcontour"
           }
          ],
          "mesh3d": [
           {
            "colorbar": {
             "outlinewidth": 0,
             "ticks": ""
            },
            "type": "mesh3d"
           }
          ],
          "parcoords": [
           {
            "line": {
             "colorbar": {
              "outlinewidth": 0,
              "ticks": ""
             }
            },
            "type": "parcoords"
           }
          ],
          "pie": [
           {
            "automargin": true,
            "type": "pie"
           }
          ],
          "scatter": [
           {
            "fillpattern": {
             "fillmode": "overlay",
             "size": 10,
             "solidity": 0.2
            },
            "type": "scatter"
           }
          ],
          "scatter3d": [
           {
            "line": {
             "colorbar": {
              "outlinewidth": 0,
              "ticks": ""
             }
            },
            "marker": {
             "colorbar": {
              "outlinewidth": 0,
              "ticks": ""
             }
            },
            "type": "scatter3d"
           }
          ],
          "scattercarpet": [
           {
            "marker": {
             "colorbar": {
              "outlinewidth": 0,
              "ticks": ""
             }
            },
            "type": "scattercarpet"
           }
          ],
          "scattergeo": [
           {
            "marker": {
             "colorbar": {
              "outlinewidth": 0,
              "ticks": ""
             }
            },
            "type": "scattergeo"
           }
          ],
          "scattergl": [
           {
            "marker": {
             "colorbar": {
              "outlinewidth": 0,
              "ticks": ""
             }
            },
            "type": "scattergl"
           }
          ],
          "scattermapbox": [
           {
            "marker": {
             "colorbar": {
              "outlinewidth": 0,
              "ticks": ""
             }
            },
            "type": "scattermapbox"
           }
          ],
          "scatterpolar": [
           {
            "marker": {
             "colorbar": {
              "outlinewidth": 0,
              "ticks": ""
             }
            },
            "type": "scatterpolar"
           }
          ],
          "scatterpolargl": [
           {
            "marker": {
             "colorbar": {
              "outlinewidth": 0,
              "ticks": ""
             }
            },
            "type": "scatterpolargl"
           }
          ],
          "scatterternary": [
           {
            "marker": {
             "colorbar": {
              "outlinewidth": 0,
              "ticks": ""
             }
            },
            "type": "scatterternary"
           }
          ],
          "surface": [
           {
            "colorbar": {
             "outlinewidth": 0,
             "ticks": ""
            },
            "colorscale": [
             [
              0,
              "#0d0887"
             ],
             [
              0.1111111111111111,
              "#46039f"
             ],
             [
              0.2222222222222222,
              "#7201a8"
             ],
             [
              0.3333333333333333,
              "#9c179e"
             ],
             [
              0.4444444444444444,
              "#bd3786"
             ],
             [
              0.5555555555555556,
              "#d8576b"
             ],
             [
              0.6666666666666666,
              "#ed7953"
             ],
             [
              0.7777777777777778,
              "#fb9f3a"
             ],
             [
              0.8888888888888888,
              "#fdca26"
             ],
             [
              1,
              "#f0f921"
             ]
            ],
            "type": "surface"
           }
          ],
          "table": [
           {
            "cells": {
             "fill": {
              "color": "#EBF0F8"
             },
             "line": {
              "color": "white"
             }
            },
            "header": {
             "fill": {
              "color": "#C8D4E3"
             },
             "line": {
              "color": "white"
             }
            },
            "type": "table"
           }
          ]
         },
         "layout": {
          "annotationdefaults": {
           "arrowcolor": "#2a3f5f",
           "arrowhead": 0,
           "arrowwidth": 1
          },
          "autotypenumbers": "strict",
          "coloraxis": {
           "colorbar": {
            "outlinewidth": 0,
            "ticks": ""
           }
          },
          "colorscale": {
           "diverging": [
            [
             0,
             "#8e0152"
            ],
            [
             0.1,
             "#c51b7d"
            ],
            [
             0.2,
             "#de77ae"
            ],
            [
             0.3,
             "#f1b6da"
            ],
            [
             0.4,
             "#fde0ef"
            ],
            [
             0.5,
             "#f7f7f7"
            ],
            [
             0.6,
             "#e6f5d0"
            ],
            [
             0.7,
             "#b8e186"
            ],
            [
             0.8,
             "#7fbc41"
            ],
            [
             0.9,
             "#4d9221"
            ],
            [
             1,
             "#276419"
            ]
           ],
           "sequential": [
            [
             0,
             "#0d0887"
            ],
            [
             0.1111111111111111,
             "#46039f"
            ],
            [
             0.2222222222222222,
             "#7201a8"
            ],
            [
             0.3333333333333333,
             "#9c179e"
            ],
            [
             0.4444444444444444,
             "#bd3786"
            ],
            [
             0.5555555555555556,
             "#d8576b"
            ],
            [
             0.6666666666666666,
             "#ed7953"
            ],
            [
             0.7777777777777778,
             "#fb9f3a"
            ],
            [
             0.8888888888888888,
             "#fdca26"
            ],
            [
             1,
             "#f0f921"
            ]
           ],
           "sequentialminus": [
            [
             0,
             "#0d0887"
            ],
            [
             0.1111111111111111,
             "#46039f"
            ],
            [
             0.2222222222222222,
             "#7201a8"
            ],
            [
             0.3333333333333333,
             "#9c179e"
            ],
            [
             0.4444444444444444,
             "#bd3786"
            ],
            [
             0.5555555555555556,
             "#d8576b"
            ],
            [
             0.6666666666666666,
             "#ed7953"
            ],
            [
             0.7777777777777778,
             "#fb9f3a"
            ],
            [
             0.8888888888888888,
             "#fdca26"
            ],
            [
             1,
             "#f0f921"
            ]
           ]
          },
          "colorway": [
           "#636efa",
           "#EF553B",
           "#00cc96",
           "#ab63fa",
           "#FFA15A",
           "#19d3f3",
           "#FF6692",
           "#B6E880",
           "#FF97FF",
           "#FECB52"
          ],
          "font": {
           "color": "#2a3f5f"
          },
          "geo": {
           "bgcolor": "white",
           "lakecolor": "white",
           "landcolor": "#E5ECF6",
           "showlakes": true,
           "showland": true,
           "subunitcolor": "white"
          },
          "hoverlabel": {
           "align": "left"
          },
          "hovermode": "closest",
          "mapbox": {
           "style": "light"
          },
          "paper_bgcolor": "white",
          "plot_bgcolor": "#E5ECF6",
          "polar": {
           "angularaxis": {
            "gridcolor": "white",
            "linecolor": "white",
            "ticks": ""
           },
           "bgcolor": "#E5ECF6",
           "radialaxis": {
            "gridcolor": "white",
            "linecolor": "white",
            "ticks": ""
           }
          },
          "scene": {
           "xaxis": {
            "backgroundcolor": "#E5ECF6",
            "gridcolor": "white",
            "gridwidth": 2,
            "linecolor": "white",
            "showbackground": true,
            "ticks": "",
            "zerolinecolor": "white"
           },
           "yaxis": {
            "backgroundcolor": "#E5ECF6",
            "gridcolor": "white",
            "gridwidth": 2,
            "linecolor": "white",
            "showbackground": true,
            "ticks": "",
            "zerolinecolor": "white"
           },
           "zaxis": {
            "backgroundcolor": "#E5ECF6",
            "gridcolor": "white",
            "gridwidth": 2,
            "linecolor": "white",
            "showbackground": true,
            "ticks": "",
            "zerolinecolor": "white"
           }
          },
          "shapedefaults": {
           "line": {
            "color": "#2a3f5f"
           }
          },
          "ternary": {
           "aaxis": {
            "gridcolor": "white",
            "linecolor": "white",
            "ticks": ""
           },
           "baxis": {
            "gridcolor": "white",
            "linecolor": "white",
            "ticks": ""
           },
           "bgcolor": "#E5ECF6",
           "caxis": {
            "gridcolor": "white",
            "linecolor": "white",
            "ticks": ""
           }
          },
          "title": {
           "x": 0.05
          },
          "xaxis": {
           "automargin": true,
           "gridcolor": "white",
           "linecolor": "white",
           "ticks": "",
           "title": {
            "standoff": 15
           },
           "zerolinecolor": "white",
           "zerolinewidth": 2
          },
          "yaxis": {
           "automargin": true,
           "gridcolor": "white",
           "linecolor": "white",
           "ticks": "",
           "title": {
            "standoff": 15
           },
           "zerolinecolor": "white",
           "zerolinewidth": 2
          }
         }
        },
        "width": 500,
        "xaxis": {
         "autorange": false,
         "exponentformat": "e",
         "linecolor": "black",
         "linewidth": 1,
         "mirror": false,
         "range": [
          -0.03268547534942627,
          1.6669592428207398
         ],
         "showexponent": "all",
         "showline": true,
         "side": "bottom",
         "ticks": "outside",
         "title": {
          "text": "Birth"
         },
         "type": "linear",
         "zeroline": true
        },
        "yaxis": {
         "autorange": false,
         "exponentformat": "e",
         "linecolor": "black",
         "linewidth": 1,
         "mirror": false,
         "range": [
          -0.03268547534942627,
          1.6669592428207398
         ],
         "scaleanchor": "x",
         "scaleratio": 1,
         "showexponent": "all",
         "showline": true,
         "side": "left",
         "ticks": "outside",
         "title": {
          "text": "Death"
         },
         "type": "linear",
         "zeroline": true
        }
       }
      }
     },
     "metadata": {},
     "output_type": "display_data"
    }
   ],
   "source": [
    "plot_diagram(diagrams[11]).show()  # Sphere"
   ]
  },
  {
   "cell_type": "code",
   "execution_count": 114,
   "metadata": {
    "id": "iSOKelsWi2ei"
   },
   "outputs": [
    {
     "data": {
      "application/vnd.plotly.v1+json": {
       "config": {
        "plotlyServerURL": "https://plot.ly"
       },
       "data": [
        {
         "hoverinfo": "none",
         "line": {
          "color": "black",
          "dash": "dash",
          "width": 1
         },
         "mode": "lines",
         "showlegend": false,
         "type": "scatter",
         "x": [
          -0.04407638549804688,
          2.2478956604003906
         ],
         "y": [
          -0.04407638549804688,
          2.2478956604003906
         ]
        },
        {
         "hoverinfo": "text",
         "hovertext": [
          "(0.0, 0.22340920567512512)",
          "(0.0, 0.2256363332271576)",
          "(0.0, 0.23581071197986603)",
          "(0.0, 0.237679123878479)",
          "(0.0, 0.2394682765007019)",
          "(0.0, 0.24714446067810059)",
          "(0.0, 0.24735677242279053)",
          "(0.0, 0.24884247779846191)",
          "(0.0, 0.2504839599132538)",
          "(0.0, 0.2528880536556244)",
          "(0.0, 0.2539597153663635)",
          "(0.0, 0.2540660500526428)",
          "(0.0, 0.25523486733436584)",
          "(0.0, 0.25936946272850037)",
          "(0.0, 0.25953400135040283)",
          "(0.0, 0.26760557293891907)",
          "(0.0, 0.2736459970474243)",
          "(0.0, 0.27402007579803467)",
          "(0.0, 0.27861371636390686)",
          "(0.0, 0.2792882025241852)",
          "(0.0, 0.2833072245121002)",
          "(0.0, 0.2847065329551697)",
          "(0.0, 0.2921031415462494)",
          "(0.0, 0.29287105798721313)",
          "(0.0, 0.29693603515625)",
          "(0.0, 0.300059974193573)",
          "(0.0, 0.3011610805988312)",
          "(0.0, 0.3038746118545532)",
          "(0.0, 0.30431458353996277)",
          "(0.0, 0.30724796652793884)",
          "(0.0, 0.3080061674118042)",
          "(0.0, 0.30869534611701965)",
          "(0.0, 0.31258314847946167)",
          "(0.0, 0.31399303674697876)",
          "(0.0, 0.32171720266342163)",
          "(0.0, 0.3224664330482483)",
          "(0.0, 0.32894834876060486)",
          "(0.0, 0.32898852229118347)",
          "(0.0, 0.33121609687805176)",
          "(0.0, 0.3320735692977905)",
          "(0.0, 0.3350572884082794)",
          "(0.0, 0.3352311849594116)",
          "(0.0, 0.3442663550376892)",
          "(0.0, 0.3554868698120117)",
          "(0.0, 0.37067410349845886)",
          "(0.0, 0.4063131809234619)",
          "(0.0, 0.41454681754112244)",
          "(0.0, 0.4211965799331665)",
          "(0.0, 0.4217463731765747)",
          "(0.0, 0.4514736235141754)",
          "(0.0, 0.4618133008480072)",
          "(0.0, 0.5163015127182007)",
          "(0.0, 0.576200008392334)",
          "(0.0, 0.6192527413368225)",
          "(0.0, 0.6328340172767639)",
          "(0.0, 0.6428869366645813)",
          "(0.0, 0.6461467146873474)",
          "(0.0, 0.6472119092941284)",
          "(0.0, 0.6580957770347595)",
          "(0.0, 0.6620233058929443)",
          "(0.0, 0.6620727181434631)",
          "(0.0, 0.6665197014808655)",
          "(0.0, 0.6700844764709473)",
          "(0.0, 0.6715728044509888)",
          "(0.0, 0.6776161789894104)",
          "(0.0, 0.6784207224845886)",
          "(0.0, 0.6840416789054871)",
          "(0.0, 0.6869303584098816)",
          "(0.0, 0.6939361691474915)",
          "(0.0, 0.6964510679244995)",
          "(0.0, 0.7005142569541931)",
          "(0.0, 0.7012025117874146)",
          "(0.0, 0.7013061046600342)",
          "(0.0, 0.7064525485038757)",
          "(0.0, 0.713472306728363)",
          "(0.0, 0.7185765504837036)",
          "(0.0, 0.7326448559761047)",
          "(0.0, 0.7401717901229858)",
          "(0.0, 0.7403731942176819)",
          "(0.0, 0.7405133843421936)",
          "(0.0, 0.7411849498748779)",
          "(0.0, 0.7429042458534241)",
          "(0.0, 0.7479677796363831)",
          "(0.0, 0.7522777915000916)",
          "(0.0, 0.7707003355026245)",
          "(0.0, 0.8745801448822021)",
          "(0.0, 0.8895692825317383)",
          "(0.0, 0.892633855342865)",
          "(0.0, 0.8968190550804138)",
          "(0.0, 0.8984712362289429)",
          "(0.0, 0.8988463878631592)",
          "(0.0, 0.912650465965271)",
          "(0.0, 0.9288083910942078)",
          "(0.0, 0.929020881652832)",
          "(0.0, 0.9292941689491272)",
          "(0.0, 0.9300048351287842)",
          "(0.0, 0.9344145655632019)",
          "(0.0, 0.9446990489959717)",
          "(0.0, 1.013458013534546)"
         ],
         "mode": "markers",
         "name": "H0",
         "type": "scatter",
         "x": [
          0,
          0,
          0,
          0,
          0,
          0,
          0,
          0,
          0,
          0,
          0,
          0,
          0,
          0,
          0,
          0,
          0,
          0,
          0,
          0,
          0,
          0,
          0,
          0,
          0,
          0,
          0,
          0,
          0,
          0,
          0,
          0,
          0,
          0,
          0,
          0,
          0,
          0,
          0,
          0,
          0,
          0,
          0,
          0,
          0,
          0,
          0,
          0,
          0,
          0,
          0,
          0,
          0,
          0,
          0,
          0,
          0,
          0,
          0,
          0,
          0,
          0,
          0,
          0,
          0,
          0,
          0,
          0,
          0,
          0,
          0,
          0,
          0,
          0,
          0,
          0,
          0,
          0,
          0,
          0,
          0,
          0,
          0,
          0,
          0,
          0,
          0,
          0,
          0,
          0,
          0,
          0,
          0,
          0,
          0,
          0,
          0,
          0,
          0
         ],
         "y": [
          0.22340920567512512,
          0.2256363332271576,
          0.23581071197986603,
          0.237679123878479,
          0.2394682765007019,
          0.24714446067810059,
          0.24735677242279053,
          0.24884247779846191,
          0.2504839599132538,
          0.2528880536556244,
          0.2539597153663635,
          0.2540660500526428,
          0.25523486733436584,
          0.25936946272850037,
          0.25953400135040283,
          0.26760557293891907,
          0.2736459970474243,
          0.27402007579803467,
          0.27861371636390686,
          0.2792882025241852,
          0.2833072245121002,
          0.2847065329551697,
          0.2921031415462494,
          0.29287105798721313,
          0.29693603515625,
          0.300059974193573,
          0.3011610805988312,
          0.3038746118545532,
          0.30431458353996277,
          0.30724796652793884,
          0.3080061674118042,
          0.30869534611701965,
          0.31258314847946167,
          0.31399303674697876,
          0.32171720266342163,
          0.3224664330482483,
          0.32894834876060486,
          0.32898852229118347,
          0.33121609687805176,
          0.3320735692977905,
          0.3350572884082794,
          0.3352311849594116,
          0.3442663550376892,
          0.3554868698120117,
          0.37067410349845886,
          0.4063131809234619,
          0.41454681754112244,
          0.4211965799331665,
          0.4217463731765747,
          0.4514736235141754,
          0.4618133008480072,
          0.5163015127182007,
          0.576200008392334,
          0.6192527413368225,
          0.6328340172767639,
          0.6428869366645813,
          0.6461467146873474,
          0.6472119092941284,
          0.6580957770347595,
          0.6620233058929443,
          0.6620727181434631,
          0.6665197014808655,
          0.6700844764709473,
          0.6715728044509888,
          0.6776161789894104,
          0.6784207224845886,
          0.6840416789054871,
          0.6869303584098816,
          0.6939361691474915,
          0.6964510679244995,
          0.7005142569541931,
          0.7012025117874146,
          0.7013061046600342,
          0.7064525485038757,
          0.713472306728363,
          0.7185765504837036,
          0.7326448559761047,
          0.7401717901229858,
          0.7403731942176819,
          0.7405133843421936,
          0.7411849498748779,
          0.7429042458534241,
          0.7479677796363831,
          0.7522777915000916,
          0.7707003355026245,
          0.8745801448822021,
          0.8895692825317383,
          0.892633855342865,
          0.8968190550804138,
          0.8984712362289429,
          0.8988463878631592,
          0.912650465965271,
          0.9288083910942078,
          0.929020881652832,
          0.9292941689491272,
          0.9300048351287842,
          0.9344145655632019,
          0.9446990489959717,
          1.013458013534546
         ]
        },
        {
         "hoverinfo": "text",
         "hovertext": [
          "(2.0410921573638916, 2.0516796112060547)",
          "(1.3852382898330688, 1.4976747035980225)",
          "(1.307468295097351, 1.4957122802734375)",
          "(1.2791204452514648, 1.4107232093811035)",
          "(1.1272250413894653, 1.1536178588867188)",
          "(1.111196517944336, 1.1268250942230225)",
          "(1.037266492843628, 1.7781291007995605)",
          "(1.0215508937835693, 1.7878700494766235)",
          "(1.0078893899917603, 1.0394800901412964)",
          "(0.9976914525032043, 0.9984110593795776)",
          "(0.9949207305908203, 1.0310455560684204)",
          "(0.9913467764854431, 1.1024833917617798)",
          "(0.9865350723266602, 1.0444170236587524)",
          "(0.9854573607444763, 1.163732647895813)",
          "(0.983741283416748, 1.1268291473388672)",
          "(0.9788129329681396, 1.2175896167755127)",
          "(0.9766953587532043, 1.1884812116622925)",
          "(0.9737405180931091, 1.1398197412490845)",
          "(0.9702622294425964, 1.7586005926132202)",
          "(0.9612011909484863, 1.780116081237793)",
          "(0.9587055444717407, 0.9938241243362427)",
          "(0.9558703899383545, 1.7555538415908813)",
          "(0.9558098912239075, 1.738605260848999)",
          "(0.9493954181671143, 0.9657750725746155)",
          "(0.9419194459915161, 1.2025574445724487)",
          "(0.9400507211685181, 1.2400472164154053)",
          "(0.9184532165527344, 1.0270601511001587)",
          "(0.9155857563018799, 1.7374521493911743)",
          "(0.8468310832977295, 0.862234354019165)",
          "(0.8380721807479858, 1.048698902130127)",
          "(0.8045093417167664, 1.080104947090149)",
          "(0.7924680113792419, 1.1082552671432495)",
          "(0.7914584279060364, 0.8225630521774292)",
          "(0.7813387513160706, 1.0480409860610962)",
          "(0.780154287815094, 0.8885934948921204)",
          "(0.7609173655509949, 0.9304131865501404)",
          "(0.7522099614143372, 0.8027092814445496)",
          "(0.7513819336891174, 0.7956841588020325)",
          "(0.7506102919578552, 0.9161366820335388)",
          "(0.7460691928863525, 0.9093811511993408)",
          "(0.7420604228973389, 0.8041906952857971)",
          "(0.7245422005653381, 0.7540140748023987)",
          "(0.7018746137619019, 0.7657132744789124)",
          "(0.6905897259712219, 0.7486573457717896)",
          "(0.5419936180114746, 0.550657331943512)",
          "(0.517540693283081, 0.5709449648857117)",
          "(0.51109778881073, 0.5339269042015076)",
          "(0.37328314781188965, 0.43559399247169495)",
          "(0.3543447256088257, 0.4299119710922241)",
          "(0.33758407831192017, 0.4174671173095703)",
          "(0.332904577255249, 0.3933136463165283)"
         ],
         "mode": "markers",
         "name": "H1",
         "type": "scatter",
         "x": [
          2.0410921573638916,
          1.3852382898330688,
          1.307468295097351,
          1.2791204452514648,
          1.1272250413894653,
          1.111196517944336,
          1.037266492843628,
          1.0215508937835693,
          1.0078893899917603,
          0.9976914525032043,
          0.9949207305908203,
          0.9913467764854431,
          0.9865350723266602,
          0.9854573607444763,
          0.983741283416748,
          0.9788129329681396,
          0.9766953587532043,
          0.9737405180931091,
          0.9702622294425964,
          0.9612011909484863,
          0.9587055444717407,
          0.9558703899383545,
          0.9558098912239075,
          0.9493954181671143,
          0.9419194459915161,
          0.9400507211685181,
          0.9184532165527344,
          0.9155857563018799,
          0.8468310832977295,
          0.8380721807479858,
          0.8045093417167664,
          0.7924680113792419,
          0.7914584279060364,
          0.7813387513160706,
          0.780154287815094,
          0.7609173655509949,
          0.7522099614143372,
          0.7513819336891174,
          0.7506102919578552,
          0.7460691928863525,
          0.7420604228973389,
          0.7245422005653381,
          0.7018746137619019,
          0.6905897259712219,
          0.5419936180114746,
          0.517540693283081,
          0.51109778881073,
          0.37328314781188965,
          0.3543447256088257,
          0.33758407831192017,
          0.332904577255249
         ],
         "y": [
          2.0516796112060547,
          1.4976747035980225,
          1.4957122802734375,
          1.4107232093811035,
          1.1536178588867188,
          1.1268250942230225,
          1.7781291007995605,
          1.7878700494766235,
          1.0394800901412964,
          0.9984110593795776,
          1.0310455560684204,
          1.1024833917617798,
          1.0444170236587524,
          1.163732647895813,
          1.1268291473388672,
          1.2175896167755127,
          1.1884812116622925,
          1.1398197412490845,
          1.7586005926132202,
          1.780116081237793,
          0.9938241243362427,
          1.7555538415908813,
          1.738605260848999,
          0.9657750725746155,
          1.2025574445724487,
          1.2400472164154053,
          1.0270601511001587,
          1.7374521493911743,
          0.862234354019165,
          1.048698902130127,
          1.080104947090149,
          1.1082552671432495,
          0.8225630521774292,
          1.0480409860610962,
          0.8885934948921204,
          0.9304131865501404,
          0.8027092814445496,
          0.7956841588020325,
          0.9161366820335388,
          0.9093811511993408,
          0.8041906952857971,
          0.7540140748023987,
          0.7657132744789124,
          0.7486573457717896,
          0.550657331943512,
          0.5709449648857117,
          0.5339269042015076,
          0.43559399247169495,
          0.4299119710922241,
          0.4174671173095703,
          0.3933136463165283
         ]
        },
        {
         "hoverinfo": "text",
         "hovertext": [
          "(2.115757703781128, 2.2038192749023438)",
          "(2.0738909244537354, 2.1859254837036133)",
          "(2.0701329708099365, 2.1213278770446777)",
          "(1.8619016408920288, 1.965686559677124)",
          "(1.8159669637680054, 1.9467262029647827)",
          "(1.797352910041809, 1.8714123964309692)",
          "(1.7836676836013794, 1.93424391746521)",
          "(1.7770713567733765, 1.8869441747665405)",
          "(1.7754623889923096, 1.7882444858551025)",
          "(1.7673485279083252, 1.9050372838974)",
          "(1.7660443782806396, 1.9287546873092651)",
          "(1.7522810697555542, 1.778512716293335)",
          "(1.7446110248565674, 1.8857667446136475)"
         ],
         "mode": "markers",
         "name": "H2",
         "type": "scatter",
         "x": [
          2.115757703781128,
          2.0738909244537354,
          2.0701329708099365,
          1.8619016408920288,
          1.8159669637680054,
          1.797352910041809,
          1.7836676836013794,
          1.7770713567733765,
          1.7754623889923096,
          1.7673485279083252,
          1.7660443782806396,
          1.7522810697555542,
          1.7446110248565674
         ],
         "y": [
          2.2038192749023438,
          2.1859254837036133,
          2.1213278770446777,
          1.965686559677124,
          1.9467262029647827,
          1.8714123964309692,
          1.93424391746521,
          1.8869441747665405,
          1.7882444858551025,
          1.9050372838974,
          1.9287546873092651,
          1.778512716293335,
          1.8857667446136475
         ]
        }
       ],
       "layout": {
        "height": 500,
        "plot_bgcolor": "white",
        "template": {
         "data": {
          "bar": [
           {
            "error_x": {
             "color": "#2a3f5f"
            },
            "error_y": {
             "color": "#2a3f5f"
            },
            "marker": {
             "line": {
              "color": "#E5ECF6",
              "width": 0.5
             },
             "pattern": {
              "fillmode": "overlay",
              "size": 10,
              "solidity": 0.2
             }
            },
            "type": "bar"
           }
          ],
          "barpolar": [
           {
            "marker": {
             "line": {
              "color": "#E5ECF6",
              "width": 0.5
             },
             "pattern": {
              "fillmode": "overlay",
              "size": 10,
              "solidity": 0.2
             }
            },
            "type": "barpolar"
           }
          ],
          "carpet": [
           {
            "aaxis": {
             "endlinecolor": "#2a3f5f",
             "gridcolor": "white",
             "linecolor": "white",
             "minorgridcolor": "white",
             "startlinecolor": "#2a3f5f"
            },
            "baxis": {
             "endlinecolor": "#2a3f5f",
             "gridcolor": "white",
             "linecolor": "white",
             "minorgridcolor": "white",
             "startlinecolor": "#2a3f5f"
            },
            "type": "carpet"
           }
          ],
          "choropleth": [
           {
            "colorbar": {
             "outlinewidth": 0,
             "ticks": ""
            },
            "type": "choropleth"
           }
          ],
          "contour": [
           {
            "colorbar": {
             "outlinewidth": 0,
             "ticks": ""
            },
            "colorscale": [
             [
              0,
              "#0d0887"
             ],
             [
              0.1111111111111111,
              "#46039f"
             ],
             [
              0.2222222222222222,
              "#7201a8"
             ],
             [
              0.3333333333333333,
              "#9c179e"
             ],
             [
              0.4444444444444444,
              "#bd3786"
             ],
             [
              0.5555555555555556,
              "#d8576b"
             ],
             [
              0.6666666666666666,
              "#ed7953"
             ],
             [
              0.7777777777777778,
              "#fb9f3a"
             ],
             [
              0.8888888888888888,
              "#fdca26"
             ],
             [
              1,
              "#f0f921"
             ]
            ],
            "type": "contour"
           }
          ],
          "contourcarpet": [
           {
            "colorbar": {
             "outlinewidth": 0,
             "ticks": ""
            },
            "type": "contourcarpet"
           }
          ],
          "heatmap": [
           {
            "colorbar": {
             "outlinewidth": 0,
             "ticks": ""
            },
            "colorscale": [
             [
              0,
              "#0d0887"
             ],
             [
              0.1111111111111111,
              "#46039f"
             ],
             [
              0.2222222222222222,
              "#7201a8"
             ],
             [
              0.3333333333333333,
              "#9c179e"
             ],
             [
              0.4444444444444444,
              "#bd3786"
             ],
             [
              0.5555555555555556,
              "#d8576b"
             ],
             [
              0.6666666666666666,
              "#ed7953"
             ],
             [
              0.7777777777777778,
              "#fb9f3a"
             ],
             [
              0.8888888888888888,
              "#fdca26"
             ],
             [
              1,
              "#f0f921"
             ]
            ],
            "type": "heatmap"
           }
          ],
          "heatmapgl": [
           {
            "colorbar": {
             "outlinewidth": 0,
             "ticks": ""
            },
            "colorscale": [
             [
              0,
              "#0d0887"
             ],
             [
              0.1111111111111111,
              "#46039f"
             ],
             [
              0.2222222222222222,
              "#7201a8"
             ],
             [
              0.3333333333333333,
              "#9c179e"
             ],
             [
              0.4444444444444444,
              "#bd3786"
             ],
             [
              0.5555555555555556,
              "#d8576b"
             ],
             [
              0.6666666666666666,
              "#ed7953"
             ],
             [
              0.7777777777777778,
              "#fb9f3a"
             ],
             [
              0.8888888888888888,
              "#fdca26"
             ],
             [
              1,
              "#f0f921"
             ]
            ],
            "type": "heatmapgl"
           }
          ],
          "histogram": [
           {
            "marker": {
             "pattern": {
              "fillmode": "overlay",
              "size": 10,
              "solidity": 0.2
             }
            },
            "type": "histogram"
           }
          ],
          "histogram2d": [
           {
            "colorbar": {
             "outlinewidth": 0,
             "ticks": ""
            },
            "colorscale": [
             [
              0,
              "#0d0887"
             ],
             [
              0.1111111111111111,
              "#46039f"
             ],
             [
              0.2222222222222222,
              "#7201a8"
             ],
             [
              0.3333333333333333,
              "#9c179e"
             ],
             [
              0.4444444444444444,
              "#bd3786"
             ],
             [
              0.5555555555555556,
              "#d8576b"
             ],
             [
              0.6666666666666666,
              "#ed7953"
             ],
             [
              0.7777777777777778,
              "#fb9f3a"
             ],
             [
              0.8888888888888888,
              "#fdca26"
             ],
             [
              1,
              "#f0f921"
             ]
            ],
            "type": "histogram2d"
           }
          ],
          "histogram2dcontour": [
           {
            "colorbar": {
             "outlinewidth": 0,
             "ticks": ""
            },
            "colorscale": [
             [
              0,
              "#0d0887"
             ],
             [
              0.1111111111111111,
              "#46039f"
             ],
             [
              0.2222222222222222,
              "#7201a8"
             ],
             [
              0.3333333333333333,
              "#9c179e"
             ],
             [
              0.4444444444444444,
              "#bd3786"
             ],
             [
              0.5555555555555556,
              "#d8576b"
             ],
             [
              0.6666666666666666,
              "#ed7953"
             ],
             [
              0.7777777777777778,
              "#fb9f3a"
             ],
             [
              0.8888888888888888,
              "#fdca26"
             ],
             [
              1,
              "#f0f921"
             ]
            ],
            "type": "histogram2dcontour"
           }
          ],
          "mesh3d": [
           {
            "colorbar": {
             "outlinewidth": 0,
             "ticks": ""
            },
            "type": "mesh3d"
           }
          ],
          "parcoords": [
           {
            "line": {
             "colorbar": {
              "outlinewidth": 0,
              "ticks": ""
             }
            },
            "type": "parcoords"
           }
          ],
          "pie": [
           {
            "automargin": true,
            "type": "pie"
           }
          ],
          "scatter": [
           {
            "fillpattern": {
             "fillmode": "overlay",
             "size": 10,
             "solidity": 0.2
            },
            "type": "scatter"
           }
          ],
          "scatter3d": [
           {
            "line": {
             "colorbar": {
              "outlinewidth": 0,
              "ticks": ""
             }
            },
            "marker": {
             "colorbar": {
              "outlinewidth": 0,
              "ticks": ""
             }
            },
            "type": "scatter3d"
           }
          ],
          "scattercarpet": [
           {
            "marker": {
             "colorbar": {
              "outlinewidth": 0,
              "ticks": ""
             }
            },
            "type": "scattercarpet"
           }
          ],
          "scattergeo": [
           {
            "marker": {
             "colorbar": {
              "outlinewidth": 0,
              "ticks": ""
             }
            },
            "type": "scattergeo"
           }
          ],
          "scattergl": [
           {
            "marker": {
             "colorbar": {
              "outlinewidth": 0,
              "ticks": ""
             }
            },
            "type": "scattergl"
           }
          ],
          "scattermapbox": [
           {
            "marker": {
             "colorbar": {
              "outlinewidth": 0,
              "ticks": ""
             }
            },
            "type": "scattermapbox"
           }
          ],
          "scatterpolar": [
           {
            "marker": {
             "colorbar": {
              "outlinewidth": 0,
              "ticks": ""
             }
            },
            "type": "scatterpolar"
           }
          ],
          "scatterpolargl": [
           {
            "marker": {
             "colorbar": {
              "outlinewidth": 0,
              "ticks": ""
             }
            },
            "type": "scatterpolargl"
           }
          ],
          "scatterternary": [
           {
            "marker": {
             "colorbar": {
              "outlinewidth": 0,
              "ticks": ""
             }
            },
            "type": "scatterternary"
           }
          ],
          "surface": [
           {
            "colorbar": {
             "outlinewidth": 0,
             "ticks": ""
            },
            "colorscale": [
             [
              0,
              "#0d0887"
             ],
             [
              0.1111111111111111,
              "#46039f"
             ],
             [
              0.2222222222222222,
              "#7201a8"
             ],
             [
              0.3333333333333333,
              "#9c179e"
             ],
             [
              0.4444444444444444,
              "#bd3786"
             ],
             [
              0.5555555555555556,
              "#d8576b"
             ],
             [
              0.6666666666666666,
              "#ed7953"
             ],
             [
              0.7777777777777778,
              "#fb9f3a"
             ],
             [
              0.8888888888888888,
              "#fdca26"
             ],
             [
              1,
              "#f0f921"
             ]
            ],
            "type": "surface"
           }
          ],
          "table": [
           {
            "cells": {
             "fill": {
              "color": "#EBF0F8"
             },
             "line": {
              "color": "white"
             }
            },
            "header": {
             "fill": {
              "color": "#C8D4E3"
             },
             "line": {
              "color": "white"
             }
            },
            "type": "table"
           }
          ]
         },
         "layout": {
          "annotationdefaults": {
           "arrowcolor": "#2a3f5f",
           "arrowhead": 0,
           "arrowwidth": 1
          },
          "autotypenumbers": "strict",
          "coloraxis": {
           "colorbar": {
            "outlinewidth": 0,
            "ticks": ""
           }
          },
          "colorscale": {
           "diverging": [
            [
             0,
             "#8e0152"
            ],
            [
             0.1,
             "#c51b7d"
            ],
            [
             0.2,
             "#de77ae"
            ],
            [
             0.3,
             "#f1b6da"
            ],
            [
             0.4,
             "#fde0ef"
            ],
            [
             0.5,
             "#f7f7f7"
            ],
            [
             0.6,
             "#e6f5d0"
            ],
            [
             0.7,
             "#b8e186"
            ],
            [
             0.8,
             "#7fbc41"
            ],
            [
             0.9,
             "#4d9221"
            ],
            [
             1,
             "#276419"
            ]
           ],
           "sequential": [
            [
             0,
             "#0d0887"
            ],
            [
             0.1111111111111111,
             "#46039f"
            ],
            [
             0.2222222222222222,
             "#7201a8"
            ],
            [
             0.3333333333333333,
             "#9c179e"
            ],
            [
             0.4444444444444444,
             "#bd3786"
            ],
            [
             0.5555555555555556,
             "#d8576b"
            ],
            [
             0.6666666666666666,
             "#ed7953"
            ],
            [
             0.7777777777777778,
             "#fb9f3a"
            ],
            [
             0.8888888888888888,
             "#fdca26"
            ],
            [
             1,
             "#f0f921"
            ]
           ],
           "sequentialminus": [
            [
             0,
             "#0d0887"
            ],
            [
             0.1111111111111111,
             "#46039f"
            ],
            [
             0.2222222222222222,
             "#7201a8"
            ],
            [
             0.3333333333333333,
             "#9c179e"
            ],
            [
             0.4444444444444444,
             "#bd3786"
            ],
            [
             0.5555555555555556,
             "#d8576b"
            ],
            [
             0.6666666666666666,
             "#ed7953"
            ],
            [
             0.7777777777777778,
             "#fb9f3a"
            ],
            [
             0.8888888888888888,
             "#fdca26"
            ],
            [
             1,
             "#f0f921"
            ]
           ]
          },
          "colorway": [
           "#636efa",
           "#EF553B",
           "#00cc96",
           "#ab63fa",
           "#FFA15A",
           "#19d3f3",
           "#FF6692",
           "#B6E880",
           "#FF97FF",
           "#FECB52"
          ],
          "font": {
           "color": "#2a3f5f"
          },
          "geo": {
           "bgcolor": "white",
           "lakecolor": "white",
           "landcolor": "#E5ECF6",
           "showlakes": true,
           "showland": true,
           "subunitcolor": "white"
          },
          "hoverlabel": {
           "align": "left"
          },
          "hovermode": "closest",
          "mapbox": {
           "style": "light"
          },
          "paper_bgcolor": "white",
          "plot_bgcolor": "#E5ECF6",
          "polar": {
           "angularaxis": {
            "gridcolor": "white",
            "linecolor": "white",
            "ticks": ""
           },
           "bgcolor": "#E5ECF6",
           "radialaxis": {
            "gridcolor": "white",
            "linecolor": "white",
            "ticks": ""
           }
          },
          "scene": {
           "xaxis": {
            "backgroundcolor": "#E5ECF6",
            "gridcolor": "white",
            "gridwidth": 2,
            "linecolor": "white",
            "showbackground": true,
            "ticks": "",
            "zerolinecolor": "white"
           },
           "yaxis": {
            "backgroundcolor": "#E5ECF6",
            "gridcolor": "white",
            "gridwidth": 2,
            "linecolor": "white",
            "showbackground": true,
            "ticks": "",
            "zerolinecolor": "white"
           },
           "zaxis": {
            "backgroundcolor": "#E5ECF6",
            "gridcolor": "white",
            "gridwidth": 2,
            "linecolor": "white",
            "showbackground": true,
            "ticks": "",
            "zerolinecolor": "white"
           }
          },
          "shapedefaults": {
           "line": {
            "color": "#2a3f5f"
           }
          },
          "ternary": {
           "aaxis": {
            "gridcolor": "white",
            "linecolor": "white",
            "ticks": ""
           },
           "baxis": {
            "gridcolor": "white",
            "linecolor": "white",
            "ticks": ""
           },
           "bgcolor": "#E5ECF6",
           "caxis": {
            "gridcolor": "white",
            "linecolor": "white",
            "ticks": ""
           }
          },
          "title": {
           "x": 0.05
          },
          "xaxis": {
           "automargin": true,
           "gridcolor": "white",
           "linecolor": "white",
           "ticks": "",
           "title": {
            "standoff": 15
           },
           "zerolinecolor": "white",
           "zerolinewidth": 2
          },
          "yaxis": {
           "automargin": true,
           "gridcolor": "white",
           "linecolor": "white",
           "ticks": "",
           "title": {
            "standoff": 15
           },
           "zerolinecolor": "white",
           "zerolinewidth": 2
          }
         }
        },
        "width": 500,
        "xaxis": {
         "autorange": false,
         "exponentformat": "e",
         "linecolor": "black",
         "linewidth": 1,
         "mirror": false,
         "range": [
          -0.04407638549804688,
          2.2478956604003906
         ],
         "showexponent": "all",
         "showline": true,
         "side": "bottom",
         "ticks": "outside",
         "title": {
          "text": "Birth"
         },
         "type": "linear",
         "zeroline": true
        },
        "yaxis": {
         "autorange": false,
         "exponentformat": "e",
         "linecolor": "black",
         "linewidth": 1,
         "mirror": false,
         "range": [
          -0.04407638549804688,
          2.2478956604003906
         ],
         "scaleanchor": "x",
         "scaleratio": 1,
         "showexponent": "all",
         "showline": true,
         "side": "left",
         "ticks": "outside",
         "title": {
          "text": "Death"
         },
         "type": "linear",
         "zeroline": true
        }
       }
      }
     },
     "metadata": {},
     "output_type": "display_data"
    }
   ],
   "source": [
    "plot_diagram(diagrams[20]).show() # Torus"
   ]
  },
  {
   "cell_type": "code",
   "execution_count": 115,
   "metadata": {
    "id": "luYxjYWIi4zj"
   },
   "outputs": [
    {
     "data": {
      "application/vnd.plotly.v1+json": {
       "config": {
        "plotlyServerURL": "https://plot.ly"
       },
       "data": [
        {
         "hoverinfo": "none",
         "line": {
          "color": "black",
          "dash": "dash",
          "width": 1
         },
         "mode": "lines",
         "showlegend": false,
         "type": "scatter",
         "x": [
          -0.01662958860397339,
          0.8481090188026428
         ],
         "y": [
          -0.01662958860397339,
          0.8481090188026428
         ]
        },
        {
         "hoverinfo": "text",
         "hovertext": [
          "(0.0, 0.31426969170570374), multiplicity: 90",
          "(0.0, 0.31426969170570374), multiplicity: 90",
          "(0.0, 0.31426969170570374), multiplicity: 90",
          "(0.0, 0.31426969170570374), multiplicity: 90",
          "(0.0, 0.31426969170570374), multiplicity: 90",
          "(0.0, 0.31426969170570374), multiplicity: 90",
          "(0.0, 0.31426969170570374), multiplicity: 90",
          "(0.0, 0.31426969170570374), multiplicity: 90",
          "(0.0, 0.31426969170570374), multiplicity: 90",
          "(0.0, 0.31426969170570374), multiplicity: 90",
          "(0.0, 0.31426969170570374), multiplicity: 90",
          "(0.0, 0.31426969170570374), multiplicity: 90",
          "(0.0, 0.31426969170570374), multiplicity: 90",
          "(0.0, 0.31426969170570374), multiplicity: 90",
          "(0.0, 0.31426969170570374), multiplicity: 90",
          "(0.0, 0.31426969170570374), multiplicity: 90",
          "(0.0, 0.31426969170570374), multiplicity: 90",
          "(0.0, 0.31426969170570374), multiplicity: 90",
          "(0.0, 0.31426969170570374), multiplicity: 90",
          "(0.0, 0.31426969170570374), multiplicity: 90",
          "(0.0, 0.31426969170570374), multiplicity: 90",
          "(0.0, 0.31426969170570374), multiplicity: 90",
          "(0.0, 0.31426969170570374), multiplicity: 90",
          "(0.0, 0.31426969170570374), multiplicity: 90",
          "(0.0, 0.31426969170570374), multiplicity: 90",
          "(0.0, 0.31426969170570374), multiplicity: 90",
          "(0.0, 0.31426969170570374), multiplicity: 90",
          "(0.0, 0.31426969170570374), multiplicity: 90",
          "(0.0, 0.31426969170570374), multiplicity: 90",
          "(0.0, 0.31426969170570374), multiplicity: 90",
          "(0.0, 0.31426969170570374), multiplicity: 90",
          "(0.0, 0.31426969170570374), multiplicity: 90",
          "(0.0, 0.31426969170570374), multiplicity: 90",
          "(0.0, 0.31426969170570374), multiplicity: 90",
          "(0.0, 0.31426969170570374), multiplicity: 90",
          "(0.0, 0.31426969170570374), multiplicity: 90",
          "(0.0, 0.31426969170570374), multiplicity: 90",
          "(0.0, 0.31426969170570374), multiplicity: 90",
          "(0.0, 0.31426969170570374), multiplicity: 90",
          "(0.0, 0.31426969170570374), multiplicity: 90",
          "(0.0, 0.31426969170570374), multiplicity: 90",
          "(0.0, 0.31426969170570374), multiplicity: 90",
          "(0.0, 0.31426969170570374), multiplicity: 90",
          "(0.0, 0.31426969170570374), multiplicity: 90",
          "(0.0, 0.31426969170570374), multiplicity: 90",
          "(0.0, 0.31426969170570374), multiplicity: 90",
          "(0.0, 0.31426969170570374), multiplicity: 90",
          "(0.0, 0.31426969170570374), multiplicity: 90",
          "(0.0, 0.31426969170570374), multiplicity: 90",
          "(0.0, 0.31426969170570374), multiplicity: 90",
          "(0.0, 0.31426969170570374), multiplicity: 90",
          "(0.0, 0.31426969170570374), multiplicity: 90",
          "(0.0, 0.31426969170570374), multiplicity: 90",
          "(0.0, 0.31426969170570374), multiplicity: 90",
          "(0.0, 0.31426969170570374), multiplicity: 90",
          "(0.0, 0.31426969170570374), multiplicity: 90",
          "(0.0, 0.31426969170570374), multiplicity: 90",
          "(0.0, 0.31426969170570374), multiplicity: 90",
          "(0.0, 0.31426969170570374), multiplicity: 90",
          "(0.0, 0.31426969170570374), multiplicity: 90",
          "(0.0, 0.31426969170570374), multiplicity: 90",
          "(0.0, 0.31426969170570374), multiplicity: 90",
          "(0.0, 0.31426969170570374), multiplicity: 90",
          "(0.0, 0.31426969170570374), multiplicity: 90",
          "(0.0, 0.31426969170570374), multiplicity: 90",
          "(0.0, 0.31426969170570374), multiplicity: 90",
          "(0.0, 0.31426969170570374), multiplicity: 90",
          "(0.0, 0.31426969170570374), multiplicity: 90",
          "(0.0, 0.31426969170570374), multiplicity: 90",
          "(0.0, 0.31426969170570374), multiplicity: 90",
          "(0.0, 0.31426969170570374), multiplicity: 90",
          "(0.0, 0.31426969170570374), multiplicity: 90",
          "(0.0, 0.31426969170570374), multiplicity: 90",
          "(0.0, 0.31426969170570374), multiplicity: 90",
          "(0.0, 0.31426969170570374), multiplicity: 90",
          "(0.0, 0.31426969170570374), multiplicity: 90",
          "(0.0, 0.31426969170570374), multiplicity: 90",
          "(0.0, 0.31426969170570374), multiplicity: 90",
          "(0.0, 0.31426969170570374), multiplicity: 90",
          "(0.0, 0.31426969170570374), multiplicity: 90",
          "(0.0, 0.31426969170570374), multiplicity: 90",
          "(0.0, 0.31426969170570374), multiplicity: 90",
          "(0.0, 0.31426969170570374), multiplicity: 90",
          "(0.0, 0.31426969170570374), multiplicity: 90",
          "(0.0, 0.31426969170570374), multiplicity: 90",
          "(0.0, 0.31426969170570374), multiplicity: 90",
          "(0.0, 0.31426969170570374), multiplicity: 90",
          "(0.0, 0.31426969170570374), multiplicity: 90",
          "(0.0, 0.31426969170570374), multiplicity: 90",
          "(0.0, 0.31426969170570374), multiplicity: 90",
          "(0.0, 0.8314794301986694), multiplicity: 9",
          "(0.0, 0.8314794301986694), multiplicity: 9",
          "(0.0, 0.8314794301986694), multiplicity: 9",
          "(0.0, 0.8314794301986694), multiplicity: 9",
          "(0.0, 0.8314794301986694), multiplicity: 9",
          "(0.0, 0.8314794301986694), multiplicity: 9",
          "(0.0, 0.8314794301986694), multiplicity: 9",
          "(0.0, 0.8314794301986694), multiplicity: 9",
          "(0.0, 0.8314794301986694), multiplicity: 9"
         ],
         "mode": "markers",
         "name": "H0",
         "type": "scatter",
         "x": [
          0,
          0,
          0,
          0,
          0,
          0,
          0,
          0,
          0,
          0,
          0,
          0,
          0,
          0,
          0,
          0,
          0,
          0,
          0,
          0,
          0,
          0,
          0,
          0,
          0,
          0,
          0,
          0,
          0,
          0,
          0,
          0,
          0,
          0,
          0,
          0,
          0,
          0,
          0,
          0,
          0,
          0,
          0,
          0,
          0,
          0,
          0,
          0,
          0,
          0,
          0,
          0,
          0,
          0,
          0,
          0,
          0,
          0,
          0,
          0,
          0,
          0,
          0,
          0,
          0,
          0,
          0,
          0,
          0,
          0,
          0,
          0,
          0,
          0,
          0,
          0,
          0,
          0,
          0,
          0,
          0,
          0,
          0,
          0,
          0,
          0,
          0,
          0,
          0,
          0,
          0,
          0,
          0,
          0,
          0,
          0,
          0,
          0,
          0
         ],
         "y": [
          0.31426969170570374,
          0.31426969170570374,
          0.31426969170570374,
          0.31426969170570374,
          0.31426969170570374,
          0.31426969170570374,
          0.31426969170570374,
          0.31426969170570374,
          0.31426969170570374,
          0.31426969170570374,
          0.31426969170570374,
          0.31426969170570374,
          0.31426969170570374,
          0.31426969170570374,
          0.31426969170570374,
          0.31426969170570374,
          0.31426969170570374,
          0.31426969170570374,
          0.31426969170570374,
          0.31426969170570374,
          0.31426969170570374,
          0.31426969170570374,
          0.31426969170570374,
          0.31426969170570374,
          0.31426969170570374,
          0.31426969170570374,
          0.31426969170570374,
          0.31426969170570374,
          0.31426969170570374,
          0.31426969170570374,
          0.31426969170570374,
          0.31426969170570374,
          0.31426969170570374,
          0.31426969170570374,
          0.31426969170570374,
          0.31426969170570374,
          0.31426969170570374,
          0.31426969170570374,
          0.31426969170570374,
          0.31426969170570374,
          0.31426969170570374,
          0.31426969170570374,
          0.31426969170570374,
          0.31426969170570374,
          0.31426969170570374,
          0.31426969170570374,
          0.31426969170570374,
          0.31426969170570374,
          0.31426969170570374,
          0.31426969170570374,
          0.31426969170570374,
          0.31426969170570374,
          0.31426969170570374,
          0.31426969170570374,
          0.31426969170570374,
          0.31426969170570374,
          0.31426969170570374,
          0.31426969170570374,
          0.31426969170570374,
          0.31426969170570374,
          0.31426969170570374,
          0.31426969170570374,
          0.31426969170570374,
          0.31426969170570374,
          0.31426969170570374,
          0.31426969170570374,
          0.31426969170570374,
          0.31426969170570374,
          0.31426969170570374,
          0.31426969170570374,
          0.31426969170570374,
          0.31426969170570374,
          0.31426969170570374,
          0.31426969170570374,
          0.31426969170570374,
          0.31426969170570374,
          0.31426969170570374,
          0.31426969170570374,
          0.31426969170570374,
          0.31426969170570374,
          0.31426969170570374,
          0.31426969170570374,
          0.31426969170570374,
          0.31426969170570374,
          0.31426969170570374,
          0.31426969170570374,
          0.31426969170570374,
          0.31426969170570374,
          0.31426969170570374,
          0.31426969170570374,
          0.8314794301986694,
          0.8314794301986694,
          0.8314794301986694,
          0.8314794301986694,
          0.8314794301986694,
          0.8314794301986694,
          0.8314794301986694,
          0.8314794301986694,
          0.8314794301986694
         ]
        },
        {
         "hoverinfo": "text",
         "hovertext": [],
         "mode": "markers",
         "name": "H1",
         "type": "scatter",
         "x": [],
         "y": []
        },
        {
         "hoverinfo": "text",
         "hovertext": [],
         "mode": "markers",
         "name": "H2",
         "type": "scatter",
         "x": [],
         "y": []
        }
       ],
       "layout": {
        "height": 500,
        "plot_bgcolor": "white",
        "template": {
         "data": {
          "bar": [
           {
            "error_x": {
             "color": "#2a3f5f"
            },
            "error_y": {
             "color": "#2a3f5f"
            },
            "marker": {
             "line": {
              "color": "#E5ECF6",
              "width": 0.5
             },
             "pattern": {
              "fillmode": "overlay",
              "size": 10,
              "solidity": 0.2
             }
            },
            "type": "bar"
           }
          ],
          "barpolar": [
           {
            "marker": {
             "line": {
              "color": "#E5ECF6",
              "width": 0.5
             },
             "pattern": {
              "fillmode": "overlay",
              "size": 10,
              "solidity": 0.2
             }
            },
            "type": "barpolar"
           }
          ],
          "carpet": [
           {
            "aaxis": {
             "endlinecolor": "#2a3f5f",
             "gridcolor": "white",
             "linecolor": "white",
             "minorgridcolor": "white",
             "startlinecolor": "#2a3f5f"
            },
            "baxis": {
             "endlinecolor": "#2a3f5f",
             "gridcolor": "white",
             "linecolor": "white",
             "minorgridcolor": "white",
             "startlinecolor": "#2a3f5f"
            },
            "type": "carpet"
           }
          ],
          "choropleth": [
           {
            "colorbar": {
             "outlinewidth": 0,
             "ticks": ""
            },
            "type": "choropleth"
           }
          ],
          "contour": [
           {
            "colorbar": {
             "outlinewidth": 0,
             "ticks": ""
            },
            "colorscale": [
             [
              0,
              "#0d0887"
             ],
             [
              0.1111111111111111,
              "#46039f"
             ],
             [
              0.2222222222222222,
              "#7201a8"
             ],
             [
              0.3333333333333333,
              "#9c179e"
             ],
             [
              0.4444444444444444,
              "#bd3786"
             ],
             [
              0.5555555555555556,
              "#d8576b"
             ],
             [
              0.6666666666666666,
              "#ed7953"
             ],
             [
              0.7777777777777778,
              "#fb9f3a"
             ],
             [
              0.8888888888888888,
              "#fdca26"
             ],
             [
              1,
              "#f0f921"
             ]
            ],
            "type": "contour"
           }
          ],
          "contourcarpet": [
           {
            "colorbar": {
             "outlinewidth": 0,
             "ticks": ""
            },
            "type": "contourcarpet"
           }
          ],
          "heatmap": [
           {
            "colorbar": {
             "outlinewidth": 0,
             "ticks": ""
            },
            "colorscale": [
             [
              0,
              "#0d0887"
             ],
             [
              0.1111111111111111,
              "#46039f"
             ],
             [
              0.2222222222222222,
              "#7201a8"
             ],
             [
              0.3333333333333333,
              "#9c179e"
             ],
             [
              0.4444444444444444,
              "#bd3786"
             ],
             [
              0.5555555555555556,
              "#d8576b"
             ],
             [
              0.6666666666666666,
              "#ed7953"
             ],
             [
              0.7777777777777778,
              "#fb9f3a"
             ],
             [
              0.8888888888888888,
              "#fdca26"
             ],
             [
              1,
              "#f0f921"
             ]
            ],
            "type": "heatmap"
           }
          ],
          "heatmapgl": [
           {
            "colorbar": {
             "outlinewidth": 0,
             "ticks": ""
            },
            "colorscale": [
             [
              0,
              "#0d0887"
             ],
             [
              0.1111111111111111,
              "#46039f"
             ],
             [
              0.2222222222222222,
              "#7201a8"
             ],
             [
              0.3333333333333333,
              "#9c179e"
             ],
             [
              0.4444444444444444,
              "#bd3786"
             ],
             [
              0.5555555555555556,
              "#d8576b"
             ],
             [
              0.6666666666666666,
              "#ed7953"
             ],
             [
              0.7777777777777778,
              "#fb9f3a"
             ],
             [
              0.8888888888888888,
              "#fdca26"
             ],
             [
              1,
              "#f0f921"
             ]
            ],
            "type": "heatmapgl"
           }
          ],
          "histogram": [
           {
            "marker": {
             "pattern": {
              "fillmode": "overlay",
              "size": 10,
              "solidity": 0.2
             }
            },
            "type": "histogram"
           }
          ],
          "histogram2d": [
           {
            "colorbar": {
             "outlinewidth": 0,
             "ticks": ""
            },
            "colorscale": [
             [
              0,
              "#0d0887"
             ],
             [
              0.1111111111111111,
              "#46039f"
             ],
             [
              0.2222222222222222,
              "#7201a8"
             ],
             [
              0.3333333333333333,
              "#9c179e"
             ],
             [
              0.4444444444444444,
              "#bd3786"
             ],
             [
              0.5555555555555556,
              "#d8576b"
             ],
             [
              0.6666666666666666,
              "#ed7953"
             ],
             [
              0.7777777777777778,
              "#fb9f3a"
             ],
             [
              0.8888888888888888,
              "#fdca26"
             ],
             [
              1,
              "#f0f921"
             ]
            ],
            "type": "histogram2d"
           }
          ],
          "histogram2dcontour": [
           {
            "colorbar": {
             "outlinewidth": 0,
             "ticks": ""
            },
            "colorscale": [
             [
              0,
              "#0d0887"
             ],
             [
              0.1111111111111111,
              "#46039f"
             ],
             [
              0.2222222222222222,
              "#7201a8"
             ],
             [
              0.3333333333333333,
              "#9c179e"
             ],
             [
              0.4444444444444444,
              "#bd3786"
             ],
             [
              0.5555555555555556,
              "#d8576b"
             ],
             [
              0.6666666666666666,
              "#ed7953"
             ],
             [
              0.7777777777777778,
              "#fb9f3a"
             ],
             [
              0.8888888888888888,
              "#fdca26"
             ],
             [
              1,
              "#f0f921"
             ]
            ],
            "type": "histogram2dcontour"
           }
          ],
          "mesh3d": [
           {
            "colorbar": {
             "outlinewidth": 0,
             "ticks": ""
            },
            "type": "mesh3d"
           }
          ],
          "parcoords": [
           {
            "line": {
             "colorbar": {
              "outlinewidth": 0,
              "ticks": ""
             }
            },
            "type": "parcoords"
           }
          ],
          "pie": [
           {
            "automargin": true,
            "type": "pie"
           }
          ],
          "scatter": [
           {
            "fillpattern": {
             "fillmode": "overlay",
             "size": 10,
             "solidity": 0.2
            },
            "type": "scatter"
           }
          ],
          "scatter3d": [
           {
            "line": {
             "colorbar": {
              "outlinewidth": 0,
              "ticks": ""
             }
            },
            "marker": {
             "colorbar": {
              "outlinewidth": 0,
              "ticks": ""
             }
            },
            "type": "scatter3d"
           }
          ],
          "scattercarpet": [
           {
            "marker": {
             "colorbar": {
              "outlinewidth": 0,
              "ticks": ""
             }
            },
            "type": "scattercarpet"
           }
          ],
          "scattergeo": [
           {
            "marker": {
             "colorbar": {
              "outlinewidth": 0,
              "ticks": ""
             }
            },
            "type": "scattergeo"
           }
          ],
          "scattergl": [
           {
            "marker": {
             "colorbar": {
              "outlinewidth": 0,
              "ticks": ""
             }
            },
            "type": "scattergl"
           }
          ],
          "scattermapbox": [
           {
            "marker": {
             "colorbar": {
              "outlinewidth": 0,
              "ticks": ""
             }
            },
            "type": "scattermapbox"
           }
          ],
          "scatterpolar": [
           {
            "marker": {
             "colorbar": {
              "outlinewidth": 0,
              "ticks": ""
             }
            },
            "type": "scatterpolar"
           }
          ],
          "scatterpolargl": [
           {
            "marker": {
             "colorbar": {
              "outlinewidth": 0,
              "ticks": ""
             }
            },
            "type": "scatterpolargl"
           }
          ],
          "scatterternary": [
           {
            "marker": {
             "colorbar": {
              "outlinewidth": 0,
              "ticks": ""
             }
            },
            "type": "scatterternary"
           }
          ],
          "surface": [
           {
            "colorbar": {
             "outlinewidth": 0,
             "ticks": ""
            },
            "colorscale": [
             [
              0,
              "#0d0887"
             ],
             [
              0.1111111111111111,
              "#46039f"
             ],
             [
              0.2222222222222222,
              "#7201a8"
             ],
             [
              0.3333333333333333,
              "#9c179e"
             ],
             [
              0.4444444444444444,
              "#bd3786"
             ],
             [
              0.5555555555555556,
              "#d8576b"
             ],
             [
              0.6666666666666666,
              "#ed7953"
             ],
             [
              0.7777777777777778,
              "#fb9f3a"
             ],
             [
              0.8888888888888888,
              "#fdca26"
             ],
             [
              1,
              "#f0f921"
             ]
            ],
            "type": "surface"
           }
          ],
          "table": [
           {
            "cells": {
             "fill": {
              "color": "#EBF0F8"
             },
             "line": {
              "color": "white"
             }
            },
            "header": {
             "fill": {
              "color": "#C8D4E3"
             },
             "line": {
              "color": "white"
             }
            },
            "type": "table"
           }
          ]
         },
         "layout": {
          "annotationdefaults": {
           "arrowcolor": "#2a3f5f",
           "arrowhead": 0,
           "arrowwidth": 1
          },
          "autotypenumbers": "strict",
          "coloraxis": {
           "colorbar": {
            "outlinewidth": 0,
            "ticks": ""
           }
          },
          "colorscale": {
           "diverging": [
            [
             0,
             "#8e0152"
            ],
            [
             0.1,
             "#c51b7d"
            ],
            [
             0.2,
             "#de77ae"
            ],
            [
             0.3,
             "#f1b6da"
            ],
            [
             0.4,
             "#fde0ef"
            ],
            [
             0.5,
             "#f7f7f7"
            ],
            [
             0.6,
             "#e6f5d0"
            ],
            [
             0.7,
             "#b8e186"
            ],
            [
             0.8,
             "#7fbc41"
            ],
            [
             0.9,
             "#4d9221"
            ],
            [
             1,
             "#276419"
            ]
           ],
           "sequential": [
            [
             0,
             "#0d0887"
            ],
            [
             0.1111111111111111,
             "#46039f"
            ],
            [
             0.2222222222222222,
             "#7201a8"
            ],
            [
             0.3333333333333333,
             "#9c179e"
            ],
            [
             0.4444444444444444,
             "#bd3786"
            ],
            [
             0.5555555555555556,
             "#d8576b"
            ],
            [
             0.6666666666666666,
             "#ed7953"
            ],
            [
             0.7777777777777778,
             "#fb9f3a"
            ],
            [
             0.8888888888888888,
             "#fdca26"
            ],
            [
             1,
             "#f0f921"
            ]
           ],
           "sequentialminus": [
            [
             0,
             "#0d0887"
            ],
            [
             0.1111111111111111,
             "#46039f"
            ],
            [
             0.2222222222222222,
             "#7201a8"
            ],
            [
             0.3333333333333333,
             "#9c179e"
            ],
            [
             0.4444444444444444,
             "#bd3786"
            ],
            [
             0.5555555555555556,
             "#d8576b"
            ],
            [
             0.6666666666666666,
             "#ed7953"
            ],
            [
             0.7777777777777778,
             "#fb9f3a"
            ],
            [
             0.8888888888888888,
             "#fdca26"
            ],
            [
             1,
             "#f0f921"
            ]
           ]
          },
          "colorway": [
           "#636efa",
           "#EF553B",
           "#00cc96",
           "#ab63fa",
           "#FFA15A",
           "#19d3f3",
           "#FF6692",
           "#B6E880",
           "#FF97FF",
           "#FECB52"
          ],
          "font": {
           "color": "#2a3f5f"
          },
          "geo": {
           "bgcolor": "white",
           "lakecolor": "white",
           "landcolor": "#E5ECF6",
           "showlakes": true,
           "showland": true,
           "subunitcolor": "white"
          },
          "hoverlabel": {
           "align": "left"
          },
          "hovermode": "closest",
          "mapbox": {
           "style": "light"
          },
          "paper_bgcolor": "white",
          "plot_bgcolor": "#E5ECF6",
          "polar": {
           "angularaxis": {
            "gridcolor": "white",
            "linecolor": "white",
            "ticks": ""
           },
           "bgcolor": "#E5ECF6",
           "radialaxis": {
            "gridcolor": "white",
            "linecolor": "white",
            "ticks": ""
           }
          },
          "scene": {
           "xaxis": {
            "backgroundcolor": "#E5ECF6",
            "gridcolor": "white",
            "gridwidth": 2,
            "linecolor": "white",
            "showbackground": true,
            "ticks": "",
            "zerolinecolor": "white"
           },
           "yaxis": {
            "backgroundcolor": "#E5ECF6",
            "gridcolor": "white",
            "gridwidth": 2,
            "linecolor": "white",
            "showbackground": true,
            "ticks": "",
            "zerolinecolor": "white"
           },
           "zaxis": {
            "backgroundcolor": "#E5ECF6",
            "gridcolor": "white",
            "gridwidth": 2,
            "linecolor": "white",
            "showbackground": true,
            "ticks": "",
            "zerolinecolor": "white"
           }
          },
          "shapedefaults": {
           "line": {
            "color": "#2a3f5f"
           }
          },
          "ternary": {
           "aaxis": {
            "gridcolor": "white",
            "linecolor": "white",
            "ticks": ""
           },
           "baxis": {
            "gridcolor": "white",
            "linecolor": "white",
            "ticks": ""
           },
           "bgcolor": "#E5ECF6",
           "caxis": {
            "gridcolor": "white",
            "linecolor": "white",
            "ticks": ""
           }
          },
          "title": {
           "x": 0.05
          },
          "xaxis": {
           "automargin": true,
           "gridcolor": "white",
           "linecolor": "white",
           "ticks": "",
           "title": {
            "standoff": 15
           },
           "zerolinecolor": "white",
           "zerolinewidth": 2
          },
          "yaxis": {
           "automargin": true,
           "gridcolor": "white",
           "linecolor": "white",
           "ticks": "",
           "title": {
            "standoff": 15
           },
           "zerolinecolor": "white",
           "zerolinewidth": 2
          }
         }
        },
        "width": 500,
        "xaxis": {
         "autorange": false,
         "exponentformat": "e",
         "linecolor": "black",
         "linewidth": 1,
         "mirror": false,
         "range": [
          -0.01662958860397339,
          0.8481090188026428
         ],
         "showexponent": "all",
         "showline": true,
         "side": "bottom",
         "ticks": "outside",
         "title": {
          "text": "Birth"
         },
         "type": "linear",
         "zeroline": true
        },
        "yaxis": {
         "autorange": false,
         "exponentformat": "e",
         "linecolor": "black",
         "linewidth": 1,
         "mirror": false,
         "range": [
          -0.01662958860397339,
          0.8481090188026428
         ],
         "scaleanchor": "x",
         "scaleratio": 1,
         "showexponent": "all",
         "showline": true,
         "side": "left",
         "ticks": "outside",
         "title": {
          "text": "Death"
         },
         "type": "linear",
         "zeroline": true
        }
       }
      }
     },
     "metadata": {},
     "output_type": "display_data"
    }
   ],
   "source": [
    "plot_diagram(diagrams[-3]).show() # Plane"
   ]
  },
  {
   "cell_type": "code",
   "execution_count": 116,
   "metadata": {
    "id": "GoRdVubji5cF"
   },
   "outputs": [
    {
     "data": {
      "application/vnd.plotly.v1+json": {
       "config": {
        "plotlyServerURL": "https://plot.ly"
       },
       "data": [
        {
         "marker": {
          "color": [
           0,
           1,
           2,
           3,
           4,
           5,
           6,
           7,
           8,
           9,
           10,
           11,
           12,
           13,
           14,
           15,
           16,
           17,
           18,
           19,
           20,
           21,
           22,
           23,
           24,
           25,
           26,
           27,
           28,
           29,
           30,
           31,
           32,
           33,
           34,
           35,
           36,
           37,
           38,
           39
          ],
          "colorscale": [
           [
            0,
            "#440154"
           ],
           [
            0.1111111111111111,
            "#482878"
           ],
           [
            0.2222222222222222,
            "#3e4989"
           ],
           [
            0.3333333333333333,
            "#31688e"
           ],
           [
            0.4444444444444444,
            "#26828e"
           ],
           [
            0.5555555555555556,
            "#1f9e89"
           ],
           [
            0.6666666666666666,
            "#35b779"
           ],
           [
            0.7777777777777778,
            "#6ece58"
           ],
           [
            0.8888888888888888,
            "#b5de2b"
           ],
           [
            1,
            "#fde725"
           ]
          ],
          "opacity": 0.8,
          "size": 4
         },
         "mode": "markers",
         "type": "scatter3d",
         "x": [
          6.395318421086011,
          6.471563588179303,
          6.449657272769387,
          6.4373601601802894,
          6.41477205576694,
          6.409987590900543,
          6.406010088893696,
          6.412594253168717,
          6.371963227319543,
          6.406850957458655,
          6.510479536700678,
          6.5217308527422295,
          6.508422696221331,
          6.498832621705476,
          6.504475432124684,
          6.493266081965929,
          6.506726128710081,
          6.503909823726831,
          6.526479693694321,
          6.497477986881242,
          6.474061780781255,
          6.475808890998015,
          6.467339049491625,
          6.470995276988931,
          6.467211521005697,
          6.4824029623243105,
          6.475241559714449,
          6.473665580370875,
          6.472970056154587,
          6.479721261256329,
          6.629356620079611,
          6.626622784379695,
          6.629356620079611,
          6.536827654667447,
          6.588364426054987,
          6.5364444774974775,
          6.453529314104036,
          6.536827654667447,
          6.482866099924945,
          6.453529314104036
         ],
         "y": [
          0,
          0,
          0,
          0,
          0.02501605936054335,
          0,
          0.04821933556298907,
          0,
          0.18804070084824215,
          0,
          4.690886843809805,
          4.586037918284689,
          4.569752202192361,
          4.497333497600586,
          4.497632915495869,
          4.456707020995065,
          4.540836331339115,
          4.480967027067938,
          4.55502773990806,
          4.5319560582110405,
          4.809752729265176,
          4.771891665626199,
          4.772789542795578,
          4.79234881142576,
          4.837821979297161,
          4.855755952866588,
          4.8098298777862025,
          4.854998810653205,
          4.790872058097337,
          4.76605107724866,
          5.977279923499917,
          6.169925001442311,
          -1,
          -1,
          5.807354922057605,
          -1,
          -1,
          -1,
          5.807354922057605,
          -1
         ],
         "z": [
          2.6740903683684656,
          2.078242961329095,
          2.5708389035634536,
          2.2773595276068406,
          2.763740865415866,
          2.4475936814538324,
          1.9338732559121246,
          2.5762154907369608,
          2.4408306902065378,
          2.6189372906023745,
          0.42648382251615896,
          0.04961206751625454,
          0.13069387429983886,
          0,
          0.45211229917181245,
          0.40446409144399975,
          0.26309427021000564,
          0.13541111211089835,
          0.6550719712107942,
          0.3698423072596202,
          3.5168940754245037,
          3.5607278724773446,
          3.5727098663909405,
          3.51168687594641,
          3.641232819771142,
          3.5081337452510155,
          3.1951745236876476,
          3.4632672405150386,
          3.3800459350277627,
          3.3476089072923516,
          -1,
          -1,
          -1,
          -1,
          -1,
          -1,
          -1,
          -1,
          -1,
          -1
         ]
        }
       ],
       "layout": {
        "scene": {
         "xaxis": {
          "exponentformat": "e",
          "showexponent": "all",
          "title": {
           "text": "0th"
          },
          "type": "linear"
         },
         "yaxis": {
          "exponentformat": "e",
          "showexponent": "all",
          "title": {
           "text": "1st"
          },
          "type": "linear"
         },
         "zaxis": {
          "exponentformat": "e",
          "showexponent": "all",
          "title": {
           "text": "2nd"
          },
          "type": "linear"
         }
        },
        "template": {
         "data": {
          "bar": [
           {
            "error_x": {
             "color": "#2a3f5f"
            },
            "error_y": {
             "color": "#2a3f5f"
            },
            "marker": {
             "line": {
              "color": "#E5ECF6",
              "width": 0.5
             },
             "pattern": {
              "fillmode": "overlay",
              "size": 10,
              "solidity": 0.2
             }
            },
            "type": "bar"
           }
          ],
          "barpolar": [
           {
            "marker": {
             "line": {
              "color": "#E5ECF6",
              "width": 0.5
             },
             "pattern": {
              "fillmode": "overlay",
              "size": 10,
              "solidity": 0.2
             }
            },
            "type": "barpolar"
           }
          ],
          "carpet": [
           {
            "aaxis": {
             "endlinecolor": "#2a3f5f",
             "gridcolor": "white",
             "linecolor": "white",
             "minorgridcolor": "white",
             "startlinecolor": "#2a3f5f"
            },
            "baxis": {
             "endlinecolor": "#2a3f5f",
             "gridcolor": "white",
             "linecolor": "white",
             "minorgridcolor": "white",
             "startlinecolor": "#2a3f5f"
            },
            "type": "carpet"
           }
          ],
          "choropleth": [
           {
            "colorbar": {
             "outlinewidth": 0,
             "ticks": ""
            },
            "type": "choropleth"
           }
          ],
          "contour": [
           {
            "colorbar": {
             "outlinewidth": 0,
             "ticks": ""
            },
            "colorscale": [
             [
              0,
              "#0d0887"
             ],
             [
              0.1111111111111111,
              "#46039f"
             ],
             [
              0.2222222222222222,
              "#7201a8"
             ],
             [
              0.3333333333333333,
              "#9c179e"
             ],
             [
              0.4444444444444444,
              "#bd3786"
             ],
             [
              0.5555555555555556,
              "#d8576b"
             ],
             [
              0.6666666666666666,
              "#ed7953"
             ],
             [
              0.7777777777777778,
              "#fb9f3a"
             ],
             [
              0.8888888888888888,
              "#fdca26"
             ],
             [
              1,
              "#f0f921"
             ]
            ],
            "type": "contour"
           }
          ],
          "contourcarpet": [
           {
            "colorbar": {
             "outlinewidth": 0,
             "ticks": ""
            },
            "type": "contourcarpet"
           }
          ],
          "heatmap": [
           {
            "colorbar": {
             "outlinewidth": 0,
             "ticks": ""
            },
            "colorscale": [
             [
              0,
              "#0d0887"
             ],
             [
              0.1111111111111111,
              "#46039f"
             ],
             [
              0.2222222222222222,
              "#7201a8"
             ],
             [
              0.3333333333333333,
              "#9c179e"
             ],
             [
              0.4444444444444444,
              "#bd3786"
             ],
             [
              0.5555555555555556,
              "#d8576b"
             ],
             [
              0.6666666666666666,
              "#ed7953"
             ],
             [
              0.7777777777777778,
              "#fb9f3a"
             ],
             [
              0.8888888888888888,
              "#fdca26"
             ],
             [
              1,
              "#f0f921"
             ]
            ],
            "type": "heatmap"
           }
          ],
          "heatmapgl": [
           {
            "colorbar": {
             "outlinewidth": 0,
             "ticks": ""
            },
            "colorscale": [
             [
              0,
              "#0d0887"
             ],
             [
              0.1111111111111111,
              "#46039f"
             ],
             [
              0.2222222222222222,
              "#7201a8"
             ],
             [
              0.3333333333333333,
              "#9c179e"
             ],
             [
              0.4444444444444444,
              "#bd3786"
             ],
             [
              0.5555555555555556,
              "#d8576b"
             ],
             [
              0.6666666666666666,
              "#ed7953"
             ],
             [
              0.7777777777777778,
              "#fb9f3a"
             ],
             [
              0.8888888888888888,
              "#fdca26"
             ],
             [
              1,
              "#f0f921"
             ]
            ],
            "type": "heatmapgl"
           }
          ],
          "histogram": [
           {
            "marker": {
             "pattern": {
              "fillmode": "overlay",
              "size": 10,
              "solidity": 0.2
             }
            },
            "type": "histogram"
           }
          ],
          "histogram2d": [
           {
            "colorbar": {
             "outlinewidth": 0,
             "ticks": ""
            },
            "colorscale": [
             [
              0,
              "#0d0887"
             ],
             [
              0.1111111111111111,
              "#46039f"
             ],
             [
              0.2222222222222222,
              "#7201a8"
             ],
             [
              0.3333333333333333,
              "#9c179e"
             ],
             [
              0.4444444444444444,
              "#bd3786"
             ],
             [
              0.5555555555555556,
              "#d8576b"
             ],
             [
              0.6666666666666666,
              "#ed7953"
             ],
             [
              0.7777777777777778,
              "#fb9f3a"
             ],
             [
              0.8888888888888888,
              "#fdca26"
             ],
             [
              1,
              "#f0f921"
             ]
            ],
            "type": "histogram2d"
           }
          ],
          "histogram2dcontour": [
           {
            "colorbar": {
             "outlinewidth": 0,
             "ticks": ""
            },
            "colorscale": [
             [
              0,
              "#0d0887"
             ],
             [
              0.1111111111111111,
              "#46039f"
             ],
             [
              0.2222222222222222,
              "#7201a8"
             ],
             [
              0.3333333333333333,
              "#9c179e"
             ],
             [
              0.4444444444444444,
              "#bd3786"
             ],
             [
              0.5555555555555556,
              "#d8576b"
             ],
             [
              0.6666666666666666,
              "#ed7953"
             ],
             [
              0.7777777777777778,
              "#fb9f3a"
             ],
             [
              0.8888888888888888,
              "#fdca26"
             ],
             [
              1,
              "#f0f921"
             ]
            ],
            "type": "histogram2dcontour"
           }
          ],
          "mesh3d": [
           {
            "colorbar": {
             "outlinewidth": 0,
             "ticks": ""
            },
            "type": "mesh3d"
           }
          ],
          "parcoords": [
           {
            "line": {
             "colorbar": {
              "outlinewidth": 0,
              "ticks": ""
             }
            },
            "type": "parcoords"
           }
          ],
          "pie": [
           {
            "automargin": true,
            "type": "pie"
           }
          ],
          "scatter": [
           {
            "fillpattern": {
             "fillmode": "overlay",
             "size": 10,
             "solidity": 0.2
            },
            "type": "scatter"
           }
          ],
          "scatter3d": [
           {
            "line": {
             "colorbar": {
              "outlinewidth": 0,
              "ticks": ""
             }
            },
            "marker": {
             "colorbar": {
              "outlinewidth": 0,
              "ticks": ""
             }
            },
            "type": "scatter3d"
           }
          ],
          "scattercarpet": [
           {
            "marker": {
             "colorbar": {
              "outlinewidth": 0,
              "ticks": ""
             }
            },
            "type": "scattercarpet"
           }
          ],
          "scattergeo": [
           {
            "marker": {
             "colorbar": {
              "outlinewidth": 0,
              "ticks": ""
             }
            },
            "type": "scattergeo"
           }
          ],
          "scattergl": [
           {
            "marker": {
             "colorbar": {
              "outlinewidth": 0,
              "ticks": ""
             }
            },
            "type": "scattergl"
           }
          ],
          "scattermapbox": [
           {
            "marker": {
             "colorbar": {
              "outlinewidth": 0,
              "ticks": ""
             }
            },
            "type": "scattermapbox"
           }
          ],
          "scatterpolar": [
           {
            "marker": {
             "colorbar": {
              "outlinewidth": 0,
              "ticks": ""
             }
            },
            "type": "scatterpolar"
           }
          ],
          "scatterpolargl": [
           {
            "marker": {
             "colorbar": {
              "outlinewidth": 0,
              "ticks": ""
             }
            },
            "type": "scatterpolargl"
           }
          ],
          "scatterternary": [
           {
            "marker": {
             "colorbar": {
              "outlinewidth": 0,
              "ticks": ""
             }
            },
            "type": "scatterternary"
           }
          ],
          "surface": [
           {
            "colorbar": {
             "outlinewidth": 0,
             "ticks": ""
            },
            "colorscale": [
             [
              0,
              "#0d0887"
             ],
             [
              0.1111111111111111,
              "#46039f"
             ],
             [
              0.2222222222222222,
              "#7201a8"
             ],
             [
              0.3333333333333333,
              "#9c179e"
             ],
             [
              0.4444444444444444,
              "#bd3786"
             ],
             [
              0.5555555555555556,
              "#d8576b"
             ],
             [
              0.6666666666666666,
              "#ed7953"
             ],
             [
              0.7777777777777778,
              "#fb9f3a"
             ],
             [
              0.8888888888888888,
              "#fdca26"
             ],
             [
              1,
              "#f0f921"
             ]
            ],
            "type": "surface"
           }
          ],
          "table": [
           {
            "cells": {
             "fill": {
              "color": "#EBF0F8"
             },
             "line": {
              "color": "white"
             }
            },
            "header": {
             "fill": {
              "color": "#C8D4E3"
             },
             "line": {
              "color": "white"
             }
            },
            "type": "table"
           }
          ]
         },
         "layout": {
          "annotationdefaults": {
           "arrowcolor": "#2a3f5f",
           "arrowhead": 0,
           "arrowwidth": 1
          },
          "autotypenumbers": "strict",
          "coloraxis": {
           "colorbar": {
            "outlinewidth": 0,
            "ticks": ""
           }
          },
          "colorscale": {
           "diverging": [
            [
             0,
             "#8e0152"
            ],
            [
             0.1,
             "#c51b7d"
            ],
            [
             0.2,
             "#de77ae"
            ],
            [
             0.3,
             "#f1b6da"
            ],
            [
             0.4,
             "#fde0ef"
            ],
            [
             0.5,
             "#f7f7f7"
            ],
            [
             0.6,
             "#e6f5d0"
            ],
            [
             0.7,
             "#b8e186"
            ],
            [
             0.8,
             "#7fbc41"
            ],
            [
             0.9,
             "#4d9221"
            ],
            [
             1,
             "#276419"
            ]
           ],
           "sequential": [
            [
             0,
             "#0d0887"
            ],
            [
             0.1111111111111111,
             "#46039f"
            ],
            [
             0.2222222222222222,
             "#7201a8"
            ],
            [
             0.3333333333333333,
             "#9c179e"
            ],
            [
             0.4444444444444444,
             "#bd3786"
            ],
            [
             0.5555555555555556,
             "#d8576b"
            ],
            [
             0.6666666666666666,
             "#ed7953"
            ],
            [
             0.7777777777777778,
             "#fb9f3a"
            ],
            [
             0.8888888888888888,
             "#fdca26"
            ],
            [
             1,
             "#f0f921"
            ]
           ],
           "sequentialminus": [
            [
             0,
             "#0d0887"
            ],
            [
             0.1111111111111111,
             "#46039f"
            ],
            [
             0.2222222222222222,
             "#7201a8"
            ],
            [
             0.3333333333333333,
             "#9c179e"
            ],
            [
             0.4444444444444444,
             "#bd3786"
            ],
            [
             0.5555555555555556,
             "#d8576b"
            ],
            [
             0.6666666666666666,
             "#ed7953"
            ],
            [
             0.7777777777777778,
             "#fb9f3a"
            ],
            [
             0.8888888888888888,
             "#fdca26"
            ],
            [
             1,
             "#f0f921"
            ]
           ]
          },
          "colorway": [
           "#636efa",
           "#EF553B",
           "#00cc96",
           "#ab63fa",
           "#FFA15A",
           "#19d3f3",
           "#FF6692",
           "#B6E880",
           "#FF97FF",
           "#FECB52"
          ],
          "font": {
           "color": "#2a3f5f"
          },
          "geo": {
           "bgcolor": "white",
           "lakecolor": "white",
           "landcolor": "#E5ECF6",
           "showlakes": true,
           "showland": true,
           "subunitcolor": "white"
          },
          "hoverlabel": {
           "align": "left"
          },
          "hovermode": "closest",
          "mapbox": {
           "style": "light"
          },
          "paper_bgcolor": "white",
          "plot_bgcolor": "#E5ECF6",
          "polar": {
           "angularaxis": {
            "gridcolor": "white",
            "linecolor": "white",
            "ticks": ""
           },
           "bgcolor": "#E5ECF6",
           "radialaxis": {
            "gridcolor": "white",
            "linecolor": "white",
            "ticks": ""
           }
          },
          "scene": {
           "xaxis": {
            "backgroundcolor": "#E5ECF6",
            "gridcolor": "white",
            "gridwidth": 2,
            "linecolor": "white",
            "showbackground": true,
            "ticks": "",
            "zerolinecolor": "white"
           },
           "yaxis": {
            "backgroundcolor": "#E5ECF6",
            "gridcolor": "white",
            "gridwidth": 2,
            "linecolor": "white",
            "showbackground": true,
            "ticks": "",
            "zerolinecolor": "white"
           },
           "zaxis": {
            "backgroundcolor": "#E5ECF6",
            "gridcolor": "white",
            "gridwidth": 2,
            "linecolor": "white",
            "showbackground": true,
            "ticks": "",
            "zerolinecolor": "white"
           }
          },
          "shapedefaults": {
           "line": {
            "color": "#2a3f5f"
           }
          },
          "ternary": {
           "aaxis": {
            "gridcolor": "white",
            "linecolor": "white",
            "ticks": ""
           },
           "baxis": {
            "gridcolor": "white",
            "linecolor": "white",
            "ticks": ""
           },
           "bgcolor": "#E5ECF6",
           "caxis": {
            "gridcolor": "white",
            "linecolor": "white",
            "ticks": ""
           }
          },
          "title": {
           "x": 0.05
          },
          "xaxis": {
           "automargin": true,
           "gridcolor": "white",
           "linecolor": "white",
           "ticks": "",
           "title": {
            "standoff": 15
           },
           "zerolinecolor": "white",
           "zerolinewidth": 2
          },
          "yaxis": {
           "automargin": true,
           "gridcolor": "white",
           "linecolor": "white",
           "ticks": "",
           "title": {
            "standoff": 15
           },
           "zerolinecolor": "white",
           "zerolinewidth": 2
          }
         }
        }
       }
      }
     },
     "metadata": {},
     "output_type": "display_data"
    }
   ],
   "source": [
    "persistence_entropy = PersistenceEntropy()\n",
    "\n",
    "# calculate topological feature matrix\n",
    "X = persistence_entropy.fit_transform(diagrams)\n",
    "plot_point_cloud(X).show()"
   ]
  },
  {
   "cell_type": "code",
   "execution_count": 117,
   "metadata": {
    "id": "VtzJ4VVGi_wY"
   },
   "outputs": [
    {
     "name": "stdout",
     "output_type": "stream",
     "text": [
      "OOB score: 1.000\n"
     ]
    }
   ],
   "source": [
    "rf = RandomForestClassifier(oob_score=True)\n",
    "rf.fit(X, labs)\n",
    "print(f\"OOB score: {rf.oob_score:.3f}\")"
   ]
  },
  {
   "cell_type": "markdown",
   "metadata": {},
   "source": [
    "We can see that our model performs very well with synthetically generated data. We will now implement a version for data from real 3-d models. We will use the data from Princeton's computer vision course for our implementation. This dataset is freely available via the get_dataset function in the openml library. The data file contains 40 different point clouds across 4 classes (i.e, 10 clouds per class), each with 400 points."
   ]
  },
  {
   "cell_type": "code",
   "execution_count": 118,
   "metadata": {},
   "outputs": [
    {
     "name": "stderr",
     "output_type": "stream",
     "text": [
      "C:\\Users\\ab251\\AppData\\Local\\Temp\\ipykernel_24536\\1591671407.py:2: FutureWarning:\n",
      "\n",
      "Starting from Version 0.15 `download_data`, `download_qualities`, and `download_features_meta_data` will all be ``False`` instead of ``True`` by default to enable lazy loading. To disable this message until version 0.15 explicitly set `download_data`, `download_qualities`, and `download_features_meta_data` to a bool while calling `get_dataset`.\n",
      "\n"
     ]
    },
    {
     "data": {
      "text/html": [
       "<div>\n",
       "<style scoped>\n",
       "    .dataframe tbody tr th:only-of-type {\n",
       "        vertical-align: middle;\n",
       "    }\n",
       "\n",
       "    .dataframe tbody tr th {\n",
       "        vertical-align: top;\n",
       "    }\n",
       "\n",
       "    .dataframe thead th {\n",
       "        text-align: right;\n",
       "    }\n",
       "</style>\n",
       "<table border=\"1\" class=\"dataframe\">\n",
       "  <thead>\n",
       "    <tr style=\"text-align: right;\">\n",
       "      <th></th>\n",
       "      <th>x</th>\n",
       "      <th>y</th>\n",
       "      <th>z</th>\n",
       "      <th>target</th>\n",
       "    </tr>\n",
       "  </thead>\n",
       "  <tbody>\n",
       "    <tr>\n",
       "      <th>0</th>\n",
       "      <td>0.341007</td>\n",
       "      <td>0.318606</td>\n",
       "      <td>0.096725</td>\n",
       "      <td>human_arms_out9</td>\n",
       "    </tr>\n",
       "    <tr>\n",
       "      <th>1</th>\n",
       "      <td>0.329226</td>\n",
       "      <td>0.421601</td>\n",
       "      <td>0.056749</td>\n",
       "      <td>human_arms_out9</td>\n",
       "    </tr>\n",
       "    <tr>\n",
       "      <th>2</th>\n",
       "      <td>0.446869</td>\n",
       "      <td>0.648674</td>\n",
       "      <td>0.124090</td>\n",
       "      <td>human_arms_out9</td>\n",
       "    </tr>\n",
       "    <tr>\n",
       "      <th>3</th>\n",
       "      <td>0.314729</td>\n",
       "      <td>0.217860</td>\n",
       "      <td>0.070847</td>\n",
       "      <td>human_arms_out9</td>\n",
       "    </tr>\n",
       "    <tr>\n",
       "      <th>4</th>\n",
       "      <td>0.426678</td>\n",
       "      <td>0.919195</td>\n",
       "      <td>0.047609</td>\n",
       "      <td>human_arms_out9</td>\n",
       "    </tr>\n",
       "  </tbody>\n",
       "</table>\n",
       "</div>"
      ],
      "text/plain": [
       "          x         y         z           target\n",
       "0  0.341007  0.318606  0.096725  human_arms_out9\n",
       "1  0.329226  0.421601  0.056749  human_arms_out9\n",
       "2  0.446869  0.648674  0.124090  human_arms_out9\n",
       "3  0.314729  0.217860  0.070847  human_arms_out9\n",
       "4  0.426678  0.919195  0.047609  human_arms_out9"
      ]
     },
     "execution_count": 118,
     "metadata": {},
     "output_type": "execute_result"
    }
   ],
   "source": [
    "# Obtain the shapes dataset\n",
    "df = get_dataset('shapes').get_data(dataset_format='dataframe')[0]\n",
    "df.head()"
   ]
  },
  {
   "cell_type": "code",
   "execution_count": 119,
   "metadata": {},
   "outputs": [
    {
     "data": {
      "application/vnd.plotly.v1+json": {
       "config": {
        "plotlyServerURL": "https://plot.ly"
       },
       "data": [
        {
         "marker": {
          "color": [
           0,
           1,
           2,
           3,
           4,
           5,
           6,
           7,
           8,
           9,
           10,
           11,
           12,
           13,
           14,
           15,
           16,
           17,
           18,
           19,
           20,
           21,
           22,
           23,
           24,
           25,
           26,
           27,
           28,
           29,
           30,
           31,
           32,
           33,
           34,
           35,
           36,
           37,
           38,
           39,
           40,
           41,
           42,
           43,
           44,
           45,
           46,
           47,
           48,
           49,
           50,
           51,
           52,
           53,
           54,
           55,
           56,
           57,
           58,
           59,
           60,
           61,
           62,
           63,
           64,
           65,
           66,
           67,
           68,
           69,
           70,
           71,
           72,
           73,
           74,
           75,
           76,
           77,
           78,
           79,
           80,
           81,
           82,
           83,
           84,
           85,
           86,
           87,
           88,
           89,
           90,
           91,
           92,
           93,
           94,
           95,
           96,
           97,
           98,
           99,
           100,
           101,
           102,
           103,
           104,
           105,
           106,
           107,
           108,
           109,
           110,
           111,
           112,
           113,
           114,
           115,
           116,
           117,
           118,
           119,
           120,
           121,
           122,
           123,
           124,
           125,
           126,
           127,
           128,
           129,
           130,
           131,
           132,
           133,
           134,
           135,
           136,
           137,
           138,
           139,
           140,
           141,
           142,
           143,
           144,
           145,
           146,
           147,
           148,
           149,
           150,
           151,
           152,
           153,
           154,
           155,
           156,
           157,
           158,
           159,
           160,
           161,
           162,
           163,
           164,
           165,
           166,
           167,
           168,
           169,
           170,
           171,
           172,
           173,
           174,
           175,
           176,
           177,
           178,
           179,
           180,
           181,
           182,
           183,
           184,
           185,
           186,
           187,
           188,
           189,
           190,
           191,
           192,
           193,
           194,
           195,
           196,
           197,
           198,
           199,
           200,
           201,
           202,
           203,
           204,
           205,
           206,
           207,
           208,
           209,
           210,
           211,
           212,
           213,
           214,
           215,
           216,
           217,
           218,
           219,
           220,
           221,
           222,
           223,
           224,
           225,
           226,
           227,
           228,
           229,
           230,
           231,
           232,
           233,
           234,
           235,
           236,
           237,
           238,
           239,
           240,
           241,
           242,
           243,
           244,
           245,
           246,
           247,
           248,
           249,
           250,
           251,
           252,
           253,
           254,
           255,
           256,
           257,
           258,
           259,
           260,
           261,
           262,
           263,
           264,
           265,
           266,
           267,
           268,
           269,
           270,
           271,
           272,
           273,
           274,
           275,
           276,
           277,
           278,
           279,
           280,
           281,
           282,
           283,
           284,
           285,
           286,
           287,
           288,
           289,
           290,
           291,
           292,
           293,
           294,
           295,
           296,
           297,
           298,
           299,
           300,
           301,
           302,
           303,
           304,
           305,
           306,
           307,
           308,
           309,
           310,
           311,
           312,
           313,
           314,
           315,
           316,
           317,
           318,
           319,
           320,
           321,
           322,
           323,
           324,
           325,
           326,
           327,
           328,
           329,
           330,
           331,
           332,
           333,
           334,
           335,
           336,
           337,
           338,
           339,
           340,
           341,
           342,
           343,
           344,
           345,
           346,
           347,
           348,
           349,
           350,
           351,
           352,
           353,
           354,
           355,
           356,
           357,
           358,
           359,
           360,
           361,
           362,
           363,
           364,
           365,
           366,
           367,
           368,
           369,
           370,
           371,
           372,
           373,
           374,
           375,
           376,
           377,
           378,
           379,
           380,
           381,
           382,
           383,
           384,
           385,
           386,
           387,
           388,
           389,
           390,
           391,
           392,
           393,
           394,
           395,
           396,
           397,
           398,
           399
          ],
          "colorscale": [
           [
            0,
            "#440154"
           ],
           [
            0.1111111111111111,
            "#482878"
           ],
           [
            0.2222222222222222,
            "#3e4989"
           ],
           [
            0.3333333333333333,
            "#31688e"
           ],
           [
            0.4444444444444444,
            "#26828e"
           ],
           [
            0.5555555555555556,
            "#1f9e89"
           ],
           [
            0.6666666666666666,
            "#35b779"
           ],
           [
            0.7777777777777778,
            "#6ece58"
           ],
           [
            0.8888888888888888,
            "#b5de2b"
           ],
           [
            1,
            "#fde725"
           ]
          ],
          "opacity": 0.8,
          "size": 4
         },
         "mode": "markers",
         "type": "scatter3d",
         "x": [
          0.46436499999999997,
          0.51954,
          0.493255,
          0.779754,
          0.270703,
          0.44394700000000004,
          0.296464,
          0.44704499999999997,
          0.442582,
          0.69513,
          0.382398,
          0.197761,
          0.304458,
          0.500189,
          0.586929,
          0.41141099999999997,
          0.6321640000000001,
          0.33774299999999996,
          0.385999,
          0.402905,
          0.630829,
          0.529135,
          0.6272760000000001,
          0.215746,
          0.568916,
          0.6297119999999999,
          0.494663,
          0.749855,
          0.569276,
          0.483072,
          0.734114,
          0.5000560000000001,
          0.30286199999999996,
          0.248946,
          0.839038,
          0.744399,
          0.469125,
          0.48449200000000003,
          0.725688,
          0.091961,
          0.402798,
          0.464024,
          0.35781399999999997,
          0.427922,
          0.193934,
          0.444642,
          0.761652,
          0.340929,
          0.374643,
          0.599803,
          0.618688,
          0.521683,
          0.420562,
          0.358749,
          0.5251,
          0.43363199999999996,
          0.326571,
          0.663587,
          0.234409,
          0.446985,
          0.793766,
          0.45196000000000003,
          0.5786789999999999,
          0.549059,
          0.480437,
          0.295375,
          0.350699,
          0.46141800000000005,
          0.31032,
          0.659015,
          0.510274,
          0.429087,
          0.566691,
          0.447288,
          0.538194,
          0.401469,
          0.490824,
          0.345546,
          0.401473,
          0.523842,
          0.42637700000000006,
          0.613889,
          0.347543,
          0.335194,
          0.383886,
          0.513949,
          0.8704569999999999,
          0.44161300000000003,
          0.531432,
          0.385056,
          0.255823,
          0.265217,
          0.44417399999999996,
          0.276525,
          0.301763,
          0.55672,
          0.272368,
          0.380915,
          0.33881500000000003,
          0.403156,
          0.55545,
          0.454506,
          0.588604,
          0.397623,
          0.464478,
          0.533863,
          0.22170399999999998,
          0.40219099999999997,
          0.196267,
          0.408468,
          0.45290600000000003,
          0.367425,
          0.481401,
          0.583938,
          0.45965100000000003,
          0.753117,
          0.49284300000000003,
          0.48380200000000007,
          0.72015,
          0.437571,
          0.44770699999999997,
          0.43132299999999996,
          0.366217,
          0.193793,
          0.270768,
          0.533018,
          0.554196,
          0.47184799999999993,
          0.41319700000000004,
          0.429288,
          0.425353,
          0.173424,
          0.523825,
          0.469962,
          0.48125500000000004,
          0.14713199999999999,
          0.645085,
          0.406673,
          0.436458,
          0.5878979999999999,
          0.453617,
          0.345492,
          0.427738,
          0.6832050000000001,
          0.443018,
          0.194868,
          0.586942,
          0.5057189999999999,
          0.38417199999999996,
          0.663904,
          0.32562199999999997,
          0.33371300000000004,
          0.34751,
          0.47576599999999997,
          0.39755300000000005,
          0.601923,
          0.589105,
          0.145815,
          0.399623,
          0.283004,
          0.382755,
          0.466024,
          0.537846,
          0.471674,
          0.375722,
          0.201734,
          0.500156,
          0.663562,
          0.438097,
          0.518975,
          0.510429,
          0.44757399999999997,
          0.278173,
          0.871166,
          0.673768,
          0.624728,
          0.682245,
          0.8610969999999999,
          0.429266,
          0.788213,
          0.362927,
          0.42686199999999996,
          0.753685,
          0.276888,
          0.635903,
          0.483097,
          0.287727,
          0.47691000000000006,
          0.426965,
          0.788233,
          0.235854,
          0.683455,
          0.27119699999999997,
          0.351511,
          0.233923,
          0.43599499999999997,
          0.34610599999999997,
          0.39611399999999997,
          0.46964300000000003,
          0.439327,
          0.529433,
          0.421642,
          0.286985,
          0.387988,
          0.48096700000000003,
          0.52623,
          0.718225,
          0.20856100000000002,
          0.232246,
          0.378787,
          0.26774699999999996,
          0.387982,
          0.288909,
          0.36686599999999997,
          0.313396,
          0.41766899999999996,
          0.764925,
          0.539327,
          0.766339,
          0.22629699999999997,
          0.5241600000000001,
          0.529774,
          0.4855,
          0.5182869999999999,
          0.846475,
          0.6249640000000001,
          0.45023500000000005,
          0.459121,
          0.19630999999999998,
          0.462739,
          0.393855,
          0.595564,
          0.042376,
          0.46209399999999995,
          0.407379,
          0.777252,
          0.057444,
          0.22723000000000002,
          0.473218,
          0.440464,
          0.552098,
          0.46849799999999997,
          0.504371,
          0.455317,
          0.49125699999999994,
          0.292914,
          0.808501,
          0.354453,
          0.50275,
          0.8846799999999999,
          0.49946999999999997,
          0.102447,
          0.44205600000000006,
          0.405844,
          0.636402,
          0.517523,
          0.300687,
          0.398007,
          0.252775,
          0.542141,
          0.513259,
          0.394023,
          0.384573,
          0.258288,
          0.840199,
          0.627296,
          0.411592,
          0.47466099999999994,
          0.329644,
          0.504303,
          0.47148,
          0.356631,
          0.668553,
          0.721248,
          0.530855,
          0.391256,
          0.654892,
          0.13964300000000002,
          0.129088,
          0.44247600000000004,
          0.381755,
          0.21044200000000002,
          0.412054,
          0.5116649999999999,
          0.40029000000000003,
          0.386397,
          0.744642,
          0.437513,
          0.6924279999999999,
          0.409197,
          0.355065,
          0.488683,
          0.685285,
          0.257895,
          0.19778199999999999,
          0.265094,
          0.8337700000000001,
          0.492788,
          0.5409430000000001,
          0.444995,
          0.344099,
          0.111197,
          0.194606,
          0.47578400000000004,
          0.755426,
          0.060828999999999994,
          0.277737,
          0.450693,
          0.39408200000000004,
          0.157917,
          0.472934,
          0.5621520000000001,
          0.38256799999999996,
          0.38648699999999997,
          0.7294689999999999,
          0.590444,
          0.345497,
          0.48516400000000004,
          0.29505,
          0.408893,
          0.460434,
          0.760137,
          0.689638,
          0.27648,
          0.424699,
          0.262074,
          0.512622,
          0.270977,
          0.382677,
          0.498259,
          0.514845,
          0.218196,
          0.511293,
          0.533116,
          0.242606,
          0.50084,
          0.5755359999999999,
          0.761478,
          0.5173979999999999,
          0.485599,
          0.424727,
          0.7046819999999999,
          0.621688,
          0.5583819999999999,
          0.623111,
          0.468836,
          0.235531,
          0.625631,
          0.579421,
          0.519784,
          0.258795,
          0.316688,
          0.562437,
          0.858402,
          0.21898,
          0.5669529999999999,
          0.7029449999999999,
          0.516266,
          0.46204300000000004,
          0.627081,
          0.6615409999999999,
          0.787775,
          0.48264300000000004,
          0.48742700000000005,
          0.600058,
          0.392683,
          0.453658,
          0.497936,
          0.767396,
          0.256583,
          0.44928999999999997,
          0.686807,
          0.43843699999999997,
          0.520514,
          0.267662,
          0.27952,
          0.232643,
          0.33174499999999996,
          0.393575,
          0.381601,
          0.411628,
          0.535972,
          0.435705,
          0.14986,
          0.596437,
          0.61328,
          0.381037,
          0.5507380000000001,
          0.40876399999999996,
          0.48554899999999995,
          0.661816,
          0.6496029999999999,
          0.575601,
          0.49270600000000003,
          0.524493,
          0.43865699999999996,
          0.283663,
          0.438908,
          0.575311,
          0.28341500000000003
         ],
         "y": [
          0.928639,
          0.544782,
          0.66782,
          0.039841,
          0.323977,
          0.892459,
          0.34227199999999997,
          0.889134,
          0.753798,
          0.22303299999999998,
          0.45213400000000004,
          0.0917,
          0.758219,
          0.854218,
          0.749592,
          0.47391400000000006,
          0.271767,
          0.40431300000000003,
          0.657678,
          0.647712,
          0.34379499999999996,
          0.40676599999999996,
          0.285878,
          0.198628,
          0.346448,
          0.34365100000000004,
          0.526411,
          0.09943300000000001,
          0.800566,
          0.880433,
          0.091894,
          0.835066,
          0.7295010000000001,
          0.261018,
          0.601376,
          0.09538300000000001,
          0.79089,
          0.761996,
          0.116933,
          0.61259,
          0.6624720000000001,
          0.8895379999999999,
          0.405817,
          0.769407,
          0.16219,
          0.6907399999999999,
          0.045823,
          0.49766000000000005,
          0.376643,
          0.740275,
          0.732312,
          0.555567,
          0.466484,
          0.651212,
          0.8305389999999999,
          0.574313,
          0.791412,
          0.187504,
          0.221493,
          0.873122,
          0.046098,
          0.9240709999999999,
          0.47508199999999995,
          0.7655569999999999,
          0.94604,
          0.766975,
          0.811249,
          0.788084,
          0.34991,
          0.297304,
          0.749972,
          0.8949030000000001,
          0.796038,
          0.875217,
          0.769034,
          0.732368,
          0.9407989999999999,
          0.772945,
          0.49328999999999995,
          0.434501,
          0.8500540000000001,
          0.30089699999999997,
          0.64668,
          0.42746300000000004,
          0.570042,
          0.802954,
          0.579495,
          0.815497,
          0.829311,
          0.757157,
          0.734668,
          0.210671,
          0.667184,
          0.26503499999999997,
          0.770443,
          0.427288,
          0.7439979999999999,
          0.769996,
          0.415204,
          0.44706899999999994,
          0.384258,
          0.629023,
          0.787193,
          0.6244850000000001,
          0.5610890000000001,
          0.756931,
          0.675071,
          0.531911,
          0.6913630000000001,
          0.437569,
          0.624455,
          0.794795,
          0.48138500000000006,
          0.751926,
          0.931897,
          0.6576380000000001,
          0.770731,
          0.9599620000000001,
          0.685883,
          0.600482,
          0.874444,
          0.7899390000000001,
          0.536246,
          0.662,
          0.7499979999999999,
          0.49387,
          0.43363999999999997,
          0.628267,
          0.739042,
          0.785801,
          0.6455350000000001,
          0.105651,
          0.604268,
          0.947694,
          0.682778,
          0.061184,
          0.71249,
          0.6007939999999999,
          0.9610040000000001,
          0.438454,
          0.87608,
          0.461776,
          0.89515,
          0.71943,
          0.6288729999999999,
          0.12214100000000001,
          0.796243,
          0.460052,
          0.589925,
          0.19584200000000002,
          0.30835300000000004,
          0.780542,
          0.774907,
          0.48348199999999997,
          0.698495,
          0.350088,
          0.47001400000000004,
          0.073973,
          0.68177,
          0.34953,
          0.5154380000000001,
          0.59464,
          0.500193,
          0.917834,
          0.378079,
          0.10965699999999999,
          0.737969,
          0.189555,
          0.845391,
          0.564109,
          0.6580189999999999,
          0.8796579999999999,
          0.292016,
          0.5773010000000001,
          0.26279,
          0.320736,
          0.708244,
          0.5862310000000001,
          0.45341400000000004,
          0.622306,
          0.374293,
          0.711482,
          0.049948,
          0.289566,
          0.278175,
          0.771749,
          0.241497,
          0.912694,
          0.912725,
          0.03302,
          0.23537600000000003,
          0.223005,
          0.317089,
          0.810292,
          0.169398,
          0.8742030000000001,
          0.35786100000000004,
          0.468605,
          0.783507,
          0.8981100000000001,
          0.612929,
          0.48240200000000005,
          0.759081,
          0.7478279999999999,
          0.953673,
          0.497324,
          0.122885,
          0.124623,
          0.18741300000000002,
          0.568101,
          0.749229,
          0.739401,
          0.735872,
          0.467653,
          0.7726649999999999,
          0.6393989999999999,
          0.633441,
          0.761339,
          0.084607,
          0.677802,
          0.599366,
          0.811588,
          0.606632,
          0.678666,
          0.5845640000000001,
          0.374585,
          0.625993,
          0.879808,
          0.154107,
          0.885915,
          0.41744499999999995,
          0.413925,
          0.566984,
          0.7014279999999999,
          0.703271,
          0.048304,
          0.5881,
          0.19101400000000002,
          0.64756,
          0.64489,
          0.366114,
          0.75305,
          0.600874,
          0.886764,
          0.736067,
          0.344595,
          0.619154,
          0.490782,
          0.437222,
          0.5670109999999999,
          0.454636,
          0.598366,
          0.548779,
          0.715374,
          0.27769299999999997,
          0.656814,
          0.35225300000000004,
          0.770534,
          0.237544,
          0.763995,
          0.419955,
          0.6235,
          0.767482,
          0.743704,
          0.5899449999999999,
          0.277082,
          0.43063,
          0.759128,
          0.444957,
          0.455951,
          0.6230939999999999,
          0.512486,
          0.17965599999999998,
          0.101194,
          0.757476,
          0.727255,
          0.24875500000000003,
          0.026626999999999998,
          0.617992,
          0.753864,
          0.402787,
          0.681617,
          0.47649600000000003,
          0.709915,
          0.679755,
          0.751084,
          0.07659500000000001,
          0.6646350000000001,
          0.6809850000000001,
          0.5783550000000001,
          0.395468,
          0.947052,
          0.699504,
          0.236927,
          0.681194,
          0.31957399999999997,
          0.608785,
          0.82252,
          0.824734,
          0.875309,
          0.642512,
          0.607286,
          0.119098,
          0.5762229999999999,
          0.04411,
          0.582773,
          0.24569899999999997,
          0.48860600000000004,
          0.725043,
          0.057846,
          0.49954399999999993,
          0.43650200000000006,
          0.806049,
          0.721354,
          0.092954,
          0.40324699999999997,
          0.436862,
          0.662643,
          0.25819699999999995,
          0.741915,
          0.5000720000000001,
          0.635671,
          0.153185,
          0.719694,
          0.464794,
          0.293585,
          0.577378,
          0.223687,
          0.593934,
          0.723283,
          0.796902,
          0.13000699999999998,
          0.422782,
          0.5102270000000001,
          0.244773,
          0.674979,
          0.502532,
          0.08413999999999999,
          0.75174,
          0.518945,
          0.8443139999999999,
          0.715009,
          0.260867,
          0.404911,
          0.373254,
          0.537668,
          0.206183,
          0.757207,
          0.37572300000000003,
          0.682027,
          0.720949,
          0.43471400000000004,
          0.761282,
          0.591889,
          0.6907439999999999,
          0.422396,
          0.6932,
          0.662425,
          0.511606,
          0.31524800000000003,
          0.705625,
          0.639622,
          0.5825359999999999,
          0.686638,
          0.7664529999999999,
          0.7379600000000001,
          0.8367190000000001,
          0.8450549999999999,
          0.637716,
          0.7253430000000001,
          0.919092,
          0.24720100000000003,
          0.575067,
          0.621992,
          0.20608800000000002,
          0.325194,
          0.221006,
          0.33713200000000004,
          0.617945,
          0.772991,
          0.627858,
          0.49581099999999995,
          0.648443,
          0.076473,
          0.792955,
          0.755749,
          0.658327,
          0.562813,
          0.656407,
          0.822667,
          0.288097,
          0.272663,
          0.402412,
          0.924588,
          0.7895840000000001,
          0.701407,
          0.7422449999999999,
          0.842348,
          0.46077700000000005,
          0.351128
         ],
         "z": [
          0.038762,
          0.045215,
          0.078222,
          0.07898,
          0.056346,
          0.044973,
          0.047133,
          0.10368699999999999,
          0.152093,
          0.072133,
          0.047403,
          0.046717,
          0.121974,
          0.09297899999999999,
          0.110758,
          0.054113999999999995,
          0.039952,
          0.121129,
          0.080234,
          0.11688499999999999,
          0.050995,
          0.10372,
          0.044301,
          0.073008,
          0.066285,
          0.095654,
          0.134506,
          0.068926,
          0.11921500000000002,
          0.13328399999999999,
          0.070061,
          0.11711600000000001,
          0.102384,
          0.037946,
          0.12546500000000002,
          0.032624,
          0.046531,
          0.152637,
          0.070704,
          0.11843,
          0.11788299999999999,
          0.145012,
          0.120899,
          0.149464,
          0.059272000000000005,
          0.14612999999999998,
          0.093257,
          0.08723600000000001,
          0.080419,
          0.097879,
          0.086339,
          0.047443,
          0.062198,
          0.144074,
          0.10068099999999999,
          0.04483,
          0.113943,
          0.06184,
          0.080704,
          0.131778,
          0.096479,
          0.038149,
          0.062214,
          0.105023,
          0.051905999999999994,
          0.082827,
          0.110029,
          0.04602,
          0.046603,
          0.052367,
          0.15853699999999998,
          0.070191,
          0.122269,
          0.140816,
          0.06022,
          0.162769,
          0.120447,
          0.122048,
          0.13462000000000002,
          0.117922,
          0.07759500000000001,
          0.100597,
          0.12728699999999998,
          0.11873,
          0.12105999999999999,
          0.13054300000000002,
          0.10696099999999999,
          0.132734,
          0.091593,
          0.10628699999999999,
          0.113081,
          0.077142,
          0.14577,
          0.034616,
          0.080777,
          0.046688,
          0.082175,
          0.059958000000000004,
          0.047566000000000004,
          0.05834299999999999,
          0.056948,
          0.148509,
          0.074299,
          0.113917,
          0.14572100000000002,
          0.106321,
          0.104735,
          0.043847000000000004,
          0.08744199999999999,
          0.066165,
          0.068611,
          0.061917999999999994,
          0.113765,
          0.112105,
          0.141497,
          0.115579,
          0.049299,
          0.073882,
          0.115476,
          0.146713,
          0.08822100000000001,
          0.141448,
          0.065152,
          0.09049700000000001,
          0.08837,
          0.044874000000000004,
          0.126996,
          0.147901,
          0.163154,
          0.14216600000000001,
          0.068598,
          0.039127999999999996,
          0.069095,
          0.045779,
          0.07297100000000001,
          0.044545999999999995,
          0.099477,
          0.063547,
          0.11705499999999999,
          0.112376,
          0.14823,
          0.119913,
          0.10816500000000001,
          0.11140599999999999,
          0.070021,
          0.037175,
          0.077652,
          0.12070299999999999,
          0.11466099999999999,
          0.040352,
          0.082843,
          0.072181,
          0.070721,
          0.10937000000000001,
          0.08742,
          0.109645,
          0.086374,
          0.056526,
          0.10974600000000001,
          0.081419,
          0.048875999999999996,
          0.05782,
          0.134149,
          0.138075,
          0.085578,
          0.041123,
          0.162512,
          0.07002699999999999,
          0.066743,
          0.04838,
          0.08734199999999999,
          0.09135700000000001,
          0.041114,
          0.08498700000000001,
          0.081785,
          0.046564999999999995,
          0.116499,
          0.091163,
          0.082558,
          0.092317,
          0.060248,
          0.06402100000000001,
          0.055709,
          0.09626799999999999,
          0.038463,
          0.148102,
          0.07286000000000001,
          0.138168,
          0.12775899999999998,
          0.113979,
          0.040518,
          0.038811,
          0.051021,
          0.074918,
          0.074635,
          0.123147,
          0.056142,
          0.13050699999999998,
          0.151251,
          0.045642,
          0.08881599999999999,
          0.126657,
          0.11429600000000001,
          0.147261,
          0.126425,
          0.044081999999999996,
          0.037215,
          0.040326999999999995,
          0.07916799999999999,
          0.116371,
          0.107579,
          0.078703,
          0.07775499999999999,
          0.046849,
          0.076098,
          0.140456,
          0.10754100000000001,
          0.091548,
          0.039282,
          0.10414100000000001,
          0.06592100000000001,
          0.059104,
          0.146189,
          0.120663,
          0.110918,
          0.085741,
          0.069095,
          0.08831900000000001,
          0.06943300000000001,
          0.045547000000000004,
          0.10837999999999999,
          0.11156700000000001,
          0.126556,
          0.148054,
          0.145259,
          0.101704,
          0.108276,
          0.078685,
          0.15257300000000001,
          0.073902,
          0.08768200000000001,
          0.150645,
          0.14138900000000001,
          0.148376,
          0.05599,
          0.099024,
          0.11583900000000001,
          0.119925,
          0.09830499999999999,
          0.097682,
          0.06729199999999999,
          0.10640899999999999,
          0.143264,
          0.156146,
          0.092683,
          0.10338199999999999,
          0.047525,
          0.052992,
          0.034363,
          0.08148999999999999,
          0.083213,
          0.09949,
          0.12301400000000001,
          0.103549,
          0.092714,
          0.090441,
          0.075465,
          0.150738,
          0.10841500000000001,
          0.117778,
          0.068348,
          0.11484200000000001,
          0.056816,
          0.064077,
          0.058910000000000004,
          0.070738,
          0.088766,
          0.11654300000000001,
          0.109929,
          0.152107,
          0.10830999999999999,
          0.085007,
          0.128736,
          0.069039,
          0.106326,
          0.063764,
          0.069855,
          0.16706400000000002,
          0.0927,
          0.050262,
          0.050317,
          0.06944,
          0.116835,
          0.086735,
          0.084905,
          0.077806,
          0.11678,
          0.130547,
          0.10369600000000001,
          0.13228900000000002,
          0.12182,
          0.117569,
          0.036282,
          0.146182,
          0.088405,
          0.08669400000000001,
          0.085626,
          0.073558,
          0.097301,
          0.088188,
          0.12198800000000001,
          0.045926999999999996,
          0.058754999999999995,
          0.139822,
          0.034482,
          0.048333999999999995,
          0.048548,
          0.112759,
          0.075537,
          0.162557,
          0.052449,
          0.09936,
          0.069595,
          0.083773,
          0.115398,
          0.046942000000000005,
          0.138264,
          0.037423000000000005,
          0.10908499999999999,
          0.060805,
          0.133012,
          0.046337,
          0.089056,
          0.13484200000000002,
          0.038286,
          0.078885,
          0.082588,
          0.068112,
          0.05581799999999999,
          0.036436,
          0.078605,
          0.10608800000000002,
          0.068699,
          0.119701,
          0.091815,
          0.034876,
          0.081028,
          0.11893699999999999,
          0.048597,
          0.113828,
          0.120609,
          0.07601000000000001,
          0.10261400000000001,
          0.107575,
          0.116995,
          0.125588,
          0.116671,
          0.096725,
          0.132968,
          0.104152,
          0.091908,
          0.094239,
          0.048832,
          0.072409,
          0.073648,
          0.101715,
          0.06217999999999999,
          0.08691900000000001,
          0.09025,
          0.080788,
          0.140041,
          0.068762,
          0.045157,
          0.11871300000000001,
          0.066756,
          0.093976,
          0.079934,
          0.101702,
          0.109366,
          0.126585,
          0.13757,
          0.134718,
          0.14523699999999998,
          0.037249000000000004,
          0.10876300000000001,
          0.122761,
          0.082065,
          0.084939,
          0.12946400000000002,
          0.056085,
          0.046833,
          0.035849,
          0.04626,
          0.066169,
          0.132744,
          0.066505,
          0.121531,
          0.06582400000000001,
          0.054525,
          0.078112
         ]
        }
       ],
       "layout": {
        "scene": {
         "xaxis": {
          "exponentformat": "e",
          "showexponent": "all",
          "title": {
           "text": "0th"
          },
          "type": "linear"
         },
         "yaxis": {
          "exponentformat": "e",
          "showexponent": "all",
          "title": {
           "text": "1st"
          },
          "type": "linear"
         },
         "zaxis": {
          "exponentformat": "e",
          "showexponent": "all",
          "title": {
           "text": "2nd"
          },
          "type": "linear"
         }
        },
        "template": {
         "data": {
          "bar": [
           {
            "error_x": {
             "color": "#2a3f5f"
            },
            "error_y": {
             "color": "#2a3f5f"
            },
            "marker": {
             "line": {
              "color": "#E5ECF6",
              "width": 0.5
             },
             "pattern": {
              "fillmode": "overlay",
              "size": 10,
              "solidity": 0.2
             }
            },
            "type": "bar"
           }
          ],
          "barpolar": [
           {
            "marker": {
             "line": {
              "color": "#E5ECF6",
              "width": 0.5
             },
             "pattern": {
              "fillmode": "overlay",
              "size": 10,
              "solidity": 0.2
             }
            },
            "type": "barpolar"
           }
          ],
          "carpet": [
           {
            "aaxis": {
             "endlinecolor": "#2a3f5f",
             "gridcolor": "white",
             "linecolor": "white",
             "minorgridcolor": "white",
             "startlinecolor": "#2a3f5f"
            },
            "baxis": {
             "endlinecolor": "#2a3f5f",
             "gridcolor": "white",
             "linecolor": "white",
             "minorgridcolor": "white",
             "startlinecolor": "#2a3f5f"
            },
            "type": "carpet"
           }
          ],
          "choropleth": [
           {
            "colorbar": {
             "outlinewidth": 0,
             "ticks": ""
            },
            "type": "choropleth"
           }
          ],
          "contour": [
           {
            "colorbar": {
             "outlinewidth": 0,
             "ticks": ""
            },
            "colorscale": [
             [
              0,
              "#0d0887"
             ],
             [
              0.1111111111111111,
              "#46039f"
             ],
             [
              0.2222222222222222,
              "#7201a8"
             ],
             [
              0.3333333333333333,
              "#9c179e"
             ],
             [
              0.4444444444444444,
              "#bd3786"
             ],
             [
              0.5555555555555556,
              "#d8576b"
             ],
             [
              0.6666666666666666,
              "#ed7953"
             ],
             [
              0.7777777777777778,
              "#fb9f3a"
             ],
             [
              0.8888888888888888,
              "#fdca26"
             ],
             [
              1,
              "#f0f921"
             ]
            ],
            "type": "contour"
           }
          ],
          "contourcarpet": [
           {
            "colorbar": {
             "outlinewidth": 0,
             "ticks": ""
            },
            "type": "contourcarpet"
           }
          ],
          "heatmap": [
           {
            "colorbar": {
             "outlinewidth": 0,
             "ticks": ""
            },
            "colorscale": [
             [
              0,
              "#0d0887"
             ],
             [
              0.1111111111111111,
              "#46039f"
             ],
             [
              0.2222222222222222,
              "#7201a8"
             ],
             [
              0.3333333333333333,
              "#9c179e"
             ],
             [
              0.4444444444444444,
              "#bd3786"
             ],
             [
              0.5555555555555556,
              "#d8576b"
             ],
             [
              0.6666666666666666,
              "#ed7953"
             ],
             [
              0.7777777777777778,
              "#fb9f3a"
             ],
             [
              0.8888888888888888,
              "#fdca26"
             ],
             [
              1,
              "#f0f921"
             ]
            ],
            "type": "heatmap"
           }
          ],
          "heatmapgl": [
           {
            "colorbar": {
             "outlinewidth": 0,
             "ticks": ""
            },
            "colorscale": [
             [
              0,
              "#0d0887"
             ],
             [
              0.1111111111111111,
              "#46039f"
             ],
             [
              0.2222222222222222,
              "#7201a8"
             ],
             [
              0.3333333333333333,
              "#9c179e"
             ],
             [
              0.4444444444444444,
              "#bd3786"
             ],
             [
              0.5555555555555556,
              "#d8576b"
             ],
             [
              0.6666666666666666,
              "#ed7953"
             ],
             [
              0.7777777777777778,
              "#fb9f3a"
             ],
             [
              0.8888888888888888,
              "#fdca26"
             ],
             [
              1,
              "#f0f921"
             ]
            ],
            "type": "heatmapgl"
           }
          ],
          "histogram": [
           {
            "marker": {
             "pattern": {
              "fillmode": "overlay",
              "size": 10,
              "solidity": 0.2
             }
            },
            "type": "histogram"
           }
          ],
          "histogram2d": [
           {
            "colorbar": {
             "outlinewidth": 0,
             "ticks": ""
            },
            "colorscale": [
             [
              0,
              "#0d0887"
             ],
             [
              0.1111111111111111,
              "#46039f"
             ],
             [
              0.2222222222222222,
              "#7201a8"
             ],
             [
              0.3333333333333333,
              "#9c179e"
             ],
             [
              0.4444444444444444,
              "#bd3786"
             ],
             [
              0.5555555555555556,
              "#d8576b"
             ],
             [
              0.6666666666666666,
              "#ed7953"
             ],
             [
              0.7777777777777778,
              "#fb9f3a"
             ],
             [
              0.8888888888888888,
              "#fdca26"
             ],
             [
              1,
              "#f0f921"
             ]
            ],
            "type": "histogram2d"
           }
          ],
          "histogram2dcontour": [
           {
            "colorbar": {
             "outlinewidth": 0,
             "ticks": ""
            },
            "colorscale": [
             [
              0,
              "#0d0887"
             ],
             [
              0.1111111111111111,
              "#46039f"
             ],
             [
              0.2222222222222222,
              "#7201a8"
             ],
             [
              0.3333333333333333,
              "#9c179e"
             ],
             [
              0.4444444444444444,
              "#bd3786"
             ],
             [
              0.5555555555555556,
              "#d8576b"
             ],
             [
              0.6666666666666666,
              "#ed7953"
             ],
             [
              0.7777777777777778,
              "#fb9f3a"
             ],
             [
              0.8888888888888888,
              "#fdca26"
             ],
             [
              1,
              "#f0f921"
             ]
            ],
            "type": "histogram2dcontour"
           }
          ],
          "mesh3d": [
           {
            "colorbar": {
             "outlinewidth": 0,
             "ticks": ""
            },
            "type": "mesh3d"
           }
          ],
          "parcoords": [
           {
            "line": {
             "colorbar": {
              "outlinewidth": 0,
              "ticks": ""
             }
            },
            "type": "parcoords"
           }
          ],
          "pie": [
           {
            "automargin": true,
            "type": "pie"
           }
          ],
          "scatter": [
           {
            "fillpattern": {
             "fillmode": "overlay",
             "size": 10,
             "solidity": 0.2
            },
            "type": "scatter"
           }
          ],
          "scatter3d": [
           {
            "line": {
             "colorbar": {
              "outlinewidth": 0,
              "ticks": ""
             }
            },
            "marker": {
             "colorbar": {
              "outlinewidth": 0,
              "ticks": ""
             }
            },
            "type": "scatter3d"
           }
          ],
          "scattercarpet": [
           {
            "marker": {
             "colorbar": {
              "outlinewidth": 0,
              "ticks": ""
             }
            },
            "type": "scattercarpet"
           }
          ],
          "scattergeo": [
           {
            "marker": {
             "colorbar": {
              "outlinewidth": 0,
              "ticks": ""
             }
            },
            "type": "scattergeo"
           }
          ],
          "scattergl": [
           {
            "marker": {
             "colorbar": {
              "outlinewidth": 0,
              "ticks": ""
             }
            },
            "type": "scattergl"
           }
          ],
          "scattermapbox": [
           {
            "marker": {
             "colorbar": {
              "outlinewidth": 0,
              "ticks": ""
             }
            },
            "type": "scattermapbox"
           }
          ],
          "scatterpolar": [
           {
            "marker": {
             "colorbar": {
              "outlinewidth": 0,
              "ticks": ""
             }
            },
            "type": "scatterpolar"
           }
          ],
          "scatterpolargl": [
           {
            "marker": {
             "colorbar": {
              "outlinewidth": 0,
              "ticks": ""
             }
            },
            "type": "scatterpolargl"
           }
          ],
          "scatterternary": [
           {
            "marker": {
             "colorbar": {
              "outlinewidth": 0,
              "ticks": ""
             }
            },
            "type": "scatterternary"
           }
          ],
          "surface": [
           {
            "colorbar": {
             "outlinewidth": 0,
             "ticks": ""
            },
            "colorscale": [
             [
              0,
              "#0d0887"
             ],
             [
              0.1111111111111111,
              "#46039f"
             ],
             [
              0.2222222222222222,
              "#7201a8"
             ],
             [
              0.3333333333333333,
              "#9c179e"
             ],
             [
              0.4444444444444444,
              "#bd3786"
             ],
             [
              0.5555555555555556,
              "#d8576b"
             ],
             [
              0.6666666666666666,
              "#ed7953"
             ],
             [
              0.7777777777777778,
              "#fb9f3a"
             ],
             [
              0.8888888888888888,
              "#fdca26"
             ],
             [
              1,
              "#f0f921"
             ]
            ],
            "type": "surface"
           }
          ],
          "table": [
           {
            "cells": {
             "fill": {
              "color": "#EBF0F8"
             },
             "line": {
              "color": "white"
             }
            },
            "header": {
             "fill": {
              "color": "#C8D4E3"
             },
             "line": {
              "color": "white"
             }
            },
            "type": "table"
           }
          ]
         },
         "layout": {
          "annotationdefaults": {
           "arrowcolor": "#2a3f5f",
           "arrowhead": 0,
           "arrowwidth": 1
          },
          "autotypenumbers": "strict",
          "coloraxis": {
           "colorbar": {
            "outlinewidth": 0,
            "ticks": ""
           }
          },
          "colorscale": {
           "diverging": [
            [
             0,
             "#8e0152"
            ],
            [
             0.1,
             "#c51b7d"
            ],
            [
             0.2,
             "#de77ae"
            ],
            [
             0.3,
             "#f1b6da"
            ],
            [
             0.4,
             "#fde0ef"
            ],
            [
             0.5,
             "#f7f7f7"
            ],
            [
             0.6,
             "#e6f5d0"
            ],
            [
             0.7,
             "#b8e186"
            ],
            [
             0.8,
             "#7fbc41"
            ],
            [
             0.9,
             "#4d9221"
            ],
            [
             1,
             "#276419"
            ]
           ],
           "sequential": [
            [
             0,
             "#0d0887"
            ],
            [
             0.1111111111111111,
             "#46039f"
            ],
            [
             0.2222222222222222,
             "#7201a8"
            ],
            [
             0.3333333333333333,
             "#9c179e"
            ],
            [
             0.4444444444444444,
             "#bd3786"
            ],
            [
             0.5555555555555556,
             "#d8576b"
            ],
            [
             0.6666666666666666,
             "#ed7953"
            ],
            [
             0.7777777777777778,
             "#fb9f3a"
            ],
            [
             0.8888888888888888,
             "#fdca26"
            ],
            [
             1,
             "#f0f921"
            ]
           ],
           "sequentialminus": [
            [
             0,
             "#0d0887"
            ],
            [
             0.1111111111111111,
             "#46039f"
            ],
            [
             0.2222222222222222,
             "#7201a8"
            ],
            [
             0.3333333333333333,
             "#9c179e"
            ],
            [
             0.4444444444444444,
             "#bd3786"
            ],
            [
             0.5555555555555556,
             "#d8576b"
            ],
            [
             0.6666666666666666,
             "#ed7953"
            ],
            [
             0.7777777777777778,
             "#fb9f3a"
            ],
            [
             0.8888888888888888,
             "#fdca26"
            ],
            [
             1,
             "#f0f921"
            ]
           ]
          },
          "colorway": [
           "#636efa",
           "#EF553B",
           "#00cc96",
           "#ab63fa",
           "#FFA15A",
           "#19d3f3",
           "#FF6692",
           "#B6E880",
           "#FF97FF",
           "#FECB52"
          ],
          "font": {
           "color": "#2a3f5f"
          },
          "geo": {
           "bgcolor": "white",
           "lakecolor": "white",
           "landcolor": "#E5ECF6",
           "showlakes": true,
           "showland": true,
           "subunitcolor": "white"
          },
          "hoverlabel": {
           "align": "left"
          },
          "hovermode": "closest",
          "mapbox": {
           "style": "light"
          },
          "paper_bgcolor": "white",
          "plot_bgcolor": "#E5ECF6",
          "polar": {
           "angularaxis": {
            "gridcolor": "white",
            "linecolor": "white",
            "ticks": ""
           },
           "bgcolor": "#E5ECF6",
           "radialaxis": {
            "gridcolor": "white",
            "linecolor": "white",
            "ticks": ""
           }
          },
          "scene": {
           "xaxis": {
            "backgroundcolor": "#E5ECF6",
            "gridcolor": "white",
            "gridwidth": 2,
            "linecolor": "white",
            "showbackground": true,
            "ticks": "",
            "zerolinecolor": "white"
           },
           "yaxis": {
            "backgroundcolor": "#E5ECF6",
            "gridcolor": "white",
            "gridwidth": 2,
            "linecolor": "white",
            "showbackground": true,
            "ticks": "",
            "zerolinecolor": "white"
           },
           "zaxis": {
            "backgroundcolor": "#E5ECF6",
            "gridcolor": "white",
            "gridwidth": 2,
            "linecolor": "white",
            "showbackground": true,
            "ticks": "",
            "zerolinecolor": "white"
           }
          },
          "shapedefaults": {
           "line": {
            "color": "#2a3f5f"
           }
          },
          "ternary": {
           "aaxis": {
            "gridcolor": "white",
            "linecolor": "white",
            "ticks": ""
           },
           "baxis": {
            "gridcolor": "white",
            "linecolor": "white",
            "ticks": ""
           },
           "bgcolor": "#E5ECF6",
           "caxis": {
            "gridcolor": "white",
            "linecolor": "white",
            "ticks": ""
           }
          },
          "title": {
           "x": 0.05
          },
          "xaxis": {
           "automargin": true,
           "gridcolor": "white",
           "linecolor": "white",
           "ticks": "",
           "title": {
            "standoff": 15
           },
           "zerolinecolor": "white",
           "zerolinewidth": 2
          },
          "yaxis": {
           "automargin": true,
           "gridcolor": "white",
           "linecolor": "white",
           "ticks": "",
           "title": {
            "standoff": 15
           },
           "zerolinecolor": "white",
           "zerolinewidth": 2
          }
         }
        }
       }
      }
     },
     "metadata": {},
     "output_type": "display_data"
    }
   ],
   "source": [
    "plot_point_cloud(df.query('target == \"human_arms_out3\"')[[\"x\", \"y\", \"z\"]].values)"
   ]
  },
  {
   "cell_type": "code",
   "execution_count": 120,
   "metadata": {},
   "outputs": [
    {
     "data": {
      "text/plain": [
       "(40, 400, 3)"
      ]
     },
     "execution_count": 120,
     "metadata": {},
     "output_type": "execute_result"
    }
   ],
   "source": [
    "point_clouds = np.asarray(\n",
    "    [\n",
    "        df.query(\"target == @shape\")[[\"x\", \"y\", \"z\"]].values\n",
    "        for shape in df[\"target\"].unique()\n",
    "    ]\n",
    ")\n",
    "point_clouds.shape"
   ]
  },
  {
   "cell_type": "code",
   "execution_count": 121,
   "metadata": {},
   "outputs": [],
   "source": [
    "persistence = VietorisRipsPersistence(\n",
    "    metric=\"euclidean\",\n",
    "    homology_dimensions=homology_dimensions,\n",
    "    n_jobs=6,\n",
    "    collapse_edges=True,\n",
    ")\n",
    "persistence_diagrams = persistence.fit_transform(point_clouds)\n"
   ]
  },
  {
   "cell_type": "code",
   "execution_count": 122,
   "metadata": {},
   "outputs": [
    {
     "data": {
      "application/vnd.plotly.v1+json": {
       "config": {
        "plotlyServerURL": "https://plot.ly"
       },
       "data": [
        {
         "marker": {
          "color": [
           0,
           1,
           2,
           3,
           4,
           5,
           6,
           7,
           8,
           9,
           10,
           11,
           12,
           13,
           14,
           15,
           16,
           17,
           18,
           19,
           20,
           21,
           22,
           23,
           24,
           25,
           26,
           27,
           28,
           29,
           30,
           31,
           32,
           33,
           34,
           35,
           36,
           37,
           38,
           39
          ],
          "colorscale": [
           [
            0,
            "#440154"
           ],
           [
            0.1111111111111111,
            "#482878"
           ],
           [
            0.2222222222222222,
            "#3e4989"
           ],
           [
            0.3333333333333333,
            "#31688e"
           ],
           [
            0.4444444444444444,
            "#26828e"
           ],
           [
            0.5555555555555556,
            "#1f9e89"
           ],
           [
            0.6666666666666666,
            "#35b779"
           ],
           [
            0.7777777777777778,
            "#6ece58"
           ],
           [
            0.8888888888888888,
            "#b5de2b"
           ],
           [
            1,
            "#fde725"
           ]
          ],
          "opacity": 0.8,
          "size": 4
         },
         "mode": "markers",
         "type": "scatter3d",
         "x": [
          2.7720152803512863,
          2.4727784557939465,
          2.663165201353194,
          2.520703847864949,
          2.343080696151383,
          2.5289286062931304,
          2.6989359192355216,
          2.6853741691935573,
          2.633123459363426,
          2.5993512661121736,
          2.1168535469866434,
          2.1420622017655417,
          2.035783767703829,
          1.9515822379083356,
          1.9568154787316179,
          2.293336263624783,
          1.8907125790025385,
          1.9850251384854471,
          2.1391333279442053,
          1.9395120905155838,
          2.1919971199523576,
          2.3764262490917236,
          2.4482882338032623,
          2.4238031611203685,
          2.2581059296096577,
          2.3960124938223,
          2.259557648728813,
          2.4388499541493327,
          2.3836436684258873,
          2.4787675530030646,
          2.3843970809014037,
          2.3969279728123762,
          2.3934998590113565,
          2.5866003515644285,
          2.5692675114759758,
          2.56210349483893,
          2.5704160316404097,
          2.5740547219694174,
          2.8645306629872214,
          2.6577189702867328
         ],
         "y": [
          -20.30837529684805,
          19.092539772030268,
          -44.32448135376935,
          -74.41023553991766,
          84.42254067379726,
          -33.53879190383647,
          -13.56009683224219,
          -60.20456110274811,
          -20.385188857765897,
          52.22856708407158,
          5.463676141068623,
          5.260426546490224,
          4.902534769370383,
          3.8071044520525157,
          4.602505237361362,
          9.620792487148124,
          3.514676868316563,
          4.762822739028447,
          9.308908788699805,
          3.984020046836306,
          9.82159000988041,
          7.329323768913488,
          -42.28789521171053,
          29.55174521874718,
          -125.2031291227712,
          51.23625354514134,
          21.663966649159256,
          39.48352959326419,
          14.15878085149679,
          -15.125157699927259,
          -770.2689310607459,
          22.746218094209734,
          39.39188244973213,
          -17.79420850148126,
          -24.39578202263004,
          -16.229985757312512,
          -15.934219394302962,
          -30.33630976586378,
          -9.484523747399273,
          -28.806739578937183
         ],
         "z": [
          -0.4965494269287455,
          -1.0664900016749523,
          -0.7093010066214845,
          -0.7358718960216651,
          -0.7980006217988493,
          -0.6333775177864173,
          -0.6487402638360065,
          -0.7690166023925374,
          -0.6607070279090944,
          -0.5803813227606248,
          -0.583199766115152,
          -0.27612140360096493,
          -0.19871756223024484,
          -0.5765977071655582,
          -1.722800092172516,
          -1.1523807151218226,
          -0.019807576124777737,
          -0.29256933037594857,
          -0.22041759865344812,
          -0.4757297899928606,
          -0.6523102302210059,
          -0.6263222074662546,
          0,
          -0.22160420236476638,
          -1,
          -0.28332374833928176,
          -0.7332787104759891,
          -0.5150215022973542,
          -0.3361361284774667,
          -1,
          -0.672702899871738,
          -0.7442359935011715,
          -0.8613236395355115,
          -0.5182498595647056,
          -0.5456666568003746,
          -0.6414448292234928,
          -0.5979163595123698,
          -0.5454334398929962,
          -0.8330141031662486,
          -0.6624725539763923
         ]
        }
       ],
       "layout": {
        "scene": {
         "xaxis": {
          "exponentformat": "e",
          "showexponent": "all",
          "title": {
           "text": "0th"
          },
          "type": "linear"
         },
         "yaxis": {
          "exponentformat": "e",
          "showexponent": "all",
          "title": {
           "text": "1st"
          },
          "type": "linear"
         },
         "zaxis": {
          "exponentformat": "e",
          "showexponent": "all",
          "title": {
           "text": "2nd"
          },
          "type": "linear"
         }
        },
        "template": {
         "data": {
          "bar": [
           {
            "error_x": {
             "color": "#2a3f5f"
            },
            "error_y": {
             "color": "#2a3f5f"
            },
            "marker": {
             "line": {
              "color": "#E5ECF6",
              "width": 0.5
             },
             "pattern": {
              "fillmode": "overlay",
              "size": 10,
              "solidity": 0.2
             }
            },
            "type": "bar"
           }
          ],
          "barpolar": [
           {
            "marker": {
             "line": {
              "color": "#E5ECF6",
              "width": 0.5
             },
             "pattern": {
              "fillmode": "overlay",
              "size": 10,
              "solidity": 0.2
             }
            },
            "type": "barpolar"
           }
          ],
          "carpet": [
           {
            "aaxis": {
             "endlinecolor": "#2a3f5f",
             "gridcolor": "white",
             "linecolor": "white",
             "minorgridcolor": "white",
             "startlinecolor": "#2a3f5f"
            },
            "baxis": {
             "endlinecolor": "#2a3f5f",
             "gridcolor": "white",
             "linecolor": "white",
             "minorgridcolor": "white",
             "startlinecolor": "#2a3f5f"
            },
            "type": "carpet"
           }
          ],
          "choropleth": [
           {
            "colorbar": {
             "outlinewidth": 0,
             "ticks": ""
            },
            "type": "choropleth"
           }
          ],
          "contour": [
           {
            "colorbar": {
             "outlinewidth": 0,
             "ticks": ""
            },
            "colorscale": [
             [
              0,
              "#0d0887"
             ],
             [
              0.1111111111111111,
              "#46039f"
             ],
             [
              0.2222222222222222,
              "#7201a8"
             ],
             [
              0.3333333333333333,
              "#9c179e"
             ],
             [
              0.4444444444444444,
              "#bd3786"
             ],
             [
              0.5555555555555556,
              "#d8576b"
             ],
             [
              0.6666666666666666,
              "#ed7953"
             ],
             [
              0.7777777777777778,
              "#fb9f3a"
             ],
             [
              0.8888888888888888,
              "#fdca26"
             ],
             [
              1,
              "#f0f921"
             ]
            ],
            "type": "contour"
           }
          ],
          "contourcarpet": [
           {
            "colorbar": {
             "outlinewidth": 0,
             "ticks": ""
            },
            "type": "contourcarpet"
           }
          ],
          "heatmap": [
           {
            "colorbar": {
             "outlinewidth": 0,
             "ticks": ""
            },
            "colorscale": [
             [
              0,
              "#0d0887"
             ],
             [
              0.1111111111111111,
              "#46039f"
             ],
             [
              0.2222222222222222,
              "#7201a8"
             ],
             [
              0.3333333333333333,
              "#9c179e"
             ],
             [
              0.4444444444444444,
              "#bd3786"
             ],
             [
              0.5555555555555556,
              "#d8576b"
             ],
             [
              0.6666666666666666,
              "#ed7953"
             ],
             [
              0.7777777777777778,
              "#fb9f3a"
             ],
             [
              0.8888888888888888,
              "#fdca26"
             ],
             [
              1,
              "#f0f921"
             ]
            ],
            "type": "heatmap"
           }
          ],
          "heatmapgl": [
           {
            "colorbar": {
             "outlinewidth": 0,
             "ticks": ""
            },
            "colorscale": [
             [
              0,
              "#0d0887"
             ],
             [
              0.1111111111111111,
              "#46039f"
             ],
             [
              0.2222222222222222,
              "#7201a8"
             ],
             [
              0.3333333333333333,
              "#9c179e"
             ],
             [
              0.4444444444444444,
              "#bd3786"
             ],
             [
              0.5555555555555556,
              "#d8576b"
             ],
             [
              0.6666666666666666,
              "#ed7953"
             ],
             [
              0.7777777777777778,
              "#fb9f3a"
             ],
             [
              0.8888888888888888,
              "#fdca26"
             ],
             [
              1,
              "#f0f921"
             ]
            ],
            "type": "heatmapgl"
           }
          ],
          "histogram": [
           {
            "marker": {
             "pattern": {
              "fillmode": "overlay",
              "size": 10,
              "solidity": 0.2
             }
            },
            "type": "histogram"
           }
          ],
          "histogram2d": [
           {
            "colorbar": {
             "outlinewidth": 0,
             "ticks": ""
            },
            "colorscale": [
             [
              0,
              "#0d0887"
             ],
             [
              0.1111111111111111,
              "#46039f"
             ],
             [
              0.2222222222222222,
              "#7201a8"
             ],
             [
              0.3333333333333333,
              "#9c179e"
             ],
             [
              0.4444444444444444,
              "#bd3786"
             ],
             [
              0.5555555555555556,
              "#d8576b"
             ],
             [
              0.6666666666666666,
              "#ed7953"
             ],
             [
              0.7777777777777778,
              "#fb9f3a"
             ],
             [
              0.8888888888888888,
              "#fdca26"
             ],
             [
              1,
              "#f0f921"
             ]
            ],
            "type": "histogram2d"
           }
          ],
          "histogram2dcontour": [
           {
            "colorbar": {
             "outlinewidth": 0,
             "ticks": ""
            },
            "colorscale": [
             [
              0,
              "#0d0887"
             ],
             [
              0.1111111111111111,
              "#46039f"
             ],
             [
              0.2222222222222222,
              "#7201a8"
             ],
             [
              0.3333333333333333,
              "#9c179e"
             ],
             [
              0.4444444444444444,
              "#bd3786"
             ],
             [
              0.5555555555555556,
              "#d8576b"
             ],
             [
              0.6666666666666666,
              "#ed7953"
             ],
             [
              0.7777777777777778,
              "#fb9f3a"
             ],
             [
              0.8888888888888888,
              "#fdca26"
             ],
             [
              1,
              "#f0f921"
             ]
            ],
            "type": "histogram2dcontour"
           }
          ],
          "mesh3d": [
           {
            "colorbar": {
             "outlinewidth": 0,
             "ticks": ""
            },
            "type": "mesh3d"
           }
          ],
          "parcoords": [
           {
            "line": {
             "colorbar": {
              "outlinewidth": 0,
              "ticks": ""
             }
            },
            "type": "parcoords"
           }
          ],
          "pie": [
           {
            "automargin": true,
            "type": "pie"
           }
          ],
          "scatter": [
           {
            "fillpattern": {
             "fillmode": "overlay",
             "size": 10,
             "solidity": 0.2
            },
            "type": "scatter"
           }
          ],
          "scatter3d": [
           {
            "line": {
             "colorbar": {
              "outlinewidth": 0,
              "ticks": ""
             }
            },
            "marker": {
             "colorbar": {
              "outlinewidth": 0,
              "ticks": ""
             }
            },
            "type": "scatter3d"
           }
          ],
          "scattercarpet": [
           {
            "marker": {
             "colorbar": {
              "outlinewidth": 0,
              "ticks": ""
             }
            },
            "type": "scattercarpet"
           }
          ],
          "scattergeo": [
           {
            "marker": {
             "colorbar": {
              "outlinewidth": 0,
              "ticks": ""
             }
            },
            "type": "scattergeo"
           }
          ],
          "scattergl": [
           {
            "marker": {
             "colorbar": {
              "outlinewidth": 0,
              "ticks": ""
             }
            },
            "type": "scattergl"
           }
          ],
          "scattermapbox": [
           {
            "marker": {
             "colorbar": {
              "outlinewidth": 0,
              "ticks": ""
             }
            },
            "type": "scattermapbox"
           }
          ],
          "scatterpolar": [
           {
            "marker": {
             "colorbar": {
              "outlinewidth": 0,
              "ticks": ""
             }
            },
            "type": "scatterpolar"
           }
          ],
          "scatterpolargl": [
           {
            "marker": {
             "colorbar": {
              "outlinewidth": 0,
              "ticks": ""
             }
            },
            "type": "scatterpolargl"
           }
          ],
          "scatterternary": [
           {
            "marker": {
             "colorbar": {
              "outlinewidth": 0,
              "ticks": ""
             }
            },
            "type": "scatterternary"
           }
          ],
          "surface": [
           {
            "colorbar": {
             "outlinewidth": 0,
             "ticks": ""
            },
            "colorscale": [
             [
              0,
              "#0d0887"
             ],
             [
              0.1111111111111111,
              "#46039f"
             ],
             [
              0.2222222222222222,
              "#7201a8"
             ],
             [
              0.3333333333333333,
              "#9c179e"
             ],
             [
              0.4444444444444444,
              "#bd3786"
             ],
             [
              0.5555555555555556,
              "#d8576b"
             ],
             [
              0.6666666666666666,
              "#ed7953"
             ],
             [
              0.7777777777777778,
              "#fb9f3a"
             ],
             [
              0.8888888888888888,
              "#fdca26"
             ],
             [
              1,
              "#f0f921"
             ]
            ],
            "type": "surface"
           }
          ],
          "table": [
           {
            "cells": {
             "fill": {
              "color": "#EBF0F8"
             },
             "line": {
              "color": "white"
             }
            },
            "header": {
             "fill": {
              "color": "#C8D4E3"
             },
             "line": {
              "color": "white"
             }
            },
            "type": "table"
           }
          ]
         },
         "layout": {
          "annotationdefaults": {
           "arrowcolor": "#2a3f5f",
           "arrowhead": 0,
           "arrowwidth": 1
          },
          "autotypenumbers": "strict",
          "coloraxis": {
           "colorbar": {
            "outlinewidth": 0,
            "ticks": ""
           }
          },
          "colorscale": {
           "diverging": [
            [
             0,
             "#8e0152"
            ],
            [
             0.1,
             "#c51b7d"
            ],
            [
             0.2,
             "#de77ae"
            ],
            [
             0.3,
             "#f1b6da"
            ],
            [
             0.4,
             "#fde0ef"
            ],
            [
             0.5,
             "#f7f7f7"
            ],
            [
             0.6,
             "#e6f5d0"
            ],
            [
             0.7,
             "#b8e186"
            ],
            [
             0.8,
             "#7fbc41"
            ],
            [
             0.9,
             "#4d9221"
            ],
            [
             1,
             "#276419"
            ]
           ],
           "sequential": [
            [
             0,
             "#0d0887"
            ],
            [
             0.1111111111111111,
             "#46039f"
            ],
            [
             0.2222222222222222,
             "#7201a8"
            ],
            [
             0.3333333333333333,
             "#9c179e"
            ],
            [
             0.4444444444444444,
             "#bd3786"
            ],
            [
             0.5555555555555556,
             "#d8576b"
            ],
            [
             0.6666666666666666,
             "#ed7953"
            ],
            [
             0.7777777777777778,
             "#fb9f3a"
            ],
            [
             0.8888888888888888,
             "#fdca26"
            ],
            [
             1,
             "#f0f921"
            ]
           ],
           "sequentialminus": [
            [
             0,
             "#0d0887"
            ],
            [
             0.1111111111111111,
             "#46039f"
            ],
            [
             0.2222222222222222,
             "#7201a8"
            ],
            [
             0.3333333333333333,
             "#9c179e"
            ],
            [
             0.4444444444444444,
             "#bd3786"
            ],
            [
             0.5555555555555556,
             "#d8576b"
            ],
            [
             0.6666666666666666,
             "#ed7953"
            ],
            [
             0.7777777777777778,
             "#fb9f3a"
            ],
            [
             0.8888888888888888,
             "#fdca26"
            ],
            [
             1,
             "#f0f921"
            ]
           ]
          },
          "colorway": [
           "#636efa",
           "#EF553B",
           "#00cc96",
           "#ab63fa",
           "#FFA15A",
           "#19d3f3",
           "#FF6692",
           "#B6E880",
           "#FF97FF",
           "#FECB52"
          ],
          "font": {
           "color": "#2a3f5f"
          },
          "geo": {
           "bgcolor": "white",
           "lakecolor": "white",
           "landcolor": "#E5ECF6",
           "showlakes": true,
           "showland": true,
           "subunitcolor": "white"
          },
          "hoverlabel": {
           "align": "left"
          },
          "hovermode": "closest",
          "mapbox": {
           "style": "light"
          },
          "paper_bgcolor": "white",
          "plot_bgcolor": "#E5ECF6",
          "polar": {
           "angularaxis": {
            "gridcolor": "white",
            "linecolor": "white",
            "ticks": ""
           },
           "bgcolor": "#E5ECF6",
           "radialaxis": {
            "gridcolor": "white",
            "linecolor": "white",
            "ticks": ""
           }
          },
          "scene": {
           "xaxis": {
            "backgroundcolor": "#E5ECF6",
            "gridcolor": "white",
            "gridwidth": 2,
            "linecolor": "white",
            "showbackground": true,
            "ticks": "",
            "zerolinecolor": "white"
           },
           "yaxis": {
            "backgroundcolor": "#E5ECF6",
            "gridcolor": "white",
            "gridwidth": 2,
            "linecolor": "white",
            "showbackground": true,
            "ticks": "",
            "zerolinecolor": "white"
           },
           "zaxis": {
            "backgroundcolor": "#E5ECF6",
            "gridcolor": "white",
            "gridwidth": 2,
            "linecolor": "white",
            "showbackground": true,
            "ticks": "",
            "zerolinecolor": "white"
           }
          },
          "shapedefaults": {
           "line": {
            "color": "#2a3f5f"
           }
          },
          "ternary": {
           "aaxis": {
            "gridcolor": "white",
            "linecolor": "white",
            "ticks": ""
           },
           "baxis": {
            "gridcolor": "white",
            "linecolor": "white",
            "ticks": ""
           },
           "bgcolor": "#E5ECF6",
           "caxis": {
            "gridcolor": "white",
            "linecolor": "white",
            "ticks": ""
           }
          },
          "title": {
           "x": 0.05
          },
          "xaxis": {
           "automargin": true,
           "gridcolor": "white",
           "linecolor": "white",
           "ticks": "",
           "title": {
            "standoff": 15
           },
           "zerolinecolor": "white",
           "zerolinewidth": 2
          },
          "yaxis": {
           "automargin": true,
           "gridcolor": "white",
           "linecolor": "white",
           "ticks": "",
           "title": {
            "standoff": 15
           },
           "zerolinecolor": "white",
           "zerolinewidth": 2
          }
         }
        }
       }
      }
     },
     "metadata": {},
     "output_type": "display_data"
    }
   ],
   "source": [
    "persistence_entropy = PersistenceEntropy(normalize=True)\n",
    "# Calculate topological feature matrix\n",
    "X = persistence_entropy.fit_transform(persistence_diagrams)\n",
    "# Visualise feature matrix\n",
    "plot_point_cloud(X)"
   ]
  },
  {
   "cell_type": "code",
   "execution_count": 123,
   "metadata": {},
   "outputs": [
    {
     "data": {
      "text/plain": [
       "0.6"
      ]
     },
     "execution_count": 123,
     "metadata": {},
     "output_type": "execute_result"
    }
   ],
   "source": [
    "labs = np.zeros(40)\n",
    "labs[10:20] = 1\n",
    "labs[20:30] = 2\n",
    "labs[30:] = 3\n",
    "\n",
    "rf = RandomForestClassifier(oob_score=True, random_state=400)\n",
    "rf.fit(X, labs)\n",
    "rf.oob_score_"
   ]
  },
  {
   "cell_type": "markdown",
   "metadata": {},
   "source": [
    "Not bad at all (note that random guessing would give an oob_score of 0.25)! But we can do better. For instance by only using the PersistenceEntropy to classify our shapes, we are averaging out the distribution of points on the persistence diagram which might hold important information - for instance, the number of off-diagonal points in our persistence diagrams could be a great predictor of how clean our homology is, which is bound to change between different classes (and thus might be a good predictor). We can also use various different metrics besides just the euclidean metric (which calculates distances of points from the diagonal under the euclidean metric) - each of which is going to result in different values for the entropy -- all of which have the potential to become a good classifier."
   ]
  },
  {
   "cell_type": "code",
   "execution_count": 124,
   "metadata": {},
   "outputs": [],
   "source": [
    "metrics = [\n",
    "    {\"metric\": metric}\n",
    "    for metric in [\"heat\", \"betti\", \"bottleneck\", \"wasserstein\", \"landscape\"]\n",
    "]\n",
    "\n",
    "\n",
    "feature_union = make_union(\n",
    "    PersistenceEntropy(normalize=True),\n",
    "    NumberOfPoints(),\n",
    "    *[Amplitude(**metric) for metric in metrics]\n",
    ")"
   ]
  },
  {
   "cell_type": "code",
   "execution_count": 125,
   "metadata": {},
   "outputs": [
    {
     "data": {
      "text/plain": [
       "0.825"
      ]
     },
     "execution_count": 125,
     "metadata": {},
     "output_type": "execute_result"
    }
   ],
   "source": [
    "p = Pipeline(\n",
    "    [\n",
    "        (\"features\", feature_union),\n",
    "        (\"rf\", RandomForestClassifier(oob_score=True, random_state=42)),\n",
    "    ]\n",
    ")\n",
    "p.fit(persistence_diagrams, labs)\n",
    "p[\"rf\"].oob_score_\n"
   ]
  },
  {
   "cell_type": "code",
   "execution_count": 126,
   "metadata": {},
   "outputs": [
    {
     "data": {
      "image/png": "[encoded data removed]",
      "text/plain": [
       "<Figure size 640x480 with 1 Axes>"
      ]
     },
     "metadata": {},
     "output_type": "display_data"
    }
   ],
   "source": [
    "feature_types = [\"PE\", \"NP\", \"heat\", \"betti\", \"bottleneck\", \"wasserstein\", \"landscape\"]\n",
    "feature_names = [type + str(i) for type in feature_types for i in homology_dimensions]\n",
    "importances = p[\"rf\"].feature_importances_\n",
    "forest_importances = pd.Series(importances, index=feature_names)\n",
    "fig, ax = plt.subplots()\n",
    "forest_importances.plot.bar(ax=ax)\n",
    "fig.tight_layout()\n"
   ]
  },
  {
   "cell_type": "markdown",
   "metadata": {},
   "source": [
    "From here it looks like the most prominent predictors turn out to be \n",
    "\n",
    "1. Bottleneck distance in dimension 2, \n",
    "2. The betti amplitude in dimension 1, and\n",
    "3. The Wasserstein metric in dimension 0\n",
    "\n",
    "where the wasserstein metric behaves comparably to the betti amplitude in dimension 0 and the heat (homology contour) map in dimension 0.\n"
   ]
  }
 ],
 "metadata": {
  "colab": {
   "provenance": []
  },
  "kernelspec": {
   "display_name": "Python 3",
   "name": "python3"
  },
  "language_info": {
   "codemirror_mode": {
    "name": "ipython",
    "version": 3
   },
   "file_extension": ".py",
   "mimetype": "text/x-python",
   "name": "python",
   "nbconvert_exporter": "python",
   "pygments_lexer": "ipython3",
   "version": "3.10.0"
  }
 },
 "nbformat": 4,
 "nbformat_minor": 0
}
